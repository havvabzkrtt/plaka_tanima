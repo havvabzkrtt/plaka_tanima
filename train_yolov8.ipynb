{
 "cells": [
  {
   "cell_type": "markdown",
   "metadata": {},
   "source": [
    "https://www.kaggle.com/code/marcinbrzeaski/number-plate-recognition-yolov8/notebook \n",
    "\n",
    "https://www.youtube.com/watch?v=zh1CZK7chbo\n",
    "https://universe.roboflow.com/mochoye/license-plate-detector-ogxxg  / kullanılan dataset"
   ]
  },
  {
   "cell_type": "code",
   "execution_count": 1,
   "metadata": {},
   "outputs": [
    {
     "name": "stdout",
     "output_type": "stream",
     "text": [
      "Collecting ultralytics\n",
      "  Downloading ultralytics-8.2.100-py3-none-any.whl.metadata (39 kB)\n",
      "Requirement already satisfied: numpy<2.0.0,>=1.23.0 in c:\\users\\havva\\appdata\\local\\programs\\python\\python312\\lib\\site-packages (from ultralytics) (1.26.4)\n",
      "Requirement already satisfied: matplotlib>=3.3.0 in c:\\users\\havva\\appdata\\local\\programs\\python\\python312\\lib\\site-packages (from ultralytics) (3.9.0)\n",
      "Requirement already satisfied: opencv-python>=4.6.0 in c:\\users\\havva\\appdata\\local\\programs\\python\\python312\\lib\\site-packages (from ultralytics) (4.10.0.84)\n",
      "Requirement already satisfied: pillow>=7.1.2 in c:\\users\\havva\\appdata\\local\\programs\\python\\python312\\lib\\site-packages (from ultralytics) (10.2.0)\n",
      "Requirement already satisfied: pyyaml>=5.3.1 in c:\\users\\havva\\appdata\\local\\programs\\python\\python312\\lib\\site-packages (from ultralytics) (6.0.1)\n",
      "Requirement already satisfied: requests>=2.23.0 in c:\\users\\havva\\appdata\\local\\programs\\python\\python312\\lib\\site-packages (from ultralytics) (2.32.3)\n",
      "Requirement already satisfied: scipy>=1.4.1 in c:\\users\\havva\\appdata\\local\\programs\\python\\python312\\lib\\site-packages (from ultralytics) (1.14.0)\n",
      "Requirement already satisfied: torch>=1.8.0 in c:\\users\\havva\\appdata\\local\\programs\\python\\python312\\lib\\site-packages (from ultralytics) (2.2.2)\n",
      "Requirement already satisfied: torchvision>=0.9.0 in c:\\users\\havva\\appdata\\local\\programs\\python\\python312\\lib\\site-packages (from ultralytics) (0.17.2)\n",
      "Requirement already satisfied: tqdm>=4.64.0 in c:\\users\\havva\\appdata\\local\\programs\\python\\python312\\lib\\site-packages (from ultralytics) (4.66.4)\n",
      "Requirement already satisfied: psutil in c:\\users\\havva\\appdata\\roaming\\python\\python312\\site-packages (from ultralytics) (6.0.0)\n",
      "Collecting py-cpuinfo (from ultralytics)\n",
      "  Downloading py_cpuinfo-9.0.0-py3-none-any.whl.metadata (794 bytes)\n",
      "Requirement already satisfied: pandas>=1.1.4 in c:\\users\\havva\\appdata\\local\\programs\\python\\python312\\lib\\site-packages (from ultralytics) (2.2.2)\n",
      "Requirement already satisfied: seaborn>=0.11.0 in c:\\users\\havva\\appdata\\local\\programs\\python\\python312\\lib\\site-packages (from ultralytics) (0.13.2)\n",
      "Collecting ultralytics-thop>=2.0.0 (from ultralytics)\n",
      "  Downloading ultralytics_thop-2.0.8-py3-none-any.whl.metadata (9.3 kB)\n",
      "Requirement already satisfied: contourpy>=1.0.1 in c:\\users\\havva\\appdata\\local\\programs\\python\\python312\\lib\\site-packages (from matplotlib>=3.3.0->ultralytics) (1.2.1)\n",
      "Requirement already satisfied: cycler>=0.10 in c:\\users\\havva\\appdata\\local\\programs\\python\\python312\\lib\\site-packages (from matplotlib>=3.3.0->ultralytics) (0.12.1)\n",
      "Requirement already satisfied: fonttools>=4.22.0 in c:\\users\\havva\\appdata\\local\\programs\\python\\python312\\lib\\site-packages (from matplotlib>=3.3.0->ultralytics) (4.53.0)\n",
      "Requirement already satisfied: kiwisolver>=1.3.1 in c:\\users\\havva\\appdata\\local\\programs\\python\\python312\\lib\\site-packages (from matplotlib>=3.3.0->ultralytics) (1.4.5)\n",
      "Requirement already satisfied: packaging>=20.0 in c:\\users\\havva\\appdata\\roaming\\python\\python312\\site-packages (from matplotlib>=3.3.0->ultralytics) (24.1)\n",
      "Requirement already satisfied: pyparsing>=2.3.1 in c:\\users\\havva\\appdata\\local\\programs\\python\\python312\\lib\\site-packages (from matplotlib>=3.3.0->ultralytics) (3.1.2)\n",
      "Requirement already satisfied: python-dateutil>=2.7 in c:\\users\\havva\\appdata\\roaming\\python\\python312\\site-packages (from matplotlib>=3.3.0->ultralytics) (2.9.0.post0)\n",
      "Requirement already satisfied: pytz>=2020.1 in c:\\users\\havva\\appdata\\local\\programs\\python\\python312\\lib\\site-packages (from pandas>=1.1.4->ultralytics) (2024.1)\n",
      "Requirement already satisfied: tzdata>=2022.7 in c:\\users\\havva\\appdata\\local\\programs\\python\\python312\\lib\\site-packages (from pandas>=1.1.4->ultralytics) (2024.1)\n",
      "Requirement already satisfied: charset-normalizer<4,>=2 in c:\\users\\havva\\appdata\\local\\programs\\python\\python312\\lib\\site-packages (from requests>=2.23.0->ultralytics) (3.3.2)\n",
      "Requirement already satisfied: idna<4,>=2.5 in c:\\users\\havva\\appdata\\local\\programs\\python\\python312\\lib\\site-packages (from requests>=2.23.0->ultralytics) (3.7)\n",
      "Requirement already satisfied: urllib3<3,>=1.21.1 in c:\\users\\havva\\appdata\\local\\programs\\python\\python312\\lib\\site-packages (from requests>=2.23.0->ultralytics) (2.2.2)\n",
      "Requirement already satisfied: certifi>=2017.4.17 in c:\\users\\havva\\appdata\\local\\programs\\python\\python312\\lib\\site-packages (from requests>=2.23.0->ultralytics) (2024.6.2)\n",
      "Requirement already satisfied: filelock in c:\\users\\havva\\appdata\\local\\programs\\python\\python312\\lib\\site-packages (from torch>=1.8.0->ultralytics) (3.15.4)\n",
      "Requirement already satisfied: typing-extensions>=4.8.0 in c:\\users\\havva\\appdata\\local\\programs\\python\\python312\\lib\\site-packages (from torch>=1.8.0->ultralytics) (4.12.2)\n",
      "Requirement already satisfied: sympy in c:\\users\\havva\\appdata\\local\\programs\\python\\python312\\lib\\site-packages (from torch>=1.8.0->ultralytics) (1.13.0)\n",
      "Requirement already satisfied: networkx in c:\\users\\havva\\appdata\\local\\programs\\python\\python312\\lib\\site-packages (from torch>=1.8.0->ultralytics) (3.3)\n",
      "Requirement already satisfied: jinja2 in c:\\users\\havva\\appdata\\local\\programs\\python\\python312\\lib\\site-packages (from torch>=1.8.0->ultralytics) (3.1.4)\n",
      "Requirement already satisfied: fsspec in c:\\users\\havva\\appdata\\local\\programs\\python\\python312\\lib\\site-packages (from torch>=1.8.0->ultralytics) (2024.6.1)\n",
      "Requirement already satisfied: colorama in c:\\users\\havva\\appdata\\roaming\\python\\python312\\site-packages (from tqdm>=4.64.0->ultralytics) (0.4.6)\n",
      "Requirement already satisfied: six>=1.5 in c:\\users\\havva\\appdata\\roaming\\python\\python312\\site-packages (from python-dateutil>=2.7->matplotlib>=3.3.0->ultralytics) (1.16.0)\n",
      "Requirement already satisfied: MarkupSafe>=2.0 in c:\\users\\havva\\appdata\\local\\programs\\python\\python312\\lib\\site-packages (from jinja2->torch>=1.8.0->ultralytics) (2.1.5)\n",
      "Requirement already satisfied: mpmath<1.4,>=1.1.0 in c:\\users\\havva\\appdata\\local\\programs\\python\\python312\\lib\\site-packages (from sympy->torch>=1.8.0->ultralytics) (1.3.0)\n",
      "Downloading ultralytics-8.2.100-py3-none-any.whl (874 kB)\n",
      "   ---------------------------------------- 0.0/874.1 kB ? eta -:--:--\n",
      "   ---------------------------------------- 0.0/874.1 kB ? eta -:--:--\n",
      "   ----------------------- ---------------- 524.3/874.1 kB ? eta -:--:--\n",
      "   ---------------------------------------- 874.1/874.1 kB 2.3 MB/s eta 0:00:00\n",
      "Downloading ultralytics_thop-2.0.8-py3-none-any.whl (26 kB)\n",
      "Downloading py_cpuinfo-9.0.0-py3-none-any.whl (22 kB)\n",
      "Installing collected packages: py-cpuinfo, ultralytics-thop, ultralytics\n",
      "Successfully installed py-cpuinfo-9.0.0 ultralytics-8.2.100 ultralytics-thop-2.0.8\n"
     ]
    }
   ],
   "source": [
    "! pip install ultralytics"
   ]
  },
  {
   "cell_type": "code",
   "execution_count": 1,
   "metadata": {},
   "outputs": [
    {
     "name": "stdout",
     "output_type": "stream",
     "text": [
      "Ultralytics YOLOv8.2.100  Python-3.12.4 torch-2.2.2+cpu CPU (Intel Core(TM) i5-8265U 1.60GHz)\n",
      "Setup complete  (8 CPUs, 15.9 GB RAM, 230.8/339.8 GB disk)\n"
     ]
    }
   ],
   "source": [
    "import ultralytics\n",
    "from ultralytics import YOLO\n",
    "import cv2\n",
    "from PIL import Image\n",
    "from IPython.display import Video\n",
    "import matplotlib.pyplot as plt\n",
    "from IPython.display import display\n",
    "import torch\n",
    "ultralytics.checks()"
   ]
  },
  {
   "cell_type": "code",
   "execution_count": 7,
   "metadata": {},
   "outputs": [
    {
     "name": "stdout",
     "output_type": "stream",
     "text": [
      "Downloading https://github.com/ultralytics/assets/releases/download/v8.2.0/yolov8n.pt to 'yolov8n.pt'...\n"
     ]
    },
    {
     "name": "stderr",
     "output_type": "stream",
     "text": [
      "100%|██████████| 6.25M/6.25M [00:03<00:00, 1.68MB/s]\n"
     ]
    }
   ],
   "source": [
    "model = YOLO(\"yolov8n.pt\")"
   ]
  },
  {
   "cell_type": "code",
   "execution_count": 13,
   "metadata": {},
   "outputs": [
    {
     "name": "stdout",
     "output_type": "stream",
     "text": [
      "Ultralytics YOLOv8.2.100  Python-3.12.4 torch-2.2.2+cpu CPU (Intel Core(TM) i5-8265U 1.60GHz)\n",
      "\u001b[34m\u001b[1mengine\\trainer: \u001b[0mtask=detect, mode=train, model=yolov8n.pt, data=data.yaml, epochs=100, time=None, patience=100, batch=16, imgsz=640, save=True, save_period=-1, cache=False, device=None, workers=8, project=None, name=train6, exist_ok=False, pretrained=True, optimizer=auto, verbose=True, seed=0, deterministic=True, single_cls=False, rect=False, cos_lr=False, close_mosaic=10, resume=False, amp=True, fraction=1.0, profile=False, freeze=None, multi_scale=False, overlap_mask=True, mask_ratio=4, dropout=0.0, val=True, split=val, save_json=False, save_hybrid=False, conf=None, iou=0.7, max_det=300, half=False, dnn=False, plots=True, source=None, vid_stride=1, stream_buffer=False, visualize=False, augment=False, agnostic_nms=False, classes=None, retina_masks=False, embed=None, show=False, save_frames=False, save_txt=False, save_conf=False, save_crop=False, show_labels=True, show_conf=True, show_boxes=True, line_width=None, format=torchscript, keras=False, optimize=False, int8=False, dynamic=False, simplify=True, opset=None, workspace=4, nms=False, lr0=0.01, lrf=0.01, momentum=0.937, weight_decay=0.0005, warmup_epochs=3.0, warmup_momentum=0.8, warmup_bias_lr=0.1, box=7.5, cls=0.5, dfl=1.5, pose=12.0, kobj=1.0, label_smoothing=0.0, nbs=64, hsv_h=0.015, hsv_s=0.7, hsv_v=0.4, degrees=0.0, translate=0.1, scale=0.5, shear=0.0, perspective=0.0, flipud=0.0, fliplr=0.5, bgr=0.0, mosaic=1.0, mixup=0.0, copy_paste=0.0, auto_augment=randaugment, erasing=0.4, crop_fraction=1.0, cfg=None, tracker=botsort.yaml, save_dir=runs\\detect\\train6\n",
      "\n",
      "                   from  n    params  module                                       arguments                     \n",
      "  0                  -1  1       464  ultralytics.nn.modules.conv.Conv             [3, 16, 3, 2]                 \n",
      "  1                  -1  1      4672  ultralytics.nn.modules.conv.Conv             [16, 32, 3, 2]                \n",
      "  2                  -1  1      7360  ultralytics.nn.modules.block.C2f             [32, 32, 1, True]             \n",
      "  3                  -1  1     18560  ultralytics.nn.modules.conv.Conv             [32, 64, 3, 2]                \n",
      "  4                  -1  2     49664  ultralytics.nn.modules.block.C2f             [64, 64, 2, True]             \n",
      "  5                  -1  1     73984  ultralytics.nn.modules.conv.Conv             [64, 128, 3, 2]               \n",
      "  6                  -1  2    197632  ultralytics.nn.modules.block.C2f             [128, 128, 2, True]           \n",
      "  7                  -1  1    295424  ultralytics.nn.modules.conv.Conv             [128, 256, 3, 2]              \n",
      "  8                  -1  1    460288  ultralytics.nn.modules.block.C2f             [256, 256, 1, True]           \n",
      "  9                  -1  1    164608  ultralytics.nn.modules.block.SPPF            [256, 256, 5]                 \n",
      " 10                  -1  1         0  torch.nn.modules.upsampling.Upsample         [None, 2, 'nearest']          \n",
      " 11             [-1, 6]  1         0  ultralytics.nn.modules.conv.Concat           [1]                           \n",
      " 12                  -1  1    148224  ultralytics.nn.modules.block.C2f             [384, 128, 1]                 \n",
      " 13                  -1  1         0  torch.nn.modules.upsampling.Upsample         [None, 2, 'nearest']          \n",
      " 14             [-1, 4]  1         0  ultralytics.nn.modules.conv.Concat           [1]                           \n",
      " 15                  -1  1     37248  ultralytics.nn.modules.block.C2f             [192, 64, 1]                  \n",
      " 16                  -1  1     36992  ultralytics.nn.modules.conv.Conv             [64, 64, 3, 2]                \n",
      " 17            [-1, 12]  1         0  ultralytics.nn.modules.conv.Concat           [1]                           \n",
      " 18                  -1  1    123648  ultralytics.nn.modules.block.C2f             [192, 128, 1]                 \n",
      " 19                  -1  1    147712  ultralytics.nn.modules.conv.Conv             [128, 128, 3, 2]              \n",
      " 20             [-1, 9]  1         0  ultralytics.nn.modules.conv.Concat           [1]                           \n",
      " 21                  -1  1    493056  ultralytics.nn.modules.block.C2f             [384, 256, 1]                 \n",
      " 22        [15, 18, 21]  1    751507  ultralytics.nn.modules.head.Detect           [1, [64, 128, 256]]           \n",
      "Model summary: 225 layers, 3,011,043 parameters, 3,011,027 gradients, 8.2 GFLOPs\n",
      "\n",
      "Transferred 355/355 items from pretrained weights\n",
      "\u001b[34m\u001b[1mTensorBoard: \u001b[0mStart with 'tensorboard --logdir runs\\detect\\train6', view at http://localhost:6006/\n",
      "Freezing layer 'model.22.dfl.conv.weight'\n"
     ]
    },
    {
     "name": "stderr",
     "output_type": "stream",
     "text": [
      "\u001b[34m\u001b[1mtrain: \u001b[0mScanning C:\\Users\\havva\\OneDrive\\Desktop\\plaka_tanima\\datasets\\train\\labels.cache... 273 images, 0 backgrounds, 4 corrupt: 100%|██████████| 277/277 [00:00<?, ?it/s]"
     ]
    },
    {
     "name": "stdout",
     "output_type": "stream",
     "text": [
      "\u001b[34m\u001b[1mtrain: \u001b[0mWARNING  C:\\Users\\havva\\OneDrive\\Desktop\\plaka_tanima\\datasets\\train\\images\\3bc3f147-2d6b-484a-8481-4a49fd8afe23___3e7fd381-0ae5-4421-8a70-279ee0ec1c61_844581764_1_1080x720_nissan-terrano-xv-d-thp-110-ps-2013-diesel-faridabad_jpg.rf.e331e608726d8a4b5dff9f4de822db10.jpg: ignoring corrupt image/label: [Errno 2] No such file or directory: 'C:\\\\Users\\\\havva\\\\OneDrive\\\\Desktop\\\\plaka_tanima\\\\datasets\\\\train\\\\images\\\\3bc3f147-2d6b-484a-8481-4a49fd8afe23___3e7fd381-0ae5-4421-8a70-279ee0ec1c61_844581764_1_1080x720_nissan-terrano-xv-d-thp-110-ps-2013-diesel-faridabad_jpg.rf.e331e608726d8a4b5dff9f4de822db10.jpg'\n",
      "\u001b[34m\u001b[1mtrain: \u001b[0mWARNING  C:\\Users\\havva\\OneDrive\\Desktop\\plaka_tanima\\datasets\\train\\images\\3d7cd880-ea4b-4d63-9706-bea1df54af20___135712d1400874352-skoda-rapid-1-6tdi-cr-mt-elegance-ultima-candy-white-white-monster-1911216_676392609084007_1524722860_o-jpg_jpeg.rf.8639854712e7b07515353745cabaac26.jpg: ignoring corrupt image/label: [Errno 2] No such file or directory: 'C:\\\\Users\\\\havva\\\\OneDrive\\\\Desktop\\\\plaka_tanima\\\\datasets\\\\train\\\\images\\\\3d7cd880-ea4b-4d63-9706-bea1df54af20___135712d1400874352-skoda-rapid-1-6tdi-cr-mt-elegance-ultima-candy-white-white-monster-1911216_676392609084007_1524722860_o-jpg_jpeg.rf.8639854712e7b07515353745cabaac26.jpg'\n",
      "\u001b[34m\u001b[1mtrain: \u001b[0mWARNING  C:\\Users\\havva\\OneDrive\\Desktop\\plaka_tanima\\datasets\\train\\images\\3fd93f90-f778-4f14-8b0f-67dd0be88a06___561644d1308248087-beware-fake-registration-numbers-imported-cars-proof-pg-3-257491_10150223034216705_685851704_7325894_6829197_o-jpg_jpeg.rf.8d594e11d6bd74b1e17ad86df2396eca.jpg: ignoring corrupt image/label: [Errno 2] No such file or directory: 'C:\\\\Users\\\\havva\\\\OneDrive\\\\Desktop\\\\plaka_tanima\\\\datasets\\\\train\\\\images\\\\3fd93f90-f778-4f14-8b0f-67dd0be88a06___561644d1308248087-beware-fake-registration-numbers-imported-cars-proof-pg-3-257491_10150223034216705_685851704_7325894_6829197_o-jpg_jpeg.rf.8d594e11d6bd74b1e17ad86df2396eca.jpg'\n",
      "\u001b[34m\u001b[1mtrain: \u001b[0mWARNING  C:\\Users\\havva\\OneDrive\\Desktop\\plaka_tanima\\datasets\\train\\images\\6ec9d264-9eab-4027-bdcc-6f71c842ee75___3e7fd381-0ae5-4421-8a70-279ee0ec1c61_846635891_1_1080x720_nissan-terrano-xl-d-thp-110-ps-2013-diesel-dehra-dun_jpg.rf.f9557955f731e8a3609f11d8ef6f792f.jpg: ignoring corrupt image/label: [Errno 2] No such file or directory: 'C:\\\\Users\\\\havva\\\\OneDrive\\\\Desktop\\\\plaka_tanima\\\\datasets\\\\train\\\\images\\\\6ec9d264-9eab-4027-bdcc-6f71c842ee75___3e7fd381-0ae5-4421-8a70-279ee0ec1c61_846635891_1_1080x720_nissan-terrano-xl-d-thp-110-ps-2013-diesel-dehra-dun_jpg.rf.f9557955f731e8a3609f11d8ef6f792f.jpg'\n",
      "\u001b[34m\u001b[1malbumentations: \u001b[0mBlur(p=0.01, blur_limit=(3, 7)), MedianBlur(p=0.01, blur_limit=(3, 7)), ToGray(p=0.01), CLAHE(p=0.01, clip_limit=(1, 4.0), tile_grid_size=(8, 8))\n"
     ]
    },
    {
     "name": "stderr",
     "output_type": "stream",
     "text": [
      "\n",
      "\u001b[34m\u001b[1mval: \u001b[0mScanning C:\\Users\\havva\\OneDrive\\Desktop\\plaka_tanima\\datasets\\valid\\labels.cache... 78 images, 0 backgrounds, 3 corrupt: 100%|██████████| 81/81 [00:00<?, ?it/s]"
     ]
    },
    {
     "name": "stdout",
     "output_type": "stream",
     "text": [
      "\u001b[34m\u001b[1mval: \u001b[0mWARNING  C:\\Users\\havva\\OneDrive\\Desktop\\plaka_tanima\\datasets\\valid\\images\\3fd93f90-f778-4f14-8b0f-67dd0be88a06___561644d1308248087-beware-fake-registration-numbers-imported-cars-proof-pg-3-257491_10150223034216705_685851704_7325894_6-Copy_jpeg.rf.fa1678e9b32023b96e8c3c60034b4e57.jpg: ignoring corrupt image/label: [Errno 2] No such file or directory: 'C:\\\\Users\\\\havva\\\\OneDrive\\\\Desktop\\\\plaka_tanima\\\\datasets\\\\valid\\\\images\\\\3fd93f90-f778-4f14-8b0f-67dd0be88a06___561644d1308248087-beware-fake-registration-numbers-imported-cars-proof-pg-3-257491_10150223034216705_685851704_7325894_6-Copy_jpeg.rf.fa1678e9b32023b96e8c3c60034b4e57.jpg'\n",
      "\u001b[34m\u001b[1mval: \u001b[0mWARNING  C:\\Users\\havva\\OneDrive\\Desktop\\plaka_tanima\\datasets\\valid\\images\\57e92915-935a-4a91-91f8-f3ad70040a6e___3e7fd381-0ae5-4421-8a70-279ee0ec1c61_847071203_1_1080x720_nissan-terrano-xv-d-thp-premium-110-ps-2015-diesel-ghaziabad_jpg.rf.5483736b6e7cc3fb8043a9fe25748d1e.jpg: ignoring corrupt image/label: [Errno 2] No such file or directory: 'C:\\\\Users\\\\havva\\\\OneDrive\\\\Desktop\\\\plaka_tanima\\\\datasets\\\\valid\\\\images\\\\57e92915-935a-4a91-91f8-f3ad70040a6e___3e7fd381-0ae5-4421-8a70-279ee0ec1c61_847071203_1_1080x720_nissan-terrano-xv-d-thp-premium-110-ps-2015-diesel-ghaziabad_jpg.rf.5483736b6e7cc3fb8043a9fe25748d1e.jpg'\n",
      "\u001b[34m\u001b[1mval: \u001b[0mWARNING  C:\\Users\\havva\\OneDrive\\Desktop\\plaka_tanima\\datasets\\valid\\images\\8625b831-13a1-4b7d-9466-826cd6d36c67___1304650d1414861991-number-plates-merchandise-canvas-ink-gurgaon-edit-closed-10471269_1537317779842156_5063668061078329632_n-jpg_jpeg.rf.fdc8db7ff84eda70f38b544728476848.jpg: ignoring corrupt image/label: [Errno 2] No such file or directory: 'C:\\\\Users\\\\havva\\\\OneDrive\\\\Desktop\\\\plaka_tanima\\\\datasets\\\\valid\\\\images\\\\8625b831-13a1-4b7d-9466-826cd6d36c67___1304650d1414861991-number-plates-merchandise-canvas-ink-gurgaon-edit-closed-10471269_1537317779842156_5063668061078329632_n-jpg_jpeg.rf.fdc8db7ff84eda70f38b544728476848.jpg'\n"
     ]
    },
    {
     "name": "stderr",
     "output_type": "stream",
     "text": [
      "\n"
     ]
    },
    {
     "name": "stdout",
     "output_type": "stream",
     "text": [
      "Plotting labels to runs\\detect\\train6\\labels.jpg... \n",
      "\u001b[34m\u001b[1moptimizer:\u001b[0m 'optimizer=auto' found, ignoring 'lr0=0.01' and 'momentum=0.937' and determining best 'optimizer', 'lr0' and 'momentum' automatically... \n",
      "\u001b[34m\u001b[1moptimizer:\u001b[0m AdamW(lr=0.002, momentum=0.9) with parameter groups 57 weight(decay=0.0), 64 weight(decay=0.0005), 63 bias(decay=0.0)\n",
      "\u001b[34m\u001b[1mTensorBoard: \u001b[0mmodel graph visualization added \n",
      "Image sizes 640 train, 640 val\n",
      "Using 0 dataloader workers\n",
      "Logging results to \u001b[1mruns\\detect\\train6\u001b[0m\n",
      "Starting training for 100 epochs...\n",
      "\n",
      "      Epoch    GPU_mem   box_loss   cls_loss   dfl_loss  Instances       Size\n"
     ]
    },
    {
     "name": "stderr",
     "output_type": "stream",
     "text": [
      "      1/100         0G      1.151      2.965      1.242          1        640: 100%|██████████| 18/18 [02:49<00:00,  9.42s/it]\n",
      "                 Class     Images  Instances      Box(P          R      mAP50  mAP50-95): 100%|██████████| 3/3 [00:18<00:00,  6.29s/it]"
     ]
    },
    {
     "name": "stdout",
     "output_type": "stream",
     "text": [
      "                   all         78         78    0.00333          1      0.831      0.569\n"
     ]
    },
    {
     "name": "stderr",
     "output_type": "stream",
     "text": [
      "\n"
     ]
    },
    {
     "name": "stdout",
     "output_type": "stream",
     "text": [
      "\n",
      "      Epoch    GPU_mem   box_loss   cls_loss   dfl_loss  Instances       Size\n"
     ]
    },
    {
     "name": "stderr",
     "output_type": "stream",
     "text": [
      "      2/100         0G      1.104      1.917      1.185          1        640: 100%|██████████| 18/18 [02:24<00:00,  8.00s/it]\n",
      "                 Class     Images  Instances      Box(P          R      mAP50  mAP50-95): 100%|██████████| 3/3 [00:18<00:00,  6.05s/it]"
     ]
    },
    {
     "name": "stdout",
     "output_type": "stream",
     "text": [
      "                   all         78         78    0.00519      0.962      0.752      0.546\n"
     ]
    },
    {
     "name": "stderr",
     "output_type": "stream",
     "text": [
      "\n"
     ]
    },
    {
     "name": "stdout",
     "output_type": "stream",
     "text": [
      "\n",
      "      Epoch    GPU_mem   box_loss   cls_loss   dfl_loss  Instances       Size\n"
     ]
    },
    {
     "name": "stderr",
     "output_type": "stream",
     "text": [
      "      3/100         0G      1.011      1.651      1.065          2        640: 100%|██████████| 18/18 [02:35<00:00,  8.62s/it]\n",
      "                 Class     Images  Instances      Box(P          R      mAP50  mAP50-95): 100%|██████████| 3/3 [00:17<00:00,  5.88s/it]"
     ]
    },
    {
     "name": "stdout",
     "output_type": "stream",
     "text": [
      "                   all         78         78       0.86      0.423      0.734      0.444\n"
     ]
    },
    {
     "name": "stderr",
     "output_type": "stream",
     "text": [
      "\n"
     ]
    },
    {
     "name": "stdout",
     "output_type": "stream",
     "text": [
      "\n",
      "      Epoch    GPU_mem   box_loss   cls_loss   dfl_loss  Instances       Size\n"
     ]
    },
    {
     "name": "stderr",
     "output_type": "stream",
     "text": [
      "      4/100         0G      1.101      1.613       1.17          2        640: 100%|██████████| 18/18 [02:40<00:00,  8.91s/it]\n",
      "                 Class     Images  Instances      Box(P          R      mAP50  mAP50-95): 100%|██████████| 3/3 [00:18<00:00,  6.08s/it]"
     ]
    },
    {
     "name": "stdout",
     "output_type": "stream",
     "text": [
      "                   all         78         78      0.799      0.562      0.617      0.325\n"
     ]
    },
    {
     "name": "stderr",
     "output_type": "stream",
     "text": [
      "\n"
     ]
    },
    {
     "name": "stdout",
     "output_type": "stream",
     "text": [
      "\n",
      "      Epoch    GPU_mem   box_loss   cls_loss   dfl_loss  Instances       Size\n"
     ]
    },
    {
     "name": "stderr",
     "output_type": "stream",
     "text": [
      "      5/100         0G      1.028       1.47      1.095          1        640: 100%|██████████| 18/18 [02:29<00:00,  8.29s/it]\n",
      "                 Class     Images  Instances      Box(P          R      mAP50  mAP50-95): 100%|██████████| 3/3 [00:18<00:00,  6.19s/it]"
     ]
    },
    {
     "name": "stdout",
     "output_type": "stream",
     "text": [
      "                   all         78         78      0.723      0.538      0.599      0.397\n"
     ]
    },
    {
     "name": "stderr",
     "output_type": "stream",
     "text": [
      "\n"
     ]
    },
    {
     "name": "stdout",
     "output_type": "stream",
     "text": [
      "\n",
      "      Epoch    GPU_mem   box_loss   cls_loss   dfl_loss  Instances       Size\n"
     ]
    },
    {
     "name": "stderr",
     "output_type": "stream",
     "text": [
      "      6/100         0G      1.028      1.438      1.139          1        640: 100%|██████████| 18/18 [02:34<00:00,  8.59s/it]\n",
      "                 Class     Images  Instances      Box(P          R      mAP50  mAP50-95): 100%|██████████| 3/3 [00:18<00:00,  6.12s/it]"
     ]
    },
    {
     "name": "stdout",
     "output_type": "stream",
     "text": [
      "                   all         78         78      0.919      0.462      0.618      0.346\n"
     ]
    },
    {
     "name": "stderr",
     "output_type": "stream",
     "text": [
      "\n"
     ]
    },
    {
     "name": "stdout",
     "output_type": "stream",
     "text": [
      "\n",
      "      Epoch    GPU_mem   box_loss   cls_loss   dfl_loss  Instances       Size\n"
     ]
    },
    {
     "name": "stderr",
     "output_type": "stream",
     "text": [
      "      7/100         0G       1.04      1.277      1.107          3        640: 100%|██████████| 18/18 [02:27<00:00,  8.19s/it]\n",
      "                 Class     Images  Instances      Box(P          R      mAP50  mAP50-95): 100%|██████████| 3/3 [00:17<00:00,  5.85s/it]"
     ]
    },
    {
     "name": "stdout",
     "output_type": "stream",
     "text": [
      "                   all         78         78      0.841      0.615      0.784      0.502\n"
     ]
    },
    {
     "name": "stderr",
     "output_type": "stream",
     "text": [
      "\n"
     ]
    },
    {
     "name": "stdout",
     "output_type": "stream",
     "text": [
      "\n",
      "      Epoch    GPU_mem   box_loss   cls_loss   dfl_loss  Instances       Size\n"
     ]
    },
    {
     "name": "stderr",
     "output_type": "stream",
     "text": [
      "      8/100         0G      1.026      1.252      1.112          3        640: 100%|██████████| 18/18 [02:31<00:00,  8.39s/it]\n",
      "                 Class     Images  Instances      Box(P          R      mAP50  mAP50-95): 100%|██████████| 3/3 [00:21<00:00,  7.01s/it]"
     ]
    },
    {
     "name": "stdout",
     "output_type": "stream",
     "text": [
      "                   all         78         78      0.843      0.564      0.664      0.465\n"
     ]
    },
    {
     "name": "stderr",
     "output_type": "stream",
     "text": [
      "\n"
     ]
    },
    {
     "name": "stdout",
     "output_type": "stream",
     "text": [
      "\n",
      "      Epoch    GPU_mem   box_loss   cls_loss   dfl_loss  Instances       Size\n"
     ]
    },
    {
     "name": "stderr",
     "output_type": "stream",
     "text": [
      "      9/100         0G      1.057      1.236      1.155          3        640: 100%|██████████| 18/18 [03:13<00:00, 10.74s/it]\n",
      "                 Class     Images  Instances      Box(P          R      mAP50  mAP50-95): 100%|██████████| 3/3 [00:20<00:00,  6.94s/it]"
     ]
    },
    {
     "name": "stdout",
     "output_type": "stream",
     "text": [
      "                   all         78         78       0.93      0.846      0.942      0.668\n"
     ]
    },
    {
     "name": "stderr",
     "output_type": "stream",
     "text": [
      "\n"
     ]
    },
    {
     "name": "stdout",
     "output_type": "stream",
     "text": [
      "\n",
      "      Epoch    GPU_mem   box_loss   cls_loss   dfl_loss  Instances       Size\n"
     ]
    },
    {
     "name": "stderr",
     "output_type": "stream",
     "text": [
      "     10/100         0G      1.055      1.158      1.133          3        640: 100%|██████████| 18/18 [02:36<00:00,  8.69s/it]\n",
      "                 Class     Images  Instances      Box(P          R      mAP50  mAP50-95): 100%|██████████| 3/3 [00:18<00:00,  6.11s/it]"
     ]
    },
    {
     "name": "stdout",
     "output_type": "stream",
     "text": [
      "                   all         78         78      0.851      0.846        0.9      0.647\n"
     ]
    },
    {
     "name": "stderr",
     "output_type": "stream",
     "text": [
      "\n"
     ]
    },
    {
     "name": "stdout",
     "output_type": "stream",
     "text": [
      "\n",
      "      Epoch    GPU_mem   box_loss   cls_loss   dfl_loss  Instances       Size\n"
     ]
    },
    {
     "name": "stderr",
     "output_type": "stream",
     "text": [
      "     11/100         0G     0.9893      1.055      1.107          4        640: 100%|██████████| 18/18 [02:33<00:00,  8.55s/it]\n",
      "                 Class     Images  Instances      Box(P          R      mAP50  mAP50-95): 100%|██████████| 3/3 [00:17<00:00,  5.90s/it]"
     ]
    },
    {
     "name": "stdout",
     "output_type": "stream",
     "text": [
      "                   all         78         78      0.937      0.859      0.947      0.735\n"
     ]
    },
    {
     "name": "stderr",
     "output_type": "stream",
     "text": [
      "\n"
     ]
    },
    {
     "name": "stdout",
     "output_type": "stream",
     "text": [
      "\n",
      "      Epoch    GPU_mem   box_loss   cls_loss   dfl_loss  Instances       Size\n"
     ]
    },
    {
     "name": "stderr",
     "output_type": "stream",
     "text": [
      "     12/100         0G      1.022     0.9873      1.104          3        640: 100%|██████████| 18/18 [02:32<00:00,  8.48s/it]\n",
      "                 Class     Images  Instances      Box(P          R      mAP50  mAP50-95): 100%|██████████| 3/3 [00:17<00:00,  5.98s/it]"
     ]
    },
    {
     "name": "stdout",
     "output_type": "stream",
     "text": [
      "                   all         78         78      0.851      0.661      0.795       0.58\n"
     ]
    },
    {
     "name": "stderr",
     "output_type": "stream",
     "text": [
      "\n"
     ]
    },
    {
     "name": "stdout",
     "output_type": "stream",
     "text": [
      "\n",
      "      Epoch    GPU_mem   box_loss   cls_loss   dfl_loss  Instances       Size\n"
     ]
    },
    {
     "name": "stderr",
     "output_type": "stream",
     "text": [
      "     13/100         0G     0.9804     0.9531      1.076          2        640: 100%|██████████| 18/18 [02:34<00:00,  8.57s/it]\n",
      "                 Class     Images  Instances      Box(P          R      mAP50  mAP50-95): 100%|██████████| 3/3 [00:17<00:00,  5.93s/it]"
     ]
    },
    {
     "name": "stdout",
     "output_type": "stream",
     "text": [
      "                   all         78         78      0.959      0.909      0.967      0.713\n"
     ]
    },
    {
     "name": "stderr",
     "output_type": "stream",
     "text": [
      "\n"
     ]
    },
    {
     "name": "stdout",
     "output_type": "stream",
     "text": [
      "\n",
      "      Epoch    GPU_mem   box_loss   cls_loss   dfl_loss  Instances       Size\n"
     ]
    },
    {
     "name": "stderr",
     "output_type": "stream",
     "text": [
      "     14/100         0G      1.009     0.9533      1.107          1        640: 100%|██████████| 18/18 [02:37<00:00,  8.73s/it]\n",
      "                 Class     Images  Instances      Box(P          R      mAP50  mAP50-95): 100%|██████████| 3/3 [00:18<00:00,  6.27s/it]"
     ]
    },
    {
     "name": "stdout",
     "output_type": "stream",
     "text": [
      "                   all         78         78      0.928       0.91      0.957      0.711\n"
     ]
    },
    {
     "name": "stderr",
     "output_type": "stream",
     "text": [
      "\n"
     ]
    },
    {
     "name": "stdout",
     "output_type": "stream",
     "text": [
      "\n",
      "      Epoch    GPU_mem   box_loss   cls_loss   dfl_loss  Instances       Size\n"
     ]
    },
    {
     "name": "stderr",
     "output_type": "stream",
     "text": [
      "     15/100         0G     0.9449      0.882      1.085          3        640: 100%|██████████| 18/18 [02:50<00:00,  9.47s/it]\n",
      "                 Class     Images  Instances      Box(P          R      mAP50  mAP50-95): 100%|██████████| 3/3 [00:19<00:00,  6.63s/it]"
     ]
    },
    {
     "name": "stdout",
     "output_type": "stream",
     "text": [
      "                   all         78         78      0.958      0.987      0.976      0.739\n"
     ]
    },
    {
     "name": "stderr",
     "output_type": "stream",
     "text": [
      "\n"
     ]
    },
    {
     "name": "stdout",
     "output_type": "stream",
     "text": [
      "\n",
      "      Epoch    GPU_mem   box_loss   cls_loss   dfl_loss  Instances       Size\n"
     ]
    },
    {
     "name": "stderr",
     "output_type": "stream",
     "text": [
      "     16/100         0G     0.8917     0.8113       1.06          1        640: 100%|██████████| 18/18 [02:28<00:00,  8.23s/it]\n",
      "                 Class     Images  Instances      Box(P          R      mAP50  mAP50-95): 100%|██████████| 3/3 [00:17<00:00,  5.94s/it]"
     ]
    },
    {
     "name": "stdout",
     "output_type": "stream",
     "text": [
      "                   all         78         78      0.935      0.922      0.958      0.756\n"
     ]
    },
    {
     "name": "stderr",
     "output_type": "stream",
     "text": [
      "\n"
     ]
    },
    {
     "name": "stdout",
     "output_type": "stream",
     "text": [
      "\n",
      "      Epoch    GPU_mem   box_loss   cls_loss   dfl_loss  Instances       Size\n"
     ]
    },
    {
     "name": "stderr",
     "output_type": "stream",
     "text": [
      "     17/100         0G     0.9028     0.8882      1.046          0        640: 100%|██████████| 18/18 [02:26<00:00,  8.16s/it]\n",
      "                 Class     Images  Instances      Box(P          R      mAP50  mAP50-95): 100%|██████████| 3/3 [00:16<00:00,  5.45s/it]"
     ]
    },
    {
     "name": "stdout",
     "output_type": "stream",
     "text": [
      "                   all         78         78      0.929      0.974      0.967      0.754\n"
     ]
    },
    {
     "name": "stderr",
     "output_type": "stream",
     "text": [
      "\n"
     ]
    },
    {
     "name": "stdout",
     "output_type": "stream",
     "text": [
      "\n",
      "      Epoch    GPU_mem   box_loss   cls_loss   dfl_loss  Instances       Size\n"
     ]
    },
    {
     "name": "stderr",
     "output_type": "stream",
     "text": [
      "     18/100         0G     0.9683     0.8267      1.089          4        640: 100%|██████████| 18/18 [02:23<00:00,  7.96s/it]\n",
      "                 Class     Images  Instances      Box(P          R      mAP50  mAP50-95): 100%|██████████| 3/3 [00:15<00:00,  5.30s/it]"
     ]
    },
    {
     "name": "stdout",
     "output_type": "stream",
     "text": [
      "                   all         78         78      0.974      0.946      0.978      0.777\n"
     ]
    },
    {
     "name": "stderr",
     "output_type": "stream",
     "text": [
      "\n"
     ]
    },
    {
     "name": "stdout",
     "output_type": "stream",
     "text": [
      "\n",
      "      Epoch    GPU_mem   box_loss   cls_loss   dfl_loss  Instances       Size\n"
     ]
    },
    {
     "name": "stderr",
     "output_type": "stream",
     "text": [
      "     19/100         0G     0.8554     0.7784      1.037          2        640: 100%|██████████| 18/18 [02:18<00:00,  7.69s/it]\n",
      "                 Class     Images  Instances      Box(P          R      mAP50  mAP50-95): 100%|██████████| 3/3 [00:16<00:00,  5.34s/it]"
     ]
    },
    {
     "name": "stdout",
     "output_type": "stream",
     "text": [
      "                   all         78         78      0.946      0.949      0.981      0.779\n"
     ]
    },
    {
     "name": "stderr",
     "output_type": "stream",
     "text": [
      "\n"
     ]
    },
    {
     "name": "stdout",
     "output_type": "stream",
     "text": [
      "\n",
      "      Epoch    GPU_mem   box_loss   cls_loss   dfl_loss  Instances       Size\n"
     ]
    },
    {
     "name": "stderr",
     "output_type": "stream",
     "text": [
      "     20/100         0G     0.8701     0.7241      1.038          2        640: 100%|██████████| 18/18 [02:15<00:00,  7.53s/it]\n",
      "                 Class     Images  Instances      Box(P          R      mAP50  mAP50-95): 100%|██████████| 3/3 [00:15<00:00,  5.33s/it]"
     ]
    },
    {
     "name": "stdout",
     "output_type": "stream",
     "text": [
      "                   all         78         78      0.938      0.974      0.964      0.733\n"
     ]
    },
    {
     "name": "stderr",
     "output_type": "stream",
     "text": [
      "\n"
     ]
    },
    {
     "name": "stdout",
     "output_type": "stream",
     "text": [
      "\n",
      "      Epoch    GPU_mem   box_loss   cls_loss   dfl_loss  Instances       Size\n"
     ]
    },
    {
     "name": "stderr",
     "output_type": "stream",
     "text": [
      "     21/100         0G     0.8988     0.7412      1.059          1        640: 100%|██████████| 18/18 [02:16<00:00,  7.58s/it]\n",
      "                 Class     Images  Instances      Box(P          R      mAP50  mAP50-95): 100%|██████████| 3/3 [00:15<00:00,  5.31s/it]"
     ]
    },
    {
     "name": "stdout",
     "output_type": "stream",
     "text": [
      "                   all         78         78      0.952      0.962       0.97      0.772\n"
     ]
    },
    {
     "name": "stderr",
     "output_type": "stream",
     "text": [
      "\n"
     ]
    },
    {
     "name": "stdout",
     "output_type": "stream",
     "text": [
      "\n",
      "      Epoch    GPU_mem   box_loss   cls_loss   dfl_loss  Instances       Size\n"
     ]
    },
    {
     "name": "stderr",
     "output_type": "stream",
     "text": [
      "     22/100         0G     0.8909     0.7411      1.063          2        640: 100%|██████████| 18/18 [02:14<00:00,  7.50s/it]\n",
      "                 Class     Images  Instances      Box(P          R      mAP50  mAP50-95): 100%|██████████| 3/3 [00:15<00:00,  5.33s/it]"
     ]
    },
    {
     "name": "stdout",
     "output_type": "stream",
     "text": [
      "                   all         78         78      0.953      0.949      0.979      0.755\n"
     ]
    },
    {
     "name": "stderr",
     "output_type": "stream",
     "text": [
      "\n"
     ]
    },
    {
     "name": "stdout",
     "output_type": "stream",
     "text": [
      "\n",
      "      Epoch    GPU_mem   box_loss   cls_loss   dfl_loss  Instances       Size\n"
     ]
    },
    {
     "name": "stderr",
     "output_type": "stream",
     "text": [
      "     23/100         0G     0.8965     0.8116      1.095          1        640: 100%|██████████| 18/18 [02:14<00:00,  7.50s/it]\n",
      "                 Class     Images  Instances      Box(P          R      mAP50  mAP50-95): 100%|██████████| 3/3 [00:16<00:00,  5.45s/it]"
     ]
    },
    {
     "name": "stdout",
     "output_type": "stream",
     "text": [
      "                   all         78         78      0.984       0.91       0.95      0.739\n"
     ]
    },
    {
     "name": "stderr",
     "output_type": "stream",
     "text": [
      "\n"
     ]
    },
    {
     "name": "stdout",
     "output_type": "stream",
     "text": [
      "\n",
      "      Epoch    GPU_mem   box_loss   cls_loss   dfl_loss  Instances       Size\n"
     ]
    },
    {
     "name": "stderr",
     "output_type": "stream",
     "text": [
      "     24/100         0G     0.9157     0.7485      1.056          2        640: 100%|██████████| 18/18 [02:25<00:00,  8.11s/it]\n",
      "                 Class     Images  Instances      Box(P          R      mAP50  mAP50-95): 100%|██████████| 3/3 [00:18<00:00,  6.20s/it]"
     ]
    },
    {
     "name": "stdout",
     "output_type": "stream",
     "text": [
      "                   all         78         78      0.959      0.949      0.966      0.793\n"
     ]
    },
    {
     "name": "stderr",
     "output_type": "stream",
     "text": [
      "\n"
     ]
    },
    {
     "name": "stdout",
     "output_type": "stream",
     "text": [
      "\n",
      "      Epoch    GPU_mem   box_loss   cls_loss   dfl_loss  Instances       Size\n"
     ]
    },
    {
     "name": "stderr",
     "output_type": "stream",
     "text": [
      "     25/100         0G     0.8717     0.6577      1.048          3        640: 100%|██████████| 18/18 [02:27<00:00,  8.20s/it]\n",
      "                 Class     Images  Instances      Box(P          R      mAP50  mAP50-95): 100%|██████████| 3/3 [00:19<00:00,  6.48s/it]"
     ]
    },
    {
     "name": "stdout",
     "output_type": "stream",
     "text": [
      "                   all         78         78      0.984      0.974      0.983       0.78\n"
     ]
    },
    {
     "name": "stderr",
     "output_type": "stream",
     "text": [
      "\n"
     ]
    },
    {
     "name": "stdout",
     "output_type": "stream",
     "text": [
      "\n",
      "      Epoch    GPU_mem   box_loss   cls_loss   dfl_loss  Instances       Size\n"
     ]
    },
    {
     "name": "stderr",
     "output_type": "stream",
     "text": [
      "     26/100         0G     0.8449     0.6708      1.025          1        640: 100%|██████████| 18/18 [02:47<00:00,  9.28s/it]\n",
      "                 Class     Images  Instances      Box(P          R      mAP50  mAP50-95): 100%|██████████| 3/3 [00:18<00:00,  6.32s/it]"
     ]
    },
    {
     "name": "stdout",
     "output_type": "stream",
     "text": [
      "                   all         78         78      0.954      0.949      0.976      0.803\n"
     ]
    },
    {
     "name": "stderr",
     "output_type": "stream",
     "text": [
      "\n"
     ]
    },
    {
     "name": "stdout",
     "output_type": "stream",
     "text": [
      "\n",
      "      Epoch    GPU_mem   box_loss   cls_loss   dfl_loss  Instances       Size\n"
     ]
    },
    {
     "name": "stderr",
     "output_type": "stream",
     "text": [
      "     27/100         0G      0.821     0.6551      1.018          3        640: 100%|██████████| 18/18 [02:40<00:00,  8.91s/it]\n",
      "                 Class     Images  Instances      Box(P          R      mAP50  mAP50-95): 100%|██████████| 3/3 [00:18<00:00,  6.29s/it]"
     ]
    },
    {
     "name": "stdout",
     "output_type": "stream",
     "text": [
      "                   all         78         78          1       0.96      0.982      0.806\n"
     ]
    },
    {
     "name": "stderr",
     "output_type": "stream",
     "text": [
      "\n"
     ]
    },
    {
     "name": "stdout",
     "output_type": "stream",
     "text": [
      "\n",
      "      Epoch    GPU_mem   box_loss   cls_loss   dfl_loss  Instances       Size\n"
     ]
    },
    {
     "name": "stderr",
     "output_type": "stream",
     "text": [
      "     28/100         0G     0.8467     0.6318      1.051          1        640: 100%|██████████| 18/18 [02:21<00:00,  7.85s/it]\n",
      "                 Class     Images  Instances      Box(P          R      mAP50  mAP50-95): 100%|██████████| 3/3 [00:16<00:00,  5.36s/it]"
     ]
    },
    {
     "name": "stdout",
     "output_type": "stream",
     "text": [
      "                   all         78         78      0.986      0.974      0.981      0.773\n"
     ]
    },
    {
     "name": "stderr",
     "output_type": "stream",
     "text": [
      "\n"
     ]
    },
    {
     "name": "stdout",
     "output_type": "stream",
     "text": [
      "\n",
      "      Epoch    GPU_mem   box_loss   cls_loss   dfl_loss  Instances       Size\n"
     ]
    },
    {
     "name": "stderr",
     "output_type": "stream",
     "text": [
      "     29/100         0G     0.8514     0.6447       1.02          1        640: 100%|██████████| 18/18 [02:17<00:00,  7.63s/it]\n",
      "                 Class     Images  Instances      Box(P          R      mAP50  mAP50-95): 100%|██████████| 3/3 [00:16<00:00,  5.37s/it]"
     ]
    },
    {
     "name": "stdout",
     "output_type": "stream",
     "text": [
      "                   all         78         78      0.964      0.962      0.983      0.794\n"
     ]
    },
    {
     "name": "stderr",
     "output_type": "stream",
     "text": [
      "\n"
     ]
    },
    {
     "name": "stdout",
     "output_type": "stream",
     "text": [
      "\n",
      "      Epoch    GPU_mem   box_loss   cls_loss   dfl_loss  Instances       Size\n"
     ]
    },
    {
     "name": "stderr",
     "output_type": "stream",
     "text": [
      "     30/100         0G     0.8346     0.6203      1.026          4        640: 100%|██████████| 18/18 [02:16<00:00,  7.59s/it]\n",
      "                 Class     Images  Instances      Box(P          R      mAP50  mAP50-95): 100%|██████████| 3/3 [00:16<00:00,  5.35s/it]"
     ]
    },
    {
     "name": "stdout",
     "output_type": "stream",
     "text": [
      "                   all         78         78      0.966      0.949      0.979      0.779\n"
     ]
    },
    {
     "name": "stderr",
     "output_type": "stream",
     "text": [
      "\n"
     ]
    },
    {
     "name": "stdout",
     "output_type": "stream",
     "text": [
      "\n",
      "      Epoch    GPU_mem   box_loss   cls_loss   dfl_loss  Instances       Size\n"
     ]
    },
    {
     "name": "stderr",
     "output_type": "stream",
     "text": [
      "     31/100         0G      0.789     0.5971     0.9883          2        640: 100%|██████████| 18/18 [02:33<00:00,  8.53s/it]\n",
      "                 Class     Images  Instances      Box(P          R      mAP50  mAP50-95): 100%|██████████| 3/3 [00:18<00:00,  6.14s/it]"
     ]
    },
    {
     "name": "stdout",
     "output_type": "stream",
     "text": [
      "                   all         78         78      0.938      0.973      0.972      0.796\n"
     ]
    },
    {
     "name": "stderr",
     "output_type": "stream",
     "text": [
      "\n"
     ]
    },
    {
     "name": "stdout",
     "output_type": "stream",
     "text": [
      "\n",
      "      Epoch    GPU_mem   box_loss   cls_loss   dfl_loss  Instances       Size\n"
     ]
    },
    {
     "name": "stderr",
     "output_type": "stream",
     "text": [
      "     32/100         0G     0.8762     0.6553      1.073          2        640: 100%|██████████| 18/18 [02:42<00:00,  9.03s/it]\n",
      "                 Class     Images  Instances      Box(P          R      mAP50  mAP50-95): 100%|██████████| 3/3 [00:17<00:00,  5.98s/it]"
     ]
    },
    {
     "name": "stdout",
     "output_type": "stream",
     "text": [
      "                   all         78         78      0.964      0.962      0.983       0.81\n"
     ]
    },
    {
     "name": "stderr",
     "output_type": "stream",
     "text": [
      "\n"
     ]
    },
    {
     "name": "stdout",
     "output_type": "stream",
     "text": [
      "\n",
      "      Epoch    GPU_mem   box_loss   cls_loss   dfl_loss  Instances       Size\n"
     ]
    },
    {
     "name": "stderr",
     "output_type": "stream",
     "text": [
      "     33/100         0G     0.8043     0.6327      1.006          2        640: 100%|██████████| 18/18 [02:36<00:00,  8.69s/it]\n",
      "                 Class     Images  Instances      Box(P          R      mAP50  mAP50-95): 100%|██████████| 3/3 [00:17<00:00,  5.88s/it]"
     ]
    },
    {
     "name": "stdout",
     "output_type": "stream",
     "text": [
      "                   all         78         78      0.984      0.987      0.985      0.804\n"
     ]
    },
    {
     "name": "stderr",
     "output_type": "stream",
     "text": [
      "\n"
     ]
    },
    {
     "name": "stdout",
     "output_type": "stream",
     "text": [
      "\n",
      "      Epoch    GPU_mem   box_loss   cls_loss   dfl_loss  Instances       Size\n"
     ]
    },
    {
     "name": "stderr",
     "output_type": "stream",
     "text": [
      "     34/100         0G     0.7946     0.5595     0.9867          2        640: 100%|██████████| 18/18 [02:32<00:00,  8.47s/it]\n",
      "                 Class     Images  Instances      Box(P          R      mAP50  mAP50-95): 100%|██████████| 3/3 [00:18<00:00,  6.03s/it]"
     ]
    },
    {
     "name": "stdout",
     "output_type": "stream",
     "text": [
      "                   all         78         78      0.987      0.986      0.984      0.803\n"
     ]
    },
    {
     "name": "stderr",
     "output_type": "stream",
     "text": [
      "\n"
     ]
    },
    {
     "name": "stdout",
     "output_type": "stream",
     "text": [
      "\n",
      "      Epoch    GPU_mem   box_loss   cls_loss   dfl_loss  Instances       Size\n"
     ]
    },
    {
     "name": "stderr",
     "output_type": "stream",
     "text": [
      "     35/100         0G     0.8353     0.6113      1.033          4        640: 100%|██████████| 18/18 [02:26<00:00,  8.12s/it]\n",
      "                 Class     Images  Instances      Box(P          R      mAP50  mAP50-95): 100%|██████████| 3/3 [00:16<00:00,  5.46s/it]"
     ]
    },
    {
     "name": "stdout",
     "output_type": "stream",
     "text": [
      "                   all         78         78      0.972      0.974      0.984      0.831\n"
     ]
    },
    {
     "name": "stderr",
     "output_type": "stream",
     "text": [
      "\n"
     ]
    },
    {
     "name": "stdout",
     "output_type": "stream",
     "text": [
      "\n",
      "      Epoch    GPU_mem   box_loss   cls_loss   dfl_loss  Instances       Size\n"
     ]
    },
    {
     "name": "stderr",
     "output_type": "stream",
     "text": [
      "     36/100         0G     0.7717     0.5681     0.9817          3        640: 100%|██████████| 18/18 [02:24<00:00,  8.00s/it]\n",
      "                 Class     Images  Instances      Box(P          R      mAP50  mAP50-95): 100%|██████████| 3/3 [00:16<00:00,  5.48s/it]"
     ]
    },
    {
     "name": "stdout",
     "output_type": "stream",
     "text": [
      "                   all         78         78      0.986      0.974      0.981      0.818\n"
     ]
    },
    {
     "name": "stderr",
     "output_type": "stream",
     "text": [
      "\n"
     ]
    },
    {
     "name": "stdout",
     "output_type": "stream",
     "text": [
      "\n",
      "      Epoch    GPU_mem   box_loss   cls_loss   dfl_loss  Instances       Size\n"
     ]
    },
    {
     "name": "stderr",
     "output_type": "stream",
     "text": [
      "     37/100         0G     0.8658     0.7121     0.9879          1        640: 100%|██████████| 18/18 [02:25<00:00,  8.07s/it]\n",
      "                 Class     Images  Instances      Box(P          R      mAP50  mAP50-95): 100%|██████████| 3/3 [00:16<00:00,  5.62s/it]"
     ]
    },
    {
     "name": "stdout",
     "output_type": "stream",
     "text": [
      "                   all         78         78      0.974      0.964      0.984      0.833\n"
     ]
    },
    {
     "name": "stderr",
     "output_type": "stream",
     "text": [
      "\n"
     ]
    },
    {
     "name": "stdout",
     "output_type": "stream",
     "text": [
      "\n",
      "      Epoch    GPU_mem   box_loss   cls_loss   dfl_loss  Instances       Size\n"
     ]
    },
    {
     "name": "stderr",
     "output_type": "stream",
     "text": [
      "     38/100         0G     0.8156     0.6137     0.9984          4        640: 100%|██████████| 18/18 [02:40<00:00,  8.89s/it]\n",
      "                 Class     Images  Instances      Box(P          R      mAP50  mAP50-95): 100%|██████████| 3/3 [00:17<00:00,  5.77s/it]"
     ]
    },
    {
     "name": "stdout",
     "output_type": "stream",
     "text": [
      "                   all         78         78      0.974      0.961      0.976       0.83\n"
     ]
    },
    {
     "name": "stderr",
     "output_type": "stream",
     "text": [
      "\n"
     ]
    },
    {
     "name": "stdout",
     "output_type": "stream",
     "text": [
      "\n",
      "      Epoch    GPU_mem   box_loss   cls_loss   dfl_loss  Instances       Size\n"
     ]
    },
    {
     "name": "stderr",
     "output_type": "stream",
     "text": [
      "     39/100         0G     0.7918     0.5607      1.012          1        640: 100%|██████████| 18/18 [02:27<00:00,  8.18s/it]\n",
      "                 Class     Images  Instances      Box(P          R      mAP50  mAP50-95): 100%|██████████| 3/3 [00:15<00:00,  5.23s/it]"
     ]
    },
    {
     "name": "stdout",
     "output_type": "stream",
     "text": [
      "                   all         78         78      0.968      0.974      0.974      0.842\n"
     ]
    },
    {
     "name": "stderr",
     "output_type": "stream",
     "text": [
      "\n"
     ]
    },
    {
     "name": "stdout",
     "output_type": "stream",
     "text": [
      "\n",
      "      Epoch    GPU_mem   box_loss   cls_loss   dfl_loss  Instances       Size\n"
     ]
    },
    {
     "name": "stderr",
     "output_type": "stream",
     "text": [
      "     40/100         0G     0.7913     0.5749      1.008          1        640: 100%|██████████| 18/18 [02:25<00:00,  8.09s/it]\n",
      "                 Class     Images  Instances      Box(P          R      mAP50  mAP50-95): 100%|██████████| 3/3 [00:17<00:00,  5.70s/it]"
     ]
    },
    {
     "name": "stdout",
     "output_type": "stream",
     "text": [
      "                   all         78         78      0.949      0.974      0.983      0.781\n"
     ]
    },
    {
     "name": "stderr",
     "output_type": "stream",
     "text": [
      "\n"
     ]
    },
    {
     "name": "stdout",
     "output_type": "stream",
     "text": [
      "\n",
      "      Epoch    GPU_mem   box_loss   cls_loss   dfl_loss  Instances       Size\n"
     ]
    },
    {
     "name": "stderr",
     "output_type": "stream",
     "text": [
      "     41/100         0G     0.8912     0.6401      1.024          3        640: 100%|██████████| 18/18 [02:27<00:00,  8.17s/it]\n",
      "                 Class     Images  Instances      Box(P          R      mAP50  mAP50-95): 100%|██████████| 3/3 [00:17<00:00,  5.69s/it]"
     ]
    },
    {
     "name": "stdout",
     "output_type": "stream",
     "text": [
      "                   all         78         78      0.987       0.97      0.984      0.845\n"
     ]
    },
    {
     "name": "stderr",
     "output_type": "stream",
     "text": [
      "\n"
     ]
    },
    {
     "name": "stdout",
     "output_type": "stream",
     "text": [
      "\n",
      "      Epoch    GPU_mem   box_loss   cls_loss   dfl_loss  Instances       Size\n"
     ]
    },
    {
     "name": "stderr",
     "output_type": "stream",
     "text": [
      "     42/100         0G     0.7936     0.5494     0.9607          1        640: 100%|██████████| 18/18 [02:28<00:00,  8.26s/it]\n",
      "                 Class     Images  Instances      Box(P          R      mAP50  mAP50-95): 100%|██████████| 3/3 [00:17<00:00,  5.89s/it]"
     ]
    },
    {
     "name": "stdout",
     "output_type": "stream",
     "text": [
      "                   all         78         78      0.972      0.974      0.984      0.821\n"
     ]
    },
    {
     "name": "stderr",
     "output_type": "stream",
     "text": [
      "\n"
     ]
    },
    {
     "name": "stdout",
     "output_type": "stream",
     "text": [
      "\n",
      "      Epoch    GPU_mem   box_loss   cls_loss   dfl_loss  Instances       Size\n"
     ]
    },
    {
     "name": "stderr",
     "output_type": "stream",
     "text": [
      "     43/100         0G     0.7384     0.5218     0.9628          4        640: 100%|██████████| 18/18 [02:26<00:00,  8.12s/it]\n",
      "                 Class     Images  Instances      Box(P          R      mAP50  mAP50-95): 100%|██████████| 3/3 [00:16<00:00,  5.38s/it]"
     ]
    },
    {
     "name": "stdout",
     "output_type": "stream",
     "text": [
      "                   all         78         78      0.974      0.951      0.983      0.804\n"
     ]
    },
    {
     "name": "stderr",
     "output_type": "stream",
     "text": [
      "\n"
     ]
    },
    {
     "name": "stdout",
     "output_type": "stream",
     "text": [
      "\n",
      "      Epoch    GPU_mem   box_loss   cls_loss   dfl_loss  Instances       Size\n"
     ]
    },
    {
     "name": "stderr",
     "output_type": "stream",
     "text": [
      "     44/100         0G     0.7316      0.547      0.978          3        640: 100%|██████████| 18/18 [02:15<00:00,  7.53s/it]\n",
      "                 Class     Images  Instances      Box(P          R      mAP50  mAP50-95): 100%|██████████| 3/3 [00:16<00:00,  5.34s/it]"
     ]
    },
    {
     "name": "stdout",
     "output_type": "stream",
     "text": [
      "                   all         78         78      0.962      0.963      0.982      0.835\n"
     ]
    },
    {
     "name": "stderr",
     "output_type": "stream",
     "text": [
      "\n"
     ]
    },
    {
     "name": "stdout",
     "output_type": "stream",
     "text": [
      "\n",
      "      Epoch    GPU_mem   box_loss   cls_loss   dfl_loss  Instances       Size\n"
     ]
    },
    {
     "name": "stderr",
     "output_type": "stream",
     "text": [
      "     45/100         0G     0.7255     0.5428     0.9766          1        640: 100%|██████████| 18/18 [02:15<00:00,  7.52s/it]\n",
      "                 Class     Images  Instances      Box(P          R      mAP50  mAP50-95): 100%|██████████| 3/3 [00:16<00:00,  5.37s/it]"
     ]
    },
    {
     "name": "stdout",
     "output_type": "stream",
     "text": [
      "                   all         78         78      0.971      0.974      0.984      0.815\n"
     ]
    },
    {
     "name": "stderr",
     "output_type": "stream",
     "text": [
      "\n"
     ]
    },
    {
     "name": "stdout",
     "output_type": "stream",
     "text": [
      "\n",
      "      Epoch    GPU_mem   box_loss   cls_loss   dfl_loss  Instances       Size\n"
     ]
    },
    {
     "name": "stderr",
     "output_type": "stream",
     "text": [
      "     46/100         0G     0.7791     0.5729      1.012          1        640: 100%|██████████| 18/18 [02:14<00:00,  7.50s/it]\n",
      "                 Class     Images  Instances      Box(P          R      mAP50  mAP50-95): 100%|██████████| 3/3 [00:16<00:00,  5.33s/it]"
     ]
    },
    {
     "name": "stdout",
     "output_type": "stream",
     "text": [
      "                   all         78         78       0.95      0.974       0.98      0.808\n"
     ]
    },
    {
     "name": "stderr",
     "output_type": "stream",
     "text": [
      "\n"
     ]
    },
    {
     "name": "stdout",
     "output_type": "stream",
     "text": [
      "\n",
      "      Epoch    GPU_mem   box_loss   cls_loss   dfl_loss  Instances       Size\n"
     ]
    },
    {
     "name": "stderr",
     "output_type": "stream",
     "text": [
      "     47/100         0G     0.7617     0.5962      1.002          1        640: 100%|██████████| 18/18 [02:15<00:00,  7.50s/it]\n",
      "                 Class     Images  Instances      Box(P          R      mAP50  mAP50-95): 100%|██████████| 3/3 [00:16<00:00,  5.34s/it]"
     ]
    },
    {
     "name": "stdout",
     "output_type": "stream",
     "text": [
      "                   all         78         78      0.974      0.969      0.981      0.811\n"
     ]
    },
    {
     "name": "stderr",
     "output_type": "stream",
     "text": [
      "\n"
     ]
    },
    {
     "name": "stdout",
     "output_type": "stream",
     "text": [
      "\n",
      "      Epoch    GPU_mem   box_loss   cls_loss   dfl_loss  Instances       Size\n"
     ]
    },
    {
     "name": "stderr",
     "output_type": "stream",
     "text": [
      "     48/100         0G     0.7066     0.5386     0.9208          0        640: 100%|██████████| 18/18 [02:15<00:00,  7.52s/it]\n",
      "                 Class     Images  Instances      Box(P          R      mAP50  mAP50-95): 100%|██████████| 3/3 [00:15<00:00,  5.33s/it]"
     ]
    },
    {
     "name": "stdout",
     "output_type": "stream",
     "text": [
      "                   all         78         78      0.927      0.974      0.981      0.852\n"
     ]
    },
    {
     "name": "stderr",
     "output_type": "stream",
     "text": [
      "\n"
     ]
    },
    {
     "name": "stdout",
     "output_type": "stream",
     "text": [
      "\n",
      "      Epoch    GPU_mem   box_loss   cls_loss   dfl_loss  Instances       Size\n"
     ]
    },
    {
     "name": "stderr",
     "output_type": "stream",
     "text": [
      "     49/100         0G     0.7847     0.5395      1.006          1        640: 100%|██████████| 18/18 [02:14<00:00,  7.47s/it]\n",
      "                 Class     Images  Instances      Box(P          R      mAP50  mAP50-95): 100%|██████████| 3/3 [00:16<00:00,  5.33s/it]"
     ]
    },
    {
     "name": "stdout",
     "output_type": "stream",
     "text": [
      "                   all         78         78       0.98      0.974      0.978      0.835\n"
     ]
    },
    {
     "name": "stderr",
     "output_type": "stream",
     "text": [
      "\n"
     ]
    },
    {
     "name": "stdout",
     "output_type": "stream",
     "text": [
      "\n",
      "      Epoch    GPU_mem   box_loss   cls_loss   dfl_loss  Instances       Size\n"
     ]
    },
    {
     "name": "stderr",
     "output_type": "stream",
     "text": [
      "     50/100         0G     0.7532     0.5521     0.9858          2        640: 100%|██████████| 18/18 [02:14<00:00,  7.46s/it]\n",
      "                 Class     Images  Instances      Box(P          R      mAP50  mAP50-95): 100%|██████████| 3/3 [00:15<00:00,  5.30s/it]"
     ]
    },
    {
     "name": "stdout",
     "output_type": "stream",
     "text": [
      "                   all         78         78      0.987      0.973      0.978      0.823\n"
     ]
    },
    {
     "name": "stderr",
     "output_type": "stream",
     "text": [
      "\n"
     ]
    },
    {
     "name": "stdout",
     "output_type": "stream",
     "text": [
      "\n",
      "      Epoch    GPU_mem   box_loss   cls_loss   dfl_loss  Instances       Size\n"
     ]
    },
    {
     "name": "stderr",
     "output_type": "stream",
     "text": [
      "     51/100         0G     0.6664     0.4999     0.9507          2        640: 100%|██████████| 18/18 [02:14<00:00,  7.48s/it]\n",
      "                 Class     Images  Instances      Box(P          R      mAP50  mAP50-95): 100%|██████████| 3/3 [00:15<00:00,  5.28s/it]"
     ]
    },
    {
     "name": "stdout",
     "output_type": "stream",
     "text": [
      "                   all         78         78      0.982      0.974      0.984       0.85\n"
     ]
    },
    {
     "name": "stderr",
     "output_type": "stream",
     "text": [
      "\n"
     ]
    },
    {
     "name": "stdout",
     "output_type": "stream",
     "text": [
      "\n",
      "      Epoch    GPU_mem   box_loss   cls_loss   dfl_loss  Instances       Size\n"
     ]
    },
    {
     "name": "stderr",
     "output_type": "stream",
     "text": [
      "     52/100         0G     0.7233     0.5053     0.9851          1        640: 100%|██████████| 18/18 [02:14<00:00,  7.45s/it]\n",
      "                 Class     Images  Instances      Box(P          R      mAP50  mAP50-95): 100%|██████████| 3/3 [00:15<00:00,  5.33s/it]"
     ]
    },
    {
     "name": "stdout",
     "output_type": "stream",
     "text": [
      "                   all         78         78      0.987      0.974      0.981      0.818\n"
     ]
    },
    {
     "name": "stderr",
     "output_type": "stream",
     "text": [
      "\n"
     ]
    },
    {
     "name": "stdout",
     "output_type": "stream",
     "text": [
      "\n",
      "      Epoch    GPU_mem   box_loss   cls_loss   dfl_loss  Instances       Size\n"
     ]
    },
    {
     "name": "stderr",
     "output_type": "stream",
     "text": [
      "     53/100         0G     0.7666     0.5346      1.002          1        640: 100%|██████████| 18/18 [02:14<00:00,  7.45s/it]\n",
      "                 Class     Images  Instances      Box(P          R      mAP50  mAP50-95): 100%|██████████| 3/3 [00:16<00:00,  5.34s/it]"
     ]
    },
    {
     "name": "stdout",
     "output_type": "stream",
     "text": [
      "                   all         78         78      0.987      0.958      0.974       0.81\n"
     ]
    },
    {
     "name": "stderr",
     "output_type": "stream",
     "text": [
      "\n"
     ]
    },
    {
     "name": "stdout",
     "output_type": "stream",
     "text": [
      "\n",
      "      Epoch    GPU_mem   box_loss   cls_loss   dfl_loss  Instances       Size\n"
     ]
    },
    {
     "name": "stderr",
     "output_type": "stream",
     "text": [
      "     54/100         0G     0.7248     0.4934     0.9494          2        640: 100%|██████████| 18/18 [02:14<00:00,  7.48s/it]\n",
      "                 Class     Images  Instances      Box(P          R      mAP50  mAP50-95): 100%|██████████| 3/3 [00:16<00:00,  5.46s/it]"
     ]
    },
    {
     "name": "stdout",
     "output_type": "stream",
     "text": [
      "                   all         78         78       0.97      0.962      0.976      0.803\n"
     ]
    },
    {
     "name": "stderr",
     "output_type": "stream",
     "text": [
      "\n"
     ]
    },
    {
     "name": "stdout",
     "output_type": "stream",
     "text": [
      "\n",
      "      Epoch    GPU_mem   box_loss   cls_loss   dfl_loss  Instances       Size\n"
     ]
    },
    {
     "name": "stderr",
     "output_type": "stream",
     "text": [
      "     55/100         0G     0.7726     0.5939      1.018          1        640: 100%|██████████| 18/18 [02:15<00:00,  7.52s/it]\n",
      "                 Class     Images  Instances      Box(P          R      mAP50  mAP50-95): 100%|██████████| 3/3 [00:15<00:00,  5.33s/it]"
     ]
    },
    {
     "name": "stdout",
     "output_type": "stream",
     "text": [
      "                   all         78         78      0.982      0.974      0.982       0.84\n"
     ]
    },
    {
     "name": "stderr",
     "output_type": "stream",
     "text": [
      "\n"
     ]
    },
    {
     "name": "stdout",
     "output_type": "stream",
     "text": [
      "\n",
      "      Epoch    GPU_mem   box_loss   cls_loss   dfl_loss  Instances       Size\n"
     ]
    },
    {
     "name": "stderr",
     "output_type": "stream",
     "text": [
      "     56/100         0G     0.6954     0.4976     0.9581          3        640: 100%|██████████| 18/18 [02:15<00:00,  7.51s/it]\n",
      "                 Class     Images  Instances      Box(P          R      mAP50  mAP50-95): 100%|██████████| 3/3 [00:16<00:00,  5.34s/it]"
     ]
    },
    {
     "name": "stdout",
     "output_type": "stream",
     "text": [
      "                   all         78         78      0.981      0.974      0.985      0.843\n"
     ]
    },
    {
     "name": "stderr",
     "output_type": "stream",
     "text": [
      "\n"
     ]
    },
    {
     "name": "stdout",
     "output_type": "stream",
     "text": [
      "\n",
      "      Epoch    GPU_mem   box_loss   cls_loss   dfl_loss  Instances       Size\n"
     ]
    },
    {
     "name": "stderr",
     "output_type": "stream",
     "text": [
      "     57/100         0G     0.7076     0.4847     0.9617          1        640: 100%|██████████| 18/18 [02:14<00:00,  7.50s/it]\n",
      "                 Class     Images  Instances      Box(P          R      mAP50  mAP50-95): 100%|██████████| 3/3 [00:15<00:00,  5.33s/it]"
     ]
    },
    {
     "name": "stdout",
     "output_type": "stream",
     "text": [
      "                   all         78         78      0.973      0.922      0.976      0.819\n"
     ]
    },
    {
     "name": "stderr",
     "output_type": "stream",
     "text": [
      "\n"
     ]
    },
    {
     "name": "stdout",
     "output_type": "stream",
     "text": [
      "\n",
      "      Epoch    GPU_mem   box_loss   cls_loss   dfl_loss  Instances       Size\n"
     ]
    },
    {
     "name": "stderr",
     "output_type": "stream",
     "text": [
      "     58/100         0G     0.6826     0.4837     0.9409          1        640: 100%|██████████| 18/18 [02:14<00:00,  7.46s/it]\n",
      "                 Class     Images  Instances      Box(P          R      mAP50  mAP50-95): 100%|██████████| 3/3 [00:15<00:00,  5.30s/it]"
     ]
    },
    {
     "name": "stdout",
     "output_type": "stream",
     "text": [
      "                   all         78         78      0.987      0.971      0.985      0.846\n"
     ]
    },
    {
     "name": "stderr",
     "output_type": "stream",
     "text": [
      "\n"
     ]
    },
    {
     "name": "stdout",
     "output_type": "stream",
     "text": [
      "\n",
      "      Epoch    GPU_mem   box_loss   cls_loss   dfl_loss  Instances       Size\n"
     ]
    },
    {
     "name": "stderr",
     "output_type": "stream",
     "text": [
      "     59/100         0G     0.6605      0.471     0.9661          3        640: 100%|██████████| 18/18 [02:14<00:00,  7.48s/it]\n",
      "                 Class     Images  Instances      Box(P          R      mAP50  mAP50-95): 100%|██████████| 3/3 [00:15<00:00,  5.29s/it]"
     ]
    },
    {
     "name": "stdout",
     "output_type": "stream",
     "text": [
      "                   all         78         78      0.973      0.974      0.984      0.821\n"
     ]
    },
    {
     "name": "stderr",
     "output_type": "stream",
     "text": [
      "\n"
     ]
    },
    {
     "name": "stdout",
     "output_type": "stream",
     "text": [
      "\n",
      "      Epoch    GPU_mem   box_loss   cls_loss   dfl_loss  Instances       Size\n"
     ]
    },
    {
     "name": "stderr",
     "output_type": "stream",
     "text": [
      "     60/100         0G     0.6474      0.497     0.8951          0        640: 100%|██████████| 18/18 [02:14<00:00,  7.49s/it]\n",
      "                 Class     Images  Instances      Box(P          R      mAP50  mAP50-95): 100%|██████████| 3/3 [00:15<00:00,  5.33s/it]"
     ]
    },
    {
     "name": "stdout",
     "output_type": "stream",
     "text": [
      "                   all         78         78      0.971      0.974      0.983       0.83\n"
     ]
    },
    {
     "name": "stderr",
     "output_type": "stream",
     "text": [
      "\n"
     ]
    },
    {
     "name": "stdout",
     "output_type": "stream",
     "text": [
      "\n",
      "      Epoch    GPU_mem   box_loss   cls_loss   dfl_loss  Instances       Size\n"
     ]
    },
    {
     "name": "stderr",
     "output_type": "stream",
     "text": [
      "     61/100         0G     0.6955     0.4836     0.9889          2        640: 100%|██████████| 18/18 [02:14<00:00,  7.48s/it]\n",
      "                 Class     Images  Instances      Box(P          R      mAP50  mAP50-95): 100%|██████████| 3/3 [00:15<00:00,  5.32s/it]"
     ]
    },
    {
     "name": "stdout",
     "output_type": "stream",
     "text": [
      "                   all         78         78      0.974      0.973      0.983      0.825\n"
     ]
    },
    {
     "name": "stderr",
     "output_type": "stream",
     "text": [
      "\n"
     ]
    },
    {
     "name": "stdout",
     "output_type": "stream",
     "text": [
      "\n",
      "      Epoch    GPU_mem   box_loss   cls_loss   dfl_loss  Instances       Size\n"
     ]
    },
    {
     "name": "stderr",
     "output_type": "stream",
     "text": [
      "     62/100         0G     0.6519     0.4709     0.9216          2        640: 100%|██████████| 18/18 [02:14<00:00,  7.45s/it]\n",
      "                 Class     Images  Instances      Box(P          R      mAP50  mAP50-95): 100%|██████████| 3/3 [00:16<00:00,  5.34s/it]"
     ]
    },
    {
     "name": "stdout",
     "output_type": "stream",
     "text": [
      "                   all         78         78      0.974      0.974      0.982      0.832\n"
     ]
    },
    {
     "name": "stderr",
     "output_type": "stream",
     "text": [
      "\n"
     ]
    },
    {
     "name": "stdout",
     "output_type": "stream",
     "text": [
      "\n",
      "      Epoch    GPU_mem   box_loss   cls_loss   dfl_loss  Instances       Size\n"
     ]
    },
    {
     "name": "stderr",
     "output_type": "stream",
     "text": [
      "     63/100         0G     0.6768     0.5572     0.9639          1        640: 100%|██████████| 18/18 [02:15<00:00,  7.51s/it]\n",
      "                 Class     Images  Instances      Box(P          R      mAP50  mAP50-95): 100%|██████████| 3/3 [00:15<00:00,  5.26s/it]"
     ]
    },
    {
     "name": "stdout",
     "output_type": "stream",
     "text": [
      "                   all         78         78      0.983      0.974      0.984       0.84\n"
     ]
    },
    {
     "name": "stderr",
     "output_type": "stream",
     "text": [
      "\n"
     ]
    },
    {
     "name": "stdout",
     "output_type": "stream",
     "text": [
      "\n",
      "      Epoch    GPU_mem   box_loss   cls_loss   dfl_loss  Instances       Size\n"
     ]
    },
    {
     "name": "stderr",
     "output_type": "stream",
     "text": [
      "     64/100         0G     0.6666     0.4551       0.94          2        640: 100%|██████████| 18/18 [02:16<00:00,  7.59s/it]\n",
      "                 Class     Images  Instances      Box(P          R      mAP50  mAP50-95): 100%|██████████| 3/3 [00:17<00:00,  5.77s/it]"
     ]
    },
    {
     "name": "stdout",
     "output_type": "stream",
     "text": [
      "                   all         78         78      0.985      0.974      0.985      0.841\n"
     ]
    },
    {
     "name": "stderr",
     "output_type": "stream",
     "text": [
      "\n"
     ]
    },
    {
     "name": "stdout",
     "output_type": "stream",
     "text": [
      "\n",
      "      Epoch    GPU_mem   box_loss   cls_loss   dfl_loss  Instances       Size\n"
     ]
    },
    {
     "name": "stderr",
     "output_type": "stream",
     "text": [
      "     65/100         0G     0.6031     0.5675       0.89          0        640: 100%|██████████| 18/18 [02:14<00:00,  7.47s/it]\n",
      "                 Class     Images  Instances      Box(P          R      mAP50  mAP50-95): 100%|██████████| 3/3 [00:16<00:00,  5.46s/it]"
     ]
    },
    {
     "name": "stdout",
     "output_type": "stream",
     "text": [
      "                   all         78         78      0.987      0.973      0.985      0.868\n"
     ]
    },
    {
     "name": "stderr",
     "output_type": "stream",
     "text": [
      "\n"
     ]
    },
    {
     "name": "stdout",
     "output_type": "stream",
     "text": [
      "\n",
      "      Epoch    GPU_mem   box_loss   cls_loss   dfl_loss  Instances       Size\n"
     ]
    },
    {
     "name": "stderr",
     "output_type": "stream",
     "text": [
      "     66/100         0G     0.6745     0.4608     0.9614          2        640: 100%|██████████| 18/18 [02:15<00:00,  7.50s/it]\n",
      "                 Class     Images  Instances      Box(P          R      mAP50  mAP50-95): 100%|██████████| 3/3 [00:16<00:00,  5.36s/it]"
     ]
    },
    {
     "name": "stdout",
     "output_type": "stream",
     "text": [
      "                   all         78         78      0.987      0.962      0.986      0.854\n"
     ]
    },
    {
     "name": "stderr",
     "output_type": "stream",
     "text": [
      "\n"
     ]
    },
    {
     "name": "stdout",
     "output_type": "stream",
     "text": [
      "\n",
      "      Epoch    GPU_mem   box_loss   cls_loss   dfl_loss  Instances       Size\n"
     ]
    },
    {
     "name": "stderr",
     "output_type": "stream",
     "text": [
      "     67/100         0G     0.6418     0.4468     0.9472          3        640: 100%|██████████| 18/18 [02:15<00:00,  7.51s/it]\n",
      "                 Class     Images  Instances      Box(P          R      mAP50  mAP50-95): 100%|██████████| 3/3 [00:15<00:00,  5.29s/it]"
     ]
    },
    {
     "name": "stdout",
     "output_type": "stream",
     "text": [
      "                   all         78         78      0.972      0.987      0.985       0.84\n"
     ]
    },
    {
     "name": "stderr",
     "output_type": "stream",
     "text": [
      "\n"
     ]
    },
    {
     "name": "stdout",
     "output_type": "stream",
     "text": [
      "\n",
      "      Epoch    GPU_mem   box_loss   cls_loss   dfl_loss  Instances       Size\n"
     ]
    },
    {
     "name": "stderr",
     "output_type": "stream",
     "text": [
      "     68/100         0G     0.6415     0.4558     0.9496          1        640: 100%|██████████| 18/18 [02:15<00:00,  7.52s/it]\n",
      "                 Class     Images  Instances      Box(P          R      mAP50  mAP50-95): 100%|██████████| 3/3 [00:16<00:00,  5.37s/it]"
     ]
    },
    {
     "name": "stdout",
     "output_type": "stream",
     "text": [
      "                   all         78         78      0.971      0.987      0.983      0.855\n"
     ]
    },
    {
     "name": "stderr",
     "output_type": "stream",
     "text": [
      "\n"
     ]
    },
    {
     "name": "stdout",
     "output_type": "stream",
     "text": [
      "\n",
      "      Epoch    GPU_mem   box_loss   cls_loss   dfl_loss  Instances       Size\n"
     ]
    },
    {
     "name": "stderr",
     "output_type": "stream",
     "text": [
      "     69/100         0G     0.6291     0.4679     0.8947          0        640: 100%|██████████| 18/18 [02:14<00:00,  7.48s/it]\n",
      "                 Class     Images  Instances      Box(P          R      mAP50  mAP50-95): 100%|██████████| 3/3 [00:15<00:00,  5.29s/it]"
     ]
    },
    {
     "name": "stdout",
     "output_type": "stream",
     "text": [
      "                   all         78         78       0.97      0.987      0.981      0.842\n"
     ]
    },
    {
     "name": "stderr",
     "output_type": "stream",
     "text": [
      "\n"
     ]
    },
    {
     "name": "stdout",
     "output_type": "stream",
     "text": [
      "\n",
      "      Epoch    GPU_mem   box_loss   cls_loss   dfl_loss  Instances       Size\n"
     ]
    },
    {
     "name": "stderr",
     "output_type": "stream",
     "text": [
      "     70/100         0G      0.646     0.4596      0.939          3        640: 100%|██████████| 18/18 [02:14<00:00,  7.46s/it]\n",
      "                 Class     Images  Instances      Box(P          R      mAP50  mAP50-95): 100%|██████████| 3/3 [00:15<00:00,  5.29s/it]"
     ]
    },
    {
     "name": "stdout",
     "output_type": "stream",
     "text": [
      "                   all         78         78      0.975      0.982      0.984      0.844\n"
     ]
    },
    {
     "name": "stderr",
     "output_type": "stream",
     "text": [
      "\n"
     ]
    },
    {
     "name": "stdout",
     "output_type": "stream",
     "text": [
      "\n",
      "      Epoch    GPU_mem   box_loss   cls_loss   dfl_loss  Instances       Size\n"
     ]
    },
    {
     "name": "stderr",
     "output_type": "stream",
     "text": [
      "     71/100         0G     0.6425     0.4378     0.9491          2        640: 100%|██████████| 18/18 [02:14<00:00,  7.45s/it]\n",
      "                 Class     Images  Instances      Box(P          R      mAP50  mAP50-95): 100%|██████████| 3/3 [00:16<00:00,  5.36s/it]"
     ]
    },
    {
     "name": "stdout",
     "output_type": "stream",
     "text": [
      "                   all         78         78      0.987      0.982      0.985      0.831\n"
     ]
    },
    {
     "name": "stderr",
     "output_type": "stream",
     "text": [
      "\n"
     ]
    },
    {
     "name": "stdout",
     "output_type": "stream",
     "text": [
      "\n",
      "      Epoch    GPU_mem   box_loss   cls_loss   dfl_loss  Instances       Size\n"
     ]
    },
    {
     "name": "stderr",
     "output_type": "stream",
     "text": [
      "     72/100         0G      0.564     0.4087     0.8808          0        640: 100%|██████████| 18/18 [02:14<00:00,  7.47s/it]\n",
      "                 Class     Images  Instances      Box(P          R      mAP50  mAP50-95): 100%|██████████| 3/3 [00:15<00:00,  5.29s/it]"
     ]
    },
    {
     "name": "stdout",
     "output_type": "stream",
     "text": [
      "                   all         78         78      0.972      0.974      0.982      0.857\n"
     ]
    },
    {
     "name": "stderr",
     "output_type": "stream",
     "text": [
      "\n"
     ]
    },
    {
     "name": "stdout",
     "output_type": "stream",
     "text": [
      "\n",
      "      Epoch    GPU_mem   box_loss   cls_loss   dfl_loss  Instances       Size\n"
     ]
    },
    {
     "name": "stderr",
     "output_type": "stream",
     "text": [
      "     73/100         0G     0.5914     0.4453     0.9225          1        640: 100%|██████████| 18/18 [02:14<00:00,  7.50s/it]\n",
      "                 Class     Images  Instances      Box(P          R      mAP50  mAP50-95): 100%|██████████| 3/3 [00:16<00:00,  5.36s/it]"
     ]
    },
    {
     "name": "stdout",
     "output_type": "stream",
     "text": [
      "                   all         78         78      0.987      0.972      0.985      0.861\n"
     ]
    },
    {
     "name": "stderr",
     "output_type": "stream",
     "text": [
      "\n"
     ]
    },
    {
     "name": "stdout",
     "output_type": "stream",
     "text": [
      "\n",
      "      Epoch    GPU_mem   box_loss   cls_loss   dfl_loss  Instances       Size\n"
     ]
    },
    {
     "name": "stderr",
     "output_type": "stream",
     "text": [
      "     74/100         0G     0.5885     0.4244     0.9119          1        640: 100%|██████████| 18/18 [02:15<00:00,  7.53s/it]\n",
      "                 Class     Images  Instances      Box(P          R      mAP50  mAP50-95): 100%|██████████| 3/3 [00:16<00:00,  5.44s/it]"
     ]
    },
    {
     "name": "stdout",
     "output_type": "stream",
     "text": [
      "                   all         78         78      0.975      0.986      0.984      0.857\n"
     ]
    },
    {
     "name": "stderr",
     "output_type": "stream",
     "text": [
      "\n"
     ]
    },
    {
     "name": "stdout",
     "output_type": "stream",
     "text": [
      "\n",
      "      Epoch    GPU_mem   box_loss   cls_loss   dfl_loss  Instances       Size\n"
     ]
    },
    {
     "name": "stderr",
     "output_type": "stream",
     "text": [
      "     75/100         0G     0.5941     0.4009     0.9268          2        640: 100%|██████████| 18/18 [02:14<00:00,  7.45s/it]\n",
      "                 Class     Images  Instances      Box(P          R      mAP50  mAP50-95): 100%|██████████| 3/3 [00:15<00:00,  5.26s/it]"
     ]
    },
    {
     "name": "stdout",
     "output_type": "stream",
     "text": [
      "                   all         78         78      0.986      0.987      0.984      0.854\n"
     ]
    },
    {
     "name": "stderr",
     "output_type": "stream",
     "text": [
      "\n"
     ]
    },
    {
     "name": "stdout",
     "output_type": "stream",
     "text": [
      "\n",
      "      Epoch    GPU_mem   box_loss   cls_loss   dfl_loss  Instances       Size\n"
     ]
    },
    {
     "name": "stderr",
     "output_type": "stream",
     "text": [
      "     76/100         0G      0.595     0.4309     0.9253          2        640: 100%|██████████| 18/18 [02:14<00:00,  7.45s/it]\n",
      "                 Class     Images  Instances      Box(P          R      mAP50  mAP50-95): 100%|██████████| 3/3 [00:15<00:00,  5.31s/it]"
     ]
    },
    {
     "name": "stdout",
     "output_type": "stream",
     "text": [
      "                   all         78         78      0.987      0.985      0.985      0.853\n"
     ]
    },
    {
     "name": "stderr",
     "output_type": "stream",
     "text": [
      "\n"
     ]
    },
    {
     "name": "stdout",
     "output_type": "stream",
     "text": [
      "\n",
      "      Epoch    GPU_mem   box_loss   cls_loss   dfl_loss  Instances       Size\n"
     ]
    },
    {
     "name": "stderr",
     "output_type": "stream",
     "text": [
      "     77/100         0G     0.5767      0.401     0.9141          1        640: 100%|██████████| 18/18 [02:17<00:00,  7.64s/it]\n",
      "                 Class     Images  Instances      Box(P          R      mAP50  mAP50-95): 100%|██████████| 3/3 [00:15<00:00,  5.31s/it]"
     ]
    },
    {
     "name": "stdout",
     "output_type": "stream",
     "text": [
      "                   all         78         78      0.987      0.984      0.985      0.859\n"
     ]
    },
    {
     "name": "stderr",
     "output_type": "stream",
     "text": [
      "\n"
     ]
    },
    {
     "name": "stdout",
     "output_type": "stream",
     "text": [
      "\n",
      "      Epoch    GPU_mem   box_loss   cls_loss   dfl_loss  Instances       Size\n"
     ]
    },
    {
     "name": "stderr",
     "output_type": "stream",
     "text": [
      "     78/100         0G     0.6192     0.4052     0.9293          2        640: 100%|██████████| 18/18 [02:15<00:00,  7.51s/it]\n",
      "                 Class     Images  Instances      Box(P          R      mAP50  mAP50-95): 100%|██████████| 3/3 [00:16<00:00,  5.34s/it]"
     ]
    },
    {
     "name": "stdout",
     "output_type": "stream",
     "text": [
      "                   all         78         78      0.973      0.987      0.985      0.866\n"
     ]
    },
    {
     "name": "stderr",
     "output_type": "stream",
     "text": [
      "\n"
     ]
    },
    {
     "name": "stdout",
     "output_type": "stream",
     "text": [
      "\n",
      "      Epoch    GPU_mem   box_loss   cls_loss   dfl_loss  Instances       Size\n"
     ]
    },
    {
     "name": "stderr",
     "output_type": "stream",
     "text": [
      "     79/100         0G     0.6334     0.4137     0.9295          1        640: 100%|██████████| 18/18 [02:15<00:00,  7.50s/it]\n",
      "                 Class     Images  Instances      Box(P          R      mAP50  mAP50-95): 100%|██████████| 3/3 [00:15<00:00,  5.27s/it]"
     ]
    },
    {
     "name": "stdout",
     "output_type": "stream",
     "text": [
      "                   all         78         78      0.975      0.985      0.985      0.854\n"
     ]
    },
    {
     "name": "stderr",
     "output_type": "stream",
     "text": [
      "\n"
     ]
    },
    {
     "name": "stdout",
     "output_type": "stream",
     "text": [
      "\n",
      "      Epoch    GPU_mem   box_loss   cls_loss   dfl_loss  Instances       Size\n"
     ]
    },
    {
     "name": "stderr",
     "output_type": "stream",
     "text": [
      "     80/100         0G     0.5835     0.4148     0.9417          4        640: 100%|██████████| 18/18 [02:15<00:00,  7.53s/it]\n",
      "                 Class     Images  Instances      Box(P          R      mAP50  mAP50-95): 100%|██████████| 3/3 [00:15<00:00,  5.31s/it]"
     ]
    },
    {
     "name": "stdout",
     "output_type": "stream",
     "text": [
      "                   all         78         78      0.987      0.974      0.986      0.852\n"
     ]
    },
    {
     "name": "stderr",
     "output_type": "stream",
     "text": [
      "\n"
     ]
    },
    {
     "name": "stdout",
     "output_type": "stream",
     "text": [
      "\n",
      "      Epoch    GPU_mem   box_loss   cls_loss   dfl_loss  Instances       Size\n"
     ]
    },
    {
     "name": "stderr",
     "output_type": "stream",
     "text": [
      "     81/100         0G     0.5635     0.3941     0.9183          1        640: 100%|██████████| 18/18 [02:15<00:00,  7.52s/it]\n",
      "                 Class     Images  Instances      Box(P          R      mAP50  mAP50-95): 100%|██████████| 3/3 [00:16<00:00,  5.45s/it]"
     ]
    },
    {
     "name": "stdout",
     "output_type": "stream",
     "text": [
      "                   all         78         78      0.987      0.986      0.986      0.859\n"
     ]
    },
    {
     "name": "stderr",
     "output_type": "stream",
     "text": [
      "\n"
     ]
    },
    {
     "name": "stdout",
     "output_type": "stream",
     "text": [
      "\n",
      "      Epoch    GPU_mem   box_loss   cls_loss   dfl_loss  Instances       Size\n"
     ]
    },
    {
     "name": "stderr",
     "output_type": "stream",
     "text": [
      "     82/100         0G     0.6009     0.4112     0.9223          1        640: 100%|██████████| 18/18 [02:35<00:00,  8.61s/it]\n",
      "                 Class     Images  Instances      Box(P          R      mAP50  mAP50-95): 100%|██████████| 3/3 [00:21<00:00,  7.27s/it]"
     ]
    },
    {
     "name": "stdout",
     "output_type": "stream",
     "text": [
      "                   all         78         78      0.974      0.974      0.985      0.853\n"
     ]
    },
    {
     "name": "stderr",
     "output_type": "stream",
     "text": [
      "\n"
     ]
    },
    {
     "name": "stdout",
     "output_type": "stream",
     "text": [
      "\n",
      "      Epoch    GPU_mem   box_loss   cls_loss   dfl_loss  Instances       Size\n"
     ]
    },
    {
     "name": "stderr",
     "output_type": "stream",
     "text": [
      "     83/100         0G     0.5839     0.3952     0.9122          2        640: 100%|██████████| 18/18 [02:27<00:00,  8.19s/it]\n",
      "                 Class     Images  Instances      Box(P          R      mAP50  mAP50-95): 100%|██████████| 3/3 [00:16<00:00,  5.63s/it]"
     ]
    },
    {
     "name": "stdout",
     "output_type": "stream",
     "text": [
      "                   all         78         78      0.973      0.974      0.984       0.85\n"
     ]
    },
    {
     "name": "stderr",
     "output_type": "stream",
     "text": [
      "\n"
     ]
    },
    {
     "name": "stdout",
     "output_type": "stream",
     "text": [
      "\n",
      "      Epoch    GPU_mem   box_loss   cls_loss   dfl_loss  Instances       Size\n"
     ]
    },
    {
     "name": "stderr",
     "output_type": "stream",
     "text": [
      "     84/100         0G     0.6204     0.4021      0.922          2        640: 100%|██████████| 18/18 [02:29<00:00,  8.31s/it]\n",
      "                 Class     Images  Instances      Box(P          R      mAP50  mAP50-95): 100%|██████████| 3/3 [00:16<00:00,  5.66s/it]"
     ]
    },
    {
     "name": "stdout",
     "output_type": "stream",
     "text": [
      "                   all         78         78      0.983      0.974      0.985      0.839\n"
     ]
    },
    {
     "name": "stderr",
     "output_type": "stream",
     "text": [
      "\n"
     ]
    },
    {
     "name": "stdout",
     "output_type": "stream",
     "text": [
      "\n",
      "      Epoch    GPU_mem   box_loss   cls_loss   dfl_loss  Instances       Size\n"
     ]
    },
    {
     "name": "stderr",
     "output_type": "stream",
     "text": [
      "     85/100         0G      0.549      0.412     0.8732          0        640: 100%|██████████| 18/18 [02:28<00:00,  8.23s/it]\n",
      "                 Class     Images  Instances      Box(P          R      mAP50  mAP50-95): 100%|██████████| 3/3 [00:16<00:00,  5.65s/it]"
     ]
    },
    {
     "name": "stdout",
     "output_type": "stream",
     "text": [
      "                   all         78         78      0.986      0.974      0.986      0.856\n"
     ]
    },
    {
     "name": "stderr",
     "output_type": "stream",
     "text": [
      "\n"
     ]
    },
    {
     "name": "stdout",
     "output_type": "stream",
     "text": [
      "\n",
      "      Epoch    GPU_mem   box_loss   cls_loss   dfl_loss  Instances       Size\n"
     ]
    },
    {
     "name": "stderr",
     "output_type": "stream",
     "text": [
      "     86/100         0G     0.5106     0.4316     0.8632          0        640: 100%|██████████| 18/18 [02:26<00:00,  8.12s/it]\n",
      "                 Class     Images  Instances      Box(P          R      mAP50  mAP50-95): 100%|██████████| 3/3 [00:16<00:00,  5.66s/it]"
     ]
    },
    {
     "name": "stdout",
     "output_type": "stream",
     "text": [
      "                   all         78         78      0.986      0.974      0.985      0.856\n"
     ]
    },
    {
     "name": "stderr",
     "output_type": "stream",
     "text": [
      "\n"
     ]
    },
    {
     "name": "stdout",
     "output_type": "stream",
     "text": [
      "\n",
      "      Epoch    GPU_mem   box_loss   cls_loss   dfl_loss  Instances       Size\n"
     ]
    },
    {
     "name": "stderr",
     "output_type": "stream",
     "text": [
      "     87/100         0G     0.5771     0.3962     0.9188          1        640: 100%|██████████| 18/18 [02:27<00:00,  8.20s/it]\n",
      "                 Class     Images  Instances      Box(P          R      mAP50  mAP50-95): 100%|██████████| 3/3 [00:19<00:00,  6.41s/it]"
     ]
    },
    {
     "name": "stdout",
     "output_type": "stream",
     "text": [
      "                   all         78         78      0.987      0.974      0.984      0.841\n"
     ]
    },
    {
     "name": "stderr",
     "output_type": "stream",
     "text": [
      "\n"
     ]
    },
    {
     "name": "stdout",
     "output_type": "stream",
     "text": [
      "\n",
      "      Epoch    GPU_mem   box_loss   cls_loss   dfl_loss  Instances       Size\n"
     ]
    },
    {
     "name": "stderr",
     "output_type": "stream",
     "text": [
      "     88/100         0G     0.5582     0.4038     0.9268          2        640: 100%|██████████| 18/18 [02:27<00:00,  8.21s/it]\n",
      "                 Class     Images  Instances      Box(P          R      mAP50  mAP50-95): 100%|██████████| 3/3 [00:19<00:00,  6.62s/it]"
     ]
    },
    {
     "name": "stdout",
     "output_type": "stream",
     "text": [
      "                   all         78         78      0.987      0.974      0.985      0.852\n"
     ]
    },
    {
     "name": "stderr",
     "output_type": "stream",
     "text": [
      "\n"
     ]
    },
    {
     "name": "stdout",
     "output_type": "stream",
     "text": [
      "\n",
      "      Epoch    GPU_mem   box_loss   cls_loss   dfl_loss  Instances       Size\n"
     ]
    },
    {
     "name": "stderr",
     "output_type": "stream",
     "text": [
      "     89/100         0G     0.5406     0.3881     0.9115          1        640: 100%|██████████| 18/18 [02:27<00:00,  8.22s/it]\n",
      "                 Class     Images  Instances      Box(P          R      mAP50  mAP50-95): 100%|██████████| 3/3 [00:17<00:00,  5.95s/it]"
     ]
    },
    {
     "name": "stdout",
     "output_type": "stream",
     "text": [
      "                   all         78         78      0.987      0.974      0.985      0.858\n"
     ]
    },
    {
     "name": "stderr",
     "output_type": "stream",
     "text": [
      "\n"
     ]
    },
    {
     "name": "stdout",
     "output_type": "stream",
     "text": [
      "\n",
      "      Epoch    GPU_mem   box_loss   cls_loss   dfl_loss  Instances       Size\n"
     ]
    },
    {
     "name": "stderr",
     "output_type": "stream",
     "text": [
      "     90/100         0G     0.5435     0.3664     0.8956          1        640: 100%|██████████| 18/18 [02:23<00:00,  7.98s/it]\n",
      "                 Class     Images  Instances      Box(P          R      mAP50  mAP50-95): 100%|██████████| 3/3 [00:16<00:00,  5.55s/it]"
     ]
    },
    {
     "name": "stdout",
     "output_type": "stream",
     "text": [
      "                   all         78         78      0.986      0.974      0.986      0.855\n"
     ]
    },
    {
     "name": "stderr",
     "output_type": "stream",
     "text": [
      "\n"
     ]
    },
    {
     "name": "stdout",
     "output_type": "stream",
     "text": [
      "Closing dataloader mosaic\n",
      "\u001b[34m\u001b[1malbumentations: \u001b[0mBlur(p=0.01, blur_limit=(3, 7)), MedianBlur(p=0.01, blur_limit=(3, 7)), ToGray(p=0.01), CLAHE(p=0.01, clip_limit=(1, 4.0), tile_grid_size=(8, 8))\n",
      "\n",
      "      Epoch    GPU_mem   box_loss   cls_loss   dfl_loss  Instances       Size\n"
     ]
    },
    {
     "name": "stderr",
     "output_type": "stream",
     "text": [
      "     91/100         0G     0.4695     0.3496     0.8459          1        640: 100%|██████████| 18/18 [02:25<00:00,  8.06s/it]\n",
      "                 Class     Images  Instances      Box(P          R      mAP50  mAP50-95): 100%|██████████| 3/3 [00:17<00:00,  5.95s/it]"
     ]
    },
    {
     "name": "stdout",
     "output_type": "stream",
     "text": [
      "                   all         78         78      0.986      0.974      0.986       0.86\n"
     ]
    },
    {
     "name": "stderr",
     "output_type": "stream",
     "text": [
      "\n"
     ]
    },
    {
     "name": "stdout",
     "output_type": "stream",
     "text": [
      "\n",
      "      Epoch    GPU_mem   box_loss   cls_loss   dfl_loss  Instances       Size\n"
     ]
    },
    {
     "name": "stderr",
     "output_type": "stream",
     "text": [
      "     92/100         0G     0.5098     0.3356     0.8792          1        640: 100%|██████████| 18/18 [02:32<00:00,  8.45s/it]\n",
      "                 Class     Images  Instances      Box(P          R      mAP50  mAP50-95): 100%|██████████| 3/3 [00:17<00:00,  5.91s/it]"
     ]
    },
    {
     "name": "stdout",
     "output_type": "stream",
     "text": [
      "                   all         78         78      0.985      0.974      0.985      0.867\n"
     ]
    },
    {
     "name": "stderr",
     "output_type": "stream",
     "text": [
      "\n"
     ]
    },
    {
     "name": "stdout",
     "output_type": "stream",
     "text": [
      "\n",
      "      Epoch    GPU_mem   box_loss   cls_loss   dfl_loss  Instances       Size\n"
     ]
    },
    {
     "name": "stderr",
     "output_type": "stream",
     "text": [
      "     93/100         0G     0.4877     0.3501     0.8695          1        640: 100%|██████████| 18/18 [02:29<00:00,  8.29s/it]\n",
      "                 Class     Images  Instances      Box(P          R      mAP50  mAP50-95): 100%|██████████| 3/3 [00:16<00:00,  5.62s/it]"
     ]
    },
    {
     "name": "stdout",
     "output_type": "stream",
     "text": [
      "                   all         78         78      0.984      0.974      0.985      0.866\n"
     ]
    },
    {
     "name": "stderr",
     "output_type": "stream",
     "text": [
      "\n"
     ]
    },
    {
     "name": "stdout",
     "output_type": "stream",
     "text": [
      "\n",
      "      Epoch    GPU_mem   box_loss   cls_loss   dfl_loss  Instances       Size\n"
     ]
    },
    {
     "name": "stderr",
     "output_type": "stream",
     "text": [
      "     94/100         0G     0.5078     0.3463      0.867          1        640: 100%|██████████| 18/18 [02:27<00:00,  8.18s/it]\n",
      "                 Class     Images  Instances      Box(P          R      mAP50  mAP50-95): 100%|██████████| 3/3 [00:17<00:00,  5.74s/it]"
     ]
    },
    {
     "name": "stdout",
     "output_type": "stream",
     "text": [
      "                   all         78         78      0.984      0.974      0.985      0.878\n"
     ]
    },
    {
     "name": "stderr",
     "output_type": "stream",
     "text": [
      "\n"
     ]
    },
    {
     "name": "stdout",
     "output_type": "stream",
     "text": [
      "\n",
      "      Epoch    GPU_mem   box_loss   cls_loss   dfl_loss  Instances       Size\n"
     ]
    },
    {
     "name": "stderr",
     "output_type": "stream",
     "text": [
      "     95/100         0G     0.4757     0.3227     0.8467          1        640: 100%|██████████| 18/18 [02:25<00:00,  8.08s/it]\n",
      "                 Class     Images  Instances      Box(P          R      mAP50  mAP50-95): 100%|██████████| 3/3 [00:18<00:00,  6.25s/it]"
     ]
    },
    {
     "name": "stdout",
     "output_type": "stream",
     "text": [
      "                   all         78         78      0.984      0.974      0.985      0.871\n"
     ]
    },
    {
     "name": "stderr",
     "output_type": "stream",
     "text": [
      "\n"
     ]
    },
    {
     "name": "stdout",
     "output_type": "stream",
     "text": [
      "\n",
      "      Epoch    GPU_mem   box_loss   cls_loss   dfl_loss  Instances       Size\n"
     ]
    },
    {
     "name": "stderr",
     "output_type": "stream",
     "text": [
      "     96/100         0G     0.4733      0.343     0.8699          1        640: 100%|██████████| 18/18 [02:32<00:00,  8.46s/it]\n",
      "                 Class     Images  Instances      Box(P          R      mAP50  mAP50-95): 100%|██████████| 3/3 [00:19<00:00,  6.45s/it]"
     ]
    },
    {
     "name": "stdout",
     "output_type": "stream",
     "text": [
      "                   all         78         78      0.984      0.974      0.984      0.864\n"
     ]
    },
    {
     "name": "stderr",
     "output_type": "stream",
     "text": [
      "\n"
     ]
    },
    {
     "name": "stdout",
     "output_type": "stream",
     "text": [
      "\n",
      "      Epoch    GPU_mem   box_loss   cls_loss   dfl_loss  Instances       Size\n"
     ]
    },
    {
     "name": "stderr",
     "output_type": "stream",
     "text": [
      "     97/100         0G      0.439     0.3127     0.8499          1        640: 100%|██████████| 18/18 [02:37<00:00,  8.77s/it]\n",
      "                 Class     Images  Instances      Box(P          R      mAP50  mAP50-95): 100%|██████████| 3/3 [00:21<00:00,  7.11s/it]"
     ]
    },
    {
     "name": "stdout",
     "output_type": "stream",
     "text": [
      "                   all         78         78      0.983      0.974      0.984      0.864\n"
     ]
    },
    {
     "name": "stderr",
     "output_type": "stream",
     "text": [
      "\n"
     ]
    },
    {
     "name": "stdout",
     "output_type": "stream",
     "text": [
      "\n",
      "      Epoch    GPU_mem   box_loss   cls_loss   dfl_loss  Instances       Size\n"
     ]
    },
    {
     "name": "stderr",
     "output_type": "stream",
     "text": [
      "     98/100         0G     0.4382     0.3103     0.8549          1        640: 100%|██████████| 18/18 [02:30<00:00,  8.39s/it]\n",
      "                 Class     Images  Instances      Box(P          R      mAP50  mAP50-95): 100%|██████████| 3/3 [00:19<00:00,  6.50s/it]"
     ]
    },
    {
     "name": "stdout",
     "output_type": "stream",
     "text": [
      "                   all         78         78      0.984      0.974      0.985      0.872\n"
     ]
    },
    {
     "name": "stderr",
     "output_type": "stream",
     "text": [
      "\n"
     ]
    },
    {
     "name": "stdout",
     "output_type": "stream",
     "text": [
      "\n",
      "      Epoch    GPU_mem   box_loss   cls_loss   dfl_loss  Instances       Size\n"
     ]
    },
    {
     "name": "stderr",
     "output_type": "stream",
     "text": [
      "     99/100         0G     0.4413     0.3034     0.8544          1        640: 100%|██████████| 18/18 [02:35<00:00,  8.66s/it]\n",
      "                 Class     Images  Instances      Box(P          R      mAP50  mAP50-95): 100%|██████████| 3/3 [00:19<00:00,  6.37s/it]"
     ]
    },
    {
     "name": "stdout",
     "output_type": "stream",
     "text": [
      "                   all         78         78      0.985      0.974      0.986      0.874\n"
     ]
    },
    {
     "name": "stderr",
     "output_type": "stream",
     "text": [
      "\n"
     ]
    },
    {
     "name": "stdout",
     "output_type": "stream",
     "text": [
      "\n",
      "      Epoch    GPU_mem   box_loss   cls_loss   dfl_loss  Instances       Size\n"
     ]
    },
    {
     "name": "stderr",
     "output_type": "stream",
     "text": [
      "    100/100         0G     0.4694     0.3138     0.8463          1        640: 100%|██████████| 18/18 [02:45<00:00,  9.18s/it]\n",
      "                 Class     Images  Instances      Box(P          R      mAP50  mAP50-95): 100%|██████████| 3/3 [00:19<00:00,  6.47s/it]"
     ]
    },
    {
     "name": "stdout",
     "output_type": "stream",
     "text": [
      "                   all         78         78      0.985      0.974      0.986      0.873\n"
     ]
    },
    {
     "name": "stderr",
     "output_type": "stream",
     "text": [
      "\n"
     ]
    },
    {
     "name": "stdout",
     "output_type": "stream",
     "text": [
      "\n",
      "100 epochs completed in 4.517 hours.\n",
      "Optimizer stripped from runs\\detect\\train6\\weights\\last.pt, 6.3MB\n",
      "Optimizer stripped from runs\\detect\\train6\\weights\\best.pt, 6.3MB\n",
      "\n",
      "Validating runs\\detect\\train6\\weights\\best.pt...\n",
      "Ultralytics YOLOv8.2.100  Python-3.12.4 torch-2.2.2+cpu CPU (Intel Core(TM) i5-8265U 1.60GHz)\n",
      "Model summary (fused): 168 layers, 3,005,843 parameters, 0 gradients, 8.1 GFLOPs\n"
     ]
    },
    {
     "name": "stderr",
     "output_type": "stream",
     "text": [
      "                 Class     Images  Instances      Box(P          R      mAP50  mAP50-95): 100%|██████████| 3/3 [00:19<00:00,  6.39s/it]\n"
     ]
    },
    {
     "name": "stdout",
     "output_type": "stream",
     "text": [
      "                   all         78         78      0.984      0.974      0.985      0.878\n",
      "Speed: 3.2ms preprocess, 222.9ms inference, 0.0ms loss, 0.8ms postprocess per image\n",
      "Results saved to \u001b[1mruns\\detect\\train6\u001b[0m\n"
     ]
    }
   ],
   "source": [
    "results = model.train(data='data.yaml', epochs=100, imgsz=640)"
   ]
  },
  {
   "cell_type": "code",
   "execution_count": 15,
   "metadata": {},
   "outputs": [
    {
     "name": "stdout",
     "output_type": "stream",
     "text": [
      "Ultralytics YOLOv8.2.100  Python-3.12.4 torch-2.2.2+cpu CPU (Intel Core(TM) i5-8265U 1.60GHz)\n",
      "Model summary (fused): 168 layers, 3,005,843 parameters, 0 gradients, 8.1 GFLOPs\n",
      "\n",
      "\u001b[34m\u001b[1mPyTorch:\u001b[0m starting from 'runs\\detect\\train6\\weights\\best.pt' with input shape (1, 3, 640, 640) BCHW and output shape(s) (1, 5, 8400) (6.0 MB)\n",
      "\n",
      "\u001b[34m\u001b[1mTorchScript:\u001b[0m starting export with torch 2.2.2+cpu...\n",
      "\u001b[34m\u001b[1mTorchScript:\u001b[0m export success  3.1s, saved as 'runs\\detect\\train6\\weights\\best.torchscript' (11.9 MB)\n",
      "\n",
      "Export complete (3.7s)\n",
      "Results saved to \u001b[1mC:\\Users\\havva\\OneDrive\\Desktop\\plaka_tanima\\runs\\detect\\train6\\weights\u001b[0m\n",
      "Predict:         yolo predict task=detect model=runs\\detect\\train6\\weights\\best.torchscript imgsz=640  \n",
      "Validate:        yolo val task=detect model=runs\\detect\\train6\\weights\\best.torchscript imgsz=640 data=data.yaml  \n",
      "Visualize:       https://netron.app\n"
     ]
    },
    {
     "data": {
      "text/plain": [
       "'runs\\\\detect\\\\train6\\\\weights\\\\best.torchscript'"
      ]
     },
     "execution_count": 15,
     "metadata": {},
     "output_type": "execute_result"
    }
   ],
   "source": [
    "model.export()"
   ]
  },
  {
   "cell_type": "code",
   "execution_count": 24,
   "metadata": {},
   "outputs": [],
   "source": [
    "model_2 = YOLO('runs/detect/train6/weights/best.pt')"
   ]
  },
  {
   "cell_type": "code",
   "execution_count": 27,
   "metadata": {},
   "outputs": [
    {
     "name": "stdout",
     "output_type": "stream",
     "text": [
      "\n",
      "image 1/1 c:\\Users\\havva\\OneDrive\\Desktop\\plaka_tanima\\test_data\\test.jpeg: 544x640 1 LicensePlate, 153.6ms\n",
      "Speed: 6.0ms preprocess, 153.6ms inference, 1.0ms postprocess per image at shape (1, 3, 544, 640)\n"
     ]
    }
   ],
   "source": [
    "test_result = model_2.predict(source='test_data/test.jpeg')"
   ]
  },
  {
   "cell_type": "code",
   "execution_count": 29,
   "metadata": {},
   "outputs": [],
   "source": [
    "img1 = test_result[0].plot()\n",
    "img1 = cv2.cvtColor(img1, cv2.COLOR_BGR2RGB)\n",
    "img1 = Image.fromarray(img1)\n",
    "img1 = img1.resize((400,400))"
   ]
  },
  {
   "cell_type": "code",
   "execution_count": 31,
   "metadata": {},
   "outputs": [
    {
     "data": {
      "image/jpeg": "[encoded data removed]",
      "image/png": "[encoded data removed]",
      "text/plain": [
       "<PIL.Image.Image image mode=RGB size=400x400>"
      ]
     },
     "metadata": {},
     "output_type": "display_data"
    }
   ],
   "source": [
    "total_width = img1.width\n",
    "max_height = img1.height  # max() yerine doğrudan img1.height kullanıyoruz\n",
    "final_image = Image.new('RGB', (total_width, max_height))\n",
    "\n",
    "# Resized img1'i final image'e yapıştır\n",
    "final_image.paste(img1, (0, 0))\n",
    "\n",
    "# Son görüntüyü göster\n",
    "display(final_image)\n"
   ]
  },
  {
   "cell_type": "code",
   "execution_count": 35,
   "metadata": {},
   "outputs": [
    {
     "name": "stdout",
     "output_type": "stream",
     "text": [
      "\n",
      "image 1/1 c:\\Users\\havva\\OneDrive\\Desktop\\plaka_tanima\\test_data\\test.jpeg: 544x640 1 LicensePlate, 153.3ms\n",
      "Speed: 7.0ms preprocess, 153.3ms inference, 1.1ms postprocess per image at shape (1, 3, 544, 640)\n"
     ]
    }
   ],
   "source": [
    "results = model_2.predict(source='test_data/test.jpeg')\n",
    "# Ana görüntüyü yükle\n",
    "img = Image.open('test_data/test.jpeg')\n",
    "# Tespit edilen her bir bounding box'ı işle\n",
    "for result in results:\n",
    "    boxes = result.boxes.xyxy  # Her bir sonuçtaki kutuları al\n",
    "    \n",
    "    for box in boxes:\n",
    "        xmin, ymin, xmax, ymax = map(int, box[:4])  # İlk 4 eleman koordinatları temsil eder\n",
    "\n",
    "        # Resmi kırp\n",
    "        cropped_img = img.crop((xmin, ymin, xmax, ymax))\n",
    "        \n",
    "        # Kırpılan resmi kaydet\n",
    "        cropped_img.save(f'cropped_object.jpg')\n"
   ]
  },
  {
   "cell_type": "code",
   "execution_count": null,
   "metadata": {},
   "outputs": [
    {
     "name": "stderr",
     "output_type": "stream",
     "text": [
      "ERROR: Could not find a version that satisfies the requirement sqlite3 (from versions: none)\n",
      "ERROR: No matching distribution found for sqlite3\n"
     ]
    }
   ],
   "source": [
    "! pip install sqlite3"
   ]
  },
  {
   "cell_type": "code",
   "execution_count": null,
   "metadata": {},
   "outputs": [],
   "source": [
    "img1 = test_result[0].plot()\n",
    "img1 = cv2.cvtColor(img1, cv2.COLOR_BGR2RGB)\n",
    "img1 = Image.fromarray(img1)\n",
    "img1 = img1.resize((400,400))\n",
    "img2 = test_result[1].plot()\n",
    "img2 = cv2.cvtColor(img2, cv2.COLOR_BGR2RGB)\n",
    "img2 = Image.fromarray(img2)\n",
    "img2 = img2.resize((400,400))\n",
    "img3 = test_result[2].plot()\n",
    "img3 = cv2.cvtColor(img3, cv2.COLOR_BGR2RGB)\n",
    "img3 = Image.fromarray(img3)\n",
    "img3 = img3.resize((400,400))\n",
    "img4 = test_result[3].plot()\n",
    "img4 = cv2.cvtColor(img4, cv2.COLOR_BGR2RGB)\n",
    "img4 = Image.fromarray(img4)\n",
    "img4 = img4.resize((400,400))"
   ]
  },
  {
   "cell_type": "code",
   "execution_count": null,
   "metadata": {},
   "outputs": [],
   "source": [
    "total_width = img1.width + img2.width + img3.width + img4.width\n",
    "max_height = max(img1.height, img2.height, img3.height,img4.height)\n",
    "final_image = Image.new('RGB', (total_width, max_height))\n",
    "\n",
    "# Paste resized images onto the final image\n",
    "final_image.paste(img1, (0, 0))\n",
    "final_image.paste(img2, (img1.width, 0))\n",
    "final_image.paste(img3, (img1.width + img2.width, 0))\n",
    "final_image.paste(img4, (img1.width + img2.width + img3.width, 0))\n",
    "\n",
    "# Display the final image\n",
    "display(final_image)"
   ]
  },
  {
   "cell_type": "code",
   "execution_count": 2,
   "metadata": {},
   "outputs": [],
   "source": [
    "model_2 = YOLO('runs/detect/train6/weights/best.pt')"
   ]
  },
  {
   "cell_type": "code",
   "execution_count": 4,
   "metadata": {},
   "outputs": [
    {
     "name": "stdout",
     "output_type": "stream",
     "text": [
      "\n",
      "\n",
      "WARNING  inference results will accumulate in RAM unless `stream=True` is passed, causing potential out-of-memory\n",
      "errors for large sources or long-running streams and videos. See https://docs.ultralytics.com/modes/predict/ for help.\n",
      "\n",
      "Example:\n",
      "    results = model(source=..., stream=True)  # generator of Results objects\n",
      "    for r in results:\n",
      "        boxes = r.boxes  # Boxes object for bbox outputs\n",
      "        masks = r.masks  # Masks object for segment masks outputs\n",
      "        probs = r.probs  # Class probabilities for classification outputs\n",
      "\n",
      "video 1/1 (frame 1/2880) c:\\Users\\havva\\OneDrive\\Desktop\\plaka_tanima\\test_data\\Car_Traffic_short.mp4: 384x640 (no detections), 115.8ms\n",
      "video 1/1 (frame 2/2880) c:\\Users\\havva\\OneDrive\\Desktop\\plaka_tanima\\test_data\\Car_Traffic_short.mp4: 384x640 (no detections), 106.7ms\n",
      "video 1/1 (frame 3/2880) c:\\Users\\havva\\OneDrive\\Desktop\\plaka_tanima\\test_data\\Car_Traffic_short.mp4: 384x640 (no detections), 101.7ms\n",
      "video 1/1 (frame 4/2880) c:\\Users\\havva\\OneDrive\\Desktop\\plaka_tanima\\test_data\\Car_Traffic_short.mp4: 384x640 (no detections), 101.7ms\n",
      "video 1/1 (frame 5/2880) c:\\Users\\havva\\OneDrive\\Desktop\\plaka_tanima\\test_data\\Car_Traffic_short.mp4: 384x640 (no detections), 110.7ms\n",
      "video 1/1 (frame 6/2880) c:\\Users\\havva\\OneDrive\\Desktop\\plaka_tanima\\test_data\\Car_Traffic_short.mp4: 384x640 (no detections), 102.7ms\n",
      "video 1/1 (frame 7/2880) c:\\Users\\havva\\OneDrive\\Desktop\\plaka_tanima\\test_data\\Car_Traffic_short.mp4: 384x640 (no detections), 106.7ms\n",
      "video 1/1 (frame 8/2880) c:\\Users\\havva\\OneDrive\\Desktop\\plaka_tanima\\test_data\\Car_Traffic_short.mp4: 384x640 (no detections), 104.7ms\n",
      "video 1/1 (frame 9/2880) c:\\Users\\havva\\OneDrive\\Desktop\\plaka_tanima\\test_data\\Car_Traffic_short.mp4: 384x640 (no detections), 107.7ms\n",
      "video 1/1 (frame 10/2880) c:\\Users\\havva\\OneDrive\\Desktop\\plaka_tanima\\test_data\\Car_Traffic_short.mp4: 384x640 (no detections), 103.7ms\n",
      "video 1/1 (frame 11/2880) c:\\Users\\havva\\OneDrive\\Desktop\\plaka_tanima\\test_data\\Car_Traffic_short.mp4: 384x640 (no detections), 166.5ms\n",
      "video 1/1 (frame 12/2880) c:\\Users\\havva\\OneDrive\\Desktop\\plaka_tanima\\test_data\\Car_Traffic_short.mp4: 384x640 (no detections), 142.7ms\n",
      "video 1/1 (frame 13/2880) c:\\Users\\havva\\OneDrive\\Desktop\\plaka_tanima\\test_data\\Car_Traffic_short.mp4: 384x640 (no detections), 123.0ms\n",
      "video 1/1 (frame 14/2880) c:\\Users\\havva\\OneDrive\\Desktop\\plaka_tanima\\test_data\\Car_Traffic_short.mp4: 384x640 (no detections), 105.7ms\n",
      "video 1/1 (frame 15/2880) c:\\Users\\havva\\OneDrive\\Desktop\\plaka_tanima\\test_data\\Car_Traffic_short.mp4: 384x640 (no detections), 108.7ms\n",
      "video 1/1 (frame 16/2880) c:\\Users\\havva\\OneDrive\\Desktop\\plaka_tanima\\test_data\\Car_Traffic_short.mp4: 384x640 (no detections), 109.7ms\n",
      "video 1/1 (frame 17/2880) c:\\Users\\havva\\OneDrive\\Desktop\\plaka_tanima\\test_data\\Car_Traffic_short.mp4: 384x640 (no detections), 105.8ms\n",
      "video 1/1 (frame 18/2880) c:\\Users\\havva\\OneDrive\\Desktop\\plaka_tanima\\test_data\\Car_Traffic_short.mp4: 384x640 (no detections), 109.5ms\n",
      "video 1/1 (frame 19/2880) c:\\Users\\havva\\OneDrive\\Desktop\\plaka_tanima\\test_data\\Car_Traffic_short.mp4: 384x640 (no detections), 101.7ms\n",
      "video 1/1 (frame 20/2880) c:\\Users\\havva\\OneDrive\\Desktop\\plaka_tanima\\test_data\\Car_Traffic_short.mp4: 384x640 (no detections), 99.7ms\n",
      "video 1/1 (frame 21/2880) c:\\Users\\havva\\OneDrive\\Desktop\\plaka_tanima\\test_data\\Car_Traffic_short.mp4: 384x640 (no detections), 99.8ms\n",
      "video 1/1 (frame 22/2880) c:\\Users\\havva\\OneDrive\\Desktop\\plaka_tanima\\test_data\\Car_Traffic_short.mp4: 384x640 (no detections), 99.7ms\n",
      "video 1/1 (frame 23/2880) c:\\Users\\havva\\OneDrive\\Desktop\\plaka_tanima\\test_data\\Car_Traffic_short.mp4: 384x640 (no detections), 92.8ms\n",
      "video 1/1 (frame 24/2880) c:\\Users\\havva\\OneDrive\\Desktop\\plaka_tanima\\test_data\\Car_Traffic_short.mp4: 384x640 (no detections), 97.7ms\n",
      "video 1/1 (frame 25/2880) c:\\Users\\havva\\OneDrive\\Desktop\\plaka_tanima\\test_data\\Car_Traffic_short.mp4: 384x640 (no detections), 96.9ms\n",
      "video 1/1 (frame 26/2880) c:\\Users\\havva\\OneDrive\\Desktop\\plaka_tanima\\test_data\\Car_Traffic_short.mp4: 384x640 (no detections), 97.7ms\n",
      "video 1/1 (frame 27/2880) c:\\Users\\havva\\OneDrive\\Desktop\\plaka_tanima\\test_data\\Car_Traffic_short.mp4: 384x640 (no detections), 96.7ms\n",
      "video 1/1 (frame 28/2880) c:\\Users\\havva\\OneDrive\\Desktop\\plaka_tanima\\test_data\\Car_Traffic_short.mp4: 384x640 (no detections), 98.7ms\n",
      "video 1/1 (frame 29/2880) c:\\Users\\havva\\OneDrive\\Desktop\\plaka_tanima\\test_data\\Car_Traffic_short.mp4: 384x640 (no detections), 93.7ms\n",
      "video 1/1 (frame 30/2880) c:\\Users\\havva\\OneDrive\\Desktop\\plaka_tanima\\test_data\\Car_Traffic_short.mp4: 384x640 (no detections), 97.7ms\n",
      "video 1/1 (frame 31/2880) c:\\Users\\havva\\OneDrive\\Desktop\\plaka_tanima\\test_data\\Car_Traffic_short.mp4: 384x640 (no detections), 95.7ms\n",
      "video 1/1 (frame 32/2880) c:\\Users\\havva\\OneDrive\\Desktop\\plaka_tanima\\test_data\\Car_Traffic_short.mp4: 384x640 (no detections), 95.7ms\n",
      "video 1/1 (frame 33/2880) c:\\Users\\havva\\OneDrive\\Desktop\\plaka_tanima\\test_data\\Car_Traffic_short.mp4: 384x640 (no detections), 94.7ms\n",
      "video 1/1 (frame 34/2880) c:\\Users\\havva\\OneDrive\\Desktop\\plaka_tanima\\test_data\\Car_Traffic_short.mp4: 384x640 (no detections), 94.7ms\n",
      "video 1/1 (frame 35/2880) c:\\Users\\havva\\OneDrive\\Desktop\\plaka_tanima\\test_data\\Car_Traffic_short.mp4: 384x640 (no detections), 96.7ms\n",
      "video 1/1 (frame 36/2880) c:\\Users\\havva\\OneDrive\\Desktop\\plaka_tanima\\test_data\\Car_Traffic_short.mp4: 384x640 (no detections), 97.7ms\n",
      "video 1/1 (frame 37/2880) c:\\Users\\havva\\OneDrive\\Desktop\\plaka_tanima\\test_data\\Car_Traffic_short.mp4: 384x640 (no detections), 100.7ms\n",
      "video 1/1 (frame 38/2880) c:\\Users\\havva\\OneDrive\\Desktop\\plaka_tanima\\test_data\\Car_Traffic_short.mp4: 384x640 (no detections), 94.7ms\n",
      "video 1/1 (frame 39/2880) c:\\Users\\havva\\OneDrive\\Desktop\\plaka_tanima\\test_data\\Car_Traffic_short.mp4: 384x640 (no detections), 97.7ms\n",
      "video 1/1 (frame 40/2880) c:\\Users\\havva\\OneDrive\\Desktop\\plaka_tanima\\test_data\\Car_Traffic_short.mp4: 384x640 (no detections), 102.7ms\n",
      "video 1/1 (frame 41/2880) c:\\Users\\havva\\OneDrive\\Desktop\\plaka_tanima\\test_data\\Car_Traffic_short.mp4: 384x640 (no detections), 119.7ms\n",
      "video 1/1 (frame 42/2880) c:\\Users\\havva\\OneDrive\\Desktop\\plaka_tanima\\test_data\\Car_Traffic_short.mp4: 384x640 (no detections), 97.7ms\n",
      "video 1/1 (frame 43/2880) c:\\Users\\havva\\OneDrive\\Desktop\\plaka_tanima\\test_data\\Car_Traffic_short.mp4: 384x640 (no detections), 98.7ms\n",
      "video 1/1 (frame 44/2880) c:\\Users\\havva\\OneDrive\\Desktop\\plaka_tanima\\test_data\\Car_Traffic_short.mp4: 384x640 (no detections), 95.7ms\n",
      "video 1/1 (frame 45/2880) c:\\Users\\havva\\OneDrive\\Desktop\\plaka_tanima\\test_data\\Car_Traffic_short.mp4: 384x640 (no detections), 94.9ms\n",
      "video 1/1 (frame 46/2880) c:\\Users\\havva\\OneDrive\\Desktop\\plaka_tanima\\test_data\\Car_Traffic_short.mp4: 384x640 (no detections), 97.7ms\n",
      "video 1/1 (frame 47/2880) c:\\Users\\havva\\OneDrive\\Desktop\\plaka_tanima\\test_data\\Car_Traffic_short.mp4: 384x640 (no detections), 98.7ms\n",
      "video 1/1 (frame 48/2880) c:\\Users\\havva\\OneDrive\\Desktop\\plaka_tanima\\test_data\\Car_Traffic_short.mp4: 384x640 (no detections), 94.9ms\n",
      "video 1/1 (frame 49/2880) c:\\Users\\havva\\OneDrive\\Desktop\\plaka_tanima\\test_data\\Car_Traffic_short.mp4: 384x640 (no detections), 98.7ms\n",
      "video 1/1 (frame 50/2880) c:\\Users\\havva\\OneDrive\\Desktop\\plaka_tanima\\test_data\\Car_Traffic_short.mp4: 384x640 (no detections), 98.7ms\n",
      "video 1/1 (frame 51/2880) c:\\Users\\havva\\OneDrive\\Desktop\\plaka_tanima\\test_data\\Car_Traffic_short.mp4: 384x640 (no detections), 96.7ms\n",
      "video 1/1 (frame 52/2880) c:\\Users\\havva\\OneDrive\\Desktop\\plaka_tanima\\test_data\\Car_Traffic_short.mp4: 384x640 (no detections), 95.7ms\n",
      "video 1/1 (frame 53/2880) c:\\Users\\havva\\OneDrive\\Desktop\\plaka_tanima\\test_data\\Car_Traffic_short.mp4: 384x640 (no detections), 97.7ms\n",
      "video 1/1 (frame 54/2880) c:\\Users\\havva\\OneDrive\\Desktop\\plaka_tanima\\test_data\\Car_Traffic_short.mp4: 384x640 (no detections), 113.8ms\n",
      "video 1/1 (frame 55/2880) c:\\Users\\havva\\OneDrive\\Desktop\\plaka_tanima\\test_data\\Car_Traffic_short.mp4: 384x640 (no detections), 97.7ms\n",
      "video 1/1 (frame 56/2880) c:\\Users\\havva\\OneDrive\\Desktop\\plaka_tanima\\test_data\\Car_Traffic_short.mp4: 384x640 (no detections), 97.7ms\n",
      "video 1/1 (frame 57/2880) c:\\Users\\havva\\OneDrive\\Desktop\\plaka_tanima\\test_data\\Car_Traffic_short.mp4: 384x640 (no detections), 99.7ms\n",
      "video 1/1 (frame 58/2880) c:\\Users\\havva\\OneDrive\\Desktop\\plaka_tanima\\test_data\\Car_Traffic_short.mp4: 384x640 (no detections), 96.6ms\n",
      "video 1/1 (frame 59/2880) c:\\Users\\havva\\OneDrive\\Desktop\\plaka_tanima\\test_data\\Car_Traffic_short.mp4: 384x640 (no detections), 96.7ms\n",
      "video 1/1 (frame 60/2880) c:\\Users\\havva\\OneDrive\\Desktop\\plaka_tanima\\test_data\\Car_Traffic_short.mp4: 384x640 (no detections), 99.7ms\n",
      "video 1/1 (frame 61/2880) c:\\Users\\havva\\OneDrive\\Desktop\\plaka_tanima\\test_data\\Car_Traffic_short.mp4: 384x640 (no detections), 96.7ms\n",
      "video 1/1 (frame 62/2880) c:\\Users\\havva\\OneDrive\\Desktop\\plaka_tanima\\test_data\\Car_Traffic_short.mp4: 384x640 (no detections), 96.7ms\n",
      "video 1/1 (frame 63/2880) c:\\Users\\havva\\OneDrive\\Desktop\\plaka_tanima\\test_data\\Car_Traffic_short.mp4: 384x640 (no detections), 95.7ms\n",
      "video 1/1 (frame 64/2880) c:\\Users\\havva\\OneDrive\\Desktop\\plaka_tanima\\test_data\\Car_Traffic_short.mp4: 384x640 (no detections), 98.7ms\n",
      "video 1/1 (frame 65/2880) c:\\Users\\havva\\OneDrive\\Desktop\\plaka_tanima\\test_data\\Car_Traffic_short.mp4: 384x640 (no detections), 96.7ms\n",
      "video 1/1 (frame 66/2880) c:\\Users\\havva\\OneDrive\\Desktop\\plaka_tanima\\test_data\\Car_Traffic_short.mp4: 384x640 (no detections), 100.7ms\n",
      "video 1/1 (frame 67/2880) c:\\Users\\havva\\OneDrive\\Desktop\\plaka_tanima\\test_data\\Car_Traffic_short.mp4: 384x640 (no detections), 99.7ms\n",
      "video 1/1 (frame 68/2880) c:\\Users\\havva\\OneDrive\\Desktop\\plaka_tanima\\test_data\\Car_Traffic_short.mp4: 384x640 (no detections), 95.7ms\n",
      "video 1/1 (frame 69/2880) c:\\Users\\havva\\OneDrive\\Desktop\\plaka_tanima\\test_data\\Car_Traffic_short.mp4: 384x640 (no detections), 96.7ms\n",
      "video 1/1 (frame 70/2880) c:\\Users\\havva\\OneDrive\\Desktop\\plaka_tanima\\test_data\\Car_Traffic_short.mp4: 384x640 (no detections), 97.7ms\n",
      "video 1/1 (frame 71/2880) c:\\Users\\havva\\OneDrive\\Desktop\\plaka_tanima\\test_data\\Car_Traffic_short.mp4: 384x640 (no detections), 103.7ms\n",
      "video 1/1 (frame 72/2880) c:\\Users\\havva\\OneDrive\\Desktop\\plaka_tanima\\test_data\\Car_Traffic_short.mp4: 384x640 (no detections), 94.7ms\n",
      "video 1/1 (frame 73/2880) c:\\Users\\havva\\OneDrive\\Desktop\\plaka_tanima\\test_data\\Car_Traffic_short.mp4: 384x640 (no detections), 96.7ms\n",
      "video 1/1 (frame 74/2880) c:\\Users\\havva\\OneDrive\\Desktop\\plaka_tanima\\test_data\\Car_Traffic_short.mp4: 384x640 (no detections), 97.4ms\n",
      "video 1/1 (frame 75/2880) c:\\Users\\havva\\OneDrive\\Desktop\\plaka_tanima\\test_data\\Car_Traffic_short.mp4: 384x640 (no detections), 93.8ms\n",
      "video 1/1 (frame 76/2880) c:\\Users\\havva\\OneDrive\\Desktop\\plaka_tanima\\test_data\\Car_Traffic_short.mp4: 384x640 (no detections), 96.7ms\n",
      "video 1/1 (frame 77/2880) c:\\Users\\havva\\OneDrive\\Desktop\\plaka_tanima\\test_data\\Car_Traffic_short.mp4: 384x640 (no detections), 98.7ms\n",
      "video 1/1 (frame 78/2880) c:\\Users\\havva\\OneDrive\\Desktop\\plaka_tanima\\test_data\\Car_Traffic_short.mp4: 384x640 (no detections), 97.7ms\n",
      "video 1/1 (frame 79/2880) c:\\Users\\havva\\OneDrive\\Desktop\\plaka_tanima\\test_data\\Car_Traffic_short.mp4: 384x640 (no detections), 97.7ms\n",
      "video 1/1 (frame 80/2880) c:\\Users\\havva\\OneDrive\\Desktop\\plaka_tanima\\test_data\\Car_Traffic_short.mp4: 384x640 (no detections), 103.7ms\n",
      "video 1/1 (frame 81/2880) c:\\Users\\havva\\OneDrive\\Desktop\\plaka_tanima\\test_data\\Car_Traffic_short.mp4: 384x640 (no detections), 98.0ms\n",
      "video 1/1 (frame 82/2880) c:\\Users\\havva\\OneDrive\\Desktop\\plaka_tanima\\test_data\\Car_Traffic_short.mp4: 384x640 (no detections), 94.7ms\n",
      "video 1/1 (frame 83/2880) c:\\Users\\havva\\OneDrive\\Desktop\\plaka_tanima\\test_data\\Car_Traffic_short.mp4: 384x640 (no detections), 97.7ms\n",
      "video 1/1 (frame 84/2880) c:\\Users\\havva\\OneDrive\\Desktop\\plaka_tanima\\test_data\\Car_Traffic_short.mp4: 384x640 (no detections), 95.7ms\n",
      "video 1/1 (frame 85/2880) c:\\Users\\havva\\OneDrive\\Desktop\\plaka_tanima\\test_data\\Car_Traffic_short.mp4: 384x640 (no detections), 95.7ms\n",
      "video 1/1 (frame 86/2880) c:\\Users\\havva\\OneDrive\\Desktop\\plaka_tanima\\test_data\\Car_Traffic_short.mp4: 384x640 (no detections), 96.7ms\n",
      "video 1/1 (frame 87/2880) c:\\Users\\havva\\OneDrive\\Desktop\\plaka_tanima\\test_data\\Car_Traffic_short.mp4: 384x640 (no detections), 96.7ms\n",
      "video 1/1 (frame 88/2880) c:\\Users\\havva\\OneDrive\\Desktop\\plaka_tanima\\test_data\\Car_Traffic_short.mp4: 384x640 (no detections), 97.7ms\n",
      "video 1/1 (frame 89/2880) c:\\Users\\havva\\OneDrive\\Desktop\\plaka_tanima\\test_data\\Car_Traffic_short.mp4: 384x640 (no detections), 95.7ms\n",
      "video 1/1 (frame 90/2880) c:\\Users\\havva\\OneDrive\\Desktop\\plaka_tanima\\test_data\\Car_Traffic_short.mp4: 384x640 (no detections), 96.7ms\n",
      "video 1/1 (frame 91/2880) c:\\Users\\havva\\OneDrive\\Desktop\\plaka_tanima\\test_data\\Car_Traffic_short.mp4: 384x640 (no detections), 100.6ms\n",
      "video 1/1 (frame 92/2880) c:\\Users\\havva\\OneDrive\\Desktop\\plaka_tanima\\test_data\\Car_Traffic_short.mp4: 384x640 (no detections), 96.8ms\n",
      "video 1/1 (frame 93/2880) c:\\Users\\havva\\OneDrive\\Desktop\\plaka_tanima\\test_data\\Car_Traffic_short.mp4: 384x640 (no detections), 95.1ms\n",
      "video 1/1 (frame 94/2880) c:\\Users\\havva\\OneDrive\\Desktop\\plaka_tanima\\test_data\\Car_Traffic_short.mp4: 384x640 (no detections), 95.7ms\n",
      "video 1/1 (frame 95/2880) c:\\Users\\havva\\OneDrive\\Desktop\\plaka_tanima\\test_data\\Car_Traffic_short.mp4: 384x640 (no detections), 95.7ms\n",
      "video 1/1 (frame 96/2880) c:\\Users\\havva\\OneDrive\\Desktop\\plaka_tanima\\test_data\\Car_Traffic_short.mp4: 384x640 (no detections), 96.8ms\n",
      "video 1/1 (frame 97/2880) c:\\Users\\havva\\OneDrive\\Desktop\\plaka_tanima\\test_data\\Car_Traffic_short.mp4: 384x640 (no detections), 95.7ms\n",
      "video 1/1 (frame 98/2880) c:\\Users\\havva\\OneDrive\\Desktop\\plaka_tanima\\test_data\\Car_Traffic_short.mp4: 384x640 (no detections), 92.8ms\n",
      "video 1/1 (frame 99/2880) c:\\Users\\havva\\OneDrive\\Desktop\\plaka_tanima\\test_data\\Car_Traffic_short.mp4: 384x640 (no detections), 96.9ms\n",
      "video 1/1 (frame 100/2880) c:\\Users\\havva\\OneDrive\\Desktop\\plaka_tanima\\test_data\\Car_Traffic_short.mp4: 384x640 (no detections), 97.7ms\n",
      "video 1/1 (frame 101/2880) c:\\Users\\havva\\OneDrive\\Desktop\\plaka_tanima\\test_data\\Car_Traffic_short.mp4: 384x640 (no detections), 93.7ms\n",
      "video 1/1 (frame 102/2880) c:\\Users\\havva\\OneDrive\\Desktop\\plaka_tanima\\test_data\\Car_Traffic_short.mp4: 384x640 (no detections), 95.7ms\n",
      "video 1/1 (frame 103/2880) c:\\Users\\havva\\OneDrive\\Desktop\\plaka_tanima\\test_data\\Car_Traffic_short.mp4: 384x640 (no detections), 94.8ms\n",
      "video 1/1 (frame 104/2880) c:\\Users\\havva\\OneDrive\\Desktop\\plaka_tanima\\test_data\\Car_Traffic_short.mp4: 384x640 (no detections), 91.8ms\n",
      "video 1/1 (frame 105/2880) c:\\Users\\havva\\OneDrive\\Desktop\\plaka_tanima\\test_data\\Car_Traffic_short.mp4: 384x640 (no detections), 96.6ms\n",
      "video 1/1 (frame 106/2880) c:\\Users\\havva\\OneDrive\\Desktop\\plaka_tanima\\test_data\\Car_Traffic_short.mp4: 384x640 (no detections), 94.7ms\n",
      "video 1/1 (frame 107/2880) c:\\Users\\havva\\OneDrive\\Desktop\\plaka_tanima\\test_data\\Car_Traffic_short.mp4: 384x640 (no detections), 99.7ms\n",
      "video 1/1 (frame 108/2880) c:\\Users\\havva\\OneDrive\\Desktop\\plaka_tanima\\test_data\\Car_Traffic_short.mp4: 384x640 (no detections), 110.6ms\n",
      "video 1/1 (frame 109/2880) c:\\Users\\havva\\OneDrive\\Desktop\\plaka_tanima\\test_data\\Car_Traffic_short.mp4: 384x640 (no detections), 98.7ms\n",
      "video 1/1 (frame 110/2880) c:\\Users\\havva\\OneDrive\\Desktop\\plaka_tanima\\test_data\\Car_Traffic_short.mp4: 384x640 (no detections), 96.7ms\n",
      "video 1/1 (frame 111/2880) c:\\Users\\havva\\OneDrive\\Desktop\\plaka_tanima\\test_data\\Car_Traffic_short.mp4: 384x640 (no detections), 92.8ms\n",
      "video 1/1 (frame 112/2880) c:\\Users\\havva\\OneDrive\\Desktop\\plaka_tanima\\test_data\\Car_Traffic_short.mp4: 384x640 (no detections), 96.8ms\n",
      "video 1/1 (frame 113/2880) c:\\Users\\havva\\OneDrive\\Desktop\\plaka_tanima\\test_data\\Car_Traffic_short.mp4: 384x640 (no detections), 93.7ms\n",
      "video 1/1 (frame 114/2880) c:\\Users\\havva\\OneDrive\\Desktop\\plaka_tanima\\test_data\\Car_Traffic_short.mp4: 384x640 (no detections), 97.7ms\n",
      "video 1/1 (frame 115/2880) c:\\Users\\havva\\OneDrive\\Desktop\\plaka_tanima\\test_data\\Car_Traffic_short.mp4: 384x640 (no detections), 95.7ms\n",
      "video 1/1 (frame 116/2880) c:\\Users\\havva\\OneDrive\\Desktop\\plaka_tanima\\test_data\\Car_Traffic_short.mp4: 384x640 (no detections), 98.7ms\n",
      "video 1/1 (frame 117/2880) c:\\Users\\havva\\OneDrive\\Desktop\\plaka_tanima\\test_data\\Car_Traffic_short.mp4: 384x640 (no detections), 96.7ms\n",
      "video 1/1 (frame 118/2880) c:\\Users\\havva\\OneDrive\\Desktop\\plaka_tanima\\test_data\\Car_Traffic_short.mp4: 384x640 (no detections), 103.7ms\n",
      "video 1/1 (frame 119/2880) c:\\Users\\havva\\OneDrive\\Desktop\\plaka_tanima\\test_data\\Car_Traffic_short.mp4: 384x640 (no detections), 93.8ms\n",
      "video 1/1 (frame 120/2880) c:\\Users\\havva\\OneDrive\\Desktop\\plaka_tanima\\test_data\\Car_Traffic_short.mp4: 384x640 (no detections), 93.8ms\n",
      "video 1/1 (frame 121/2880) c:\\Users\\havva\\OneDrive\\Desktop\\plaka_tanima\\test_data\\Car_Traffic_short.mp4: 384x640 (no detections), 96.7ms\n",
      "video 1/1 (frame 122/2880) c:\\Users\\havva\\OneDrive\\Desktop\\plaka_tanima\\test_data\\Car_Traffic_short.mp4: 384x640 (no detections), 93.7ms\n",
      "video 1/1 (frame 123/2880) c:\\Users\\havva\\OneDrive\\Desktop\\plaka_tanima\\test_data\\Car_Traffic_short.mp4: 384x640 (no detections), 93.7ms\n",
      "video 1/1 (frame 124/2880) c:\\Users\\havva\\OneDrive\\Desktop\\plaka_tanima\\test_data\\Car_Traffic_short.mp4: 384x640 (no detections), 97.8ms\n",
      "video 1/1 (frame 125/2880) c:\\Users\\havva\\OneDrive\\Desktop\\plaka_tanima\\test_data\\Car_Traffic_short.mp4: 384x640 (no detections), 94.8ms\n",
      "video 1/1 (frame 126/2880) c:\\Users\\havva\\OneDrive\\Desktop\\plaka_tanima\\test_data\\Car_Traffic_short.mp4: 384x640 (no detections), 99.7ms\n",
      "video 1/1 (frame 127/2880) c:\\Users\\havva\\OneDrive\\Desktop\\plaka_tanima\\test_data\\Car_Traffic_short.mp4: 384x640 (no detections), 96.6ms\n",
      "video 1/1 (frame 128/2880) c:\\Users\\havva\\OneDrive\\Desktop\\plaka_tanima\\test_data\\Car_Traffic_short.mp4: 384x640 (no detections), 93.7ms\n",
      "video 1/1 (frame 129/2880) c:\\Users\\havva\\OneDrive\\Desktop\\plaka_tanima\\test_data\\Car_Traffic_short.mp4: 384x640 (no detections), 99.7ms\n",
      "video 1/1 (frame 130/2880) c:\\Users\\havva\\OneDrive\\Desktop\\plaka_tanima\\test_data\\Car_Traffic_short.mp4: 384x640 (no detections), 97.7ms\n",
      "video 1/1 (frame 131/2880) c:\\Users\\havva\\OneDrive\\Desktop\\plaka_tanima\\test_data\\Car_Traffic_short.mp4: 384x640 (no detections), 97.7ms\n",
      "video 1/1 (frame 132/2880) c:\\Users\\havva\\OneDrive\\Desktop\\plaka_tanima\\test_data\\Car_Traffic_short.mp4: 384x640 (no detections), 95.7ms\n",
      "video 1/1 (frame 133/2880) c:\\Users\\havva\\OneDrive\\Desktop\\plaka_tanima\\test_data\\Car_Traffic_short.mp4: 384x640 (no detections), 99.7ms\n",
      "video 1/1 (frame 134/2880) c:\\Users\\havva\\OneDrive\\Desktop\\plaka_tanima\\test_data\\Car_Traffic_short.mp4: 384x640 (no detections), 96.9ms\n",
      "video 1/1 (frame 135/2880) c:\\Users\\havva\\OneDrive\\Desktop\\plaka_tanima\\test_data\\Car_Traffic_short.mp4: 384x640 (no detections), 95.7ms\n",
      "video 1/1 (frame 136/2880) c:\\Users\\havva\\OneDrive\\Desktop\\plaka_tanima\\test_data\\Car_Traffic_short.mp4: 384x640 (no detections), 94.5ms\n",
      "video 1/1 (frame 137/2880) c:\\Users\\havva\\OneDrive\\Desktop\\plaka_tanima\\test_data\\Car_Traffic_short.mp4: 384x640 (no detections), 94.7ms\n",
      "video 1/1 (frame 138/2880) c:\\Users\\havva\\OneDrive\\Desktop\\plaka_tanima\\test_data\\Car_Traffic_short.mp4: 384x640 (no detections), 142.6ms\n",
      "video 1/1 (frame 139/2880) c:\\Users\\havva\\OneDrive\\Desktop\\plaka_tanima\\test_data\\Car_Traffic_short.mp4: 384x640 (no detections), 97.7ms\n",
      "video 1/1 (frame 140/2880) c:\\Users\\havva\\OneDrive\\Desktop\\plaka_tanima\\test_data\\Car_Traffic_short.mp4: 384x640 (no detections), 96.7ms\n",
      "video 1/1 (frame 141/2880) c:\\Users\\havva\\OneDrive\\Desktop\\plaka_tanima\\test_data\\Car_Traffic_short.mp4: 384x640 (no detections), 96.7ms\n",
      "video 1/1 (frame 142/2880) c:\\Users\\havva\\OneDrive\\Desktop\\plaka_tanima\\test_data\\Car_Traffic_short.mp4: 384x640 (no detections), 95.7ms\n",
      "video 1/1 (frame 143/2880) c:\\Users\\havva\\OneDrive\\Desktop\\plaka_tanima\\test_data\\Car_Traffic_short.mp4: 384x640 (no detections), 97.7ms\n",
      "video 1/1 (frame 144/2880) c:\\Users\\havva\\OneDrive\\Desktop\\plaka_tanima\\test_data\\Car_Traffic_short.mp4: 384x640 (no detections), 102.7ms\n",
      "video 1/1 (frame 145/2880) c:\\Users\\havva\\OneDrive\\Desktop\\plaka_tanima\\test_data\\Car_Traffic_short.mp4: 384x640 (no detections), 97.7ms\n",
      "video 1/1 (frame 146/2880) c:\\Users\\havva\\OneDrive\\Desktop\\plaka_tanima\\test_data\\Car_Traffic_short.mp4: 384x640 (no detections), 95.7ms\n",
      "video 1/1 (frame 147/2880) c:\\Users\\havva\\OneDrive\\Desktop\\plaka_tanima\\test_data\\Car_Traffic_short.mp4: 384x640 (no detections), 94.8ms\n",
      "video 1/1 (frame 148/2880) c:\\Users\\havva\\OneDrive\\Desktop\\plaka_tanima\\test_data\\Car_Traffic_short.mp4: 384x640 (no detections), 96.6ms\n",
      "video 1/1 (frame 149/2880) c:\\Users\\havva\\OneDrive\\Desktop\\plaka_tanima\\test_data\\Car_Traffic_short.mp4: 384x640 (no detections), 98.7ms\n",
      "video 1/1 (frame 150/2880) c:\\Users\\havva\\OneDrive\\Desktop\\plaka_tanima\\test_data\\Car_Traffic_short.mp4: 384x640 (no detections), 97.7ms\n",
      "video 1/1 (frame 151/2880) c:\\Users\\havva\\OneDrive\\Desktop\\plaka_tanima\\test_data\\Car_Traffic_short.mp4: 384x640 (no detections), 99.7ms\n",
      "video 1/1 (frame 152/2880) c:\\Users\\havva\\OneDrive\\Desktop\\plaka_tanima\\test_data\\Car_Traffic_short.mp4: 384x640 (no detections), 97.7ms\n",
      "video 1/1 (frame 153/2880) c:\\Users\\havva\\OneDrive\\Desktop\\plaka_tanima\\test_data\\Car_Traffic_short.mp4: 384x640 (no detections), 93.5ms\n",
      "video 1/1 (frame 154/2880) c:\\Users\\havva\\OneDrive\\Desktop\\plaka_tanima\\test_data\\Car_Traffic_short.mp4: 384x640 (no detections), 97.2ms\n",
      "video 1/1 (frame 155/2880) c:\\Users\\havva\\OneDrive\\Desktop\\plaka_tanima\\test_data\\Car_Traffic_short.mp4: 384x640 (no detections), 95.7ms\n",
      "video 1/1 (frame 156/2880) c:\\Users\\havva\\OneDrive\\Desktop\\plaka_tanima\\test_data\\Car_Traffic_short.mp4: 384x640 (no detections), 96.7ms\n",
      "video 1/1 (frame 157/2880) c:\\Users\\havva\\OneDrive\\Desktop\\plaka_tanima\\test_data\\Car_Traffic_short.mp4: 384x640 (no detections), 96.7ms\n",
      "video 1/1 (frame 158/2880) c:\\Users\\havva\\OneDrive\\Desktop\\plaka_tanima\\test_data\\Car_Traffic_short.mp4: 384x640 (no detections), 96.7ms\n",
      "video 1/1 (frame 159/2880) c:\\Users\\havva\\OneDrive\\Desktop\\plaka_tanima\\test_data\\Car_Traffic_short.mp4: 384x640 (no detections), 95.7ms\n",
      "video 1/1 (frame 160/2880) c:\\Users\\havva\\OneDrive\\Desktop\\plaka_tanima\\test_data\\Car_Traffic_short.mp4: 384x640 (no detections), 95.5ms\n",
      "video 1/1 (frame 161/2880) c:\\Users\\havva\\OneDrive\\Desktop\\plaka_tanima\\test_data\\Car_Traffic_short.mp4: 384x640 (no detections), 97.7ms\n",
      "video 1/1 (frame 162/2880) c:\\Users\\havva\\OneDrive\\Desktop\\plaka_tanima\\test_data\\Car_Traffic_short.mp4: 384x640 (no detections), 96.7ms\n",
      "video 1/1 (frame 163/2880) c:\\Users\\havva\\OneDrive\\Desktop\\plaka_tanima\\test_data\\Car_Traffic_short.mp4: 384x640 (no detections), 109.7ms\n",
      "video 1/1 (frame 164/2880) c:\\Users\\havva\\OneDrive\\Desktop\\plaka_tanima\\test_data\\Car_Traffic_short.mp4: 384x640 (no detections), 94.6ms\n",
      "video 1/1 (frame 165/2880) c:\\Users\\havva\\OneDrive\\Desktop\\plaka_tanima\\test_data\\Car_Traffic_short.mp4: 384x640 (no detections), 95.7ms\n",
      "video 1/1 (frame 166/2880) c:\\Users\\havva\\OneDrive\\Desktop\\plaka_tanima\\test_data\\Car_Traffic_short.mp4: 384x640 (no detections), 97.7ms\n",
      "video 1/1 (frame 167/2880) c:\\Users\\havva\\OneDrive\\Desktop\\plaka_tanima\\test_data\\Car_Traffic_short.mp4: 384x640 (no detections), 93.7ms\n",
      "video 1/1 (frame 168/2880) c:\\Users\\havva\\OneDrive\\Desktop\\plaka_tanima\\test_data\\Car_Traffic_short.mp4: 384x640 (no detections), 96.7ms\n",
      "video 1/1 (frame 169/2880) c:\\Users\\havva\\OneDrive\\Desktop\\plaka_tanima\\test_data\\Car_Traffic_short.mp4: 384x640 (no detections), 103.7ms\n",
      "video 1/1 (frame 170/2880) c:\\Users\\havva\\OneDrive\\Desktop\\plaka_tanima\\test_data\\Car_Traffic_short.mp4: 384x640 (no detections), 107.8ms\n",
      "video 1/1 (frame 171/2880) c:\\Users\\havva\\OneDrive\\Desktop\\plaka_tanima\\test_data\\Car_Traffic_short.mp4: 384x640 (no detections), 111.7ms\n",
      "video 1/1 (frame 172/2880) c:\\Users\\havva\\OneDrive\\Desktop\\plaka_tanima\\test_data\\Car_Traffic_short.mp4: 384x640 (no detections), 109.5ms\n",
      "video 1/1 (frame 173/2880) c:\\Users\\havva\\OneDrive\\Desktop\\plaka_tanima\\test_data\\Car_Traffic_short.mp4: 384x640 (no detections), 113.7ms\n",
      "video 1/1 (frame 174/2880) c:\\Users\\havva\\OneDrive\\Desktop\\plaka_tanima\\test_data\\Car_Traffic_short.mp4: 384x640 (no detections), 110.7ms\n",
      "video 1/1 (frame 175/2880) c:\\Users\\havva\\OneDrive\\Desktop\\plaka_tanima\\test_data\\Car_Traffic_short.mp4: 384x640 (no detections), 113.2ms\n",
      "video 1/1 (frame 176/2880) c:\\Users\\havva\\OneDrive\\Desktop\\plaka_tanima\\test_data\\Car_Traffic_short.mp4: 384x640 (no detections), 111.7ms\n",
      "video 1/1 (frame 177/2880) c:\\Users\\havva\\OneDrive\\Desktop\\plaka_tanima\\test_data\\Car_Traffic_short.mp4: 384x640 (no detections), 113.8ms\n",
      "video 1/1 (frame 178/2880) c:\\Users\\havva\\OneDrive\\Desktop\\plaka_tanima\\test_data\\Car_Traffic_short.mp4: 384x640 (no detections), 109.7ms\n",
      "video 1/1 (frame 179/2880) c:\\Users\\havva\\OneDrive\\Desktop\\plaka_tanima\\test_data\\Car_Traffic_short.mp4: 384x640 (no detections), 113.7ms\n",
      "video 1/1 (frame 180/2880) c:\\Users\\havva\\OneDrive\\Desktop\\plaka_tanima\\test_data\\Car_Traffic_short.mp4: 384x640 (no detections), 114.6ms\n",
      "video 1/1 (frame 181/2880) c:\\Users\\havva\\OneDrive\\Desktop\\plaka_tanima\\test_data\\Car_Traffic_short.mp4: 384x640 (no detections), 110.7ms\n",
      "video 1/1 (frame 182/2880) c:\\Users\\havva\\OneDrive\\Desktop\\plaka_tanima\\test_data\\Car_Traffic_short.mp4: 384x640 (no detections), 122.7ms\n",
      "video 1/1 (frame 183/2880) c:\\Users\\havva\\OneDrive\\Desktop\\plaka_tanima\\test_data\\Car_Traffic_short.mp4: 384x640 (no detections), 110.5ms\n",
      "video 1/1 (frame 184/2880) c:\\Users\\havva\\OneDrive\\Desktop\\plaka_tanima\\test_data\\Car_Traffic_short.mp4: 384x640 (no detections), 112.7ms\n",
      "video 1/1 (frame 185/2880) c:\\Users\\havva\\OneDrive\\Desktop\\plaka_tanima\\test_data\\Car_Traffic_short.mp4: 384x640 (no detections), 110.7ms\n",
      "video 1/1 (frame 186/2880) c:\\Users\\havva\\OneDrive\\Desktop\\plaka_tanima\\test_data\\Car_Traffic_short.mp4: 384x640 (no detections), 114.0ms\n",
      "video 1/1 (frame 187/2880) c:\\Users\\havva\\OneDrive\\Desktop\\plaka_tanima\\test_data\\Car_Traffic_short.mp4: 384x640 (no detections), 111.7ms\n",
      "video 1/1 (frame 188/2880) c:\\Users\\havva\\OneDrive\\Desktop\\plaka_tanima\\test_data\\Car_Traffic_short.mp4: 384x640 (no detections), 111.7ms\n",
      "video 1/1 (frame 189/2880) c:\\Users\\havva\\OneDrive\\Desktop\\plaka_tanima\\test_data\\Car_Traffic_short.mp4: 384x640 (no detections), 127.7ms\n",
      "video 1/1 (frame 190/2880) c:\\Users\\havva\\OneDrive\\Desktop\\plaka_tanima\\test_data\\Car_Traffic_short.mp4: 384x640 (no detections), 126.7ms\n",
      "video 1/1 (frame 191/2880) c:\\Users\\havva\\OneDrive\\Desktop\\plaka_tanima\\test_data\\Car_Traffic_short.mp4: 384x640 (no detections), 133.6ms\n",
      "video 1/1 (frame 192/2880) c:\\Users\\havva\\OneDrive\\Desktop\\plaka_tanima\\test_data\\Car_Traffic_short.mp4: 384x640 (no detections), 130.6ms\n",
      "video 1/1 (frame 193/2880) c:\\Users\\havva\\OneDrive\\Desktop\\plaka_tanima\\test_data\\Car_Traffic_short.mp4: 384x640 (no detections), 140.6ms\n",
      "video 1/1 (frame 194/2880) c:\\Users\\havva\\OneDrive\\Desktop\\plaka_tanima\\test_data\\Car_Traffic_short.mp4: 384x640 (no detections), 131.6ms\n",
      "video 1/1 (frame 195/2880) c:\\Users\\havva\\OneDrive\\Desktop\\plaka_tanima\\test_data\\Car_Traffic_short.mp4: 384x640 (no detections), 135.9ms\n",
      "video 1/1 (frame 196/2880) c:\\Users\\havva\\OneDrive\\Desktop\\plaka_tanima\\test_data\\Car_Traffic_short.mp4: 384x640 (no detections), 129.7ms\n",
      "video 1/1 (frame 197/2880) c:\\Users\\havva\\OneDrive\\Desktop\\plaka_tanima\\test_data\\Car_Traffic_short.mp4: 384x640 (no detections), 132.6ms\n",
      "video 1/1 (frame 198/2880) c:\\Users\\havva\\OneDrive\\Desktop\\plaka_tanima\\test_data\\Car_Traffic_short.mp4: 384x640 (no detections), 129.8ms\n",
      "video 1/1 (frame 199/2880) c:\\Users\\havva\\OneDrive\\Desktop\\plaka_tanima\\test_data\\Car_Traffic_short.mp4: 384x640 (no detections), 126.7ms\n",
      "video 1/1 (frame 200/2880) c:\\Users\\havva\\OneDrive\\Desktop\\plaka_tanima\\test_data\\Car_Traffic_short.mp4: 384x640 (no detections), 133.6ms\n",
      "video 1/1 (frame 201/2880) c:\\Users\\havva\\OneDrive\\Desktop\\plaka_tanima\\test_data\\Car_Traffic_short.mp4: 384x640 (no detections), 125.8ms\n",
      "video 1/1 (frame 202/2880) c:\\Users\\havva\\OneDrive\\Desktop\\plaka_tanima\\test_data\\Car_Traffic_short.mp4: 384x640 (no detections), 131.6ms\n",
      "video 1/1 (frame 203/2880) c:\\Users\\havva\\OneDrive\\Desktop\\plaka_tanima\\test_data\\Car_Traffic_short.mp4: 384x640 (no detections), 119.7ms\n",
      "video 1/1 (frame 204/2880) c:\\Users\\havva\\OneDrive\\Desktop\\plaka_tanima\\test_data\\Car_Traffic_short.mp4: 384x640 (no detections), 127.7ms\n",
      "video 1/1 (frame 205/2880) c:\\Users\\havva\\OneDrive\\Desktop\\plaka_tanima\\test_data\\Car_Traffic_short.mp4: 384x640 (no detections), 123.6ms\n",
      "video 1/1 (frame 206/2880) c:\\Users\\havva\\OneDrive\\Desktop\\plaka_tanima\\test_data\\Car_Traffic_short.mp4: 384x640 (no detections), 121.7ms\n",
      "video 1/1 (frame 207/2880) c:\\Users\\havva\\OneDrive\\Desktop\\plaka_tanima\\test_data\\Car_Traffic_short.mp4: 384x640 (no detections), 124.7ms\n",
      "video 1/1 (frame 208/2880) c:\\Users\\havva\\OneDrive\\Desktop\\plaka_tanima\\test_data\\Car_Traffic_short.mp4: 384x640 (no detections), 120.7ms\n",
      "video 1/1 (frame 209/2880) c:\\Users\\havva\\OneDrive\\Desktop\\plaka_tanima\\test_data\\Car_Traffic_short.mp4: 384x640 (no detections), 125.7ms\n",
      "video 1/1 (frame 210/2880) c:\\Users\\havva\\OneDrive\\Desktop\\plaka_tanima\\test_data\\Car_Traffic_short.mp4: 384x640 (no detections), 130.7ms\n",
      "video 1/1 (frame 211/2880) c:\\Users\\havva\\OneDrive\\Desktop\\plaka_tanima\\test_data\\Car_Traffic_short.mp4: 384x640 (no detections), 120.7ms\n",
      "video 1/1 (frame 212/2880) c:\\Users\\havva\\OneDrive\\Desktop\\plaka_tanima\\test_data\\Car_Traffic_short.mp4: 384x640 (no detections), 132.6ms\n",
      "video 1/1 (frame 213/2880) c:\\Users\\havva\\OneDrive\\Desktop\\plaka_tanima\\test_data\\Car_Traffic_short.mp4: 384x640 (no detections), 125.7ms\n",
      "video 1/1 (frame 214/2880) c:\\Users\\havva\\OneDrive\\Desktop\\plaka_tanima\\test_data\\Car_Traffic_short.mp4: 384x640 (no detections), 124.7ms\n",
      "video 1/1 (frame 215/2880) c:\\Users\\havva\\OneDrive\\Desktop\\plaka_tanima\\test_data\\Car_Traffic_short.mp4: 384x640 (no detections), 127.7ms\n",
      "video 1/1 (frame 216/2880) c:\\Users\\havva\\OneDrive\\Desktop\\plaka_tanima\\test_data\\Car_Traffic_short.mp4: 384x640 (no detections), 122.7ms\n",
      "video 1/1 (frame 217/2880) c:\\Users\\havva\\OneDrive\\Desktop\\plaka_tanima\\test_data\\Car_Traffic_short.mp4: 384x640 (no detections), 131.6ms\n",
      "video 1/1 (frame 218/2880) c:\\Users\\havva\\OneDrive\\Desktop\\plaka_tanima\\test_data\\Car_Traffic_short.mp4: 384x640 (no detections), 146.6ms\n",
      "video 1/1 (frame 219/2880) c:\\Users\\havva\\OneDrive\\Desktop\\plaka_tanima\\test_data\\Car_Traffic_short.mp4: 384x640 (no detections), 141.6ms\n",
      "video 1/1 (frame 220/2880) c:\\Users\\havva\\OneDrive\\Desktop\\plaka_tanima\\test_data\\Car_Traffic_short.mp4: 384x640 (no detections), 126.7ms\n",
      "video 1/1 (frame 221/2880) c:\\Users\\havva\\OneDrive\\Desktop\\plaka_tanima\\test_data\\Car_Traffic_short.mp4: 384x640 (no detections), 125.7ms\n",
      "video 1/1 (frame 222/2880) c:\\Users\\havva\\OneDrive\\Desktop\\plaka_tanima\\test_data\\Car_Traffic_short.mp4: 384x640 (no detections), 128.7ms\n",
      "video 1/1 (frame 223/2880) c:\\Users\\havva\\OneDrive\\Desktop\\plaka_tanima\\test_data\\Car_Traffic_short.mp4: 384x640 (no detections), 149.7ms\n",
      "video 1/1 (frame 224/2880) c:\\Users\\havva\\OneDrive\\Desktop\\plaka_tanima\\test_data\\Car_Traffic_short.mp4: 384x640 (no detections), 149.6ms\n",
      "video 1/1 (frame 225/2880) c:\\Users\\havva\\OneDrive\\Desktop\\plaka_tanima\\test_data\\Car_Traffic_short.mp4: 384x640 (no detections), 140.7ms\n",
      "video 1/1 (frame 226/2880) c:\\Users\\havva\\OneDrive\\Desktop\\plaka_tanima\\test_data\\Car_Traffic_short.mp4: 384x640 (no detections), 135.7ms\n",
      "video 1/1 (frame 227/2880) c:\\Users\\havva\\OneDrive\\Desktop\\plaka_tanima\\test_data\\Car_Traffic_short.mp4: 384x640 (no detections), 133.8ms\n",
      "video 1/1 (frame 228/2880) c:\\Users\\havva\\OneDrive\\Desktop\\plaka_tanima\\test_data\\Car_Traffic_short.mp4: 384x640 (no detections), 150.6ms\n",
      "video 1/1 (frame 229/2880) c:\\Users\\havva\\OneDrive\\Desktop\\plaka_tanima\\test_data\\Car_Traffic_short.mp4: 384x640 (no detections), 125.7ms\n",
      "video 1/1 (frame 230/2880) c:\\Users\\havva\\OneDrive\\Desktop\\plaka_tanima\\test_data\\Car_Traffic_short.mp4: 384x640 (no detections), 116.7ms\n",
      "video 1/1 (frame 231/2880) c:\\Users\\havva\\OneDrive\\Desktop\\plaka_tanima\\test_data\\Car_Traffic_short.mp4: 384x640 (no detections), 112.7ms\n",
      "video 1/1 (frame 232/2880) c:\\Users\\havva\\OneDrive\\Desktop\\plaka_tanima\\test_data\\Car_Traffic_short.mp4: 384x640 (no detections), 110.7ms\n",
      "video 1/1 (frame 233/2880) c:\\Users\\havva\\OneDrive\\Desktop\\plaka_tanima\\test_data\\Car_Traffic_short.mp4: 384x640 (no detections), 111.6ms\n",
      "video 1/1 (frame 234/2880) c:\\Users\\havva\\OneDrive\\Desktop\\plaka_tanima\\test_data\\Car_Traffic_short.mp4: 384x640 (no detections), 115.7ms\n",
      "video 1/1 (frame 235/2880) c:\\Users\\havva\\OneDrive\\Desktop\\plaka_tanima\\test_data\\Car_Traffic_short.mp4: 384x640 (no detections), 109.7ms\n",
      "video 1/1 (frame 236/2880) c:\\Users\\havva\\OneDrive\\Desktop\\plaka_tanima\\test_data\\Car_Traffic_short.mp4: 384x640 (no detections), 108.7ms\n",
      "video 1/1 (frame 237/2880) c:\\Users\\havva\\OneDrive\\Desktop\\plaka_tanima\\test_data\\Car_Traffic_short.mp4: 384x640 (no detections), 118.7ms\n",
      "video 1/1 (frame 238/2880) c:\\Users\\havva\\OneDrive\\Desktop\\plaka_tanima\\test_data\\Car_Traffic_short.mp4: 384x640 (no detections), 134.5ms\n",
      "video 1/1 (frame 239/2880) c:\\Users\\havva\\OneDrive\\Desktop\\plaka_tanima\\test_data\\Car_Traffic_short.mp4: 384x640 (no detections), 133.6ms\n",
      "video 1/1 (frame 240/2880) c:\\Users\\havva\\OneDrive\\Desktop\\plaka_tanima\\test_data\\Car_Traffic_short.mp4: 384x640 (no detections), 162.6ms\n",
      "video 1/1 (frame 241/2880) c:\\Users\\havva\\OneDrive\\Desktop\\plaka_tanima\\test_data\\Car_Traffic_short.mp4: 384x640 (no detections), 136.0ms\n",
      "video 1/1 (frame 242/2880) c:\\Users\\havva\\OneDrive\\Desktop\\plaka_tanima\\test_data\\Car_Traffic_short.mp4: 384x640 (no detections), 115.7ms\n",
      "video 1/1 (frame 243/2880) c:\\Users\\havva\\OneDrive\\Desktop\\plaka_tanima\\test_data\\Car_Traffic_short.mp4: 384x640 (no detections), 114.7ms\n",
      "video 1/1 (frame 244/2880) c:\\Users\\havva\\OneDrive\\Desktop\\plaka_tanima\\test_data\\Car_Traffic_short.mp4: 384x640 (no detections), 109.8ms\n",
      "video 1/1 (frame 245/2880) c:\\Users\\havva\\OneDrive\\Desktop\\plaka_tanima\\test_data\\Car_Traffic_short.mp4: 384x640 (no detections), 108.7ms\n",
      "video 1/1 (frame 246/2880) c:\\Users\\havva\\OneDrive\\Desktop\\plaka_tanima\\test_data\\Car_Traffic_short.mp4: 384x640 (no detections), 109.7ms\n",
      "video 1/1 (frame 247/2880) c:\\Users\\havva\\OneDrive\\Desktop\\plaka_tanima\\test_data\\Car_Traffic_short.mp4: 384x640 (no detections), 113.7ms\n",
      "video 1/1 (frame 248/2880) c:\\Users\\havva\\OneDrive\\Desktop\\plaka_tanima\\test_data\\Car_Traffic_short.mp4: 384x640 (no detections), 110.7ms\n",
      "video 1/1 (frame 249/2880) c:\\Users\\havva\\OneDrive\\Desktop\\plaka_tanima\\test_data\\Car_Traffic_short.mp4: 384x640 (no detections), 111.8ms\n",
      "video 1/1 (frame 250/2880) c:\\Users\\havva\\OneDrive\\Desktop\\plaka_tanima\\test_data\\Car_Traffic_short.mp4: 384x640 (no detections), 112.7ms\n",
      "video 1/1 (frame 251/2880) c:\\Users\\havva\\OneDrive\\Desktop\\plaka_tanima\\test_data\\Car_Traffic_short.mp4: 384x640 (no detections), 109.7ms\n",
      "video 1/1 (frame 252/2880) c:\\Users\\havva\\OneDrive\\Desktop\\plaka_tanima\\test_data\\Car_Traffic_short.mp4: 384x640 (no detections), 114.7ms\n",
      "video 1/1 (frame 253/2880) c:\\Users\\havva\\OneDrive\\Desktop\\plaka_tanima\\test_data\\Car_Traffic_short.mp4: 384x640 (no detections), 106.7ms\n",
      "video 1/1 (frame 254/2880) c:\\Users\\havva\\OneDrive\\Desktop\\plaka_tanima\\test_data\\Car_Traffic_short.mp4: 384x640 (no detections), 111.7ms\n",
      "video 1/1 (frame 255/2880) c:\\Users\\havva\\OneDrive\\Desktop\\plaka_tanima\\test_data\\Car_Traffic_short.mp4: 384x640 (no detections), 109.7ms\n",
      "video 1/1 (frame 256/2880) c:\\Users\\havva\\OneDrive\\Desktop\\plaka_tanima\\test_data\\Car_Traffic_short.mp4: 384x640 (no detections), 113.7ms\n",
      "video 1/1 (frame 257/2880) c:\\Users\\havva\\OneDrive\\Desktop\\plaka_tanima\\test_data\\Car_Traffic_short.mp4: 384x640 (no detections), 112.7ms\n",
      "video 1/1 (frame 258/2880) c:\\Users\\havva\\OneDrive\\Desktop\\plaka_tanima\\test_data\\Car_Traffic_short.mp4: 384x640 (no detections), 110.7ms\n",
      "video 1/1 (frame 259/2880) c:\\Users\\havva\\OneDrive\\Desktop\\plaka_tanima\\test_data\\Car_Traffic_short.mp4: 384x640 (no detections), 108.7ms\n",
      "video 1/1 (frame 260/2880) c:\\Users\\havva\\OneDrive\\Desktop\\plaka_tanima\\test_data\\Car_Traffic_short.mp4: 384x640 (no detections), 107.7ms\n",
      "video 1/1 (frame 261/2880) c:\\Users\\havva\\OneDrive\\Desktop\\plaka_tanima\\test_data\\Car_Traffic_short.mp4: 384x640 (no detections), 108.7ms\n",
      "video 1/1 (frame 262/2880) c:\\Users\\havva\\OneDrive\\Desktop\\plaka_tanima\\test_data\\Car_Traffic_short.mp4: 384x640 (no detections), 106.7ms\n",
      "video 1/1 (frame 263/2880) c:\\Users\\havva\\OneDrive\\Desktop\\plaka_tanima\\test_data\\Car_Traffic_short.mp4: 384x640 (no detections), 109.8ms\n",
      "video 1/1 (frame 264/2880) c:\\Users\\havva\\OneDrive\\Desktop\\plaka_tanima\\test_data\\Car_Traffic_short.mp4: 384x640 (no detections), 109.7ms\n",
      "video 1/1 (frame 265/2880) c:\\Users\\havva\\OneDrive\\Desktop\\plaka_tanima\\test_data\\Car_Traffic_short.mp4: 384x640 (no detections), 111.7ms\n",
      "video 1/1 (frame 266/2880) c:\\Users\\havva\\OneDrive\\Desktop\\plaka_tanima\\test_data\\Car_Traffic_short.mp4: 384x640 (no detections), 104.7ms\n",
      "video 1/1 (frame 267/2880) c:\\Users\\havva\\OneDrive\\Desktop\\plaka_tanima\\test_data\\Car_Traffic_short.mp4: 384x640 (no detections), 130.7ms\n",
      "video 1/1 (frame 268/2880) c:\\Users\\havva\\OneDrive\\Desktop\\plaka_tanima\\test_data\\Car_Traffic_short.mp4: 384x640 (no detections), 112.7ms\n",
      "video 1/1 (frame 269/2880) c:\\Users\\havva\\OneDrive\\Desktop\\plaka_tanima\\test_data\\Car_Traffic_short.mp4: 384x640 (no detections), 109.7ms\n",
      "video 1/1 (frame 270/2880) c:\\Users\\havva\\OneDrive\\Desktop\\plaka_tanima\\test_data\\Car_Traffic_short.mp4: 384x640 (no detections), 112.7ms\n",
      "video 1/1 (frame 271/2880) c:\\Users\\havva\\OneDrive\\Desktop\\plaka_tanima\\test_data\\Car_Traffic_short.mp4: 384x640 (no detections), 109.9ms\n",
      "video 1/1 (frame 272/2880) c:\\Users\\havva\\OneDrive\\Desktop\\plaka_tanima\\test_data\\Car_Traffic_short.mp4: 384x640 (no detections), 111.3ms\n",
      "video 1/1 (frame 273/2880) c:\\Users\\havva\\OneDrive\\Desktop\\plaka_tanima\\test_data\\Car_Traffic_short.mp4: 384x640 (no detections), 106.7ms\n",
      "video 1/1 (frame 274/2880) c:\\Users\\havva\\OneDrive\\Desktop\\plaka_tanima\\test_data\\Car_Traffic_short.mp4: 384x640 (no detections), 108.7ms\n",
      "video 1/1 (frame 275/2880) c:\\Users\\havva\\OneDrive\\Desktop\\plaka_tanima\\test_data\\Car_Traffic_short.mp4: 384x640 (no detections), 106.7ms\n",
      "video 1/1 (frame 276/2880) c:\\Users\\havva\\OneDrive\\Desktop\\plaka_tanima\\test_data\\Car_Traffic_short.mp4: 384x640 (no detections), 110.2ms\n",
      "video 1/1 (frame 277/2880) c:\\Users\\havva\\OneDrive\\Desktop\\plaka_tanima\\test_data\\Car_Traffic_short.mp4: 384x640 (no detections), 107.7ms\n",
      "video 1/1 (frame 278/2880) c:\\Users\\havva\\OneDrive\\Desktop\\plaka_tanima\\test_data\\Car_Traffic_short.mp4: 384x640 (no detections), 109.7ms\n",
      "video 1/1 (frame 279/2880) c:\\Users\\havva\\OneDrive\\Desktop\\plaka_tanima\\test_data\\Car_Traffic_short.mp4: 384x640 (no detections), 111.7ms\n",
      "video 1/1 (frame 280/2880) c:\\Users\\havva\\OneDrive\\Desktop\\plaka_tanima\\test_data\\Car_Traffic_short.mp4: 384x640 (no detections), 105.7ms\n",
      "video 1/1 (frame 281/2880) c:\\Users\\havva\\OneDrive\\Desktop\\plaka_tanima\\test_data\\Car_Traffic_short.mp4: 384x640 (no detections), 114.7ms\n",
      "video 1/1 (frame 282/2880) c:\\Users\\havva\\OneDrive\\Desktop\\plaka_tanima\\test_data\\Car_Traffic_short.mp4: 384x640 (no detections), 109.7ms\n",
      "video 1/1 (frame 283/2880) c:\\Users\\havva\\OneDrive\\Desktop\\plaka_tanima\\test_data\\Car_Traffic_short.mp4: 384x640 (no detections), 112.7ms\n",
      "video 1/1 (frame 284/2880) c:\\Users\\havva\\OneDrive\\Desktop\\plaka_tanima\\test_data\\Car_Traffic_short.mp4: 384x640 (no detections), 108.7ms\n",
      "video 1/1 (frame 285/2880) c:\\Users\\havva\\OneDrive\\Desktop\\plaka_tanima\\test_data\\Car_Traffic_short.mp4: 384x640 (no detections), 109.7ms\n",
      "video 1/1 (frame 286/2880) c:\\Users\\havva\\OneDrive\\Desktop\\plaka_tanima\\test_data\\Car_Traffic_short.mp4: 384x640 (no detections), 104.7ms\n",
      "video 1/1 (frame 287/2880) c:\\Users\\havva\\OneDrive\\Desktop\\plaka_tanima\\test_data\\Car_Traffic_short.mp4: 384x640 (no detections), 109.7ms\n",
      "video 1/1 (frame 288/2880) c:\\Users\\havva\\OneDrive\\Desktop\\plaka_tanima\\test_data\\Car_Traffic_short.mp4: 384x640 (no detections), 107.7ms\n",
      "video 1/1 (frame 289/2880) c:\\Users\\havva\\OneDrive\\Desktop\\plaka_tanima\\test_data\\Car_Traffic_short.mp4: 384x640 (no detections), 111.7ms\n",
      "video 1/1 (frame 290/2880) c:\\Users\\havva\\OneDrive\\Desktop\\plaka_tanima\\test_data\\Car_Traffic_short.mp4: 384x640 (no detections), 103.7ms\n",
      "video 1/1 (frame 291/2880) c:\\Users\\havva\\OneDrive\\Desktop\\plaka_tanima\\test_data\\Car_Traffic_short.mp4: 384x640 (no detections), 109.7ms\n",
      "video 1/1 (frame 292/2880) c:\\Users\\havva\\OneDrive\\Desktop\\plaka_tanima\\test_data\\Car_Traffic_short.mp4: 384x640 (no detections), 106.8ms\n",
      "video 1/1 (frame 293/2880) c:\\Users\\havva\\OneDrive\\Desktop\\plaka_tanima\\test_data\\Car_Traffic_short.mp4: 384x640 (no detections), 111.7ms\n",
      "video 1/1 (frame 294/2880) c:\\Users\\havva\\OneDrive\\Desktop\\plaka_tanima\\test_data\\Car_Traffic_short.mp4: 384x640 (no detections), 110.7ms\n",
      "video 1/1 (frame 295/2880) c:\\Users\\havva\\OneDrive\\Desktop\\plaka_tanima\\test_data\\Car_Traffic_short.mp4: 384x640 (no detections), 108.7ms\n",
      "video 1/1 (frame 296/2880) c:\\Users\\havva\\OneDrive\\Desktop\\plaka_tanima\\test_data\\Car_Traffic_short.mp4: 384x640 (no detections), 109.7ms\n",
      "video 1/1 (frame 297/2880) c:\\Users\\havva\\OneDrive\\Desktop\\plaka_tanima\\test_data\\Car_Traffic_short.mp4: 384x640 (no detections), 108.7ms\n",
      "video 1/1 (frame 298/2880) c:\\Users\\havva\\OneDrive\\Desktop\\plaka_tanima\\test_data\\Car_Traffic_short.mp4: 384x640 (no detections), 113.8ms\n",
      "video 1/1 (frame 299/2880) c:\\Users\\havva\\OneDrive\\Desktop\\plaka_tanima\\test_data\\Car_Traffic_short.mp4: 384x640 (no detections), 108.7ms\n",
      "video 1/1 (frame 300/2880) c:\\Users\\havva\\OneDrive\\Desktop\\plaka_tanima\\test_data\\Car_Traffic_short.mp4: 384x640 (no detections), 116.7ms\n",
      "video 1/1 (frame 301/2880) c:\\Users\\havva\\OneDrive\\Desktop\\plaka_tanima\\test_data\\Car_Traffic_short.mp4: 384x640 (no detections), 171.5ms\n",
      "video 1/1 (frame 302/2880) c:\\Users\\havva\\OneDrive\\Desktop\\plaka_tanima\\test_data\\Car_Traffic_short.mp4: 384x640 (no detections), 108.7ms\n",
      "video 1/1 (frame 303/2880) c:\\Users\\havva\\OneDrive\\Desktop\\plaka_tanima\\test_data\\Car_Traffic_short.mp4: 384x640 (no detections), 112.7ms\n",
      "video 1/1 (frame 304/2880) c:\\Users\\havva\\OneDrive\\Desktop\\plaka_tanima\\test_data\\Car_Traffic_short.mp4: 384x640 (no detections), 110.7ms\n",
      "video 1/1 (frame 305/2880) c:\\Users\\havva\\OneDrive\\Desktop\\plaka_tanima\\test_data\\Car_Traffic_short.mp4: 384x640 (no detections), 106.7ms\n",
      "video 1/1 (frame 306/2880) c:\\Users\\havva\\OneDrive\\Desktop\\plaka_tanima\\test_data\\Car_Traffic_short.mp4: 384x640 (no detections), 111.7ms\n",
      "video 1/1 (frame 307/2880) c:\\Users\\havva\\OneDrive\\Desktop\\plaka_tanima\\test_data\\Car_Traffic_short.mp4: 384x640 (no detections), 105.9ms\n",
      "video 1/1 (frame 308/2880) c:\\Users\\havva\\OneDrive\\Desktop\\plaka_tanima\\test_data\\Car_Traffic_short.mp4: 384x640 (no detections), 109.7ms\n",
      "video 1/1 (frame 309/2880) c:\\Users\\havva\\OneDrive\\Desktop\\plaka_tanima\\test_data\\Car_Traffic_short.mp4: 384x640 (no detections), 129.5ms\n",
      "video 1/1 (frame 310/2880) c:\\Users\\havva\\OneDrive\\Desktop\\plaka_tanima\\test_data\\Car_Traffic_short.mp4: 384x640 (no detections), 114.7ms\n",
      "video 1/1 (frame 311/2880) c:\\Users\\havva\\OneDrive\\Desktop\\plaka_tanima\\test_data\\Car_Traffic_short.mp4: 384x640 (no detections), 108.7ms\n",
      "video 1/1 (frame 312/2880) c:\\Users\\havva\\OneDrive\\Desktop\\plaka_tanima\\test_data\\Car_Traffic_short.mp4: 384x640 (no detections), 111.7ms\n",
      "video 1/1 (frame 313/2880) c:\\Users\\havva\\OneDrive\\Desktop\\plaka_tanima\\test_data\\Car_Traffic_short.mp4: 384x640 (no detections), 108.8ms\n",
      "video 1/1 (frame 314/2880) c:\\Users\\havva\\OneDrive\\Desktop\\plaka_tanima\\test_data\\Car_Traffic_short.mp4: 384x640 (no detections), 110.7ms\n",
      "video 1/1 (frame 315/2880) c:\\Users\\havva\\OneDrive\\Desktop\\plaka_tanima\\test_data\\Car_Traffic_short.mp4: 384x640 (no detections), 107.7ms\n",
      "video 1/1 (frame 316/2880) c:\\Users\\havva\\OneDrive\\Desktop\\plaka_tanima\\test_data\\Car_Traffic_short.mp4: 384x640 (no detections), 105.7ms\n",
      "video 1/1 (frame 317/2880) c:\\Users\\havva\\OneDrive\\Desktop\\plaka_tanima\\test_data\\Car_Traffic_short.mp4: 384x640 (no detections), 108.7ms\n",
      "video 1/1 (frame 318/2880) c:\\Users\\havva\\OneDrive\\Desktop\\plaka_tanima\\test_data\\Car_Traffic_short.mp4: 384x640 (no detections), 109.8ms\n",
      "video 1/1 (frame 319/2880) c:\\Users\\havva\\OneDrive\\Desktop\\plaka_tanima\\test_data\\Car_Traffic_short.mp4: 384x640 (no detections), 112.4ms\n",
      "video 1/1 (frame 320/2880) c:\\Users\\havva\\OneDrive\\Desktop\\plaka_tanima\\test_data\\Car_Traffic_short.mp4: 384x640 (no detections), 111.7ms\n",
      "video 1/1 (frame 321/2880) c:\\Users\\havva\\OneDrive\\Desktop\\plaka_tanima\\test_data\\Car_Traffic_short.mp4: 384x640 (no detections), 105.7ms\n",
      "video 1/1 (frame 322/2880) c:\\Users\\havva\\OneDrive\\Desktop\\plaka_tanima\\test_data\\Car_Traffic_short.mp4: 384x640 (no detections), 111.7ms\n",
      "video 1/1 (frame 323/2880) c:\\Users\\havva\\OneDrive\\Desktop\\plaka_tanima\\test_data\\Car_Traffic_short.mp4: 384x640 (no detections), 114.7ms\n",
      "video 1/1 (frame 324/2880) c:\\Users\\havva\\OneDrive\\Desktop\\plaka_tanima\\test_data\\Car_Traffic_short.mp4: 384x640 (no detections), 111.8ms\n",
      "video 1/1 (frame 325/2880) c:\\Users\\havva\\OneDrive\\Desktop\\plaka_tanima\\test_data\\Car_Traffic_short.mp4: 384x640 (no detections), 114.7ms\n",
      "video 1/1 (frame 326/2880) c:\\Users\\havva\\OneDrive\\Desktop\\plaka_tanima\\test_data\\Car_Traffic_short.mp4: 384x640 (no detections), 107.7ms\n",
      "video 1/1 (frame 327/2880) c:\\Users\\havva\\OneDrive\\Desktop\\plaka_tanima\\test_data\\Car_Traffic_short.mp4: 384x640 (no detections), 110.7ms\n",
      "video 1/1 (frame 328/2880) c:\\Users\\havva\\OneDrive\\Desktop\\plaka_tanima\\test_data\\Car_Traffic_short.mp4: 384x640 (no detections), 114.7ms\n",
      "video 1/1 (frame 329/2880) c:\\Users\\havva\\OneDrive\\Desktop\\plaka_tanima\\test_data\\Car_Traffic_short.mp4: 384x640 (no detections), 109.7ms\n",
      "video 1/1 (frame 330/2880) c:\\Users\\havva\\OneDrive\\Desktop\\plaka_tanima\\test_data\\Car_Traffic_short.mp4: 384x640 (no detections), 110.7ms\n",
      "video 1/1 (frame 331/2880) c:\\Users\\havva\\OneDrive\\Desktop\\plaka_tanima\\test_data\\Car_Traffic_short.mp4: 384x640 (no detections), 109.7ms\n",
      "video 1/1 (frame 332/2880) c:\\Users\\havva\\OneDrive\\Desktop\\plaka_tanima\\test_data\\Car_Traffic_short.mp4: 384x640 (no detections), 107.4ms\n",
      "video 1/1 (frame 333/2880) c:\\Users\\havva\\OneDrive\\Desktop\\plaka_tanima\\test_data\\Car_Traffic_short.mp4: 384x640 (no detections), 111.7ms\n",
      "video 1/1 (frame 334/2880) c:\\Users\\havva\\OneDrive\\Desktop\\plaka_tanima\\test_data\\Car_Traffic_short.mp4: 384x640 (no detections), 108.7ms\n",
      "video 1/1 (frame 335/2880) c:\\Users\\havva\\OneDrive\\Desktop\\plaka_tanima\\test_data\\Car_Traffic_short.mp4: 384x640 (no detections), 113.7ms\n",
      "video 1/1 (frame 336/2880) c:\\Users\\havva\\OneDrive\\Desktop\\plaka_tanima\\test_data\\Car_Traffic_short.mp4: 384x640 (no detections), 112.7ms\n",
      "video 1/1 (frame 337/2880) c:\\Users\\havva\\OneDrive\\Desktop\\plaka_tanima\\test_data\\Car_Traffic_short.mp4: 384x640 (no detections), 112.6ms\n",
      "video 1/1 (frame 338/2880) c:\\Users\\havva\\OneDrive\\Desktop\\plaka_tanima\\test_data\\Car_Traffic_short.mp4: 384x640 (no detections), 107.1ms\n",
      "video 1/1 (frame 339/2880) c:\\Users\\havva\\OneDrive\\Desktop\\plaka_tanima\\test_data\\Car_Traffic_short.mp4: 384x640 (no detections), 107.7ms\n",
      "video 1/1 (frame 340/2880) c:\\Users\\havva\\OneDrive\\Desktop\\plaka_tanima\\test_data\\Car_Traffic_short.mp4: 384x640 (no detections), 111.7ms\n",
      "video 1/1 (frame 341/2880) c:\\Users\\havva\\OneDrive\\Desktop\\plaka_tanima\\test_data\\Car_Traffic_short.mp4: 384x640 (no detections), 109.7ms\n",
      "video 1/1 (frame 342/2880) c:\\Users\\havva\\OneDrive\\Desktop\\plaka_tanima\\test_data\\Car_Traffic_short.mp4: 384x640 (no detections), 112.7ms\n",
      "video 1/1 (frame 343/2880) c:\\Users\\havva\\OneDrive\\Desktop\\plaka_tanima\\test_data\\Car_Traffic_short.mp4: 384x640 (no detections), 104.7ms\n",
      "video 1/1 (frame 344/2880) c:\\Users\\havva\\OneDrive\\Desktop\\plaka_tanima\\test_data\\Car_Traffic_short.mp4: 384x640 (no detections), 111.7ms\n",
      "video 1/1 (frame 345/2880) c:\\Users\\havva\\OneDrive\\Desktop\\plaka_tanima\\test_data\\Car_Traffic_short.mp4: 384x640 (no detections), 106.2ms\n",
      "video 1/1 (frame 346/2880) c:\\Users\\havva\\OneDrive\\Desktop\\plaka_tanima\\test_data\\Car_Traffic_short.mp4: 384x640 (no detections), 127.7ms\n",
      "video 1/1 (frame 347/2880) c:\\Users\\havva\\OneDrive\\Desktop\\plaka_tanima\\test_data\\Car_Traffic_short.mp4: 384x640 (no detections), 112.7ms\n",
      "video 1/1 (frame 348/2880) c:\\Users\\havva\\OneDrive\\Desktop\\plaka_tanima\\test_data\\Car_Traffic_short.mp4: 384x640 (no detections), 108.7ms\n",
      "video 1/1 (frame 349/2880) c:\\Users\\havva\\OneDrive\\Desktop\\plaka_tanima\\test_data\\Car_Traffic_short.mp4: 384x640 (no detections), 114.7ms\n",
      "video 1/1 (frame 350/2880) c:\\Users\\havva\\OneDrive\\Desktop\\plaka_tanima\\test_data\\Car_Traffic_short.mp4: 384x640 (no detections), 111.7ms\n",
      "video 1/1 (frame 351/2880) c:\\Users\\havva\\OneDrive\\Desktop\\plaka_tanima\\test_data\\Car_Traffic_short.mp4: 384x640 (no detections), 123.7ms\n",
      "video 1/1 (frame 352/2880) c:\\Users\\havva\\OneDrive\\Desktop\\plaka_tanima\\test_data\\Car_Traffic_short.mp4: 384x640 (no detections), 155.6ms\n",
      "video 1/1 (frame 353/2880) c:\\Users\\havva\\OneDrive\\Desktop\\plaka_tanima\\test_data\\Car_Traffic_short.mp4: 384x640 (no detections), 146.6ms\n",
      "video 1/1 (frame 354/2880) c:\\Users\\havva\\OneDrive\\Desktop\\plaka_tanima\\test_data\\Car_Traffic_short.mp4: 384x640 (no detections), 128.7ms\n",
      "video 1/1 (frame 355/2880) c:\\Users\\havva\\OneDrive\\Desktop\\plaka_tanima\\test_data\\Car_Traffic_short.mp4: 384x640 (no detections), 115.7ms\n",
      "video 1/1 (frame 356/2880) c:\\Users\\havva\\OneDrive\\Desktop\\plaka_tanima\\test_data\\Car_Traffic_short.mp4: 384x640 (no detections), 111.7ms\n",
      "video 1/1 (frame 357/2880) c:\\Users\\havva\\OneDrive\\Desktop\\plaka_tanima\\test_data\\Car_Traffic_short.mp4: 384x640 (no detections), 113.7ms\n",
      "video 1/1 (frame 358/2880) c:\\Users\\havva\\OneDrive\\Desktop\\plaka_tanima\\test_data\\Car_Traffic_short.mp4: 384x640 (no detections), 109.7ms\n",
      "video 1/1 (frame 359/2880) c:\\Users\\havva\\OneDrive\\Desktop\\plaka_tanima\\test_data\\Car_Traffic_short.mp4: 384x640 (no detections), 111.7ms\n",
      "video 1/1 (frame 360/2880) c:\\Users\\havva\\OneDrive\\Desktop\\plaka_tanima\\test_data\\Car_Traffic_short.mp4: 384x640 (no detections), 107.2ms\n",
      "video 1/1 (frame 361/2880) c:\\Users\\havva\\OneDrive\\Desktop\\plaka_tanima\\test_data\\Car_Traffic_short.mp4: 384x640 (no detections), 113.7ms\n",
      "video 1/1 (frame 362/2880) c:\\Users\\havva\\OneDrive\\Desktop\\plaka_tanima\\test_data\\Car_Traffic_short.mp4: 384x640 (no detections), 111.7ms\n",
      "video 1/1 (frame 363/2880) c:\\Users\\havva\\OneDrive\\Desktop\\plaka_tanima\\test_data\\Car_Traffic_short.mp4: 384x640 (no detections), 110.7ms\n",
      "video 1/1 (frame 364/2880) c:\\Users\\havva\\OneDrive\\Desktop\\plaka_tanima\\test_data\\Car_Traffic_short.mp4: 384x640 (no detections), 105.7ms\n",
      "video 1/1 (frame 365/2880) c:\\Users\\havva\\OneDrive\\Desktop\\plaka_tanima\\test_data\\Car_Traffic_short.mp4: 384x640 (no detections), 108.7ms\n",
      "video 1/1 (frame 366/2880) c:\\Users\\havva\\OneDrive\\Desktop\\plaka_tanima\\test_data\\Car_Traffic_short.mp4: 384x640 (no detections), 106.6ms\n",
      "video 1/1 (frame 367/2880) c:\\Users\\havva\\OneDrive\\Desktop\\plaka_tanima\\test_data\\Car_Traffic_short.mp4: 384x640 (no detections), 115.7ms\n",
      "video 1/1 (frame 368/2880) c:\\Users\\havva\\OneDrive\\Desktop\\plaka_tanima\\test_data\\Car_Traffic_short.mp4: 384x640 (no detections), 109.7ms\n",
      "video 1/1 (frame 369/2880) c:\\Users\\havva\\OneDrive\\Desktop\\plaka_tanima\\test_data\\Car_Traffic_short.mp4: 384x640 (no detections), 117.8ms\n",
      "video 1/1 (frame 370/2880) c:\\Users\\havva\\OneDrive\\Desktop\\plaka_tanima\\test_data\\Car_Traffic_short.mp4: 384x640 (no detections), 111.7ms\n",
      "video 1/1 (frame 371/2880) c:\\Users\\havva\\OneDrive\\Desktop\\plaka_tanima\\test_data\\Car_Traffic_short.mp4: 384x640 (no detections), 106.7ms\n",
      "video 1/1 (frame 372/2880) c:\\Users\\havva\\OneDrive\\Desktop\\plaka_tanima\\test_data\\Car_Traffic_short.mp4: 384x640 (no detections), 111.7ms\n",
      "video 1/1 (frame 373/2880) c:\\Users\\havva\\OneDrive\\Desktop\\plaka_tanima\\test_data\\Car_Traffic_short.mp4: 384x640 (no detections), 109.7ms\n",
      "video 1/1 (frame 374/2880) c:\\Users\\havva\\OneDrive\\Desktop\\plaka_tanima\\test_data\\Car_Traffic_short.mp4: 384x640 (no detections), 108.7ms\n",
      "video 1/1 (frame 375/2880) c:\\Users\\havva\\OneDrive\\Desktop\\plaka_tanima\\test_data\\Car_Traffic_short.mp4: 384x640 (no detections), 113.6ms\n",
      "video 1/1 (frame 376/2880) c:\\Users\\havva\\OneDrive\\Desktop\\plaka_tanima\\test_data\\Car_Traffic_short.mp4: 384x640 (no detections), 134.6ms\n",
      "video 1/1 (frame 377/2880) c:\\Users\\havva\\OneDrive\\Desktop\\plaka_tanima\\test_data\\Car_Traffic_short.mp4: 384x640 (no detections), 124.7ms\n",
      "video 1/1 (frame 378/2880) c:\\Users\\havva\\OneDrive\\Desktop\\plaka_tanima\\test_data\\Car_Traffic_short.mp4: 384x640 (no detections), 137.6ms\n",
      "video 1/1 (frame 379/2880) c:\\Users\\havva\\OneDrive\\Desktop\\plaka_tanima\\test_data\\Car_Traffic_short.mp4: 384x640 (no detections), 135.7ms\n",
      "video 1/1 (frame 380/2880) c:\\Users\\havva\\OneDrive\\Desktop\\plaka_tanima\\test_data\\Car_Traffic_short.mp4: 384x640 (no detections), 111.7ms\n",
      "video 1/1 (frame 381/2880) c:\\Users\\havva\\OneDrive\\Desktop\\plaka_tanima\\test_data\\Car_Traffic_short.mp4: 384x640 (no detections), 107.7ms\n",
      "video 1/1 (frame 382/2880) c:\\Users\\havva\\OneDrive\\Desktop\\plaka_tanima\\test_data\\Car_Traffic_short.mp4: 384x640 (no detections), 115.7ms\n",
      "video 1/1 (frame 383/2880) c:\\Users\\havva\\OneDrive\\Desktop\\plaka_tanima\\test_data\\Car_Traffic_short.mp4: 384x640 (no detections), 109.7ms\n",
      "video 1/1 (frame 384/2880) c:\\Users\\havva\\OneDrive\\Desktop\\plaka_tanima\\test_data\\Car_Traffic_short.mp4: 384x640 (no detections), 109.7ms\n",
      "video 1/1 (frame 385/2880) c:\\Users\\havva\\OneDrive\\Desktop\\plaka_tanima\\test_data\\Car_Traffic_short.mp4: 384x640 (no detections), 104.7ms\n",
      "video 1/1 (frame 386/2880) c:\\Users\\havva\\OneDrive\\Desktop\\plaka_tanima\\test_data\\Car_Traffic_short.mp4: 384x640 (no detections), 107.7ms\n",
      "video 1/1 (frame 387/2880) c:\\Users\\havva\\OneDrive\\Desktop\\plaka_tanima\\test_data\\Car_Traffic_short.mp4: 384x640 (no detections), 113.6ms\n",
      "video 1/1 (frame 388/2880) c:\\Users\\havva\\OneDrive\\Desktop\\plaka_tanima\\test_data\\Car_Traffic_short.mp4: 384x640 (no detections), 117.7ms\n",
      "video 1/1 (frame 389/2880) c:\\Users\\havva\\OneDrive\\Desktop\\plaka_tanima\\test_data\\Car_Traffic_short.mp4: 384x640 (no detections), 114.7ms\n",
      "video 1/1 (frame 390/2880) c:\\Users\\havva\\OneDrive\\Desktop\\plaka_tanima\\test_data\\Car_Traffic_short.mp4: 384x640 (no detections), 112.7ms\n",
      "video 1/1 (frame 391/2880) c:\\Users\\havva\\OneDrive\\Desktop\\plaka_tanima\\test_data\\Car_Traffic_short.mp4: 384x640 (no detections), 111.7ms\n",
      "video 1/1 (frame 392/2880) c:\\Users\\havva\\OneDrive\\Desktop\\plaka_tanima\\test_data\\Car_Traffic_short.mp4: 384x640 (no detections), 109.7ms\n",
      "video 1/1 (frame 393/2880) c:\\Users\\havva\\OneDrive\\Desktop\\plaka_tanima\\test_data\\Car_Traffic_short.mp4: 384x640 (no detections), 109.7ms\n",
      "video 1/1 (frame 394/2880) c:\\Users\\havva\\OneDrive\\Desktop\\plaka_tanima\\test_data\\Car_Traffic_short.mp4: 384x640 (no detections), 106.7ms\n",
      "video 1/1 (frame 395/2880) c:\\Users\\havva\\OneDrive\\Desktop\\plaka_tanima\\test_data\\Car_Traffic_short.mp4: 384x640 (no detections), 111.7ms\n",
      "video 1/1 (frame 396/2880) c:\\Users\\havva\\OneDrive\\Desktop\\plaka_tanima\\test_data\\Car_Traffic_short.mp4: 384x640 (no detections), 112.7ms\n",
      "video 1/1 (frame 397/2880) c:\\Users\\havva\\OneDrive\\Desktop\\plaka_tanima\\test_data\\Car_Traffic_short.mp4: 384x640 (no detections), 113.7ms\n",
      "video 1/1 (frame 398/2880) c:\\Users\\havva\\OneDrive\\Desktop\\plaka_tanima\\test_data\\Car_Traffic_short.mp4: 384x640 (no detections), 171.5ms\n",
      "video 1/1 (frame 399/2880) c:\\Users\\havva\\OneDrive\\Desktop\\plaka_tanima\\test_data\\Car_Traffic_short.mp4: 384x640 (no detections), 122.7ms\n",
      "video 1/1 (frame 400/2880) c:\\Users\\havva\\OneDrive\\Desktop\\plaka_tanima\\test_data\\Car_Traffic_short.mp4: 384x640 (no detections), 110.7ms\n",
      "video 1/1 (frame 401/2880) c:\\Users\\havva\\OneDrive\\Desktop\\plaka_tanima\\test_data\\Car_Traffic_short.mp4: 384x640 (no detections), 104.7ms\n",
      "video 1/1 (frame 402/2880) c:\\Users\\havva\\OneDrive\\Desktop\\plaka_tanima\\test_data\\Car_Traffic_short.mp4: 384x640 (no detections), 111.7ms\n",
      "video 1/1 (frame 403/2880) c:\\Users\\havva\\OneDrive\\Desktop\\plaka_tanima\\test_data\\Car_Traffic_short.mp4: 384x640 (no detections), 112.7ms\n",
      "video 1/1 (frame 404/2880) c:\\Users\\havva\\OneDrive\\Desktop\\plaka_tanima\\test_data\\Car_Traffic_short.mp4: 384x640 (no detections), 109.7ms\n",
      "video 1/1 (frame 405/2880) c:\\Users\\havva\\OneDrive\\Desktop\\plaka_tanima\\test_data\\Car_Traffic_short.mp4: 384x640 (no detections), 108.7ms\n",
      "video 1/1 (frame 406/2880) c:\\Users\\havva\\OneDrive\\Desktop\\plaka_tanima\\test_data\\Car_Traffic_short.mp4: 384x640 (no detections), 111.7ms\n",
      "video 1/1 (frame 407/2880) c:\\Users\\havva\\OneDrive\\Desktop\\plaka_tanima\\test_data\\Car_Traffic_short.mp4: 384x640 (no detections), 112.7ms\n",
      "video 1/1 (frame 408/2880) c:\\Users\\havva\\OneDrive\\Desktop\\plaka_tanima\\test_data\\Car_Traffic_short.mp4: 384x640 (no detections), 114.7ms\n",
      "video 1/1 (frame 409/2880) c:\\Users\\havva\\OneDrive\\Desktop\\plaka_tanima\\test_data\\Car_Traffic_short.mp4: 384x640 (no detections), 120.7ms\n",
      "video 1/1 (frame 410/2880) c:\\Users\\havva\\OneDrive\\Desktop\\plaka_tanima\\test_data\\Car_Traffic_short.mp4: 384x640 (no detections), 142.6ms\n",
      "video 1/1 (frame 411/2880) c:\\Users\\havva\\OneDrive\\Desktop\\plaka_tanima\\test_data\\Car_Traffic_short.mp4: 384x640 (no detections), 112.7ms\n",
      "video 1/1 (frame 412/2880) c:\\Users\\havva\\OneDrive\\Desktop\\plaka_tanima\\test_data\\Car_Traffic_short.mp4: 384x640 (no detections), 111.7ms\n",
      "video 1/1 (frame 413/2880) c:\\Users\\havva\\OneDrive\\Desktop\\plaka_tanima\\test_data\\Car_Traffic_short.mp4: 384x640 (no detections), 118.7ms\n",
      "video 1/1 (frame 414/2880) c:\\Users\\havva\\OneDrive\\Desktop\\plaka_tanima\\test_data\\Car_Traffic_short.mp4: 384x640 (no detections), 165.6ms\n",
      "video 1/1 (frame 415/2880) c:\\Users\\havva\\OneDrive\\Desktop\\plaka_tanima\\test_data\\Car_Traffic_short.mp4: 384x640 (no detections), 169.5ms\n",
      "video 1/1 (frame 416/2880) c:\\Users\\havva\\OneDrive\\Desktop\\plaka_tanima\\test_data\\Car_Traffic_short.mp4: 384x640 (no detections), 119.7ms\n",
      "video 1/1 (frame 417/2880) c:\\Users\\havva\\OneDrive\\Desktop\\plaka_tanima\\test_data\\Car_Traffic_short.mp4: 384x640 (no detections), 114.7ms\n",
      "video 1/1 (frame 418/2880) c:\\Users\\havva\\OneDrive\\Desktop\\plaka_tanima\\test_data\\Car_Traffic_short.mp4: 384x640 (no detections), 170.4ms\n",
      "video 1/1 (frame 419/2880) c:\\Users\\havva\\OneDrive\\Desktop\\plaka_tanima\\test_data\\Car_Traffic_short.mp4: 384x640 (no detections), 151.6ms\n",
      "video 1/1 (frame 420/2880) c:\\Users\\havva\\OneDrive\\Desktop\\plaka_tanima\\test_data\\Car_Traffic_short.mp4: 384x640 (no detections), 140.6ms\n",
      "video 1/1 (frame 421/2880) c:\\Users\\havva\\OneDrive\\Desktop\\plaka_tanima\\test_data\\Car_Traffic_short.mp4: 384x640 (no detections), 144.6ms\n",
      "video 1/1 (frame 422/2880) c:\\Users\\havva\\OneDrive\\Desktop\\plaka_tanima\\test_data\\Car_Traffic_short.mp4: 384x640 (no detections), 166.6ms\n",
      "video 1/1 (frame 423/2880) c:\\Users\\havva\\OneDrive\\Desktop\\plaka_tanima\\test_data\\Car_Traffic_short.mp4: 384x640 (no detections), 169.5ms\n",
      "video 1/1 (frame 424/2880) c:\\Users\\havva\\OneDrive\\Desktop\\plaka_tanima\\test_data\\Car_Traffic_short.mp4: 384x640 (no detections), 155.6ms\n",
      "video 1/1 (frame 425/2880) c:\\Users\\havva\\OneDrive\\Desktop\\plaka_tanima\\test_data\\Car_Traffic_short.mp4: 384x640 (no detections), 140.5ms\n",
      "video 1/1 (frame 426/2880) c:\\Users\\havva\\OneDrive\\Desktop\\plaka_tanima\\test_data\\Car_Traffic_short.mp4: 384x640 (no detections), 124.7ms\n",
      "video 1/1 (frame 427/2880) c:\\Users\\havva\\OneDrive\\Desktop\\plaka_tanima\\test_data\\Car_Traffic_short.mp4: 384x640 (no detections), 118.7ms\n",
      "video 1/1 (frame 428/2880) c:\\Users\\havva\\OneDrive\\Desktop\\plaka_tanima\\test_data\\Car_Traffic_short.mp4: 384x640 (no detections), 115.7ms\n",
      "video 1/1 (frame 429/2880) c:\\Users\\havva\\OneDrive\\Desktop\\plaka_tanima\\test_data\\Car_Traffic_short.mp4: 384x640 (no detections), 144.6ms\n",
      "video 1/1 (frame 430/2880) c:\\Users\\havva\\OneDrive\\Desktop\\plaka_tanima\\test_data\\Car_Traffic_short.mp4: 384x640 (no detections), 123.6ms\n",
      "video 1/1 (frame 431/2880) c:\\Users\\havva\\OneDrive\\Desktop\\plaka_tanima\\test_data\\Car_Traffic_short.mp4: 384x640 (no detections), 144.6ms\n",
      "video 1/1 (frame 432/2880) c:\\Users\\havva\\OneDrive\\Desktop\\plaka_tanima\\test_data\\Car_Traffic_short.mp4: 384x640 (no detections), 121.8ms\n",
      "video 1/1 (frame 433/2880) c:\\Users\\havva\\OneDrive\\Desktop\\plaka_tanima\\test_data\\Car_Traffic_short.mp4: 384x640 (no detections), 116.7ms\n",
      "video 1/1 (frame 434/2880) c:\\Users\\havva\\OneDrive\\Desktop\\plaka_tanima\\test_data\\Car_Traffic_short.mp4: 384x640 (no detections), 122.7ms\n",
      "video 1/1 (frame 435/2880) c:\\Users\\havva\\OneDrive\\Desktop\\plaka_tanima\\test_data\\Car_Traffic_short.mp4: 384x640 (no detections), 116.7ms\n",
      "video 1/1 (frame 436/2880) c:\\Users\\havva\\OneDrive\\Desktop\\plaka_tanima\\test_data\\Car_Traffic_short.mp4: 384x640 (no detections), 107.7ms\n",
      "video 1/1 (frame 437/2880) c:\\Users\\havva\\OneDrive\\Desktop\\plaka_tanima\\test_data\\Car_Traffic_short.mp4: 384x640 (no detections), 122.7ms\n",
      "video 1/1 (frame 438/2880) c:\\Users\\havva\\OneDrive\\Desktop\\plaka_tanima\\test_data\\Car_Traffic_short.mp4: 384x640 (no detections), 122.7ms\n",
      "video 1/1 (frame 439/2880) c:\\Users\\havva\\OneDrive\\Desktop\\plaka_tanima\\test_data\\Car_Traffic_short.mp4: 384x640 (no detections), 128.7ms\n",
      "video 1/1 (frame 440/2880) c:\\Users\\havva\\OneDrive\\Desktop\\plaka_tanima\\test_data\\Car_Traffic_short.mp4: 384x640 (no detections), 110.7ms\n",
      "video 1/1 (frame 441/2880) c:\\Users\\havva\\OneDrive\\Desktop\\plaka_tanima\\test_data\\Car_Traffic_short.mp4: 384x640 (no detections), 116.7ms\n",
      "video 1/1 (frame 442/2880) c:\\Users\\havva\\OneDrive\\Desktop\\plaka_tanima\\test_data\\Car_Traffic_short.mp4: 384x640 (no detections), 108.7ms\n",
      "video 1/1 (frame 443/2880) c:\\Users\\havva\\OneDrive\\Desktop\\plaka_tanima\\test_data\\Car_Traffic_short.mp4: 384x640 (no detections), 110.9ms\n",
      "video 1/1 (frame 444/2880) c:\\Users\\havva\\OneDrive\\Desktop\\plaka_tanima\\test_data\\Car_Traffic_short.mp4: 384x640 (no detections), 112.7ms\n",
      "video 1/1 (frame 445/2880) c:\\Users\\havva\\OneDrive\\Desktop\\plaka_tanima\\test_data\\Car_Traffic_short.mp4: 384x640 (no detections), 118.7ms\n",
      "video 1/1 (frame 446/2880) c:\\Users\\havva\\OneDrive\\Desktop\\plaka_tanima\\test_data\\Car_Traffic_short.mp4: 384x640 (no detections), 113.7ms\n",
      "video 1/1 (frame 447/2880) c:\\Users\\havva\\OneDrive\\Desktop\\plaka_tanima\\test_data\\Car_Traffic_short.mp4: 384x640 (no detections), 111.7ms\n",
      "video 1/1 (frame 448/2880) c:\\Users\\havva\\OneDrive\\Desktop\\plaka_tanima\\test_data\\Car_Traffic_short.mp4: 384x640 (no detections), 111.7ms\n",
      "video 1/1 (frame 449/2880) c:\\Users\\havva\\OneDrive\\Desktop\\plaka_tanima\\test_data\\Car_Traffic_short.mp4: 384x640 (no detections), 112.7ms\n",
      "video 1/1 (frame 450/2880) c:\\Users\\havva\\OneDrive\\Desktop\\plaka_tanima\\test_data\\Car_Traffic_short.mp4: 384x640 (no detections), 117.7ms\n",
      "video 1/1 (frame 451/2880) c:\\Users\\havva\\OneDrive\\Desktop\\plaka_tanima\\test_data\\Car_Traffic_short.mp4: 384x640 (no detections), 113.7ms\n",
      "video 1/1 (frame 452/2880) c:\\Users\\havva\\OneDrive\\Desktop\\plaka_tanima\\test_data\\Car_Traffic_short.mp4: 384x640 (no detections), 126.7ms\n",
      "video 1/1 (frame 453/2880) c:\\Users\\havva\\OneDrive\\Desktop\\plaka_tanima\\test_data\\Car_Traffic_short.mp4: 384x640 (no detections), 121.6ms\n",
      "video 1/1 (frame 454/2880) c:\\Users\\havva\\OneDrive\\Desktop\\plaka_tanima\\test_data\\Car_Traffic_short.mp4: 384x640 (no detections), 119.7ms\n",
      "video 1/1 (frame 455/2880) c:\\Users\\havva\\OneDrive\\Desktop\\plaka_tanima\\test_data\\Car_Traffic_short.mp4: 384x640 (no detections), 122.7ms\n",
      "video 1/1 (frame 456/2880) c:\\Users\\havva\\OneDrive\\Desktop\\plaka_tanima\\test_data\\Car_Traffic_short.mp4: 384x640 (no detections), 125.7ms\n",
      "video 1/1 (frame 457/2880) c:\\Users\\havva\\OneDrive\\Desktop\\plaka_tanima\\test_data\\Car_Traffic_short.mp4: 384x640 (no detections), 124.7ms\n",
      "video 1/1 (frame 458/2880) c:\\Users\\havva\\OneDrive\\Desktop\\plaka_tanima\\test_data\\Car_Traffic_short.mp4: 384x640 (no detections), 118.7ms\n",
      "video 1/1 (frame 459/2880) c:\\Users\\havva\\OneDrive\\Desktop\\plaka_tanima\\test_data\\Car_Traffic_short.mp4: 384x640 (no detections), 153.7ms\n",
      "video 1/1 (frame 460/2880) c:\\Users\\havva\\OneDrive\\Desktop\\plaka_tanima\\test_data\\Car_Traffic_short.mp4: 384x640 (no detections), 146.6ms\n",
      "video 1/1 (frame 461/2880) c:\\Users\\havva\\OneDrive\\Desktop\\plaka_tanima\\test_data\\Car_Traffic_short.mp4: 384x640 (no detections), 143.6ms\n",
      "video 1/1 (frame 462/2880) c:\\Users\\havva\\OneDrive\\Desktop\\plaka_tanima\\test_data\\Car_Traffic_short.mp4: 384x640 (no detections), 122.7ms\n",
      "video 1/1 (frame 463/2880) c:\\Users\\havva\\OneDrive\\Desktop\\plaka_tanima\\test_data\\Car_Traffic_short.mp4: 384x640 (no detections), 119.4ms\n",
      "video 1/1 (frame 464/2880) c:\\Users\\havva\\OneDrive\\Desktop\\plaka_tanima\\test_data\\Car_Traffic_short.mp4: 384x640 (no detections), 118.8ms\n",
      "video 1/1 (frame 465/2880) c:\\Users\\havva\\OneDrive\\Desktop\\plaka_tanima\\test_data\\Car_Traffic_short.mp4: 384x640 (no detections), 114.4ms\n",
      "video 1/1 (frame 466/2880) c:\\Users\\havva\\OneDrive\\Desktop\\plaka_tanima\\test_data\\Car_Traffic_short.mp4: 384x640 (no detections), 129.9ms\n",
      "video 1/1 (frame 467/2880) c:\\Users\\havva\\OneDrive\\Desktop\\plaka_tanima\\test_data\\Car_Traffic_short.mp4: 384x640 (no detections), 113.9ms\n",
      "video 1/1 (frame 468/2880) c:\\Users\\havva\\OneDrive\\Desktop\\plaka_tanima\\test_data\\Car_Traffic_short.mp4: 384x640 (no detections), 123.2ms\n",
      "video 1/1 (frame 469/2880) c:\\Users\\havva\\OneDrive\\Desktop\\plaka_tanima\\test_data\\Car_Traffic_short.mp4: 384x640 (no detections), 111.5ms\n",
      "video 1/1 (frame 470/2880) c:\\Users\\havva\\OneDrive\\Desktop\\plaka_tanima\\test_data\\Car_Traffic_short.mp4: 384x640 (no detections), 111.5ms\n",
      "video 1/1 (frame 471/2880) c:\\Users\\havva\\OneDrive\\Desktop\\plaka_tanima\\test_data\\Car_Traffic_short.mp4: 384x640 (no detections), 110.3ms\n",
      "video 1/1 (frame 472/2880) c:\\Users\\havva\\OneDrive\\Desktop\\plaka_tanima\\test_data\\Car_Traffic_short.mp4: 384x640 (no detections), 112.0ms\n",
      "video 1/1 (frame 473/2880) c:\\Users\\havva\\OneDrive\\Desktop\\plaka_tanima\\test_data\\Car_Traffic_short.mp4: 384x640 (no detections), 111.9ms\n",
      "video 1/1 (frame 474/2880) c:\\Users\\havva\\OneDrive\\Desktop\\plaka_tanima\\test_data\\Car_Traffic_short.mp4: 384x640 (no detections), 114.7ms\n",
      "video 1/1 (frame 475/2880) c:\\Users\\havva\\OneDrive\\Desktop\\plaka_tanima\\test_data\\Car_Traffic_short.mp4: 384x640 (no detections), 115.3ms\n",
      "video 1/1 (frame 476/2880) c:\\Users\\havva\\OneDrive\\Desktop\\plaka_tanima\\test_data\\Car_Traffic_short.mp4: 384x640 (no detections), 109.4ms\n",
      "video 1/1 (frame 477/2880) c:\\Users\\havva\\OneDrive\\Desktop\\plaka_tanima\\test_data\\Car_Traffic_short.mp4: 384x640 (no detections), 110.5ms\n",
      "video 1/1 (frame 478/2880) c:\\Users\\havva\\OneDrive\\Desktop\\plaka_tanima\\test_data\\Car_Traffic_short.mp4: 384x640 (no detections), 113.5ms\n",
      "video 1/1 (frame 479/2880) c:\\Users\\havva\\OneDrive\\Desktop\\plaka_tanima\\test_data\\Car_Traffic_short.mp4: 384x640 (no detections), 111.4ms\n",
      "video 1/1 (frame 480/2880) c:\\Users\\havva\\OneDrive\\Desktop\\plaka_tanima\\test_data\\Car_Traffic_short.mp4: 384x640 (no detections), 108.9ms\n",
      "video 1/1 (frame 481/2880) c:\\Users\\havva\\OneDrive\\Desktop\\plaka_tanima\\test_data\\Car_Traffic_short.mp4: 384x640 (no detections), 111.6ms\n",
      "video 1/1 (frame 482/2880) c:\\Users\\havva\\OneDrive\\Desktop\\plaka_tanima\\test_data\\Car_Traffic_short.mp4: 384x640 (no detections), 114.1ms\n",
      "video 1/1 (frame 483/2880) c:\\Users\\havva\\OneDrive\\Desktop\\plaka_tanima\\test_data\\Car_Traffic_short.mp4: 384x640 (no detections), 112.8ms\n",
      "video 1/1 (frame 484/2880) c:\\Users\\havva\\OneDrive\\Desktop\\plaka_tanima\\test_data\\Car_Traffic_short.mp4: 384x640 (no detections), 112.5ms\n",
      "video 1/1 (frame 485/2880) c:\\Users\\havva\\OneDrive\\Desktop\\plaka_tanima\\test_data\\Car_Traffic_short.mp4: 384x640 (no detections), 110.7ms\n",
      "video 1/1 (frame 486/2880) c:\\Users\\havva\\OneDrive\\Desktop\\plaka_tanima\\test_data\\Car_Traffic_short.mp4: 384x640 (no detections), 111.3ms\n",
      "video 1/1 (frame 487/2880) c:\\Users\\havva\\OneDrive\\Desktop\\plaka_tanima\\test_data\\Car_Traffic_short.mp4: 384x640 (no detections), 111.6ms\n",
      "video 1/1 (frame 488/2880) c:\\Users\\havva\\OneDrive\\Desktop\\plaka_tanima\\test_data\\Car_Traffic_short.mp4: 384x640 (no detections), 130.4ms\n",
      "video 1/1 (frame 489/2880) c:\\Users\\havva\\OneDrive\\Desktop\\plaka_tanima\\test_data\\Car_Traffic_short.mp4: 384x640 (no detections), 122.0ms\n",
      "video 1/1 (frame 490/2880) c:\\Users\\havva\\OneDrive\\Desktop\\plaka_tanima\\test_data\\Car_Traffic_short.mp4: 384x640 (no detections), 112.7ms\n",
      "video 1/1 (frame 491/2880) c:\\Users\\havva\\OneDrive\\Desktop\\plaka_tanima\\test_data\\Car_Traffic_short.mp4: 384x640 (no detections), 110.2ms\n",
      "video 1/1 (frame 492/2880) c:\\Users\\havva\\OneDrive\\Desktop\\plaka_tanima\\test_data\\Car_Traffic_short.mp4: 384x640 (no detections), 131.0ms\n",
      "video 1/1 (frame 493/2880) c:\\Users\\havva\\OneDrive\\Desktop\\plaka_tanima\\test_data\\Car_Traffic_short.mp4: 384x640 (no detections), 116.4ms\n",
      "video 1/1 (frame 494/2880) c:\\Users\\havva\\OneDrive\\Desktop\\plaka_tanima\\test_data\\Car_Traffic_short.mp4: 384x640 (no detections), 114.0ms\n",
      "video 1/1 (frame 495/2880) c:\\Users\\havva\\OneDrive\\Desktop\\plaka_tanima\\test_data\\Car_Traffic_short.mp4: 384x640 (no detections), 116.5ms\n",
      "video 1/1 (frame 496/2880) c:\\Users\\havva\\OneDrive\\Desktop\\plaka_tanima\\test_data\\Car_Traffic_short.mp4: 384x640 (no detections), 128.5ms\n",
      "video 1/1 (frame 497/2880) c:\\Users\\havva\\OneDrive\\Desktop\\plaka_tanima\\test_data\\Car_Traffic_short.mp4: 384x640 (no detections), 112.0ms\n",
      "video 1/1 (frame 498/2880) c:\\Users\\havva\\OneDrive\\Desktop\\plaka_tanima\\test_data\\Car_Traffic_short.mp4: 384x640 (no detections), 116.2ms\n",
      "video 1/1 (frame 499/2880) c:\\Users\\havva\\OneDrive\\Desktop\\plaka_tanima\\test_data\\Car_Traffic_short.mp4: 384x640 (no detections), 113.8ms\n",
      "video 1/1 (frame 500/2880) c:\\Users\\havva\\OneDrive\\Desktop\\plaka_tanima\\test_data\\Car_Traffic_short.mp4: 384x640 (no detections), 117.4ms\n",
      "video 1/1 (frame 501/2880) c:\\Users\\havva\\OneDrive\\Desktop\\plaka_tanima\\test_data\\Car_Traffic_short.mp4: 384x640 (no detections), 111.6ms\n",
      "video 1/1 (frame 502/2880) c:\\Users\\havva\\OneDrive\\Desktop\\plaka_tanima\\test_data\\Car_Traffic_short.mp4: 384x640 (no detections), 112.8ms\n",
      "video 1/1 (frame 503/2880) c:\\Users\\havva\\OneDrive\\Desktop\\plaka_tanima\\test_data\\Car_Traffic_short.mp4: 384x640 (no detections), 112.6ms\n",
      "video 1/1 (frame 504/2880) c:\\Users\\havva\\OneDrive\\Desktop\\plaka_tanima\\test_data\\Car_Traffic_short.mp4: 384x640 (no detections), 170.7ms\n",
      "video 1/1 (frame 505/2880) c:\\Users\\havva\\OneDrive\\Desktop\\plaka_tanima\\test_data\\Car_Traffic_short.mp4: 384x640 (no detections), 110.9ms\n",
      "video 1/1 (frame 506/2880) c:\\Users\\havva\\OneDrive\\Desktop\\plaka_tanima\\test_data\\Car_Traffic_short.mp4: 384x640 (no detections), 108.1ms\n",
      "video 1/1 (frame 507/2880) c:\\Users\\havva\\OneDrive\\Desktop\\plaka_tanima\\test_data\\Car_Traffic_short.mp4: 384x640 (no detections), 109.4ms\n",
      "video 1/1 (frame 508/2880) c:\\Users\\havva\\OneDrive\\Desktop\\plaka_tanima\\test_data\\Car_Traffic_short.mp4: 384x640 (no detections), 108.0ms\n",
      "video 1/1 (frame 509/2880) c:\\Users\\havva\\OneDrive\\Desktop\\plaka_tanima\\test_data\\Car_Traffic_short.mp4: 384x640 (no detections), 113.2ms\n",
      "video 1/1 (frame 510/2880) c:\\Users\\havva\\OneDrive\\Desktop\\plaka_tanima\\test_data\\Car_Traffic_short.mp4: 384x640 (no detections), 107.6ms\n",
      "video 1/1 (frame 511/2880) c:\\Users\\havva\\OneDrive\\Desktop\\plaka_tanima\\test_data\\Car_Traffic_short.mp4: 384x640 (no detections), 125.2ms\n",
      "video 1/1 (frame 512/2880) c:\\Users\\havva\\OneDrive\\Desktop\\plaka_tanima\\test_data\\Car_Traffic_short.mp4: 384x640 (no detections), 116.1ms\n",
      "video 1/1 (frame 513/2880) c:\\Users\\havva\\OneDrive\\Desktop\\plaka_tanima\\test_data\\Car_Traffic_short.mp4: 384x640 (no detections), 108.8ms\n",
      "video 1/1 (frame 514/2880) c:\\Users\\havva\\OneDrive\\Desktop\\plaka_tanima\\test_data\\Car_Traffic_short.mp4: 384x640 (no detections), 112.4ms\n",
      "video 1/1 (frame 515/2880) c:\\Users\\havva\\OneDrive\\Desktop\\plaka_tanima\\test_data\\Car_Traffic_short.mp4: 384x640 (no detections), 108.8ms\n",
      "video 1/1 (frame 516/2880) c:\\Users\\havva\\OneDrive\\Desktop\\plaka_tanima\\test_data\\Car_Traffic_short.mp4: 384x640 (no detections), 128.9ms\n",
      "video 1/1 (frame 517/2880) c:\\Users\\havva\\OneDrive\\Desktop\\plaka_tanima\\test_data\\Car_Traffic_short.mp4: 384x640 (no detections), 109.0ms\n",
      "video 1/1 (frame 518/2880) c:\\Users\\havva\\OneDrive\\Desktop\\plaka_tanima\\test_data\\Car_Traffic_short.mp4: 384x640 (no detections), 104.4ms\n",
      "video 1/1 (frame 519/2880) c:\\Users\\havva\\OneDrive\\Desktop\\plaka_tanima\\test_data\\Car_Traffic_short.mp4: 384x640 (no detections), 111.8ms\n",
      "video 1/1 (frame 520/2880) c:\\Users\\havva\\OneDrive\\Desktop\\plaka_tanima\\test_data\\Car_Traffic_short.mp4: 384x640 (no detections), 120.0ms\n",
      "video 1/1 (frame 521/2880) c:\\Users\\havva\\OneDrive\\Desktop\\plaka_tanima\\test_data\\Car_Traffic_short.mp4: 384x640 (no detections), 113.0ms\n",
      "video 1/1 (frame 522/2880) c:\\Users\\havva\\OneDrive\\Desktop\\plaka_tanima\\test_data\\Car_Traffic_short.mp4: 384x640 (no detections), 115.0ms\n",
      "video 1/1 (frame 523/2880) c:\\Users\\havva\\OneDrive\\Desktop\\plaka_tanima\\test_data\\Car_Traffic_short.mp4: 384x640 (no detections), 112.1ms\n",
      "video 1/1 (frame 524/2880) c:\\Users\\havva\\OneDrive\\Desktop\\plaka_tanima\\test_data\\Car_Traffic_short.mp4: 384x640 (no detections), 110.4ms\n",
      "video 1/1 (frame 525/2880) c:\\Users\\havva\\OneDrive\\Desktop\\plaka_tanima\\test_data\\Car_Traffic_short.mp4: 384x640 (no detections), 112.6ms\n",
      "video 1/1 (frame 526/2880) c:\\Users\\havva\\OneDrive\\Desktop\\plaka_tanima\\test_data\\Car_Traffic_short.mp4: 384x640 (no detections), 109.3ms\n",
      "video 1/1 (frame 527/2880) c:\\Users\\havva\\OneDrive\\Desktop\\plaka_tanima\\test_data\\Car_Traffic_short.mp4: 384x640 (no detections), 112.0ms\n",
      "video 1/1 (frame 528/2880) c:\\Users\\havva\\OneDrive\\Desktop\\plaka_tanima\\test_data\\Car_Traffic_short.mp4: 384x640 (no detections), 109.7ms\n",
      "video 1/1 (frame 529/2880) c:\\Users\\havva\\OneDrive\\Desktop\\plaka_tanima\\test_data\\Car_Traffic_short.mp4: 384x640 (no detections), 114.9ms\n",
      "video 1/1 (frame 530/2880) c:\\Users\\havva\\OneDrive\\Desktop\\plaka_tanima\\test_data\\Car_Traffic_short.mp4: 384x640 (no detections), 116.5ms\n",
      "video 1/1 (frame 531/2880) c:\\Users\\havva\\OneDrive\\Desktop\\plaka_tanima\\test_data\\Car_Traffic_short.mp4: 384x640 (no detections), 120.1ms\n",
      "video 1/1 (frame 532/2880) c:\\Users\\havva\\OneDrive\\Desktop\\plaka_tanima\\test_data\\Car_Traffic_short.mp4: 384x640 (no detections), 112.4ms\n",
      "video 1/1 (frame 533/2880) c:\\Users\\havva\\OneDrive\\Desktop\\plaka_tanima\\test_data\\Car_Traffic_short.mp4: 384x640 (no detections), 113.6ms\n",
      "video 1/1 (frame 534/2880) c:\\Users\\havva\\OneDrive\\Desktop\\plaka_tanima\\test_data\\Car_Traffic_short.mp4: 384x640 (no detections), 113.8ms\n",
      "video 1/1 (frame 535/2880) c:\\Users\\havva\\OneDrive\\Desktop\\plaka_tanima\\test_data\\Car_Traffic_short.mp4: 384x640 (no detections), 114.7ms\n",
      "video 1/1 (frame 536/2880) c:\\Users\\havva\\OneDrive\\Desktop\\plaka_tanima\\test_data\\Car_Traffic_short.mp4: 384x640 (no detections), 116.3ms\n",
      "video 1/1 (frame 537/2880) c:\\Users\\havva\\OneDrive\\Desktop\\plaka_tanima\\test_data\\Car_Traffic_short.mp4: 384x640 (no detections), 115.3ms\n",
      "video 1/1 (frame 538/2880) c:\\Users\\havva\\OneDrive\\Desktop\\plaka_tanima\\test_data\\Car_Traffic_short.mp4: 384x640 (no detections), 113.2ms\n",
      "video 1/1 (frame 539/2880) c:\\Users\\havva\\OneDrive\\Desktop\\plaka_tanima\\test_data\\Car_Traffic_short.mp4: 384x640 (no detections), 114.1ms\n",
      "video 1/1 (frame 540/2880) c:\\Users\\havva\\OneDrive\\Desktop\\plaka_tanima\\test_data\\Car_Traffic_short.mp4: 384x640 (no detections), 132.4ms\n",
      "video 1/1 (frame 541/2880) c:\\Users\\havva\\OneDrive\\Desktop\\plaka_tanima\\test_data\\Car_Traffic_short.mp4: 384x640 (no detections), 122.1ms\n",
      "video 1/1 (frame 542/2880) c:\\Users\\havva\\OneDrive\\Desktop\\plaka_tanima\\test_data\\Car_Traffic_short.mp4: 384x640 (no detections), 114.9ms\n",
      "video 1/1 (frame 543/2880) c:\\Users\\havva\\OneDrive\\Desktop\\plaka_tanima\\test_data\\Car_Traffic_short.mp4: 384x640 (no detections), 118.2ms\n",
      "video 1/1 (frame 544/2880) c:\\Users\\havva\\OneDrive\\Desktop\\plaka_tanima\\test_data\\Car_Traffic_short.mp4: 384x640 (no detections), 110.5ms\n",
      "video 1/1 (frame 545/2880) c:\\Users\\havva\\OneDrive\\Desktop\\plaka_tanima\\test_data\\Car_Traffic_short.mp4: 384x640 (no detections), 109.8ms\n",
      "video 1/1 (frame 546/2880) c:\\Users\\havva\\OneDrive\\Desktop\\plaka_tanima\\test_data\\Car_Traffic_short.mp4: 384x640 (no detections), 111.8ms\n",
      "video 1/1 (frame 547/2880) c:\\Users\\havva\\OneDrive\\Desktop\\plaka_tanima\\test_data\\Car_Traffic_short.mp4: 384x640 (no detections), 115.6ms\n",
      "video 1/1 (frame 548/2880) c:\\Users\\havva\\OneDrive\\Desktop\\plaka_tanima\\test_data\\Car_Traffic_short.mp4: 384x640 (no detections), 112.0ms\n",
      "video 1/1 (frame 549/2880) c:\\Users\\havva\\OneDrive\\Desktop\\plaka_tanima\\test_data\\Car_Traffic_short.mp4: 384x640 (no detections), 113.6ms\n",
      "video 1/1 (frame 550/2880) c:\\Users\\havva\\OneDrive\\Desktop\\plaka_tanima\\test_data\\Car_Traffic_short.mp4: 384x640 (no detections), 114.1ms\n",
      "video 1/1 (frame 551/2880) c:\\Users\\havva\\OneDrive\\Desktop\\plaka_tanima\\test_data\\Car_Traffic_short.mp4: 384x640 (no detections), 113.3ms\n",
      "video 1/1 (frame 552/2880) c:\\Users\\havva\\OneDrive\\Desktop\\plaka_tanima\\test_data\\Car_Traffic_short.mp4: 384x640 (no detections), 118.5ms\n",
      "video 1/1 (frame 553/2880) c:\\Users\\havva\\OneDrive\\Desktop\\plaka_tanima\\test_data\\Car_Traffic_short.mp4: 384x640 (no detections), 130.5ms\n",
      "video 1/1 (frame 554/2880) c:\\Users\\havva\\OneDrive\\Desktop\\plaka_tanima\\test_data\\Car_Traffic_short.mp4: 384x640 (no detections), 125.3ms\n",
      "video 1/1 (frame 555/2880) c:\\Users\\havva\\OneDrive\\Desktop\\plaka_tanima\\test_data\\Car_Traffic_short.mp4: 384x640 (no detections), 123.7ms\n",
      "video 1/1 (frame 556/2880) c:\\Users\\havva\\OneDrive\\Desktop\\plaka_tanima\\test_data\\Car_Traffic_short.mp4: 384x640 (no detections), 137.8ms\n",
      "video 1/1 (frame 557/2880) c:\\Users\\havva\\OneDrive\\Desktop\\plaka_tanima\\test_data\\Car_Traffic_short.mp4: 384x640 (no detections), 127.2ms\n",
      "video 1/1 (frame 558/2880) c:\\Users\\havva\\OneDrive\\Desktop\\plaka_tanima\\test_data\\Car_Traffic_short.mp4: 384x640 (no detections), 118.1ms\n",
      "video 1/1 (frame 559/2880) c:\\Users\\havva\\OneDrive\\Desktop\\plaka_tanima\\test_data\\Car_Traffic_short.mp4: 384x640 (no detections), 126.6ms\n",
      "video 1/1 (frame 560/2880) c:\\Users\\havva\\OneDrive\\Desktop\\plaka_tanima\\test_data\\Car_Traffic_short.mp4: 384x640 (no detections), 129.9ms\n",
      "video 1/1 (frame 561/2880) c:\\Users\\havva\\OneDrive\\Desktop\\plaka_tanima\\test_data\\Car_Traffic_short.mp4: 384x640 (no detections), 142.8ms\n",
      "video 1/1 (frame 562/2880) c:\\Users\\havva\\OneDrive\\Desktop\\plaka_tanima\\test_data\\Car_Traffic_short.mp4: 384x640 (no detections), 137.3ms\n",
      "video 1/1 (frame 563/2880) c:\\Users\\havva\\OneDrive\\Desktop\\plaka_tanima\\test_data\\Car_Traffic_short.mp4: 384x640 (no detections), 113.0ms\n",
      "video 1/1 (frame 564/2880) c:\\Users\\havva\\OneDrive\\Desktop\\plaka_tanima\\test_data\\Car_Traffic_short.mp4: 384x640 (no detections), 182.7ms\n",
      "video 1/1 (frame 565/2880) c:\\Users\\havva\\OneDrive\\Desktop\\plaka_tanima\\test_data\\Car_Traffic_short.mp4: 384x640 (no detections), 122.7ms\n",
      "video 1/1 (frame 566/2880) c:\\Users\\havva\\OneDrive\\Desktop\\plaka_tanima\\test_data\\Car_Traffic_short.mp4: 384x640 (no detections), 115.2ms\n",
      "video 1/1 (frame 567/2880) c:\\Users\\havva\\OneDrive\\Desktop\\plaka_tanima\\test_data\\Car_Traffic_short.mp4: 384x640 (no detections), 124.1ms\n",
      "video 1/1 (frame 568/2880) c:\\Users\\havva\\OneDrive\\Desktop\\plaka_tanima\\test_data\\Car_Traffic_short.mp4: 384x640 (no detections), 129.5ms\n",
      "video 1/1 (frame 569/2880) c:\\Users\\havva\\OneDrive\\Desktop\\plaka_tanima\\test_data\\Car_Traffic_short.mp4: 384x640 (no detections), 124.0ms\n",
      "video 1/1 (frame 570/2880) c:\\Users\\havva\\OneDrive\\Desktop\\plaka_tanima\\test_data\\Car_Traffic_short.mp4: 384x640 (no detections), 116.9ms\n",
      "video 1/1 (frame 571/2880) c:\\Users\\havva\\OneDrive\\Desktop\\plaka_tanima\\test_data\\Car_Traffic_short.mp4: 384x640 (no detections), 117.7ms\n",
      "video 1/1 (frame 572/2880) c:\\Users\\havva\\OneDrive\\Desktop\\plaka_tanima\\test_data\\Car_Traffic_short.mp4: 384x640 (no detections), 129.7ms\n",
      "video 1/1 (frame 573/2880) c:\\Users\\havva\\OneDrive\\Desktop\\plaka_tanima\\test_data\\Car_Traffic_short.mp4: 384x640 (no detections), 116.9ms\n",
      "video 1/1 (frame 574/2880) c:\\Users\\havva\\OneDrive\\Desktop\\plaka_tanima\\test_data\\Car_Traffic_short.mp4: 384x640 (no detections), 116.9ms\n",
      "video 1/1 (frame 575/2880) c:\\Users\\havva\\OneDrive\\Desktop\\plaka_tanima\\test_data\\Car_Traffic_short.mp4: 384x640 (no detections), 111.5ms\n",
      "video 1/1 (frame 576/2880) c:\\Users\\havva\\OneDrive\\Desktop\\plaka_tanima\\test_data\\Car_Traffic_short.mp4: 384x640 (no detections), 112.8ms\n",
      "video 1/1 (frame 577/2880) c:\\Users\\havva\\OneDrive\\Desktop\\plaka_tanima\\test_data\\Car_Traffic_short.mp4: 384x640 (no detections), 132.7ms\n",
      "video 1/1 (frame 578/2880) c:\\Users\\havva\\OneDrive\\Desktop\\plaka_tanima\\test_data\\Car_Traffic_short.mp4: 384x640 (no detections), 114.4ms\n",
      "video 1/1 (frame 579/2880) c:\\Users\\havva\\OneDrive\\Desktop\\plaka_tanima\\test_data\\Car_Traffic_short.mp4: 384x640 (no detections), 108.1ms\n",
      "video 1/1 (frame 580/2880) c:\\Users\\havva\\OneDrive\\Desktop\\plaka_tanima\\test_data\\Car_Traffic_short.mp4: 384x640 (no detections), 122.9ms\n",
      "video 1/1 (frame 581/2880) c:\\Users\\havva\\OneDrive\\Desktop\\plaka_tanima\\test_data\\Car_Traffic_short.mp4: 384x640 (no detections), 114.8ms\n",
      "video 1/1 (frame 582/2880) c:\\Users\\havva\\OneDrive\\Desktop\\plaka_tanima\\test_data\\Car_Traffic_short.mp4: 384x640 (no detections), 117.2ms\n",
      "video 1/1 (frame 583/2880) c:\\Users\\havva\\OneDrive\\Desktop\\plaka_tanima\\test_data\\Car_Traffic_short.mp4: 384x640 (no detections), 149.5ms\n",
      "video 1/1 (frame 584/2880) c:\\Users\\havva\\OneDrive\\Desktop\\plaka_tanima\\test_data\\Car_Traffic_short.mp4: 384x640 (no detections), 132.0ms\n",
      "video 1/1 (frame 585/2880) c:\\Users\\havva\\OneDrive\\Desktop\\plaka_tanima\\test_data\\Car_Traffic_short.mp4: 384x640 (no detections), 129.8ms\n",
      "video 1/1 (frame 586/2880) c:\\Users\\havva\\OneDrive\\Desktop\\plaka_tanima\\test_data\\Car_Traffic_short.mp4: 384x640 (no detections), 117.9ms\n",
      "video 1/1 (frame 587/2880) c:\\Users\\havva\\OneDrive\\Desktop\\plaka_tanima\\test_data\\Car_Traffic_short.mp4: 384x640 (no detections), 119.6ms\n",
      "video 1/1 (frame 588/2880) c:\\Users\\havva\\OneDrive\\Desktop\\plaka_tanima\\test_data\\Car_Traffic_short.mp4: 384x640 (no detections), 126.1ms\n",
      "video 1/1 (frame 589/2880) c:\\Users\\havva\\OneDrive\\Desktop\\plaka_tanima\\test_data\\Car_Traffic_short.mp4: 384x640 (no detections), 123.5ms\n",
      "video 1/1 (frame 590/2880) c:\\Users\\havva\\OneDrive\\Desktop\\plaka_tanima\\test_data\\Car_Traffic_short.mp4: 384x640 (no detections), 122.1ms\n",
      "video 1/1 (frame 591/2880) c:\\Users\\havva\\OneDrive\\Desktop\\plaka_tanima\\test_data\\Car_Traffic_short.mp4: 384x640 (no detections), 129.3ms\n",
      "video 1/1 (frame 592/2880) c:\\Users\\havva\\OneDrive\\Desktop\\plaka_tanima\\test_data\\Car_Traffic_short.mp4: 384x640 (no detections), 256.9ms\n",
      "video 1/1 (frame 593/2880) c:\\Users\\havva\\OneDrive\\Desktop\\plaka_tanima\\test_data\\Car_Traffic_short.mp4: 384x640 (no detections), 143.4ms\n",
      "video 1/1 (frame 594/2880) c:\\Users\\havva\\OneDrive\\Desktop\\plaka_tanima\\test_data\\Car_Traffic_short.mp4: 384x640 (no detections), 189.6ms\n",
      "video 1/1 (frame 595/2880) c:\\Users\\havva\\OneDrive\\Desktop\\plaka_tanima\\test_data\\Car_Traffic_short.mp4: 384x640 (no detections), 132.3ms\n",
      "video 1/1 (frame 596/2880) c:\\Users\\havva\\OneDrive\\Desktop\\plaka_tanima\\test_data\\Car_Traffic_short.mp4: 384x640 (no detections), 161.1ms\n",
      "video 1/1 (frame 597/2880) c:\\Users\\havva\\OneDrive\\Desktop\\plaka_tanima\\test_data\\Car_Traffic_short.mp4: 384x640 (no detections), 130.2ms\n",
      "video 1/1 (frame 598/2880) c:\\Users\\havva\\OneDrive\\Desktop\\plaka_tanima\\test_data\\Car_Traffic_short.mp4: 384x640 (no detections), 127.1ms\n",
      "video 1/1 (frame 599/2880) c:\\Users\\havva\\OneDrive\\Desktop\\plaka_tanima\\test_data\\Car_Traffic_short.mp4: 384x640 (no detections), 240.0ms\n",
      "video 1/1 (frame 600/2880) c:\\Users\\havva\\OneDrive\\Desktop\\plaka_tanima\\test_data\\Car_Traffic_short.mp4: 384x640 (no detections), 116.7ms\n",
      "video 1/1 (frame 601/2880) c:\\Users\\havva\\OneDrive\\Desktop\\plaka_tanima\\test_data\\Car_Traffic_short.mp4: 384x640 (no detections), 147.3ms\n",
      "video 1/1 (frame 602/2880) c:\\Users\\havva\\OneDrive\\Desktop\\plaka_tanima\\test_data\\Car_Traffic_short.mp4: 384x640 (no detections), 124.8ms\n",
      "video 1/1 (frame 603/2880) c:\\Users\\havva\\OneDrive\\Desktop\\plaka_tanima\\test_data\\Car_Traffic_short.mp4: 384x640 (no detections), 112.1ms\n",
      "video 1/1 (frame 604/2880) c:\\Users\\havva\\OneDrive\\Desktop\\plaka_tanima\\test_data\\Car_Traffic_short.mp4: 384x640 (no detections), 112.9ms\n",
      "video 1/1 (frame 605/2880) c:\\Users\\havva\\OneDrive\\Desktop\\plaka_tanima\\test_data\\Car_Traffic_short.mp4: 384x640 (no detections), 143.3ms\n",
      "video 1/1 (frame 606/2880) c:\\Users\\havva\\OneDrive\\Desktop\\plaka_tanima\\test_data\\Car_Traffic_short.mp4: 384x640 (no detections), 110.1ms\n",
      "video 1/1 (frame 607/2880) c:\\Users\\havva\\OneDrive\\Desktop\\plaka_tanima\\test_data\\Car_Traffic_short.mp4: 384x640 (no detections), 107.7ms\n",
      "video 1/1 (frame 608/2880) c:\\Users\\havva\\OneDrive\\Desktop\\plaka_tanima\\test_data\\Car_Traffic_short.mp4: 384x640 (no detections), 115.0ms\n",
      "video 1/1 (frame 609/2880) c:\\Users\\havva\\OneDrive\\Desktop\\plaka_tanima\\test_data\\Car_Traffic_short.mp4: 384x640 (no detections), 137.6ms\n",
      "video 1/1 (frame 610/2880) c:\\Users\\havva\\OneDrive\\Desktop\\plaka_tanima\\test_data\\Car_Traffic_short.mp4: 384x640 (no detections), 153.4ms\n",
      "video 1/1 (frame 611/2880) c:\\Users\\havva\\OneDrive\\Desktop\\plaka_tanima\\test_data\\Car_Traffic_short.mp4: 384x640 (no detections), 182.2ms\n",
      "video 1/1 (frame 612/2880) c:\\Users\\havva\\OneDrive\\Desktop\\plaka_tanima\\test_data\\Car_Traffic_short.mp4: 384x640 (no detections), 192.2ms\n",
      "video 1/1 (frame 613/2880) c:\\Users\\havva\\OneDrive\\Desktop\\plaka_tanima\\test_data\\Car_Traffic_short.mp4: 384x640 (no detections), 162.5ms\n",
      "video 1/1 (frame 614/2880) c:\\Users\\havva\\OneDrive\\Desktop\\plaka_tanima\\test_data\\Car_Traffic_short.mp4: 384x640 (no detections), 223.9ms\n",
      "video 1/1 (frame 615/2880) c:\\Users\\havva\\OneDrive\\Desktop\\plaka_tanima\\test_data\\Car_Traffic_short.mp4: 384x640 (no detections), 118.7ms\n",
      "video 1/1 (frame 616/2880) c:\\Users\\havva\\OneDrive\\Desktop\\plaka_tanima\\test_data\\Car_Traffic_short.mp4: 384x640 (no detections), 116.3ms\n",
      "video 1/1 (frame 617/2880) c:\\Users\\havva\\OneDrive\\Desktop\\plaka_tanima\\test_data\\Car_Traffic_short.mp4: 384x640 (no detections), 109.4ms\n",
      "video 1/1 (frame 618/2880) c:\\Users\\havva\\OneDrive\\Desktop\\plaka_tanima\\test_data\\Car_Traffic_short.mp4: 384x640 (no detections), 115.6ms\n",
      "video 1/1 (frame 619/2880) c:\\Users\\havva\\OneDrive\\Desktop\\plaka_tanima\\test_data\\Car_Traffic_short.mp4: 384x640 (no detections), 111.1ms\n",
      "video 1/1 (frame 620/2880) c:\\Users\\havva\\OneDrive\\Desktop\\plaka_tanima\\test_data\\Car_Traffic_short.mp4: 384x640 (no detections), 124.2ms\n",
      "video 1/1 (frame 621/2880) c:\\Users\\havva\\OneDrive\\Desktop\\plaka_tanima\\test_data\\Car_Traffic_short.mp4: 384x640 (no detections), 118.8ms\n",
      "video 1/1 (frame 622/2880) c:\\Users\\havva\\OneDrive\\Desktop\\plaka_tanima\\test_data\\Car_Traffic_short.mp4: 384x640 (no detections), 117.1ms\n",
      "video 1/1 (frame 623/2880) c:\\Users\\havva\\OneDrive\\Desktop\\plaka_tanima\\test_data\\Car_Traffic_short.mp4: 384x640 (no detections), 116.9ms\n",
      "video 1/1 (frame 624/2880) c:\\Users\\havva\\OneDrive\\Desktop\\plaka_tanima\\test_data\\Car_Traffic_short.mp4: 384x640 (no detections), 120.4ms\n",
      "video 1/1 (frame 625/2880) c:\\Users\\havva\\OneDrive\\Desktop\\plaka_tanima\\test_data\\Car_Traffic_short.mp4: 384x640 (no detections), 111.4ms\n",
      "video 1/1 (frame 626/2880) c:\\Users\\havva\\OneDrive\\Desktop\\plaka_tanima\\test_data\\Car_Traffic_short.mp4: 384x640 (no detections), 142.1ms\n",
      "video 1/1 (frame 627/2880) c:\\Users\\havva\\OneDrive\\Desktop\\plaka_tanima\\test_data\\Car_Traffic_short.mp4: 384x640 (no detections), 127.2ms\n",
      "video 1/1 (frame 628/2880) c:\\Users\\havva\\OneDrive\\Desktop\\plaka_tanima\\test_data\\Car_Traffic_short.mp4: 384x640 (no detections), 149.4ms\n",
      "video 1/1 (frame 629/2880) c:\\Users\\havva\\OneDrive\\Desktop\\plaka_tanima\\test_data\\Car_Traffic_short.mp4: 384x640 (no detections), 127.3ms\n",
      "video 1/1 (frame 630/2880) c:\\Users\\havva\\OneDrive\\Desktop\\plaka_tanima\\test_data\\Car_Traffic_short.mp4: 384x640 (no detections), 120.1ms\n",
      "video 1/1 (frame 631/2880) c:\\Users\\havva\\OneDrive\\Desktop\\plaka_tanima\\test_data\\Car_Traffic_short.mp4: 384x640 (no detections), 118.7ms\n",
      "video 1/1 (frame 632/2880) c:\\Users\\havva\\OneDrive\\Desktop\\plaka_tanima\\test_data\\Car_Traffic_short.mp4: 384x640 (no detections), 119.1ms\n",
      "video 1/1 (frame 633/2880) c:\\Users\\havva\\OneDrive\\Desktop\\plaka_tanima\\test_data\\Car_Traffic_short.mp4: 384x640 (no detections), 122.6ms\n",
      "video 1/1 (frame 634/2880) c:\\Users\\havva\\OneDrive\\Desktop\\plaka_tanima\\test_data\\Car_Traffic_short.mp4: 384x640 (no detections), 111.6ms\n",
      "video 1/1 (frame 635/2880) c:\\Users\\havva\\OneDrive\\Desktop\\plaka_tanima\\test_data\\Car_Traffic_short.mp4: 384x640 (no detections), 118.5ms\n",
      "video 1/1 (frame 636/2880) c:\\Users\\havva\\OneDrive\\Desktop\\plaka_tanima\\test_data\\Car_Traffic_short.mp4: 384x640 (no detections), 114.8ms\n",
      "video 1/1 (frame 637/2880) c:\\Users\\havva\\OneDrive\\Desktop\\plaka_tanima\\test_data\\Car_Traffic_short.mp4: 384x640 (no detections), 115.8ms\n",
      "video 1/1 (frame 638/2880) c:\\Users\\havva\\OneDrive\\Desktop\\plaka_tanima\\test_data\\Car_Traffic_short.mp4: 384x640 (no detections), 146.8ms\n",
      "video 1/1 (frame 639/2880) c:\\Users\\havva\\OneDrive\\Desktop\\plaka_tanima\\test_data\\Car_Traffic_short.mp4: 384x640 (no detections), 164.6ms\n",
      "video 1/1 (frame 640/2880) c:\\Users\\havva\\OneDrive\\Desktop\\plaka_tanima\\test_data\\Car_Traffic_short.mp4: 384x640 (no detections), 194.3ms\n",
      "video 1/1 (frame 641/2880) c:\\Users\\havva\\OneDrive\\Desktop\\plaka_tanima\\test_data\\Car_Traffic_short.mp4: 384x640 (no detections), 188.2ms\n",
      "video 1/1 (frame 642/2880) c:\\Users\\havva\\OneDrive\\Desktop\\plaka_tanima\\test_data\\Car_Traffic_short.mp4: 384x640 (no detections), 162.3ms\n",
      "video 1/1 (frame 643/2880) c:\\Users\\havva\\OneDrive\\Desktop\\plaka_tanima\\test_data\\Car_Traffic_short.mp4: 384x640 (no detections), 141.1ms\n",
      "video 1/1 (frame 644/2880) c:\\Users\\havva\\OneDrive\\Desktop\\plaka_tanima\\test_data\\Car_Traffic_short.mp4: 384x640 (no detections), 313.9ms\n",
      "video 1/1 (frame 645/2880) c:\\Users\\havva\\OneDrive\\Desktop\\plaka_tanima\\test_data\\Car_Traffic_short.mp4: 384x640 (no detections), 178.4ms\n",
      "video 1/1 (frame 646/2880) c:\\Users\\havva\\OneDrive\\Desktop\\plaka_tanima\\test_data\\Car_Traffic_short.mp4: 384x640 (no detections), 190.5ms\n",
      "video 1/1 (frame 647/2880) c:\\Users\\havva\\OneDrive\\Desktop\\plaka_tanima\\test_data\\Car_Traffic_short.mp4: 384x640 (no detections), 150.6ms\n",
      "video 1/1 (frame 648/2880) c:\\Users\\havva\\OneDrive\\Desktop\\plaka_tanima\\test_data\\Car_Traffic_short.mp4: 384x640 (no detections), 129.5ms\n",
      "video 1/1 (frame 649/2880) c:\\Users\\havva\\OneDrive\\Desktop\\plaka_tanima\\test_data\\Car_Traffic_short.mp4: 384x640 (no detections), 164.0ms\n",
      "video 1/1 (frame 650/2880) c:\\Users\\havva\\OneDrive\\Desktop\\plaka_tanima\\test_data\\Car_Traffic_short.mp4: 384x640 (no detections), 135.7ms\n",
      "video 1/1 (frame 651/2880) c:\\Users\\havva\\OneDrive\\Desktop\\plaka_tanima\\test_data\\Car_Traffic_short.mp4: 384x640 (no detections), 141.3ms\n",
      "video 1/1 (frame 652/2880) c:\\Users\\havva\\OneDrive\\Desktop\\plaka_tanima\\test_data\\Car_Traffic_short.mp4: 384x640 (no detections), 162.3ms\n",
      "video 1/1 (frame 653/2880) c:\\Users\\havva\\OneDrive\\Desktop\\plaka_tanima\\test_data\\Car_Traffic_short.mp4: 384x640 (no detections), 162.0ms\n",
      "video 1/1 (frame 654/2880) c:\\Users\\havva\\OneDrive\\Desktop\\plaka_tanima\\test_data\\Car_Traffic_short.mp4: 384x640 (no detections), 171.1ms\n",
      "video 1/1 (frame 655/2880) c:\\Users\\havva\\OneDrive\\Desktop\\plaka_tanima\\test_data\\Car_Traffic_short.mp4: 384x640 (no detections), 146.8ms\n",
      "video 1/1 (frame 656/2880) c:\\Users\\havva\\OneDrive\\Desktop\\plaka_tanima\\test_data\\Car_Traffic_short.mp4: 384x640 (no detections), 132.9ms\n",
      "video 1/1 (frame 657/2880) c:\\Users\\havva\\OneDrive\\Desktop\\plaka_tanima\\test_data\\Car_Traffic_short.mp4: 384x640 (no detections), 139.1ms\n",
      "video 1/1 (frame 658/2880) c:\\Users\\havva\\OneDrive\\Desktop\\plaka_tanima\\test_data\\Car_Traffic_short.mp4: 384x640 (no detections), 140.4ms\n",
      "video 1/1 (frame 659/2880) c:\\Users\\havva\\OneDrive\\Desktop\\plaka_tanima\\test_data\\Car_Traffic_short.mp4: 384x640 (no detections), 138.8ms\n",
      "video 1/1 (frame 660/2880) c:\\Users\\havva\\OneDrive\\Desktop\\plaka_tanima\\test_data\\Car_Traffic_short.mp4: 384x640 (no detections), 151.5ms\n",
      "video 1/1 (frame 661/2880) c:\\Users\\havva\\OneDrive\\Desktop\\plaka_tanima\\test_data\\Car_Traffic_short.mp4: 384x640 (no detections), 127.7ms\n",
      "video 1/1 (frame 662/2880) c:\\Users\\havva\\OneDrive\\Desktop\\plaka_tanima\\test_data\\Car_Traffic_short.mp4: 384x640 (no detections), 131.8ms\n",
      "video 1/1 (frame 663/2880) c:\\Users\\havva\\OneDrive\\Desktop\\plaka_tanima\\test_data\\Car_Traffic_short.mp4: 384x640 (no detections), 144.8ms\n",
      "video 1/1 (frame 664/2880) c:\\Users\\havva\\OneDrive\\Desktop\\plaka_tanima\\test_data\\Car_Traffic_short.mp4: 384x640 (no detections), 187.3ms\n",
      "video 1/1 (frame 665/2880) c:\\Users\\havva\\OneDrive\\Desktop\\plaka_tanima\\test_data\\Car_Traffic_short.mp4: 384x640 (no detections), 197.3ms\n",
      "video 1/1 (frame 666/2880) c:\\Users\\havva\\OneDrive\\Desktop\\plaka_tanima\\test_data\\Car_Traffic_short.mp4: 384x640 (no detections), 150.6ms\n",
      "video 1/1 (frame 667/2880) c:\\Users\\havva\\OneDrive\\Desktop\\plaka_tanima\\test_data\\Car_Traffic_short.mp4: 384x640 (no detections), 133.0ms\n",
      "video 1/1 (frame 668/2880) c:\\Users\\havva\\OneDrive\\Desktop\\plaka_tanima\\test_data\\Car_Traffic_short.mp4: 384x640 (no detections), 155.0ms\n",
      "video 1/1 (frame 669/2880) c:\\Users\\havva\\OneDrive\\Desktop\\plaka_tanima\\test_data\\Car_Traffic_short.mp4: 384x640 (no detections), 148.4ms\n",
      "video 1/1 (frame 670/2880) c:\\Users\\havva\\OneDrive\\Desktop\\plaka_tanima\\test_data\\Car_Traffic_short.mp4: 384x640 (no detections), 172.0ms\n",
      "video 1/1 (frame 671/2880) c:\\Users\\havva\\OneDrive\\Desktop\\plaka_tanima\\test_data\\Car_Traffic_short.mp4: 384x640 (no detections), 192.2ms\n",
      "video 1/1 (frame 672/2880) c:\\Users\\havva\\OneDrive\\Desktop\\plaka_tanima\\test_data\\Car_Traffic_short.mp4: 384x640 (no detections), 203.8ms\n",
      "video 1/1 (frame 673/2880) c:\\Users\\havva\\OneDrive\\Desktop\\plaka_tanima\\test_data\\Car_Traffic_short.mp4: 384x640 (no detections), 322.2ms\n",
      "video 1/1 (frame 674/2880) c:\\Users\\havva\\OneDrive\\Desktop\\plaka_tanima\\test_data\\Car_Traffic_short.mp4: 384x640 (no detections), 235.9ms\n",
      "video 1/1 (frame 675/2880) c:\\Users\\havva\\OneDrive\\Desktop\\plaka_tanima\\test_data\\Car_Traffic_short.mp4: 384x640 (no detections), 169.9ms\n",
      "video 1/1 (frame 676/2880) c:\\Users\\havva\\OneDrive\\Desktop\\plaka_tanima\\test_data\\Car_Traffic_short.mp4: 384x640 (no detections), 161.4ms\n",
      "video 1/1 (frame 677/2880) c:\\Users\\havva\\OneDrive\\Desktop\\plaka_tanima\\test_data\\Car_Traffic_short.mp4: 384x640 (no detections), 135.0ms\n",
      "video 1/1 (frame 678/2880) c:\\Users\\havva\\OneDrive\\Desktop\\plaka_tanima\\test_data\\Car_Traffic_short.mp4: 384x640 (no detections), 224.5ms\n",
      "video 1/1 (frame 679/2880) c:\\Users\\havva\\OneDrive\\Desktop\\plaka_tanima\\test_data\\Car_Traffic_short.mp4: 384x640 (no detections), 152.7ms\n",
      "video 1/1 (frame 680/2880) c:\\Users\\havva\\OneDrive\\Desktop\\plaka_tanima\\test_data\\Car_Traffic_short.mp4: 384x640 (no detections), 138.6ms\n",
      "video 1/1 (frame 681/2880) c:\\Users\\havva\\OneDrive\\Desktop\\plaka_tanima\\test_data\\Car_Traffic_short.mp4: 384x640 (no detections), 157.6ms\n",
      "video 1/1 (frame 682/2880) c:\\Users\\havva\\OneDrive\\Desktop\\plaka_tanima\\test_data\\Car_Traffic_short.mp4: 384x640 (no detections), 156.6ms\n",
      "video 1/1 (frame 683/2880) c:\\Users\\havva\\OneDrive\\Desktop\\plaka_tanima\\test_data\\Car_Traffic_short.mp4: 384x640 (no detections), 207.4ms\n",
      "video 1/1 (frame 684/2880) c:\\Users\\havva\\OneDrive\\Desktop\\plaka_tanima\\test_data\\Car_Traffic_short.mp4: 384x640 (no detections), 147.0ms\n",
      "video 1/1 (frame 685/2880) c:\\Users\\havva\\OneDrive\\Desktop\\plaka_tanima\\test_data\\Car_Traffic_short.mp4: 384x640 (no detections), 139.7ms\n",
      "video 1/1 (frame 686/2880) c:\\Users\\havva\\OneDrive\\Desktop\\plaka_tanima\\test_data\\Car_Traffic_short.mp4: 384x640 (no detections), 132.7ms\n",
      "video 1/1 (frame 687/2880) c:\\Users\\havva\\OneDrive\\Desktop\\plaka_tanima\\test_data\\Car_Traffic_short.mp4: 384x640 (no detections), 170.5ms\n",
      "video 1/1 (frame 688/2880) c:\\Users\\havva\\OneDrive\\Desktop\\plaka_tanima\\test_data\\Car_Traffic_short.mp4: 384x640 (no detections), 158.7ms\n",
      "video 1/1 (frame 689/2880) c:\\Users\\havva\\OneDrive\\Desktop\\plaka_tanima\\test_data\\Car_Traffic_short.mp4: 384x640 (no detections), 131.6ms\n",
      "video 1/1 (frame 690/2880) c:\\Users\\havva\\OneDrive\\Desktop\\plaka_tanima\\test_data\\Car_Traffic_short.mp4: 384x640 (no detections), 133.6ms\n",
      "video 1/1 (frame 691/2880) c:\\Users\\havva\\OneDrive\\Desktop\\plaka_tanima\\test_data\\Car_Traffic_short.mp4: 384x640 (no detections), 132.8ms\n",
      "video 1/1 (frame 692/2880) c:\\Users\\havva\\OneDrive\\Desktop\\plaka_tanima\\test_data\\Car_Traffic_short.mp4: 384x640 (no detections), 130.7ms\n",
      "video 1/1 (frame 693/2880) c:\\Users\\havva\\OneDrive\\Desktop\\plaka_tanima\\test_data\\Car_Traffic_short.mp4: 384x640 (no detections), 152.6ms\n",
      "video 1/1 (frame 694/2880) c:\\Users\\havva\\OneDrive\\Desktop\\plaka_tanima\\test_data\\Car_Traffic_short.mp4: 384x640 (no detections), 170.5ms\n",
      "video 1/1 (frame 695/2880) c:\\Users\\havva\\OneDrive\\Desktop\\plaka_tanima\\test_data\\Car_Traffic_short.mp4: 384x640 (no detections), 129.7ms\n",
      "video 1/1 (frame 696/2880) c:\\Users\\havva\\OneDrive\\Desktop\\plaka_tanima\\test_data\\Car_Traffic_short.mp4: 384x640 (no detections), 139.6ms\n",
      "video 1/1 (frame 697/2880) c:\\Users\\havva\\OneDrive\\Desktop\\plaka_tanima\\test_data\\Car_Traffic_short.mp4: 384x640 (no detections), 130.7ms\n",
      "video 1/1 (frame 698/2880) c:\\Users\\havva\\OneDrive\\Desktop\\plaka_tanima\\test_data\\Car_Traffic_short.mp4: 384x640 (no detections), 134.6ms\n",
      "video 1/1 (frame 699/2880) c:\\Users\\havva\\OneDrive\\Desktop\\plaka_tanima\\test_data\\Car_Traffic_short.mp4: 384x640 (no detections), 131.6ms\n",
      "video 1/1 (frame 700/2880) c:\\Users\\havva\\OneDrive\\Desktop\\plaka_tanima\\test_data\\Car_Traffic_short.mp4: 384x640 (no detections), 139.6ms\n",
      "video 1/1 (frame 701/2880) c:\\Users\\havva\\OneDrive\\Desktop\\plaka_tanima\\test_data\\Car_Traffic_short.mp4: 384x640 (no detections), 152.6ms\n",
      "video 1/1 (frame 702/2880) c:\\Users\\havva\\OneDrive\\Desktop\\plaka_tanima\\test_data\\Car_Traffic_short.mp4: 384x640 (no detections), 139.6ms\n",
      "video 1/1 (frame 703/2880) c:\\Users\\havva\\OneDrive\\Desktop\\plaka_tanima\\test_data\\Car_Traffic_short.mp4: 384x640 (no detections), 161.6ms\n",
      "video 1/1 (frame 704/2880) c:\\Users\\havva\\OneDrive\\Desktop\\plaka_tanima\\test_data\\Car_Traffic_short.mp4: 384x640 (no detections), 151.6ms\n",
      "video 1/1 (frame 705/2880) c:\\Users\\havva\\OneDrive\\Desktop\\plaka_tanima\\test_data\\Car_Traffic_short.mp4: 384x640 (no detections), 138.5ms\n",
      "video 1/1 (frame 706/2880) c:\\Users\\havva\\OneDrive\\Desktop\\plaka_tanima\\test_data\\Car_Traffic_short.mp4: 384x640 (no detections), 132.0ms\n",
      "video 1/1 (frame 707/2880) c:\\Users\\havva\\OneDrive\\Desktop\\plaka_tanima\\test_data\\Car_Traffic_short.mp4: 384x640 (no detections), 140.6ms\n",
      "video 1/1 (frame 708/2880) c:\\Users\\havva\\OneDrive\\Desktop\\plaka_tanima\\test_data\\Car_Traffic_short.mp4: 384x640 (no detections), 139.6ms\n",
      "video 1/1 (frame 709/2880) c:\\Users\\havva\\OneDrive\\Desktop\\plaka_tanima\\test_data\\Car_Traffic_short.mp4: 384x640 (no detections), 128.7ms\n",
      "video 1/1 (frame 710/2880) c:\\Users\\havva\\OneDrive\\Desktop\\plaka_tanima\\test_data\\Car_Traffic_short.mp4: 384x640 (no detections), 131.6ms\n",
      "video 1/1 (frame 711/2880) c:\\Users\\havva\\OneDrive\\Desktop\\plaka_tanima\\test_data\\Car_Traffic_short.mp4: 384x640 (no detections), 179.5ms\n",
      "video 1/1 (frame 712/2880) c:\\Users\\havva\\OneDrive\\Desktop\\plaka_tanima\\test_data\\Car_Traffic_short.mp4: 384x640 (no detections), 146.6ms\n",
      "video 1/1 (frame 713/2880) c:\\Users\\havva\\OneDrive\\Desktop\\plaka_tanima\\test_data\\Car_Traffic_short.mp4: 384x640 (no detections), 135.6ms\n",
      "video 1/1 (frame 714/2880) c:\\Users\\havva\\OneDrive\\Desktop\\plaka_tanima\\test_data\\Car_Traffic_short.mp4: 384x640 (no detections), 211.4ms\n",
      "video 1/1 (frame 715/2880) c:\\Users\\havva\\OneDrive\\Desktop\\plaka_tanima\\test_data\\Car_Traffic_short.mp4: 384x640 (no detections), 172.0ms\n",
      "video 1/1 (frame 716/2880) c:\\Users\\havva\\OneDrive\\Desktop\\plaka_tanima\\test_data\\Car_Traffic_short.mp4: 384x640 (no detections), 154.4ms\n",
      "video 1/1 (frame 717/2880) c:\\Users\\havva\\OneDrive\\Desktop\\plaka_tanima\\test_data\\Car_Traffic_short.mp4: 384x640 (no detections), 126.7ms\n",
      "video 1/1 (frame 718/2880) c:\\Users\\havva\\OneDrive\\Desktop\\plaka_tanima\\test_data\\Car_Traffic_short.mp4: 384x640 (no detections), 166.6ms\n",
      "video 1/1 (frame 719/2880) c:\\Users\\havva\\OneDrive\\Desktop\\plaka_tanima\\test_data\\Car_Traffic_short.mp4: 384x640 (no detections), 104.7ms\n",
      "video 1/1 (frame 720/2880) c:\\Users\\havva\\OneDrive\\Desktop\\plaka_tanima\\test_data\\Car_Traffic_short.mp4: 384x640 (no detections), 110.7ms\n",
      "video 1/1 (frame 721/2880) c:\\Users\\havva\\OneDrive\\Desktop\\plaka_tanima\\test_data\\Car_Traffic_short.mp4: 384x640 (no detections), 110.7ms\n",
      "video 1/1 (frame 722/2880) c:\\Users\\havva\\OneDrive\\Desktop\\plaka_tanima\\test_data\\Car_Traffic_short.mp4: 384x640 (no detections), 117.7ms\n",
      "video 1/1 (frame 723/2880) c:\\Users\\havva\\OneDrive\\Desktop\\plaka_tanima\\test_data\\Car_Traffic_short.mp4: 384x640 (no detections), 108.7ms\n",
      "video 1/1 (frame 724/2880) c:\\Users\\havva\\OneDrive\\Desktop\\plaka_tanima\\test_data\\Car_Traffic_short.mp4: 384x640 (no detections), 109.7ms\n",
      "video 1/1 (frame 725/2880) c:\\Users\\havva\\OneDrive\\Desktop\\plaka_tanima\\test_data\\Car_Traffic_short.mp4: 384x640 (no detections), 138.6ms\n",
      "video 1/1 (frame 726/2880) c:\\Users\\havva\\OneDrive\\Desktop\\plaka_tanima\\test_data\\Car_Traffic_short.mp4: 384x640 (no detections), 108.8ms\n",
      "video 1/1 (frame 727/2880) c:\\Users\\havva\\OneDrive\\Desktop\\plaka_tanima\\test_data\\Car_Traffic_short.mp4: 384x640 (no detections), 190.5ms\n",
      "video 1/1 (frame 728/2880) c:\\Users\\havva\\OneDrive\\Desktop\\plaka_tanima\\test_data\\Car_Traffic_short.mp4: 384x640 (no detections), 113.7ms\n",
      "video 1/1 (frame 729/2880) c:\\Users\\havva\\OneDrive\\Desktop\\plaka_tanima\\test_data\\Car_Traffic_short.mp4: 384x640 (no detections), 108.7ms\n",
      "video 1/1 (frame 730/2880) c:\\Users\\havva\\OneDrive\\Desktop\\plaka_tanima\\test_data\\Car_Traffic_short.mp4: 384x640 (no detections), 104.7ms\n",
      "video 1/1 (frame 731/2880) c:\\Users\\havva\\OneDrive\\Desktop\\plaka_tanima\\test_data\\Car_Traffic_short.mp4: 384x640 (no detections), 122.7ms\n",
      "video 1/1 (frame 732/2880) c:\\Users\\havva\\OneDrive\\Desktop\\plaka_tanima\\test_data\\Car_Traffic_short.mp4: 384x640 (no detections), 124.7ms\n",
      "video 1/1 (frame 733/2880) c:\\Users\\havva\\OneDrive\\Desktop\\plaka_tanima\\test_data\\Car_Traffic_short.mp4: 384x640 (no detections), 111.7ms\n",
      "video 1/1 (frame 734/2880) c:\\Users\\havva\\OneDrive\\Desktop\\plaka_tanima\\test_data\\Car_Traffic_short.mp4: 384x640 (no detections), 150.6ms\n",
      "video 1/1 (frame 735/2880) c:\\Users\\havva\\OneDrive\\Desktop\\plaka_tanima\\test_data\\Car_Traffic_short.mp4: 384x640 (no detections), 287.2ms\n",
      "video 1/1 (frame 736/2880) c:\\Users\\havva\\OneDrive\\Desktop\\plaka_tanima\\test_data\\Car_Traffic_short.mp4: 384x640 (no detections), 180.5ms\n",
      "video 1/1 (frame 737/2880) c:\\Users\\havva\\OneDrive\\Desktop\\plaka_tanima\\test_data\\Car_Traffic_short.mp4: 384x640 (no detections), 201.5ms\n",
      "video 1/1 (frame 738/2880) c:\\Users\\havva\\OneDrive\\Desktop\\plaka_tanima\\test_data\\Car_Traffic_short.mp4: 384x640 (no detections), 276.3ms\n",
      "video 1/1 (frame 739/2880) c:\\Users\\havva\\OneDrive\\Desktop\\plaka_tanima\\test_data\\Car_Traffic_short.mp4: 384x640 (no detections), 176.5ms\n",
      "video 1/1 (frame 740/2880) c:\\Users\\havva\\OneDrive\\Desktop\\plaka_tanima\\test_data\\Car_Traffic_short.mp4: 384x640 (no detections), 138.6ms\n",
      "video 1/1 (frame 741/2880) c:\\Users\\havva\\OneDrive\\Desktop\\plaka_tanima\\test_data\\Car_Traffic_short.mp4: 384x640 (no detections), 144.6ms\n",
      "video 1/1 (frame 742/2880) c:\\Users\\havva\\OneDrive\\Desktop\\plaka_tanima\\test_data\\Car_Traffic_short.mp4: 384x640 (no detections), 111.7ms\n",
      "video 1/1 (frame 743/2880) c:\\Users\\havva\\OneDrive\\Desktop\\plaka_tanima\\test_data\\Car_Traffic_short.mp4: 384x640 (no detections), 113.6ms\n",
      "video 1/1 (frame 744/2880) c:\\Users\\havva\\OneDrive\\Desktop\\plaka_tanima\\test_data\\Car_Traffic_short.mp4: 384x640 (no detections), 109.8ms\n",
      "video 1/1 (frame 745/2880) c:\\Users\\havva\\OneDrive\\Desktop\\plaka_tanima\\test_data\\Car_Traffic_short.mp4: 384x640 (no detections), 139.6ms\n",
      "video 1/1 (frame 746/2880) c:\\Users\\havva\\OneDrive\\Desktop\\plaka_tanima\\test_data\\Car_Traffic_short.mp4: 384x640 (no detections), 134.6ms\n",
      "video 1/1 (frame 747/2880) c:\\Users\\havva\\OneDrive\\Desktop\\plaka_tanima\\test_data\\Car_Traffic_short.mp4: 384x640 (no detections), 106.7ms\n",
      "video 1/1 (frame 748/2880) c:\\Users\\havva\\OneDrive\\Desktop\\plaka_tanima\\test_data\\Car_Traffic_short.mp4: 384x640 (no detections), 108.7ms\n",
      "video 1/1 (frame 749/2880) c:\\Users\\havva\\OneDrive\\Desktop\\plaka_tanima\\test_data\\Car_Traffic_short.mp4: 384x640 (no detections), 113.7ms\n",
      "video 1/1 (frame 750/2880) c:\\Users\\havva\\OneDrive\\Desktop\\plaka_tanima\\test_data\\Car_Traffic_short.mp4: 384x640 (no detections), 105.7ms\n",
      "video 1/1 (frame 751/2880) c:\\Users\\havva\\OneDrive\\Desktop\\plaka_tanima\\test_data\\Car_Traffic_short.mp4: 384x640 (no detections), 125.7ms\n",
      "video 1/1 (frame 752/2880) c:\\Users\\havva\\OneDrive\\Desktop\\plaka_tanima\\test_data\\Car_Traffic_short.mp4: 384x640 (no detections), 140.5ms\n",
      "video 1/1 (frame 753/2880) c:\\Users\\havva\\OneDrive\\Desktop\\plaka_tanima\\test_data\\Car_Traffic_short.mp4: 384x640 (no detections), 132.6ms\n",
      "video 1/1 (frame 754/2880) c:\\Users\\havva\\OneDrive\\Desktop\\plaka_tanima\\test_data\\Car_Traffic_short.mp4: 384x640 (no detections), 128.7ms\n",
      "video 1/1 (frame 755/2880) c:\\Users\\havva\\OneDrive\\Desktop\\plaka_tanima\\test_data\\Car_Traffic_short.mp4: 384x640 (no detections), 125.7ms\n",
      "video 1/1 (frame 756/2880) c:\\Users\\havva\\OneDrive\\Desktop\\plaka_tanima\\test_data\\Car_Traffic_short.mp4: 384x640 (no detections), 144.5ms\n",
      "video 1/1 (frame 757/2880) c:\\Users\\havva\\OneDrive\\Desktop\\plaka_tanima\\test_data\\Car_Traffic_short.mp4: 384x640 (no detections), 138.6ms\n",
      "video 1/1 (frame 758/2880) c:\\Users\\havva\\OneDrive\\Desktop\\plaka_tanima\\test_data\\Car_Traffic_short.mp4: 384x640 (no detections), 126.3ms\n",
      "video 1/1 (frame 759/2880) c:\\Users\\havva\\OneDrive\\Desktop\\plaka_tanima\\test_data\\Car_Traffic_short.mp4: 384x640 (no detections), 119.8ms\n",
      "video 1/1 (frame 760/2880) c:\\Users\\havva\\OneDrive\\Desktop\\plaka_tanima\\test_data\\Car_Traffic_short.mp4: 384x640 (no detections), 123.7ms\n",
      "video 1/1 (frame 761/2880) c:\\Users\\havva\\OneDrive\\Desktop\\plaka_tanima\\test_data\\Car_Traffic_short.mp4: 384x640 (no detections), 127.7ms\n",
      "video 1/1 (frame 762/2880) c:\\Users\\havva\\OneDrive\\Desktop\\plaka_tanima\\test_data\\Car_Traffic_short.mp4: 384x640 (no detections), 130.6ms\n",
      "video 1/1 (frame 763/2880) c:\\Users\\havva\\OneDrive\\Desktop\\plaka_tanima\\test_data\\Car_Traffic_short.mp4: 384x640 (no detections), 116.7ms\n",
      "video 1/1 (frame 764/2880) c:\\Users\\havva\\OneDrive\\Desktop\\plaka_tanima\\test_data\\Car_Traffic_short.mp4: 384x640 (no detections), 115.7ms\n",
      "video 1/1 (frame 765/2880) c:\\Users\\havva\\OneDrive\\Desktop\\plaka_tanima\\test_data\\Car_Traffic_short.mp4: 384x640 (no detections), 118.7ms\n",
      "video 1/1 (frame 766/2880) c:\\Users\\havva\\OneDrive\\Desktop\\plaka_tanima\\test_data\\Car_Traffic_short.mp4: 384x640 (no detections), 111.8ms\n",
      "video 1/1 (frame 767/2880) c:\\Users\\havva\\OneDrive\\Desktop\\plaka_tanima\\test_data\\Car_Traffic_short.mp4: 384x640 (no detections), 125.7ms\n",
      "video 1/1 (frame 768/2880) c:\\Users\\havva\\OneDrive\\Desktop\\plaka_tanima\\test_data\\Car_Traffic_short.mp4: 384x640 (no detections), 205.5ms\n",
      "video 1/1 (frame 769/2880) c:\\Users\\havva\\OneDrive\\Desktop\\plaka_tanima\\test_data\\Car_Traffic_short.mp4: 384x640 (no detections), 141.6ms\n",
      "video 1/1 (frame 770/2880) c:\\Users\\havva\\OneDrive\\Desktop\\plaka_tanima\\test_data\\Car_Traffic_short.mp4: 384x640 (no detections), 126.7ms\n",
      "video 1/1 (frame 771/2880) c:\\Users\\havva\\OneDrive\\Desktop\\plaka_tanima\\test_data\\Car_Traffic_short.mp4: 384x640 (no detections), 127.7ms\n",
      "video 1/1 (frame 772/2880) c:\\Users\\havva\\OneDrive\\Desktop\\plaka_tanima\\test_data\\Car_Traffic_short.mp4: 384x640 (no detections), 121.7ms\n",
      "video 1/1 (frame 773/2880) c:\\Users\\havva\\OneDrive\\Desktop\\plaka_tanima\\test_data\\Car_Traffic_short.mp4: 384x640 (no detections), 116.7ms\n",
      "video 1/1 (frame 774/2880) c:\\Users\\havva\\OneDrive\\Desktop\\plaka_tanima\\test_data\\Car_Traffic_short.mp4: 384x640 (no detections), 195.5ms\n",
      "video 1/1 (frame 775/2880) c:\\Users\\havva\\OneDrive\\Desktop\\plaka_tanima\\test_data\\Car_Traffic_short.mp4: 384x640 (no detections), 122.7ms\n",
      "video 1/1 (frame 776/2880) c:\\Users\\havva\\OneDrive\\Desktop\\plaka_tanima\\test_data\\Car_Traffic_short.mp4: 384x640 (no detections), 120.7ms\n",
      "video 1/1 (frame 777/2880) c:\\Users\\havva\\OneDrive\\Desktop\\plaka_tanima\\test_data\\Car_Traffic_short.mp4: 384x640 (no detections), 109.7ms\n",
      "video 1/1 (frame 778/2880) c:\\Users\\havva\\OneDrive\\Desktop\\plaka_tanima\\test_data\\Car_Traffic_short.mp4: 384x640 (no detections), 127.7ms\n",
      "video 1/1 (frame 779/2880) c:\\Users\\havva\\OneDrive\\Desktop\\plaka_tanima\\test_data\\Car_Traffic_short.mp4: 384x640 (no detections), 115.7ms\n",
      "video 1/1 (frame 780/2880) c:\\Users\\havva\\OneDrive\\Desktop\\plaka_tanima\\test_data\\Car_Traffic_short.mp4: 384x640 (no detections), 213.4ms\n",
      "video 1/1 (frame 781/2880) c:\\Users\\havva\\OneDrive\\Desktop\\plaka_tanima\\test_data\\Car_Traffic_short.mp4: 384x640 (no detections), 187.4ms\n",
      "video 1/1 (frame 782/2880) c:\\Users\\havva\\OneDrive\\Desktop\\plaka_tanima\\test_data\\Car_Traffic_short.mp4: 384x640 (no detections), 150.6ms\n",
      "video 1/1 (frame 783/2880) c:\\Users\\havva\\OneDrive\\Desktop\\plaka_tanima\\test_data\\Car_Traffic_short.mp4: 384x640 (no detections), 143.6ms\n",
      "video 1/1 (frame 784/2880) c:\\Users\\havva\\OneDrive\\Desktop\\plaka_tanima\\test_data\\Car_Traffic_short.mp4: 384x640 (no detections), 131.6ms\n",
      "video 1/1 (frame 785/2880) c:\\Users\\havva\\OneDrive\\Desktop\\plaka_tanima\\test_data\\Car_Traffic_short.mp4: 384x640 (no detections), 161.3ms\n",
      "video 1/1 (frame 786/2880) c:\\Users\\havva\\OneDrive\\Desktop\\plaka_tanima\\test_data\\Car_Traffic_short.mp4: 384x640 (no detections), 125.7ms\n",
      "video 1/1 (frame 787/2880) c:\\Users\\havva\\OneDrive\\Desktop\\plaka_tanima\\test_data\\Car_Traffic_short.mp4: 384x640 (no detections), 116.8ms\n",
      "video 1/1 (frame 788/2880) c:\\Users\\havva\\OneDrive\\Desktop\\plaka_tanima\\test_data\\Car_Traffic_short.mp4: 384x640 (no detections), 120.7ms\n",
      "video 1/1 (frame 789/2880) c:\\Users\\havva\\OneDrive\\Desktop\\plaka_tanima\\test_data\\Car_Traffic_short.mp4: 384x640 (no detections), 120.7ms\n",
      "video 1/1 (frame 790/2880) c:\\Users\\havva\\OneDrive\\Desktop\\plaka_tanima\\test_data\\Car_Traffic_short.mp4: 384x640 (no detections), 114.8ms\n",
      "video 1/1 (frame 791/2880) c:\\Users\\havva\\OneDrive\\Desktop\\plaka_tanima\\test_data\\Car_Traffic_short.mp4: 384x640 (no detections), 118.7ms\n",
      "video 1/1 (frame 792/2880) c:\\Users\\havva\\OneDrive\\Desktop\\plaka_tanima\\test_data\\Car_Traffic_short.mp4: 384x640 (no detections), 127.7ms\n",
      "video 1/1 (frame 793/2880) c:\\Users\\havva\\OneDrive\\Desktop\\plaka_tanima\\test_data\\Car_Traffic_short.mp4: 384x640 (no detections), 132.7ms\n",
      "video 1/1 (frame 794/2880) c:\\Users\\havva\\OneDrive\\Desktop\\plaka_tanima\\test_data\\Car_Traffic_short.mp4: 384x640 (no detections), 117.7ms\n",
      "video 1/1 (frame 795/2880) c:\\Users\\havva\\OneDrive\\Desktop\\plaka_tanima\\test_data\\Car_Traffic_short.mp4: 384x640 (no detections), 124.7ms\n",
      "video 1/1 (frame 796/2880) c:\\Users\\havva\\OneDrive\\Desktop\\plaka_tanima\\test_data\\Car_Traffic_short.mp4: 384x640 (no detections), 136.6ms\n",
      "video 1/1 (frame 797/2880) c:\\Users\\havva\\OneDrive\\Desktop\\plaka_tanima\\test_data\\Car_Traffic_short.mp4: 384x640 (no detections), 137.7ms\n",
      "video 1/1 (frame 798/2880) c:\\Users\\havva\\OneDrive\\Desktop\\plaka_tanima\\test_data\\Car_Traffic_short.mp4: 384x640 (no detections), 126.7ms\n",
      "video 1/1 (frame 799/2880) c:\\Users\\havva\\OneDrive\\Desktop\\plaka_tanima\\test_data\\Car_Traffic_short.mp4: 384x640 (no detections), 115.7ms\n",
      "video 1/1 (frame 800/2880) c:\\Users\\havva\\OneDrive\\Desktop\\plaka_tanima\\test_data\\Car_Traffic_short.mp4: 384x640 (no detections), 117.6ms\n",
      "video 1/1 (frame 801/2880) c:\\Users\\havva\\OneDrive\\Desktop\\plaka_tanima\\test_data\\Car_Traffic_short.mp4: 384x640 (no detections), 132.6ms\n",
      "video 1/1 (frame 802/2880) c:\\Users\\havva\\OneDrive\\Desktop\\plaka_tanima\\test_data\\Car_Traffic_short.mp4: 384x640 (no detections), 116.7ms\n",
      "video 1/1 (frame 803/2880) c:\\Users\\havva\\OneDrive\\Desktop\\plaka_tanima\\test_data\\Car_Traffic_short.mp4: 384x640 (no detections), 127.3ms\n",
      "video 1/1 (frame 804/2880) c:\\Users\\havva\\OneDrive\\Desktop\\plaka_tanima\\test_data\\Car_Traffic_short.mp4: 384x640 (no detections), 199.5ms\n",
      "video 1/1 (frame 805/2880) c:\\Users\\havva\\OneDrive\\Desktop\\plaka_tanima\\test_data\\Car_Traffic_short.mp4: 384x640 (no detections), 130.7ms\n",
      "video 1/1 (frame 806/2880) c:\\Users\\havva\\OneDrive\\Desktop\\plaka_tanima\\test_data\\Car_Traffic_short.mp4: 384x640 (no detections), 110.9ms\n",
      "video 1/1 (frame 807/2880) c:\\Users\\havva\\OneDrive\\Desktop\\plaka_tanima\\test_data\\Car_Traffic_short.mp4: 384x640 (no detections), 121.7ms\n",
      "video 1/1 (frame 808/2880) c:\\Users\\havva\\OneDrive\\Desktop\\plaka_tanima\\test_data\\Car_Traffic_short.mp4: 384x640 (no detections), 112.7ms\n",
      "video 1/1 (frame 809/2880) c:\\Users\\havva\\OneDrive\\Desktop\\plaka_tanima\\test_data\\Car_Traffic_short.mp4: 384x640 (no detections), 115.7ms\n",
      "video 1/1 (frame 810/2880) c:\\Users\\havva\\OneDrive\\Desktop\\plaka_tanima\\test_data\\Car_Traffic_short.mp4: 384x640 (no detections), 113.8ms\n",
      "video 1/1 (frame 811/2880) c:\\Users\\havva\\OneDrive\\Desktop\\plaka_tanima\\test_data\\Car_Traffic_short.mp4: 384x640 (no detections), 126.7ms\n",
      "video 1/1 (frame 812/2880) c:\\Users\\havva\\OneDrive\\Desktop\\plaka_tanima\\test_data\\Car_Traffic_short.mp4: 384x640 (no detections), 119.7ms\n",
      "video 1/1 (frame 813/2880) c:\\Users\\havva\\OneDrive\\Desktop\\plaka_tanima\\test_data\\Car_Traffic_short.mp4: 384x640 (no detections), 124.7ms\n",
      "video 1/1 (frame 814/2880) c:\\Users\\havva\\OneDrive\\Desktop\\plaka_tanima\\test_data\\Car_Traffic_short.mp4: 384x640 (no detections), 116.7ms\n",
      "video 1/1 (frame 815/2880) c:\\Users\\havva\\OneDrive\\Desktop\\plaka_tanima\\test_data\\Car_Traffic_short.mp4: 384x640 (no detections), 120.7ms\n",
      "video 1/1 (frame 816/2880) c:\\Users\\havva\\OneDrive\\Desktop\\plaka_tanima\\test_data\\Car_Traffic_short.mp4: 384x640 (no detections), 118.7ms\n",
      "video 1/1 (frame 817/2880) c:\\Users\\havva\\OneDrive\\Desktop\\plaka_tanima\\test_data\\Car_Traffic_short.mp4: 384x640 (no detections), 179.5ms\n",
      "video 1/1 (frame 818/2880) c:\\Users\\havva\\OneDrive\\Desktop\\plaka_tanima\\test_data\\Car_Traffic_short.mp4: 384x640 (no detections), 123.7ms\n",
      "video 1/1 (frame 819/2880) c:\\Users\\havva\\OneDrive\\Desktop\\plaka_tanima\\test_data\\Car_Traffic_short.mp4: 384x640 (no detections), 115.7ms\n",
      "video 1/1 (frame 820/2880) c:\\Users\\havva\\OneDrive\\Desktop\\plaka_tanima\\test_data\\Car_Traffic_short.mp4: 384x640 (no detections), 119.7ms\n",
      "video 1/1 (frame 821/2880) c:\\Users\\havva\\OneDrive\\Desktop\\plaka_tanima\\test_data\\Car_Traffic_short.mp4: 384x640 (no detections), 117.7ms\n",
      "video 1/1 (frame 822/2880) c:\\Users\\havva\\OneDrive\\Desktop\\plaka_tanima\\test_data\\Car_Traffic_short.mp4: 384x640 (no detections), 111.7ms\n",
      "video 1/1 (frame 823/2880) c:\\Users\\havva\\OneDrive\\Desktop\\plaka_tanima\\test_data\\Car_Traffic_short.mp4: 384x640 (no detections), 121.7ms\n",
      "video 1/1 (frame 824/2880) c:\\Users\\havva\\OneDrive\\Desktop\\plaka_tanima\\test_data\\Car_Traffic_short.mp4: 384x640 (no detections), 115.7ms\n",
      "video 1/1 (frame 825/2880) c:\\Users\\havva\\OneDrive\\Desktop\\plaka_tanima\\test_data\\Car_Traffic_short.mp4: 384x640 (no detections), 118.7ms\n",
      "video 1/1 (frame 826/2880) c:\\Users\\havva\\OneDrive\\Desktop\\plaka_tanima\\test_data\\Car_Traffic_short.mp4: 384x640 (no detections), 108.7ms\n",
      "video 1/1 (frame 827/2880) c:\\Users\\havva\\OneDrive\\Desktop\\plaka_tanima\\test_data\\Car_Traffic_short.mp4: 384x640 (no detections), 108.7ms\n",
      "video 1/1 (frame 828/2880) c:\\Users\\havva\\OneDrive\\Desktop\\plaka_tanima\\test_data\\Car_Traffic_short.mp4: 384x640 (no detections), 112.7ms\n",
      "video 1/1 (frame 829/2880) c:\\Users\\havva\\OneDrive\\Desktop\\plaka_tanima\\test_data\\Car_Traffic_short.mp4: 384x640 (no detections), 103.7ms\n",
      "video 1/1 (frame 830/2880) c:\\Users\\havva\\OneDrive\\Desktop\\plaka_tanima\\test_data\\Car_Traffic_short.mp4: 384x640 (no detections), 109.7ms\n",
      "video 1/1 (frame 831/2880) c:\\Users\\havva\\OneDrive\\Desktop\\plaka_tanima\\test_data\\Car_Traffic_short.mp4: 384x640 (no detections), 111.8ms\n",
      "video 1/1 (frame 832/2880) c:\\Users\\havva\\OneDrive\\Desktop\\plaka_tanima\\test_data\\Car_Traffic_short.mp4: 384x640 (no detections), 115.7ms\n",
      "video 1/1 (frame 833/2880) c:\\Users\\havva\\OneDrive\\Desktop\\plaka_tanima\\test_data\\Car_Traffic_short.mp4: 384x640 (no detections), 145.6ms\n",
      "video 1/1 (frame 834/2880) c:\\Users\\havva\\OneDrive\\Desktop\\plaka_tanima\\test_data\\Car_Traffic_short.mp4: 384x640 (no detections), 122.7ms\n",
      "video 1/1 (frame 835/2880) c:\\Users\\havva\\OneDrive\\Desktop\\plaka_tanima\\test_data\\Car_Traffic_short.mp4: 384x640 (no detections), 109.7ms\n",
      "video 1/1 (frame 836/2880) c:\\Users\\havva\\OneDrive\\Desktop\\plaka_tanima\\test_data\\Car_Traffic_short.mp4: 384x640 (no detections), 107.7ms\n",
      "video 1/1 (frame 837/2880) c:\\Users\\havva\\OneDrive\\Desktop\\plaka_tanima\\test_data\\Car_Traffic_short.mp4: 384x640 (no detections), 106.7ms\n",
      "video 1/1 (frame 838/2880) c:\\Users\\havva\\OneDrive\\Desktop\\plaka_tanima\\test_data\\Car_Traffic_short.mp4: 384x640 (no detections), 106.7ms\n",
      "video 1/1 (frame 839/2880) c:\\Users\\havva\\OneDrive\\Desktop\\plaka_tanima\\test_data\\Car_Traffic_short.mp4: 384x640 (no detections), 113.7ms\n",
      "video 1/1 (frame 840/2880) c:\\Users\\havva\\OneDrive\\Desktop\\plaka_tanima\\test_data\\Car_Traffic_short.mp4: 384x640 (no detections), 128.7ms\n",
      "video 1/1 (frame 841/2880) c:\\Users\\havva\\OneDrive\\Desktop\\plaka_tanima\\test_data\\Car_Traffic_short.mp4: 384x640 (no detections), 143.6ms\n",
      "video 1/1 (frame 842/2880) c:\\Users\\havva\\OneDrive\\Desktop\\plaka_tanima\\test_data\\Car_Traffic_short.mp4: 384x640 (no detections), 104.7ms\n",
      "video 1/1 (frame 843/2880) c:\\Users\\havva\\OneDrive\\Desktop\\plaka_tanima\\test_data\\Car_Traffic_short.mp4: 384x640 (no detections), 246.3ms\n",
      "video 1/1 (frame 844/2880) c:\\Users\\havva\\OneDrive\\Desktop\\plaka_tanima\\test_data\\Car_Traffic_short.mp4: 384x640 (no detections), 192.5ms\n",
      "video 1/1 (frame 845/2880) c:\\Users\\havva\\OneDrive\\Desktop\\plaka_tanima\\test_data\\Car_Traffic_short.mp4: 384x640 (no detections), 255.1ms\n",
      "video 1/1 (frame 846/2880) c:\\Users\\havva\\OneDrive\\Desktop\\plaka_tanima\\test_data\\Car_Traffic_short.mp4: 384x640 (no detections), 166.6ms\n",
      "video 1/1 (frame 847/2880) c:\\Users\\havva\\OneDrive\\Desktop\\plaka_tanima\\test_data\\Car_Traffic_short.mp4: 384x640 (no detections), 134.7ms\n",
      "video 1/1 (frame 848/2880) c:\\Users\\havva\\OneDrive\\Desktop\\plaka_tanima\\test_data\\Car_Traffic_short.mp4: 384x640 (no detections), 154.4ms\n",
      "video 1/1 (frame 849/2880) c:\\Users\\havva\\OneDrive\\Desktop\\plaka_tanima\\test_data\\Car_Traffic_short.mp4: 384x640 (no detections), 133.3ms\n",
      "video 1/1 (frame 850/2880) c:\\Users\\havva\\OneDrive\\Desktop\\plaka_tanima\\test_data\\Car_Traffic_short.mp4: 384x640 (no detections), 113.7ms\n",
      "video 1/1 (frame 851/2880) c:\\Users\\havva\\OneDrive\\Desktop\\plaka_tanima\\test_data\\Car_Traffic_short.mp4: 384x640 (no detections), 109.7ms\n",
      "video 1/1 (frame 852/2880) c:\\Users\\havva\\OneDrive\\Desktop\\plaka_tanima\\test_data\\Car_Traffic_short.mp4: 384x640 (no detections), 112.7ms\n",
      "video 1/1 (frame 853/2880) c:\\Users\\havva\\OneDrive\\Desktop\\plaka_tanima\\test_data\\Car_Traffic_short.mp4: 384x640 (no detections), 111.7ms\n",
      "video 1/1 (frame 854/2880) c:\\Users\\havva\\OneDrive\\Desktop\\plaka_tanima\\test_data\\Car_Traffic_short.mp4: 384x640 (no detections), 114.7ms\n",
      "video 1/1 (frame 855/2880) c:\\Users\\havva\\OneDrive\\Desktop\\plaka_tanima\\test_data\\Car_Traffic_short.mp4: 384x640 (no detections), 113.7ms\n",
      "video 1/1 (frame 856/2880) c:\\Users\\havva\\OneDrive\\Desktop\\plaka_tanima\\test_data\\Car_Traffic_short.mp4: 384x640 (no detections), 103.7ms\n",
      "video 1/1 (frame 857/2880) c:\\Users\\havva\\OneDrive\\Desktop\\plaka_tanima\\test_data\\Car_Traffic_short.mp4: 384x640 (no detections), 112.7ms\n",
      "video 1/1 (frame 858/2880) c:\\Users\\havva\\OneDrive\\Desktop\\plaka_tanima\\test_data\\Car_Traffic_short.mp4: 384x640 (no detections), 106.7ms\n",
      "video 1/1 (frame 859/2880) c:\\Users\\havva\\OneDrive\\Desktop\\plaka_tanima\\test_data\\Car_Traffic_short.mp4: 384x640 (no detections), 104.1ms\n",
      "video 1/1 (frame 860/2880) c:\\Users\\havva\\OneDrive\\Desktop\\plaka_tanima\\test_data\\Car_Traffic_short.mp4: 384x640 (no detections), 102.7ms\n",
      "video 1/1 (frame 861/2880) c:\\Users\\havva\\OneDrive\\Desktop\\plaka_tanima\\test_data\\Car_Traffic_short.mp4: 384x640 (no detections), 108.9ms\n",
      "video 1/1 (frame 862/2880) c:\\Users\\havva\\OneDrive\\Desktop\\plaka_tanima\\test_data\\Car_Traffic_short.mp4: 384x640 (no detections), 112.8ms\n",
      "video 1/1 (frame 863/2880) c:\\Users\\havva\\OneDrive\\Desktop\\plaka_tanima\\test_data\\Car_Traffic_short.mp4: 384x640 (no detections), 101.6ms\n",
      "video 1/1 (frame 864/2880) c:\\Users\\havva\\OneDrive\\Desktop\\plaka_tanima\\test_data\\Car_Traffic_short.mp4: 384x640 (no detections), 122.7ms\n",
      "video 1/1 (frame 865/2880) c:\\Users\\havva\\OneDrive\\Desktop\\plaka_tanima\\test_data\\Car_Traffic_short.mp4: 384x640 (no detections), 116.7ms\n",
      "video 1/1 (frame 866/2880) c:\\Users\\havva\\OneDrive\\Desktop\\plaka_tanima\\test_data\\Car_Traffic_short.mp4: 384x640 (no detections), 113.7ms\n",
      "video 1/1 (frame 867/2880) c:\\Users\\havva\\OneDrive\\Desktop\\plaka_tanima\\test_data\\Car_Traffic_short.mp4: 384x640 (no detections), 114.7ms\n",
      "video 1/1 (frame 868/2880) c:\\Users\\havva\\OneDrive\\Desktop\\plaka_tanima\\test_data\\Car_Traffic_short.mp4: 384x640 (no detections), 109.7ms\n",
      "video 1/1 (frame 869/2880) c:\\Users\\havva\\OneDrive\\Desktop\\plaka_tanima\\test_data\\Car_Traffic_short.mp4: 384x640 (no detections), 106.6ms\n",
      "video 1/1 (frame 870/2880) c:\\Users\\havva\\OneDrive\\Desktop\\plaka_tanima\\test_data\\Car_Traffic_short.mp4: 384x640 (no detections), 114.8ms\n",
      "video 1/1 (frame 871/2880) c:\\Users\\havva\\OneDrive\\Desktop\\plaka_tanima\\test_data\\Car_Traffic_short.mp4: 384x640 (no detections), 106.7ms\n",
      "video 1/1 (frame 872/2880) c:\\Users\\havva\\OneDrive\\Desktop\\plaka_tanima\\test_data\\Car_Traffic_short.mp4: 384x640 (no detections), 103.7ms\n",
      "video 1/1 (frame 873/2880) c:\\Users\\havva\\OneDrive\\Desktop\\plaka_tanima\\test_data\\Car_Traffic_short.mp4: 384x640 (no detections), 105.7ms\n",
      "video 1/1 (frame 874/2880) c:\\Users\\havva\\OneDrive\\Desktop\\plaka_tanima\\test_data\\Car_Traffic_short.mp4: 384x640 (no detections), 103.7ms\n",
      "video 1/1 (frame 875/2880) c:\\Users\\havva\\OneDrive\\Desktop\\plaka_tanima\\test_data\\Car_Traffic_short.mp4: 384x640 (no detections), 104.7ms\n",
      "video 1/1 (frame 876/2880) c:\\Users\\havva\\OneDrive\\Desktop\\plaka_tanima\\test_data\\Car_Traffic_short.mp4: 384x640 (no detections), 105.7ms\n",
      "video 1/1 (frame 877/2880) c:\\Users\\havva\\OneDrive\\Desktop\\plaka_tanima\\test_data\\Car_Traffic_short.mp4: 384x640 (no detections), 110.7ms\n",
      "video 1/1 (frame 878/2880) c:\\Users\\havva\\OneDrive\\Desktop\\plaka_tanima\\test_data\\Car_Traffic_short.mp4: 384x640 (no detections), 108.7ms\n",
      "video 1/1 (frame 879/2880) c:\\Users\\havva\\OneDrive\\Desktop\\plaka_tanima\\test_data\\Car_Traffic_short.mp4: 384x640 (no detections), 109.7ms\n",
      "video 1/1 (frame 880/2880) c:\\Users\\havva\\OneDrive\\Desktop\\plaka_tanima\\test_data\\Car_Traffic_short.mp4: 384x640 (no detections), 125.8ms\n",
      "video 1/1 (frame 881/2880) c:\\Users\\havva\\OneDrive\\Desktop\\plaka_tanima\\test_data\\Car_Traffic_short.mp4: 384x640 (no detections), 123.7ms\n",
      "video 1/1 (frame 882/2880) c:\\Users\\havva\\OneDrive\\Desktop\\plaka_tanima\\test_data\\Car_Traffic_short.mp4: 384x640 (no detections), 104.7ms\n",
      "video 1/1 (frame 883/2880) c:\\Users\\havva\\OneDrive\\Desktop\\plaka_tanima\\test_data\\Car_Traffic_short.mp4: 384x640 (no detections), 121.7ms\n",
      "video 1/1 (frame 884/2880) c:\\Users\\havva\\OneDrive\\Desktop\\plaka_tanima\\test_data\\Car_Traffic_short.mp4: 384x640 (no detections), 126.0ms\n",
      "video 1/1 (frame 885/2880) c:\\Users\\havva\\OneDrive\\Desktop\\plaka_tanima\\test_data\\Car_Traffic_short.mp4: 384x640 (no detections), 127.7ms\n",
      "video 1/1 (frame 886/2880) c:\\Users\\havva\\OneDrive\\Desktop\\plaka_tanima\\test_data\\Car_Traffic_short.mp4: 384x640 (no detections), 110.8ms\n",
      "video 1/1 (frame 887/2880) c:\\Users\\havva\\OneDrive\\Desktop\\plaka_tanima\\test_data\\Car_Traffic_short.mp4: 384x640 (no detections), 106.7ms\n",
      "video 1/1 (frame 888/2880) c:\\Users\\havva\\OneDrive\\Desktop\\plaka_tanima\\test_data\\Car_Traffic_short.mp4: 384x640 (no detections), 115.7ms\n",
      "video 1/1 (frame 889/2880) c:\\Users\\havva\\OneDrive\\Desktop\\plaka_tanima\\test_data\\Car_Traffic_short.mp4: 384x640 (no detections), 111.7ms\n",
      "video 1/1 (frame 890/2880) c:\\Users\\havva\\OneDrive\\Desktop\\plaka_tanima\\test_data\\Car_Traffic_short.mp4: 384x640 (no detections), 113.7ms\n",
      "video 1/1 (frame 891/2880) c:\\Users\\havva\\OneDrive\\Desktop\\plaka_tanima\\test_data\\Car_Traffic_short.mp4: 384x640 (no detections), 110.7ms\n",
      "video 1/1 (frame 892/2880) c:\\Users\\havva\\OneDrive\\Desktop\\plaka_tanima\\test_data\\Car_Traffic_short.mp4: 384x640 (no detections), 108.7ms\n",
      "video 1/1 (frame 893/2880) c:\\Users\\havva\\OneDrive\\Desktop\\plaka_tanima\\test_data\\Car_Traffic_short.mp4: 384x640 (no detections), 110.7ms\n",
      "video 1/1 (frame 894/2880) c:\\Users\\havva\\OneDrive\\Desktop\\plaka_tanima\\test_data\\Car_Traffic_short.mp4: 384x640 (no detections), 147.9ms\n",
      "video 1/1 (frame 895/2880) c:\\Users\\havva\\OneDrive\\Desktop\\plaka_tanima\\test_data\\Car_Traffic_short.mp4: 384x640 (no detections), 126.4ms\n",
      "video 1/1 (frame 896/2880) c:\\Users\\havva\\OneDrive\\Desktop\\plaka_tanima\\test_data\\Car_Traffic_short.mp4: 384x640 (no detections), 116.8ms\n",
      "video 1/1 (frame 897/2880) c:\\Users\\havva\\OneDrive\\Desktop\\plaka_tanima\\test_data\\Car_Traffic_short.mp4: 384x640 (no detections), 112.6ms\n",
      "video 1/1 (frame 898/2880) c:\\Users\\havva\\OneDrive\\Desktop\\plaka_tanima\\test_data\\Car_Traffic_short.mp4: 384x640 (no detections), 133.6ms\n",
      "video 1/1 (frame 899/2880) c:\\Users\\havva\\OneDrive\\Desktop\\plaka_tanima\\test_data\\Car_Traffic_short.mp4: 384x640 (no detections), 117.7ms\n",
      "video 1/1 (frame 900/2880) c:\\Users\\havva\\OneDrive\\Desktop\\plaka_tanima\\test_data\\Car_Traffic_short.mp4: 384x640 (no detections), 117.7ms\n",
      "video 1/1 (frame 901/2880) c:\\Users\\havva\\OneDrive\\Desktop\\plaka_tanima\\test_data\\Car_Traffic_short.mp4: 384x640 (no detections), 108.7ms\n",
      "video 1/1 (frame 902/2880) c:\\Users\\havva\\OneDrive\\Desktop\\plaka_tanima\\test_data\\Car_Traffic_short.mp4: 384x640 (no detections), 112.7ms\n",
      "video 1/1 (frame 903/2880) c:\\Users\\havva\\OneDrive\\Desktop\\plaka_tanima\\test_data\\Car_Traffic_short.mp4: 384x640 (no detections), 107.6ms\n",
      "video 1/1 (frame 904/2880) c:\\Users\\havva\\OneDrive\\Desktop\\plaka_tanima\\test_data\\Car_Traffic_short.mp4: 384x640 (no detections), 116.2ms\n",
      "video 1/1 (frame 905/2880) c:\\Users\\havva\\OneDrive\\Desktop\\plaka_tanima\\test_data\\Car_Traffic_short.mp4: 384x640 (no detections), 104.7ms\n",
      "video 1/1 (frame 906/2880) c:\\Users\\havva\\OneDrive\\Desktop\\plaka_tanima\\test_data\\Car_Traffic_short.mp4: 384x640 (no detections), 105.8ms\n",
      "video 1/1 (frame 907/2880) c:\\Users\\havva\\OneDrive\\Desktop\\plaka_tanima\\test_data\\Car_Traffic_short.mp4: 384x640 (no detections), 102.7ms\n",
      "video 1/1 (frame 908/2880) c:\\Users\\havva\\OneDrive\\Desktop\\plaka_tanima\\test_data\\Car_Traffic_short.mp4: 384x640 (no detections), 142.6ms\n",
      "video 1/1 (frame 909/2880) c:\\Users\\havva\\OneDrive\\Desktop\\plaka_tanima\\test_data\\Car_Traffic_short.mp4: 384x640 (no detections), 105.8ms\n",
      "video 1/1 (frame 910/2880) c:\\Users\\havva\\OneDrive\\Desktop\\plaka_tanima\\test_data\\Car_Traffic_short.mp4: 384x640 (no detections), 116.7ms\n",
      "video 1/1 (frame 911/2880) c:\\Users\\havva\\OneDrive\\Desktop\\plaka_tanima\\test_data\\Car_Traffic_short.mp4: 384x640 (no detections), 113.7ms\n",
      "video 1/1 (frame 912/2880) c:\\Users\\havva\\OneDrive\\Desktop\\plaka_tanima\\test_data\\Car_Traffic_short.mp4: 384x640 (no detections), 108.7ms\n",
      "video 1/1 (frame 913/2880) c:\\Users\\havva\\OneDrive\\Desktop\\plaka_tanima\\test_data\\Car_Traffic_short.mp4: 384x640 (no detections), 120.8ms\n",
      "video 1/1 (frame 914/2880) c:\\Users\\havva\\OneDrive\\Desktop\\plaka_tanima\\test_data\\Car_Traffic_short.mp4: 384x640 (no detections), 185.2ms\n",
      "video 1/1 (frame 915/2880) c:\\Users\\havva\\OneDrive\\Desktop\\plaka_tanima\\test_data\\Car_Traffic_short.mp4: 384x640 (no detections), 113.7ms\n",
      "video 1/1 (frame 916/2880) c:\\Users\\havva\\OneDrive\\Desktop\\plaka_tanima\\test_data\\Car_Traffic_short.mp4: 384x640 (no detections), 117.7ms\n",
      "video 1/1 (frame 917/2880) c:\\Users\\havva\\OneDrive\\Desktop\\plaka_tanima\\test_data\\Car_Traffic_short.mp4: 384x640 (no detections), 116.7ms\n",
      "video 1/1 (frame 918/2880) c:\\Users\\havva\\OneDrive\\Desktop\\plaka_tanima\\test_data\\Car_Traffic_short.mp4: 384x640 (no detections), 115.7ms\n",
      "video 1/1 (frame 919/2880) c:\\Users\\havva\\OneDrive\\Desktop\\plaka_tanima\\test_data\\Car_Traffic_short.mp4: 384x640 (no detections), 110.7ms\n",
      "video 1/1 (frame 920/2880) c:\\Users\\havva\\OneDrive\\Desktop\\plaka_tanima\\test_data\\Car_Traffic_short.mp4: 384x640 (no detections), 109.7ms\n",
      "video 1/1 (frame 921/2880) c:\\Users\\havva\\OneDrive\\Desktop\\plaka_tanima\\test_data\\Car_Traffic_short.mp4: 384x640 (no detections), 114.7ms\n",
      "video 1/1 (frame 922/2880) c:\\Users\\havva\\OneDrive\\Desktop\\plaka_tanima\\test_data\\Car_Traffic_short.mp4: 384x640 (no detections), 121.7ms\n",
      "video 1/1 (frame 923/2880) c:\\Users\\havva\\OneDrive\\Desktop\\plaka_tanima\\test_data\\Car_Traffic_short.mp4: 384x640 (no detections), 110.7ms\n",
      "video 1/1 (frame 924/2880) c:\\Users\\havva\\OneDrive\\Desktop\\plaka_tanima\\test_data\\Car_Traffic_short.mp4: 384x640 (no detections), 110.7ms\n",
      "video 1/1 (frame 925/2880) c:\\Users\\havva\\OneDrive\\Desktop\\plaka_tanima\\test_data\\Car_Traffic_short.mp4: 384x640 (no detections), 112.8ms\n",
      "video 1/1 (frame 926/2880) c:\\Users\\havva\\OneDrive\\Desktop\\plaka_tanima\\test_data\\Car_Traffic_short.mp4: 384x640 (no detections), 102.7ms\n",
      "video 1/1 (frame 927/2880) c:\\Users\\havva\\OneDrive\\Desktop\\plaka_tanima\\test_data\\Car_Traffic_short.mp4: 384x640 (no detections), 112.7ms\n",
      "video 1/1 (frame 928/2880) c:\\Users\\havva\\OneDrive\\Desktop\\plaka_tanima\\test_data\\Car_Traffic_short.mp4: 384x640 (no detections), 110.7ms\n",
      "video 1/1 (frame 929/2880) c:\\Users\\havva\\OneDrive\\Desktop\\plaka_tanima\\test_data\\Car_Traffic_short.mp4: 384x640 (no detections), 114.7ms\n",
      "video 1/1 (frame 930/2880) c:\\Users\\havva\\OneDrive\\Desktop\\plaka_tanima\\test_data\\Car_Traffic_short.mp4: 384x640 (no detections), 115.7ms\n",
      "video 1/1 (frame 931/2880) c:\\Users\\havva\\OneDrive\\Desktop\\plaka_tanima\\test_data\\Car_Traffic_short.mp4: 384x640 (no detections), 109.6ms\n",
      "video 1/1 (frame 932/2880) c:\\Users\\havva\\OneDrive\\Desktop\\plaka_tanima\\test_data\\Car_Traffic_short.mp4: 384x640 (no detections), 115.7ms\n",
      "video 1/1 (frame 933/2880) c:\\Users\\havva\\OneDrive\\Desktop\\plaka_tanima\\test_data\\Car_Traffic_short.mp4: 384x640 (no detections), 115.7ms\n",
      "video 1/1 (frame 934/2880) c:\\Users\\havva\\OneDrive\\Desktop\\plaka_tanima\\test_data\\Car_Traffic_short.mp4: 384x640 (no detections), 107.7ms\n",
      "video 1/1 (frame 935/2880) c:\\Users\\havva\\OneDrive\\Desktop\\plaka_tanima\\test_data\\Car_Traffic_short.mp4: 384x640 (no detections), 104.7ms\n",
      "video 1/1 (frame 936/2880) c:\\Users\\havva\\OneDrive\\Desktop\\plaka_tanima\\test_data\\Car_Traffic_short.mp4: 384x640 (no detections), 128.7ms\n",
      "video 1/1 (frame 937/2880) c:\\Users\\havva\\OneDrive\\Desktop\\plaka_tanima\\test_data\\Car_Traffic_short.mp4: 384x640 (no detections), 107.7ms\n",
      "video 1/1 (frame 938/2880) c:\\Users\\havva\\OneDrive\\Desktop\\plaka_tanima\\test_data\\Car_Traffic_short.mp4: 384x640 (no detections), 103.7ms\n",
      "video 1/1 (frame 939/2880) c:\\Users\\havva\\OneDrive\\Desktop\\plaka_tanima\\test_data\\Car_Traffic_short.mp4: 384x640 (no detections), 109.7ms\n",
      "video 1/1 (frame 940/2880) c:\\Users\\havva\\OneDrive\\Desktop\\plaka_tanima\\test_data\\Car_Traffic_short.mp4: 384x640 (no detections), 131.6ms\n",
      "video 1/1 (frame 941/2880) c:\\Users\\havva\\OneDrive\\Desktop\\plaka_tanima\\test_data\\Car_Traffic_short.mp4: 384x640 (no detections), 123.8ms\n",
      "video 1/1 (frame 942/2880) c:\\Users\\havva\\OneDrive\\Desktop\\plaka_tanima\\test_data\\Car_Traffic_short.mp4: 384x640 (no detections), 111.7ms\n",
      "video 1/1 (frame 943/2880) c:\\Users\\havva\\OneDrive\\Desktop\\plaka_tanima\\test_data\\Car_Traffic_short.mp4: 384x640 (no detections), 106.1ms\n",
      "video 1/1 (frame 944/2880) c:\\Users\\havva\\OneDrive\\Desktop\\plaka_tanima\\test_data\\Car_Traffic_short.mp4: 384x640 (no detections), 104.7ms\n",
      "video 1/1 (frame 945/2880) c:\\Users\\havva\\OneDrive\\Desktop\\plaka_tanima\\test_data\\Car_Traffic_short.mp4: 384x640 (no detections), 109.6ms\n",
      "video 1/1 (frame 946/2880) c:\\Users\\havva\\OneDrive\\Desktop\\plaka_tanima\\test_data\\Car_Traffic_short.mp4: 384x640 (no detections), 109.6ms\n",
      "video 1/1 (frame 947/2880) c:\\Users\\havva\\OneDrive\\Desktop\\plaka_tanima\\test_data\\Car_Traffic_short.mp4: 384x640 (no detections), 110.3ms\n",
      "video 1/1 (frame 948/2880) c:\\Users\\havva\\OneDrive\\Desktop\\plaka_tanima\\test_data\\Car_Traffic_short.mp4: 384x640 (no detections), 113.6ms\n",
      "video 1/1 (frame 949/2880) c:\\Users\\havva\\OneDrive\\Desktop\\plaka_tanima\\test_data\\Car_Traffic_short.mp4: 384x640 (no detections), 125.2ms\n",
      "video 1/1 (frame 950/2880) c:\\Users\\havva\\OneDrive\\Desktop\\plaka_tanima\\test_data\\Car_Traffic_short.mp4: 384x640 (no detections), 147.6ms\n",
      "video 1/1 (frame 951/2880) c:\\Users\\havva\\OneDrive\\Desktop\\plaka_tanima\\test_data\\Car_Traffic_short.mp4: 384x640 (no detections), 151.1ms\n",
      "video 1/1 (frame 952/2880) c:\\Users\\havva\\OneDrive\\Desktop\\plaka_tanima\\test_data\\Car_Traffic_short.mp4: 384x640 (no detections), 153.8ms\n",
      "video 1/1 (frame 953/2880) c:\\Users\\havva\\OneDrive\\Desktop\\plaka_tanima\\test_data\\Car_Traffic_short.mp4: 384x640 (no detections), 145.2ms\n",
      "video 1/1 (frame 954/2880) c:\\Users\\havva\\OneDrive\\Desktop\\plaka_tanima\\test_data\\Car_Traffic_short.mp4: 384x640 (no detections), 157.2ms\n",
      "video 1/1 (frame 955/2880) c:\\Users\\havva\\OneDrive\\Desktop\\plaka_tanima\\test_data\\Car_Traffic_short.mp4: 384x640 (no detections), 277.6ms\n",
      "video 1/1 (frame 956/2880) c:\\Users\\havva\\OneDrive\\Desktop\\plaka_tanima\\test_data\\Car_Traffic_short.mp4: 384x640 (no detections), 180.4ms\n",
      "video 1/1 (frame 957/2880) c:\\Users\\havva\\OneDrive\\Desktop\\plaka_tanima\\test_data\\Car_Traffic_short.mp4: 384x640 (no detections), 150.9ms\n",
      "video 1/1 (frame 958/2880) c:\\Users\\havva\\OneDrive\\Desktop\\plaka_tanima\\test_data\\Car_Traffic_short.mp4: 384x640 (no detections), 158.7ms\n",
      "video 1/1 (frame 959/2880) c:\\Users\\havva\\OneDrive\\Desktop\\plaka_tanima\\test_data\\Car_Traffic_short.mp4: 384x640 (no detections), 120.5ms\n",
      "video 1/1 (frame 960/2880) c:\\Users\\havva\\OneDrive\\Desktop\\plaka_tanima\\test_data\\Car_Traffic_short.mp4: 384x640 (no detections), 127.7ms\n",
      "video 1/1 (frame 961/2880) c:\\Users\\havva\\OneDrive\\Desktop\\plaka_tanima\\test_data\\Car_Traffic_short.mp4: 384x640 (no detections), 128.3ms\n",
      "video 1/1 (frame 962/2880) c:\\Users\\havva\\OneDrive\\Desktop\\plaka_tanima\\test_data\\Car_Traffic_short.mp4: 384x640 (no detections), 133.5ms\n",
      "video 1/1 (frame 963/2880) c:\\Users\\havva\\OneDrive\\Desktop\\plaka_tanima\\test_data\\Car_Traffic_short.mp4: 384x640 (no detections), 129.5ms\n",
      "video 1/1 (frame 964/2880) c:\\Users\\havva\\OneDrive\\Desktop\\plaka_tanima\\test_data\\Car_Traffic_short.mp4: 384x640 (no detections), 130.7ms\n",
      "video 1/1 (frame 965/2880) c:\\Users\\havva\\OneDrive\\Desktop\\plaka_tanima\\test_data\\Car_Traffic_short.mp4: 384x640 (no detections), 125.7ms\n",
      "video 1/1 (frame 966/2880) c:\\Users\\havva\\OneDrive\\Desktop\\plaka_tanima\\test_data\\Car_Traffic_short.mp4: 384x640 (no detections), 123.7ms\n",
      "video 1/1 (frame 967/2880) c:\\Users\\havva\\OneDrive\\Desktop\\plaka_tanima\\test_data\\Car_Traffic_short.mp4: 384x640 (no detections), 127.7ms\n",
      "video 1/1 (frame 968/2880) c:\\Users\\havva\\OneDrive\\Desktop\\plaka_tanima\\test_data\\Car_Traffic_short.mp4: 384x640 (no detections), 133.6ms\n",
      "video 1/1 (frame 969/2880) c:\\Users\\havva\\OneDrive\\Desktop\\plaka_tanima\\test_data\\Car_Traffic_short.mp4: 384x640 (no detections), 108.7ms\n",
      "video 1/1 (frame 970/2880) c:\\Users\\havva\\OneDrive\\Desktop\\plaka_tanima\\test_data\\Car_Traffic_short.mp4: 384x640 (no detections), 107.7ms\n",
      "video 1/1 (frame 971/2880) c:\\Users\\havva\\OneDrive\\Desktop\\plaka_tanima\\test_data\\Car_Traffic_short.mp4: 384x640 (no detections), 110.8ms\n",
      "video 1/1 (frame 972/2880) c:\\Users\\havva\\OneDrive\\Desktop\\plaka_tanima\\test_data\\Car_Traffic_short.mp4: 384x640 (no detections), 123.7ms\n",
      "video 1/1 (frame 973/2880) c:\\Users\\havva\\OneDrive\\Desktop\\plaka_tanima\\test_data\\Car_Traffic_short.mp4: 384x640 (no detections), 115.8ms\n",
      "video 1/1 (frame 974/2880) c:\\Users\\havva\\OneDrive\\Desktop\\plaka_tanima\\test_data\\Car_Traffic_short.mp4: 384x640 (no detections), 115.7ms\n",
      "video 1/1 (frame 975/2880) c:\\Users\\havva\\OneDrive\\Desktop\\plaka_tanima\\test_data\\Car_Traffic_short.mp4: 384x640 (no detections), 157.6ms\n",
      "video 1/1 (frame 976/2880) c:\\Users\\havva\\OneDrive\\Desktop\\plaka_tanima\\test_data\\Car_Traffic_short.mp4: 384x640 (no detections), 113.7ms\n",
      "video 1/1 (frame 977/2880) c:\\Users\\havva\\OneDrive\\Desktop\\plaka_tanima\\test_data\\Car_Traffic_short.mp4: 384x640 (no detections), 105.7ms\n",
      "video 1/1 (frame 978/2880) c:\\Users\\havva\\OneDrive\\Desktop\\plaka_tanima\\test_data\\Car_Traffic_short.mp4: 384x640 (no detections), 109.8ms\n",
      "video 1/1 (frame 979/2880) c:\\Users\\havva\\OneDrive\\Desktop\\plaka_tanima\\test_data\\Car_Traffic_short.mp4: 384x640 (no detections), 111.6ms\n",
      "video 1/1 (frame 980/2880) c:\\Users\\havva\\OneDrive\\Desktop\\plaka_tanima\\test_data\\Car_Traffic_short.mp4: 384x640 (no detections), 106.7ms\n",
      "video 1/1 (frame 981/2880) c:\\Users\\havva\\OneDrive\\Desktop\\plaka_tanima\\test_data\\Car_Traffic_short.mp4: 384x640 (no detections), 107.7ms\n",
      "video 1/1 (frame 982/2880) c:\\Users\\havva\\OneDrive\\Desktop\\plaka_tanima\\test_data\\Car_Traffic_short.mp4: 384x640 (no detections), 103.7ms\n",
      "video 1/1 (frame 983/2880) c:\\Users\\havva\\OneDrive\\Desktop\\plaka_tanima\\test_data\\Car_Traffic_short.mp4: 384x640 (no detections), 111.8ms\n",
      "video 1/1 (frame 984/2880) c:\\Users\\havva\\OneDrive\\Desktop\\plaka_tanima\\test_data\\Car_Traffic_short.mp4: 384x640 (no detections), 104.7ms\n",
      "video 1/1 (frame 985/2880) c:\\Users\\havva\\OneDrive\\Desktop\\plaka_tanima\\test_data\\Car_Traffic_short.mp4: 384x640 (no detections), 103.7ms\n",
      "video 1/1 (frame 986/2880) c:\\Users\\havva\\OneDrive\\Desktop\\plaka_tanima\\test_data\\Car_Traffic_short.mp4: 384x640 (no detections), 103.7ms\n",
      "video 1/1 (frame 987/2880) c:\\Users\\havva\\OneDrive\\Desktop\\plaka_tanima\\test_data\\Car_Traffic_short.mp4: 384x640 (no detections), 107.7ms\n",
      "video 1/1 (frame 988/2880) c:\\Users\\havva\\OneDrive\\Desktop\\plaka_tanima\\test_data\\Car_Traffic_short.mp4: 384x640 (no detections), 119.7ms\n",
      "video 1/1 (frame 989/2880) c:\\Users\\havva\\OneDrive\\Desktop\\plaka_tanima\\test_data\\Car_Traffic_short.mp4: 384x640 (no detections), 109.7ms\n",
      "video 1/1 (frame 990/2880) c:\\Users\\havva\\OneDrive\\Desktop\\plaka_tanima\\test_data\\Car_Traffic_short.mp4: 384x640 (no detections), 106.7ms\n",
      "video 1/1 (frame 991/2880) c:\\Users\\havva\\OneDrive\\Desktop\\plaka_tanima\\test_data\\Car_Traffic_short.mp4: 384x640 (no detections), 104.7ms\n",
      "video 1/1 (frame 992/2880) c:\\Users\\havva\\OneDrive\\Desktop\\plaka_tanima\\test_data\\Car_Traffic_short.mp4: 384x640 (no detections), 124.7ms\n",
      "video 1/1 (frame 993/2880) c:\\Users\\havva\\OneDrive\\Desktop\\plaka_tanima\\test_data\\Car_Traffic_short.mp4: 384x640 (no detections), 117.7ms\n",
      "video 1/1 (frame 994/2880) c:\\Users\\havva\\OneDrive\\Desktop\\plaka_tanima\\test_data\\Car_Traffic_short.mp4: 384x640 (no detections), 118.7ms\n",
      "video 1/1 (frame 995/2880) c:\\Users\\havva\\OneDrive\\Desktop\\plaka_tanima\\test_data\\Car_Traffic_short.mp4: 384x640 (no detections), 108.7ms\n",
      "video 1/1 (frame 996/2880) c:\\Users\\havva\\OneDrive\\Desktop\\plaka_tanima\\test_data\\Car_Traffic_short.mp4: 384x640 (no detections), 105.7ms\n",
      "video 1/1 (frame 997/2880) c:\\Users\\havva\\OneDrive\\Desktop\\plaka_tanima\\test_data\\Car_Traffic_short.mp4: 384x640 (no detections), 107.7ms\n",
      "video 1/1 (frame 998/2880) c:\\Users\\havva\\OneDrive\\Desktop\\plaka_tanima\\test_data\\Car_Traffic_short.mp4: 384x640 (no detections), 110.7ms\n",
      "video 1/1 (frame 999/2880) c:\\Users\\havva\\OneDrive\\Desktop\\plaka_tanima\\test_data\\Car_Traffic_short.mp4: 384x640 (no detections), 102.7ms\n",
      "video 1/1 (frame 1000/2880) c:\\Users\\havva\\OneDrive\\Desktop\\plaka_tanima\\test_data\\Car_Traffic_short.mp4: 384x640 (no detections), 100.8ms\n",
      "video 1/1 (frame 1001/2880) c:\\Users\\havva\\OneDrive\\Desktop\\plaka_tanima\\test_data\\Car_Traffic_short.mp4: 384x640 (no detections), 119.5ms\n",
      "video 1/1 (frame 1002/2880) c:\\Users\\havva\\OneDrive\\Desktop\\plaka_tanima\\test_data\\Car_Traffic_short.mp4: 384x640 (no detections), 97.7ms\n",
      "video 1/1 (frame 1003/2880) c:\\Users\\havva\\OneDrive\\Desktop\\plaka_tanima\\test_data\\Car_Traffic_short.mp4: 384x640 (no detections), 106.7ms\n",
      "video 1/1 (frame 1004/2880) c:\\Users\\havva\\OneDrive\\Desktop\\plaka_tanima\\test_data\\Car_Traffic_short.mp4: 384x640 (no detections), 154.6ms\n",
      "video 1/1 (frame 1005/2880) c:\\Users\\havva\\OneDrive\\Desktop\\plaka_tanima\\test_data\\Car_Traffic_short.mp4: 384x640 (no detections), 106.9ms\n",
      "video 1/1 (frame 1006/2880) c:\\Users\\havva\\OneDrive\\Desktop\\plaka_tanima\\test_data\\Car_Traffic_short.mp4: 384x640 (no detections), 107.7ms\n",
      "video 1/1 (frame 1007/2880) c:\\Users\\havva\\OneDrive\\Desktop\\plaka_tanima\\test_data\\Car_Traffic_short.mp4: 384x640 (no detections), 109.7ms\n",
      "video 1/1 (frame 1008/2880) c:\\Users\\havva\\OneDrive\\Desktop\\plaka_tanima\\test_data\\Car_Traffic_short.mp4: 384x640 (no detections), 108.7ms\n",
      "video 1/1 (frame 1009/2880) c:\\Users\\havva\\OneDrive\\Desktop\\plaka_tanima\\test_data\\Car_Traffic_short.mp4: 384x640 (no detections), 107.7ms\n",
      "video 1/1 (frame 1010/2880) c:\\Users\\havva\\OneDrive\\Desktop\\plaka_tanima\\test_data\\Car_Traffic_short.mp4: 384x640 (no detections), 102.7ms\n",
      "video 1/1 (frame 1011/2880) c:\\Users\\havva\\OneDrive\\Desktop\\plaka_tanima\\test_data\\Car_Traffic_short.mp4: 384x640 (no detections), 107.7ms\n",
      "video 1/1 (frame 1012/2880) c:\\Users\\havva\\OneDrive\\Desktop\\plaka_tanima\\test_data\\Car_Traffic_short.mp4: 384x640 (no detections), 104.7ms\n",
      "video 1/1 (frame 1013/2880) c:\\Users\\havva\\OneDrive\\Desktop\\plaka_tanima\\test_data\\Car_Traffic_short.mp4: 384x640 (no detections), 106.7ms\n",
      "video 1/1 (frame 1014/2880) c:\\Users\\havva\\OneDrive\\Desktop\\plaka_tanima\\test_data\\Car_Traffic_short.mp4: 384x640 (no detections), 122.7ms\n",
      "video 1/1 (frame 1015/2880) c:\\Users\\havva\\OneDrive\\Desktop\\plaka_tanima\\test_data\\Car_Traffic_short.mp4: 384x640 (no detections), 103.7ms\n",
      "video 1/1 (frame 1016/2880) c:\\Users\\havva\\OneDrive\\Desktop\\plaka_tanima\\test_data\\Car_Traffic_short.mp4: 384x640 (no detections), 101.7ms\n",
      "video 1/1 (frame 1017/2880) c:\\Users\\havva\\OneDrive\\Desktop\\plaka_tanima\\test_data\\Car_Traffic_short.mp4: 384x640 (no detections), 107.7ms\n",
      "video 1/1 (frame 1018/2880) c:\\Users\\havva\\OneDrive\\Desktop\\plaka_tanima\\test_data\\Car_Traffic_short.mp4: 384x640 (no detections), 104.7ms\n",
      "video 1/1 (frame 1019/2880) c:\\Users\\havva\\OneDrive\\Desktop\\plaka_tanima\\test_data\\Car_Traffic_short.mp4: 384x640 (no detections), 104.7ms\n",
      "video 1/1 (frame 1020/2880) c:\\Users\\havva\\OneDrive\\Desktop\\plaka_tanima\\test_data\\Car_Traffic_short.mp4: 384x640 (no detections), 104.8ms\n",
      "video 1/1 (frame 1021/2880) c:\\Users\\havva\\OneDrive\\Desktop\\plaka_tanima\\test_data\\Car_Traffic_short.mp4: 384x640 (no detections), 108.7ms\n",
      "video 1/1 (frame 1022/2880) c:\\Users\\havva\\OneDrive\\Desktop\\plaka_tanima\\test_data\\Car_Traffic_short.mp4: 384x640 (no detections), 103.7ms\n",
      "video 1/1 (frame 1023/2880) c:\\Users\\havva\\OneDrive\\Desktop\\plaka_tanima\\test_data\\Car_Traffic_short.mp4: 384x640 (no detections), 99.7ms\n",
      "video 1/1 (frame 1024/2880) c:\\Users\\havva\\OneDrive\\Desktop\\plaka_tanima\\test_data\\Car_Traffic_short.mp4: 384x640 (no detections), 102.7ms\n",
      "video 1/1 (frame 1025/2880) c:\\Users\\havva\\OneDrive\\Desktop\\plaka_tanima\\test_data\\Car_Traffic_short.mp4: 384x640 (no detections), 105.8ms\n",
      "video 1/1 (frame 1026/2880) c:\\Users\\havva\\OneDrive\\Desktop\\plaka_tanima\\test_data\\Car_Traffic_short.mp4: 384x640 (no detections), 101.7ms\n",
      "video 1/1 (frame 1027/2880) c:\\Users\\havva\\OneDrive\\Desktop\\plaka_tanima\\test_data\\Car_Traffic_short.mp4: 384x640 (no detections), 123.7ms\n",
      "video 1/1 (frame 1028/2880) c:\\Users\\havva\\OneDrive\\Desktop\\plaka_tanima\\test_data\\Car_Traffic_short.mp4: 384x640 (no detections), 108.6ms\n",
      "video 1/1 (frame 1029/2880) c:\\Users\\havva\\OneDrive\\Desktop\\plaka_tanima\\test_data\\Car_Traffic_short.mp4: 384x640 (no detections), 106.7ms\n",
      "video 1/1 (frame 1030/2880) c:\\Users\\havva\\OneDrive\\Desktop\\plaka_tanima\\test_data\\Car_Traffic_short.mp4: 384x640 (no detections), 102.7ms\n",
      "video 1/1 (frame 1031/2880) c:\\Users\\havva\\OneDrive\\Desktop\\plaka_tanima\\test_data\\Car_Traffic_short.mp4: 384x640 (no detections), 103.8ms\n",
      "video 1/1 (frame 1032/2880) c:\\Users\\havva\\OneDrive\\Desktop\\plaka_tanima\\test_data\\Car_Traffic_short.mp4: 384x640 (no detections), 105.7ms\n",
      "video 1/1 (frame 1033/2880) c:\\Users\\havva\\OneDrive\\Desktop\\plaka_tanima\\test_data\\Car_Traffic_short.mp4: 384x640 (no detections), 106.7ms\n",
      "video 1/1 (frame 1034/2880) c:\\Users\\havva\\OneDrive\\Desktop\\plaka_tanima\\test_data\\Car_Traffic_short.mp4: 384x640 (no detections), 100.6ms\n",
      "video 1/1 (frame 1035/2880) c:\\Users\\havva\\OneDrive\\Desktop\\plaka_tanima\\test_data\\Car_Traffic_short.mp4: 384x640 (no detections), 103.7ms\n",
      "video 1/1 (frame 1036/2880) c:\\Users\\havva\\OneDrive\\Desktop\\plaka_tanima\\test_data\\Car_Traffic_short.mp4: 384x640 (no detections), 108.7ms\n",
      "video 1/1 (frame 1037/2880) c:\\Users\\havva\\OneDrive\\Desktop\\plaka_tanima\\test_data\\Car_Traffic_short.mp4: 384x640 (no detections), 104.7ms\n",
      "video 1/1 (frame 1038/2880) c:\\Users\\havva\\OneDrive\\Desktop\\plaka_tanima\\test_data\\Car_Traffic_short.mp4: 384x640 (no detections), 103.7ms\n",
      "video 1/1 (frame 1039/2880) c:\\Users\\havva\\OneDrive\\Desktop\\plaka_tanima\\test_data\\Car_Traffic_short.mp4: 384x640 (no detections), 122.7ms\n",
      "video 1/1 (frame 1040/2880) c:\\Users\\havva\\OneDrive\\Desktop\\plaka_tanima\\test_data\\Car_Traffic_short.mp4: 384x640 (no detections), 107.7ms\n",
      "video 1/1 (frame 1041/2880) c:\\Users\\havva\\OneDrive\\Desktop\\plaka_tanima\\test_data\\Car_Traffic_short.mp4: 384x640 (no detections), 111.9ms\n",
      "video 1/1 (frame 1042/2880) c:\\Users\\havva\\OneDrive\\Desktop\\plaka_tanima\\test_data\\Car_Traffic_short.mp4: 384x640 (no detections), 102.7ms\n",
      "video 1/1 (frame 1043/2880) c:\\Users\\havva\\OneDrive\\Desktop\\plaka_tanima\\test_data\\Car_Traffic_short.mp4: 384x640 (no detections), 107.7ms\n",
      "video 1/1 (frame 1044/2880) c:\\Users\\havva\\OneDrive\\Desktop\\plaka_tanima\\test_data\\Car_Traffic_short.mp4: 384x640 (no detections), 103.7ms\n",
      "video 1/1 (frame 1045/2880) c:\\Users\\havva\\OneDrive\\Desktop\\plaka_tanima\\test_data\\Car_Traffic_short.mp4: 384x640 (no detections), 156.5ms\n",
      "video 1/1 (frame 1046/2880) c:\\Users\\havva\\OneDrive\\Desktop\\plaka_tanima\\test_data\\Car_Traffic_short.mp4: 384x640 (no detections), 109.7ms\n",
      "video 1/1 (frame 1047/2880) c:\\Users\\havva\\OneDrive\\Desktop\\plaka_tanima\\test_data\\Car_Traffic_short.mp4: 384x640 (no detections), 168.5ms\n",
      "video 1/1 (frame 1048/2880) c:\\Users\\havva\\OneDrive\\Desktop\\plaka_tanima\\test_data\\Car_Traffic_short.mp4: 384x640 (no detections), 106.7ms\n",
      "video 1/1 (frame 1049/2880) c:\\Users\\havva\\OneDrive\\Desktop\\plaka_tanima\\test_data\\Car_Traffic_short.mp4: 384x640 (no detections), 104.7ms\n",
      "video 1/1 (frame 1050/2880) c:\\Users\\havva\\OneDrive\\Desktop\\plaka_tanima\\test_data\\Car_Traffic_short.mp4: 384x640 (no detections), 107.7ms\n",
      "video 1/1 (frame 1051/2880) c:\\Users\\havva\\OneDrive\\Desktop\\plaka_tanima\\test_data\\Car_Traffic_short.mp4: 384x640 (no detections), 122.9ms\n",
      "video 1/1 (frame 1052/2880) c:\\Users\\havva\\OneDrive\\Desktop\\plaka_tanima\\test_data\\Car_Traffic_short.mp4: 384x640 (no detections), 103.7ms\n",
      "video 1/1 (frame 1053/2880) c:\\Users\\havva\\OneDrive\\Desktop\\plaka_tanima\\test_data\\Car_Traffic_short.mp4: 384x640 (no detections), 108.8ms\n",
      "video 1/1 (frame 1054/2880) c:\\Users\\havva\\OneDrive\\Desktop\\plaka_tanima\\test_data\\Car_Traffic_short.mp4: 384x640 (no detections), 104.7ms\n",
      "video 1/1 (frame 1055/2880) c:\\Users\\havva\\OneDrive\\Desktop\\plaka_tanima\\test_data\\Car_Traffic_short.mp4: 384x640 (no detections), 106.7ms\n",
      "video 1/1 (frame 1056/2880) c:\\Users\\havva\\OneDrive\\Desktop\\plaka_tanima\\test_data\\Car_Traffic_short.mp4: 384x640 (no detections), 104.5ms\n",
      "video 1/1 (frame 1057/2880) c:\\Users\\havva\\OneDrive\\Desktop\\plaka_tanima\\test_data\\Car_Traffic_short.mp4: 384x640 (no detections), 103.6ms\n",
      "video 1/1 (frame 1058/2880) c:\\Users\\havva\\OneDrive\\Desktop\\plaka_tanima\\test_data\\Car_Traffic_short.mp4: 384x640 (no detections), 103.7ms\n",
      "video 1/1 (frame 1059/2880) c:\\Users\\havva\\OneDrive\\Desktop\\plaka_tanima\\test_data\\Car_Traffic_short.mp4: 384x640 (no detections), 103.7ms\n",
      "video 1/1 (frame 1060/2880) c:\\Users\\havva\\OneDrive\\Desktop\\plaka_tanima\\test_data\\Car_Traffic_short.mp4: 384x640 (no detections), 107.6ms\n",
      "video 1/1 (frame 1061/2880) c:\\Users\\havva\\OneDrive\\Desktop\\plaka_tanima\\test_data\\Car_Traffic_short.mp4: 384x640 (no detections), 106.7ms\n",
      "video 1/1 (frame 1062/2880) c:\\Users\\havva\\OneDrive\\Desktop\\plaka_tanima\\test_data\\Car_Traffic_short.mp4: 384x640 (no detections), 110.7ms\n",
      "video 1/1 (frame 1063/2880) c:\\Users\\havva\\OneDrive\\Desktop\\plaka_tanima\\test_data\\Car_Traffic_short.mp4: 384x640 (no detections), 123.7ms\n",
      "video 1/1 (frame 1064/2880) c:\\Users\\havva\\OneDrive\\Desktop\\plaka_tanima\\test_data\\Car_Traffic_short.mp4: 384x640 (no detections), 108.7ms\n",
      "video 1/1 (frame 1065/2880) c:\\Users\\havva\\OneDrive\\Desktop\\plaka_tanima\\test_data\\Car_Traffic_short.mp4: 384x640 (no detections), 105.8ms\n",
      "video 1/1 (frame 1066/2880) c:\\Users\\havva\\OneDrive\\Desktop\\plaka_tanima\\test_data\\Car_Traffic_short.mp4: 384x640 (no detections), 105.7ms\n",
      "video 1/1 (frame 1067/2880) c:\\Users\\havva\\OneDrive\\Desktop\\plaka_tanima\\test_data\\Car_Traffic_short.mp4: 384x640 (no detections), 109.2ms\n",
      "video 1/1 (frame 1068/2880) c:\\Users\\havva\\OneDrive\\Desktop\\plaka_tanima\\test_data\\Car_Traffic_short.mp4: 384x640 (no detections), 102.7ms\n",
      "video 1/1 (frame 1069/2880) c:\\Users\\havva\\OneDrive\\Desktop\\plaka_tanima\\test_data\\Car_Traffic_short.mp4: 384x640 1 LicensePlate, 110.7ms\n",
      "video 1/1 (frame 1070/2880) c:\\Users\\havva\\OneDrive\\Desktop\\plaka_tanima\\test_data\\Car_Traffic_short.mp4: 384x640 1 LicensePlate, 104.7ms\n",
      "video 1/1 (frame 1071/2880) c:\\Users\\havva\\OneDrive\\Desktop\\plaka_tanima\\test_data\\Car_Traffic_short.mp4: 384x640 1 LicensePlate, 104.7ms\n",
      "video 1/1 (frame 1072/2880) c:\\Users\\havva\\OneDrive\\Desktop\\plaka_tanima\\test_data\\Car_Traffic_short.mp4: 384x640 (no detections), 101.7ms\n",
      "video 1/1 (frame 1073/2880) c:\\Users\\havva\\OneDrive\\Desktop\\plaka_tanima\\test_data\\Car_Traffic_short.mp4: 384x640 (no detections), 102.7ms\n",
      "video 1/1 (frame 1074/2880) c:\\Users\\havva\\OneDrive\\Desktop\\plaka_tanima\\test_data\\Car_Traffic_short.mp4: 384x640 (no detections), 105.7ms\n",
      "video 1/1 (frame 1075/2880) c:\\Users\\havva\\OneDrive\\Desktop\\plaka_tanima\\test_data\\Car_Traffic_short.mp4: 384x640 1 LicensePlate, 126.7ms\n",
      "video 1/1 (frame 1076/2880) c:\\Users\\havva\\OneDrive\\Desktop\\plaka_tanima\\test_data\\Car_Traffic_short.mp4: 384x640 (no detections), 104.7ms\n",
      "video 1/1 (frame 1077/2880) c:\\Users\\havva\\OneDrive\\Desktop\\plaka_tanima\\test_data\\Car_Traffic_short.mp4: 384x640 (no detections), 107.7ms\n",
      "video 1/1 (frame 1078/2880) c:\\Users\\havva\\OneDrive\\Desktop\\plaka_tanima\\test_data\\Car_Traffic_short.mp4: 384x640 (no detections), 106.6ms\n",
      "video 1/1 (frame 1079/2880) c:\\Users\\havva\\OneDrive\\Desktop\\plaka_tanima\\test_data\\Car_Traffic_short.mp4: 384x640 (no detections), 104.7ms\n",
      "video 1/1 (frame 1080/2880) c:\\Users\\havva\\OneDrive\\Desktop\\plaka_tanima\\test_data\\Car_Traffic_short.mp4: 384x640 1 LicensePlate, 104.6ms\n",
      "video 1/1 (frame 1081/2880) c:\\Users\\havva\\OneDrive\\Desktop\\plaka_tanima\\test_data\\Car_Traffic_short.mp4: 384x640 (no detections), 104.7ms\n",
      "video 1/1 (frame 1082/2880) c:\\Users\\havva\\OneDrive\\Desktop\\plaka_tanima\\test_data\\Car_Traffic_short.mp4: 384x640 1 LicensePlate, 103.7ms\n",
      "video 1/1 (frame 1083/2880) c:\\Users\\havva\\OneDrive\\Desktop\\plaka_tanima\\test_data\\Car_Traffic_short.mp4: 384x640 1 LicensePlate, 104.7ms\n",
      "video 1/1 (frame 1084/2880) c:\\Users\\havva\\OneDrive\\Desktop\\plaka_tanima\\test_data\\Car_Traffic_short.mp4: 384x640 (no detections), 110.7ms\n",
      "video 1/1 (frame 1085/2880) c:\\Users\\havva\\OneDrive\\Desktop\\plaka_tanima\\test_data\\Car_Traffic_short.mp4: 384x640 (no detections), 102.7ms\n",
      "video 1/1 (frame 1086/2880) c:\\Users\\havva\\OneDrive\\Desktop\\plaka_tanima\\test_data\\Car_Traffic_short.mp4: 384x640 (no detections), 104.7ms\n",
      "video 1/1 (frame 1087/2880) c:\\Users\\havva\\OneDrive\\Desktop\\plaka_tanima\\test_data\\Car_Traffic_short.mp4: 384x640 (no detections), 119.7ms\n",
      "video 1/1 (frame 1088/2880) c:\\Users\\havva\\OneDrive\\Desktop\\plaka_tanima\\test_data\\Car_Traffic_short.mp4: 384x640 (no detections), 103.7ms\n",
      "video 1/1 (frame 1089/2880) c:\\Users\\havva\\OneDrive\\Desktop\\plaka_tanima\\test_data\\Car_Traffic_short.mp4: 384x640 (no detections), 168.5ms\n",
      "video 1/1 (frame 1090/2880) c:\\Users\\havva\\OneDrive\\Desktop\\plaka_tanima\\test_data\\Car_Traffic_short.mp4: 384x640 (no detections), 107.7ms\n",
      "video 1/1 (frame 1091/2880) c:\\Users\\havva\\OneDrive\\Desktop\\plaka_tanima\\test_data\\Car_Traffic_short.mp4: 384x640 (no detections), 104.7ms\n",
      "video 1/1 (frame 1092/2880) c:\\Users\\havva\\OneDrive\\Desktop\\plaka_tanima\\test_data\\Car_Traffic_short.mp4: 384x640 (no detections), 106.7ms\n",
      "video 1/1 (frame 1093/2880) c:\\Users\\havva\\OneDrive\\Desktop\\plaka_tanima\\test_data\\Car_Traffic_short.mp4: 384x640 (no detections), 100.7ms\n",
      "video 1/1 (frame 1094/2880) c:\\Users\\havva\\OneDrive\\Desktop\\plaka_tanima\\test_data\\Car_Traffic_short.mp4: 384x640 (no detections), 104.7ms\n",
      "video 1/1 (frame 1095/2880) c:\\Users\\havva\\OneDrive\\Desktop\\plaka_tanima\\test_data\\Car_Traffic_short.mp4: 384x640 (no detections), 105.7ms\n",
      "video 1/1 (frame 1096/2880) c:\\Users\\havva\\OneDrive\\Desktop\\plaka_tanima\\test_data\\Car_Traffic_short.mp4: 384x640 (no detections), 106.2ms\n",
      "video 1/1 (frame 1097/2880) c:\\Users\\havva\\OneDrive\\Desktop\\plaka_tanima\\test_data\\Car_Traffic_short.mp4: 384x640 (no detections), 103.7ms\n",
      "video 1/1 (frame 1098/2880) c:\\Users\\havva\\OneDrive\\Desktop\\plaka_tanima\\test_data\\Car_Traffic_short.mp4: 384x640 (no detections), 102.8ms\n",
      "video 1/1 (frame 1099/2880) c:\\Users\\havva\\OneDrive\\Desktop\\plaka_tanima\\test_data\\Car_Traffic_short.mp4: 384x640 (no detections), 126.6ms\n",
      "video 1/1 (frame 1100/2880) c:\\Users\\havva\\OneDrive\\Desktop\\plaka_tanima\\test_data\\Car_Traffic_short.mp4: 384x640 1 LicensePlate, 108.7ms\n",
      "video 1/1 (frame 1101/2880) c:\\Users\\havva\\OneDrive\\Desktop\\plaka_tanima\\test_data\\Car_Traffic_short.mp4: 384x640 1 LicensePlate, 104.8ms\n",
      "video 1/1 (frame 1102/2880) c:\\Users\\havva\\OneDrive\\Desktop\\plaka_tanima\\test_data\\Car_Traffic_short.mp4: 384x640 (no detections), 108.7ms\n",
      "video 1/1 (frame 1103/2880) c:\\Users\\havva\\OneDrive\\Desktop\\plaka_tanima\\test_data\\Car_Traffic_short.mp4: 384x640 (no detections), 107.7ms\n",
      "video 1/1 (frame 1104/2880) c:\\Users\\havva\\OneDrive\\Desktop\\plaka_tanima\\test_data\\Car_Traffic_short.mp4: 384x640 (no detections), 105.7ms\n",
      "video 1/1 (frame 1105/2880) c:\\Users\\havva\\OneDrive\\Desktop\\plaka_tanima\\test_data\\Car_Traffic_short.mp4: 384x640 (no detections), 105.7ms\n",
      "video 1/1 (frame 1106/2880) c:\\Users\\havva\\OneDrive\\Desktop\\plaka_tanima\\test_data\\Car_Traffic_short.mp4: 384x640 1 LicensePlate, 107.2ms\n",
      "video 1/1 (frame 1107/2880) c:\\Users\\havva\\OneDrive\\Desktop\\plaka_tanima\\test_data\\Car_Traffic_short.mp4: 384x640 1 LicensePlate, 105.7ms\n",
      "video 1/1 (frame 1108/2880) c:\\Users\\havva\\OneDrive\\Desktop\\plaka_tanima\\test_data\\Car_Traffic_short.mp4: 384x640 (no detections), 110.7ms\n",
      "video 1/1 (frame 1109/2880) c:\\Users\\havva\\OneDrive\\Desktop\\plaka_tanima\\test_data\\Car_Traffic_short.mp4: 384x640 (no detections), 106.7ms\n",
      "video 1/1 (frame 1110/2880) c:\\Users\\havva\\OneDrive\\Desktop\\plaka_tanima\\test_data\\Car_Traffic_short.mp4: 384x640 (no detections), 108.7ms\n",
      "video 1/1 (frame 1111/2880) c:\\Users\\havva\\OneDrive\\Desktop\\plaka_tanima\\test_data\\Car_Traffic_short.mp4: 384x640 (no detections), 132.6ms\n",
      "video 1/1 (frame 1112/2880) c:\\Users\\havva\\OneDrive\\Desktop\\plaka_tanima\\test_data\\Car_Traffic_short.mp4: 384x640 1 LicensePlate, 107.7ms\n",
      "video 1/1 (frame 1113/2880) c:\\Users\\havva\\OneDrive\\Desktop\\plaka_tanima\\test_data\\Car_Traffic_short.mp4: 384x640 1 LicensePlate, 120.3ms\n",
      "video 1/1 (frame 1114/2880) c:\\Users\\havva\\OneDrive\\Desktop\\plaka_tanima\\test_data\\Car_Traffic_short.mp4: 384x640 1 LicensePlate, 113.6ms\n",
      "video 1/1 (frame 1115/2880) c:\\Users\\havva\\OneDrive\\Desktop\\plaka_tanima\\test_data\\Car_Traffic_short.mp4: 384x640 1 LicensePlate, 117.7ms\n",
      "video 1/1 (frame 1116/2880) c:\\Users\\havva\\OneDrive\\Desktop\\plaka_tanima\\test_data\\Car_Traffic_short.mp4: 384x640 1 LicensePlate, 114.8ms\n",
      "video 1/1 (frame 1117/2880) c:\\Users\\havva\\OneDrive\\Desktop\\plaka_tanima\\test_data\\Car_Traffic_short.mp4: 384x640 1 LicensePlate, 110.7ms\n",
      "video 1/1 (frame 1118/2880) c:\\Users\\havva\\OneDrive\\Desktop\\plaka_tanima\\test_data\\Car_Traffic_short.mp4: 384x640 1 LicensePlate, 113.7ms\n",
      "video 1/1 (frame 1119/2880) c:\\Users\\havva\\OneDrive\\Desktop\\plaka_tanima\\test_data\\Car_Traffic_short.mp4: 384x640 1 LicensePlate, 112.7ms\n",
      "video 1/1 (frame 1120/2880) c:\\Users\\havva\\OneDrive\\Desktop\\plaka_tanima\\test_data\\Car_Traffic_short.mp4: 384x640 1 LicensePlate, 111.7ms\n",
      "video 1/1 (frame 1121/2880) c:\\Users\\havva\\OneDrive\\Desktop\\plaka_tanima\\test_data\\Car_Traffic_short.mp4: 384x640 1 LicensePlate, 104.7ms\n",
      "video 1/1 (frame 1122/2880) c:\\Users\\havva\\OneDrive\\Desktop\\plaka_tanima\\test_data\\Car_Traffic_short.mp4: 384x640 1 LicensePlate, 108.7ms\n",
      "video 1/1 (frame 1123/2880) c:\\Users\\havva\\OneDrive\\Desktop\\plaka_tanima\\test_data\\Car_Traffic_short.mp4: 384x640 1 LicensePlate, 124.7ms\n",
      "video 1/1 (frame 1124/2880) c:\\Users\\havva\\OneDrive\\Desktop\\plaka_tanima\\test_data\\Car_Traffic_short.mp4: 384x640 1 LicensePlate, 100.7ms\n",
      "video 1/1 (frame 1125/2880) c:\\Users\\havva\\OneDrive\\Desktop\\plaka_tanima\\test_data\\Car_Traffic_short.mp4: 384x640 1 LicensePlate, 103.7ms\n",
      "video 1/1 (frame 1126/2880) c:\\Users\\havva\\OneDrive\\Desktop\\plaka_tanima\\test_data\\Car_Traffic_short.mp4: 384x640 1 LicensePlate, 108.7ms\n",
      "video 1/1 (frame 1127/2880) c:\\Users\\havva\\OneDrive\\Desktop\\plaka_tanima\\test_data\\Car_Traffic_short.mp4: 384x640 1 LicensePlate, 104.4ms\n",
      "video 1/1 (frame 1128/2880) c:\\Users\\havva\\OneDrive\\Desktop\\plaka_tanima\\test_data\\Car_Traffic_short.mp4: 384x640 1 LicensePlate, 103.7ms\n",
      "video 1/1 (frame 1129/2880) c:\\Users\\havva\\OneDrive\\Desktop\\plaka_tanima\\test_data\\Car_Traffic_short.mp4: 384x640 1 LicensePlate, 109.7ms\n",
      "video 1/1 (frame 1130/2880) c:\\Users\\havva\\OneDrive\\Desktop\\plaka_tanima\\test_data\\Car_Traffic_short.mp4: 384x640 1 LicensePlate, 104.7ms\n",
      "video 1/1 (frame 1131/2880) c:\\Users\\havva\\OneDrive\\Desktop\\plaka_tanima\\test_data\\Car_Traffic_short.mp4: 384x640 1 LicensePlate, 126.7ms\n",
      "video 1/1 (frame 1132/2880) c:\\Users\\havva\\OneDrive\\Desktop\\plaka_tanima\\test_data\\Car_Traffic_short.mp4: 384x640 1 LicensePlate, 106.7ms\n",
      "video 1/1 (frame 1133/2880) c:\\Users\\havva\\OneDrive\\Desktop\\plaka_tanima\\test_data\\Car_Traffic_short.mp4: 384x640 2 LicensePlates, 105.7ms\n",
      "video 1/1 (frame 1134/2880) c:\\Users\\havva\\OneDrive\\Desktop\\plaka_tanima\\test_data\\Car_Traffic_short.mp4: 384x640 1 LicensePlate, 125.7ms\n",
      "video 1/1 (frame 1135/2880) c:\\Users\\havva\\OneDrive\\Desktop\\plaka_tanima\\test_data\\Car_Traffic_short.mp4: 384x640 1 LicensePlate, 101.8ms\n",
      "video 1/1 (frame 1136/2880) c:\\Users\\havva\\OneDrive\\Desktop\\plaka_tanima\\test_data\\Car_Traffic_short.mp4: 384x640 1 LicensePlate, 101.6ms\n",
      "video 1/1 (frame 1137/2880) c:\\Users\\havva\\OneDrive\\Desktop\\plaka_tanima\\test_data\\Car_Traffic_short.mp4: 384x640 1 LicensePlate, 104.7ms\n",
      "video 1/1 (frame 1138/2880) c:\\Users\\havva\\OneDrive\\Desktop\\plaka_tanima\\test_data\\Car_Traffic_short.mp4: 384x640 1 LicensePlate, 161.6ms\n",
      "video 1/1 (frame 1139/2880) c:\\Users\\havva\\OneDrive\\Desktop\\plaka_tanima\\test_data\\Car_Traffic_short.mp4: 384x640 1 LicensePlate, 107.7ms\n",
      "video 1/1 (frame 1140/2880) c:\\Users\\havva\\OneDrive\\Desktop\\plaka_tanima\\test_data\\Car_Traffic_short.mp4: 384x640 1 LicensePlate, 123.7ms\n",
      "video 1/1 (frame 1141/2880) c:\\Users\\havva\\OneDrive\\Desktop\\plaka_tanima\\test_data\\Car_Traffic_short.mp4: 384x640 1 LicensePlate, 109.7ms\n",
      "video 1/1 (frame 1142/2880) c:\\Users\\havva\\OneDrive\\Desktop\\plaka_tanima\\test_data\\Car_Traffic_short.mp4: 384x640 1 LicensePlate, 169.7ms\n",
      "video 1/1 (frame 1143/2880) c:\\Users\\havva\\OneDrive\\Desktop\\plaka_tanima\\test_data\\Car_Traffic_short.mp4: 384x640 1 LicensePlate, 110.7ms\n",
      "video 1/1 (frame 1144/2880) c:\\Users\\havva\\OneDrive\\Desktop\\plaka_tanima\\test_data\\Car_Traffic_short.mp4: 384x640 1 LicensePlate, 102.7ms\n",
      "video 1/1 (frame 1145/2880) c:\\Users\\havva\\OneDrive\\Desktop\\plaka_tanima\\test_data\\Car_Traffic_short.mp4: 384x640 2 LicensePlates, 122.7ms\n",
      "video 1/1 (frame 1146/2880) c:\\Users\\havva\\OneDrive\\Desktop\\plaka_tanima\\test_data\\Car_Traffic_short.mp4: 384x640 2 LicensePlates, 104.7ms\n",
      "video 1/1 (frame 1147/2880) c:\\Users\\havva\\OneDrive\\Desktop\\plaka_tanima\\test_data\\Car_Traffic_short.mp4: 384x640 1 LicensePlate, 102.7ms\n",
      "video 1/1 (frame 1148/2880) c:\\Users\\havva\\OneDrive\\Desktop\\plaka_tanima\\test_data\\Car_Traffic_short.mp4: 384x640 2 LicensePlates, 102.5ms\n",
      "video 1/1 (frame 1149/2880) c:\\Users\\havva\\OneDrive\\Desktop\\plaka_tanima\\test_data\\Car_Traffic_short.mp4: 384x640 2 LicensePlates, 113.8ms\n",
      "video 1/1 (frame 1150/2880) c:\\Users\\havva\\OneDrive\\Desktop\\plaka_tanima\\test_data\\Car_Traffic_short.mp4: 384x640 1 LicensePlate, 108.6ms\n",
      "video 1/1 (frame 1151/2880) c:\\Users\\havva\\OneDrive\\Desktop\\plaka_tanima\\test_data\\Car_Traffic_short.mp4: 384x640 2 LicensePlates, 102.7ms\n",
      "video 1/1 (frame 1152/2880) c:\\Users\\havva\\OneDrive\\Desktop\\plaka_tanima\\test_data\\Car_Traffic_short.mp4: 384x640 1 LicensePlate, 103.7ms\n",
      "video 1/1 (frame 1153/2880) c:\\Users\\havva\\OneDrive\\Desktop\\plaka_tanima\\test_data\\Car_Traffic_short.mp4: 384x640 1 LicensePlate, 101.5ms\n",
      "video 1/1 (frame 1154/2880) c:\\Users\\havva\\OneDrive\\Desktop\\plaka_tanima\\test_data\\Car_Traffic_short.mp4: 384x640 2 LicensePlates, 106.7ms\n",
      "video 1/1 (frame 1155/2880) c:\\Users\\havva\\OneDrive\\Desktop\\plaka_tanima\\test_data\\Car_Traffic_short.mp4: 384x640 2 LicensePlates, 103.7ms\n",
      "video 1/1 (frame 1156/2880) c:\\Users\\havva\\OneDrive\\Desktop\\plaka_tanima\\test_data\\Car_Traffic_short.mp4: 384x640 2 LicensePlates, 122.7ms\n",
      "video 1/1 (frame 1157/2880) c:\\Users\\havva\\OneDrive\\Desktop\\plaka_tanima\\test_data\\Car_Traffic_short.mp4: 384x640 1 LicensePlate, 104.7ms\n",
      "video 1/1 (frame 1158/2880) c:\\Users\\havva\\OneDrive\\Desktop\\plaka_tanima\\test_data\\Car_Traffic_short.mp4: 384x640 1 LicensePlate, 107.7ms\n",
      "video 1/1 (frame 1159/2880) c:\\Users\\havva\\OneDrive\\Desktop\\plaka_tanima\\test_data\\Car_Traffic_short.mp4: 384x640 2 LicensePlates, 100.7ms\n",
      "video 1/1 (frame 1160/2880) c:\\Users\\havva\\OneDrive\\Desktop\\plaka_tanima\\test_data\\Car_Traffic_short.mp4: 384x640 1 LicensePlate, 103.7ms\n",
      "video 1/1 (frame 1161/2880) c:\\Users\\havva\\OneDrive\\Desktop\\plaka_tanima\\test_data\\Car_Traffic_short.mp4: 384x640 1 LicensePlate, 106.7ms\n",
      "video 1/1 (frame 1162/2880) c:\\Users\\havva\\OneDrive\\Desktop\\plaka_tanima\\test_data\\Car_Traffic_short.mp4: 384x640 1 LicensePlate, 104.7ms\n",
      "video 1/1 (frame 1163/2880) c:\\Users\\havva\\OneDrive\\Desktop\\plaka_tanima\\test_data\\Car_Traffic_short.mp4: 384x640 2 LicensePlates, 103.7ms\n",
      "video 1/1 (frame 1164/2880) c:\\Users\\havva\\OneDrive\\Desktop\\plaka_tanima\\test_data\\Car_Traffic_short.mp4: 384x640 (no detections), 106.7ms\n",
      "video 1/1 (frame 1165/2880) c:\\Users\\havva\\OneDrive\\Desktop\\plaka_tanima\\test_data\\Car_Traffic_short.mp4: 384x640 (no detections), 105.4ms\n",
      "video 1/1 (frame 1166/2880) c:\\Users\\havva\\OneDrive\\Desktop\\plaka_tanima\\test_data\\Car_Traffic_short.mp4: 384x640 1 LicensePlate, 114.7ms\n",
      "video 1/1 (frame 1167/2880) c:\\Users\\havva\\OneDrive\\Desktop\\plaka_tanima\\test_data\\Car_Traffic_short.mp4: 384x640 2 LicensePlates, 104.7ms\n",
      "video 1/1 (frame 1168/2880) c:\\Users\\havva\\OneDrive\\Desktop\\plaka_tanima\\test_data\\Car_Traffic_short.mp4: 384x640 (no detections), 130.2ms\n",
      "video 1/1 (frame 1169/2880) c:\\Users\\havva\\OneDrive\\Desktop\\plaka_tanima\\test_data\\Car_Traffic_short.mp4: 384x640 (no detections), 103.3ms\n",
      "video 1/1 (frame 1170/2880) c:\\Users\\havva\\OneDrive\\Desktop\\plaka_tanima\\test_data\\Car_Traffic_short.mp4: 384x640 1 LicensePlate, 103.7ms\n",
      "video 1/1 (frame 1171/2880) c:\\Users\\havva\\OneDrive\\Desktop\\plaka_tanima\\test_data\\Car_Traffic_short.mp4: 384x640 (no detections), 102.7ms\n",
      "video 1/1 (frame 1172/2880) c:\\Users\\havva\\OneDrive\\Desktop\\plaka_tanima\\test_data\\Car_Traffic_short.mp4: 384x640 (no detections), 102.7ms\n",
      "video 1/1 (frame 1173/2880) c:\\Users\\havva\\OneDrive\\Desktop\\plaka_tanima\\test_data\\Car_Traffic_short.mp4: 384x640 (no detections), 106.6ms\n",
      "video 1/1 (frame 1174/2880) c:\\Users\\havva\\OneDrive\\Desktop\\plaka_tanima\\test_data\\Car_Traffic_short.mp4: 384x640 2 LicensePlates, 109.7ms\n",
      "video 1/1 (frame 1175/2880) c:\\Users\\havva\\OneDrive\\Desktop\\plaka_tanima\\test_data\\Car_Traffic_short.mp4: 384x640 (no detections), 108.7ms\n",
      "video 1/1 (frame 1176/2880) c:\\Users\\havva\\OneDrive\\Desktop\\plaka_tanima\\test_data\\Car_Traffic_short.mp4: 384x640 (no detections), 102.7ms\n",
      "video 1/1 (frame 1177/2880) c:\\Users\\havva\\OneDrive\\Desktop\\plaka_tanima\\test_data\\Car_Traffic_short.mp4: 384x640 (no detections), 104.7ms\n",
      "video 1/1 (frame 1178/2880) c:\\Users\\havva\\OneDrive\\Desktop\\plaka_tanima\\test_data\\Car_Traffic_short.mp4: 384x640 (no detections), 111.7ms\n",
      "video 1/1 (frame 1179/2880) c:\\Users\\havva\\OneDrive\\Desktop\\plaka_tanima\\test_data\\Car_Traffic_short.mp4: 384x640 (no detections), 127.7ms\n",
      "video 1/1 (frame 1180/2880) c:\\Users\\havva\\OneDrive\\Desktop\\plaka_tanima\\test_data\\Car_Traffic_short.mp4: 384x640 1 LicensePlate, 107.7ms\n",
      "video 1/1 (frame 1181/2880) c:\\Users\\havva\\OneDrive\\Desktop\\plaka_tanima\\test_data\\Car_Traffic_short.mp4: 384x640 (no detections), 105.9ms\n",
      "video 1/1 (frame 1182/2880) c:\\Users\\havva\\OneDrive\\Desktop\\plaka_tanima\\test_data\\Car_Traffic_short.mp4: 384x640 1 LicensePlate, 103.7ms\n",
      "video 1/1 (frame 1183/2880) c:\\Users\\havva\\OneDrive\\Desktop\\plaka_tanima\\test_data\\Car_Traffic_short.mp4: 384x640 (no detections), 105.7ms\n",
      "video 1/1 (frame 1184/2880) c:\\Users\\havva\\OneDrive\\Desktop\\plaka_tanima\\test_data\\Car_Traffic_short.mp4: 384x640 (no detections), 101.7ms\n",
      "video 1/1 (frame 1185/2880) c:\\Users\\havva\\OneDrive\\Desktop\\plaka_tanima\\test_data\\Car_Traffic_short.mp4: 384x640 (no detections), 103.7ms\n",
      "video 1/1 (frame 1186/2880) c:\\Users\\havva\\OneDrive\\Desktop\\plaka_tanima\\test_data\\Car_Traffic_short.mp4: 384x640 1 LicensePlate, 106.7ms\n",
      "video 1/1 (frame 1187/2880) c:\\Users\\havva\\OneDrive\\Desktop\\plaka_tanima\\test_data\\Car_Traffic_short.mp4: 384x640 1 LicensePlate, 105.7ms\n",
      "video 1/1 (frame 1188/2880) c:\\Users\\havva\\OneDrive\\Desktop\\plaka_tanima\\test_data\\Car_Traffic_short.mp4: 384x640 1 LicensePlate, 106.7ms\n",
      "video 1/1 (frame 1189/2880) c:\\Users\\havva\\OneDrive\\Desktop\\plaka_tanima\\test_data\\Car_Traffic_short.mp4: 384x640 (no detections), 117.7ms\n",
      "video 1/1 (frame 1190/2880) c:\\Users\\havva\\OneDrive\\Desktop\\plaka_tanima\\test_data\\Car_Traffic_short.mp4: 384x640 (no detections), 132.6ms\n",
      "video 1/1 (frame 1191/2880) c:\\Users\\havva\\OneDrive\\Desktop\\plaka_tanima\\test_data\\Car_Traffic_short.mp4: 384x640 (no detections), 129.7ms\n",
      "video 1/1 (frame 1192/2880) c:\\Users\\havva\\OneDrive\\Desktop\\plaka_tanima\\test_data\\Car_Traffic_short.mp4: 384x640 (no detections), 106.8ms\n",
      "video 1/1 (frame 1193/2880) c:\\Users\\havva\\OneDrive\\Desktop\\plaka_tanima\\test_data\\Car_Traffic_short.mp4: 384x640 1 LicensePlate, 106.7ms\n",
      "video 1/1 (frame 1194/2880) c:\\Users\\havva\\OneDrive\\Desktop\\plaka_tanima\\test_data\\Car_Traffic_short.mp4: 384x640 (no detections), 105.7ms\n",
      "video 1/1 (frame 1195/2880) c:\\Users\\havva\\OneDrive\\Desktop\\plaka_tanima\\test_data\\Car_Traffic_short.mp4: 384x640 (no detections), 103.7ms\n",
      "video 1/1 (frame 1196/2880) c:\\Users\\havva\\OneDrive\\Desktop\\plaka_tanima\\test_data\\Car_Traffic_short.mp4: 384x640 (no detections), 101.7ms\n",
      "video 1/1 (frame 1197/2880) c:\\Users\\havva\\OneDrive\\Desktop\\plaka_tanima\\test_data\\Car_Traffic_short.mp4: 384x640 (no detections), 103.7ms\n",
      "video 1/1 (frame 1198/2880) c:\\Users\\havva\\OneDrive\\Desktop\\plaka_tanima\\test_data\\Car_Traffic_short.mp4: 384x640 (no detections), 108.7ms\n",
      "video 1/1 (frame 1199/2880) c:\\Users\\havva\\OneDrive\\Desktop\\plaka_tanima\\test_data\\Car_Traffic_short.mp4: 384x640 (no detections), 107.7ms\n",
      "video 1/1 (frame 1200/2880) c:\\Users\\havva\\OneDrive\\Desktop\\plaka_tanima\\test_data\\Car_Traffic_short.mp4: 384x640 1 LicensePlate, 105.7ms\n",
      "video 1/1 (frame 1201/2880) c:\\Users\\havva\\OneDrive\\Desktop\\plaka_tanima\\test_data\\Car_Traffic_short.mp4: 384x640 (no detections), 117.7ms\n",
      "video 1/1 (frame 1202/2880) c:\\Users\\havva\\OneDrive\\Desktop\\plaka_tanima\\test_data\\Car_Traffic_short.mp4: 384x640 (no detections), 104.7ms\n",
      "video 1/1 (frame 1203/2880) c:\\Users\\havva\\OneDrive\\Desktop\\plaka_tanima\\test_data\\Car_Traffic_short.mp4: 384x640 (no detections), 100.7ms\n",
      "video 1/1 (frame 1204/2880) c:\\Users\\havva\\OneDrive\\Desktop\\plaka_tanima\\test_data\\Car_Traffic_short.mp4: 384x640 (no detections), 105.7ms\n",
      "video 1/1 (frame 1205/2880) c:\\Users\\havva\\OneDrive\\Desktop\\plaka_tanima\\test_data\\Car_Traffic_short.mp4: 384x640 (no detections), 105.7ms\n",
      "video 1/1 (frame 1206/2880) c:\\Users\\havva\\OneDrive\\Desktop\\plaka_tanima\\test_data\\Car_Traffic_short.mp4: 384x640 (no detections), 105.7ms\n",
      "video 1/1 (frame 1207/2880) c:\\Users\\havva\\OneDrive\\Desktop\\plaka_tanima\\test_data\\Car_Traffic_short.mp4: 384x640 1 LicensePlate, 105.7ms\n",
      "video 1/1 (frame 1208/2880) c:\\Users\\havva\\OneDrive\\Desktop\\plaka_tanima\\test_data\\Car_Traffic_short.mp4: 384x640 (no detections), 102.7ms\n",
      "video 1/1 (frame 1209/2880) c:\\Users\\havva\\OneDrive\\Desktop\\plaka_tanima\\test_data\\Car_Traffic_short.mp4: 384x640 (no detections), 106.7ms\n",
      "video 1/1 (frame 1210/2880) c:\\Users\\havva\\OneDrive\\Desktop\\plaka_tanima\\test_data\\Car_Traffic_short.mp4: 384x640 (no detections), 102.7ms\n",
      "video 1/1 (frame 1211/2880) c:\\Users\\havva\\OneDrive\\Desktop\\plaka_tanima\\test_data\\Car_Traffic_short.mp4: 384x640 (no detections), 107.7ms\n",
      "video 1/1 (frame 1212/2880) c:\\Users\\havva\\OneDrive\\Desktop\\plaka_tanima\\test_data\\Car_Traffic_short.mp4: 384x640 (no detections), 119.7ms\n",
      "video 1/1 (frame 1213/2880) c:\\Users\\havva\\OneDrive\\Desktop\\plaka_tanima\\test_data\\Car_Traffic_short.mp4: 384x640 (no detections), 105.8ms\n",
      "video 1/1 (frame 1214/2880) c:\\Users\\havva\\OneDrive\\Desktop\\plaka_tanima\\test_data\\Car_Traffic_short.mp4: 384x640 (no detections), 104.7ms\n",
      "video 1/1 (frame 1215/2880) c:\\Users\\havva\\OneDrive\\Desktop\\plaka_tanima\\test_data\\Car_Traffic_short.mp4: 384x640 (no detections), 106.7ms\n",
      "video 1/1 (frame 1216/2880) c:\\Users\\havva\\OneDrive\\Desktop\\plaka_tanima\\test_data\\Car_Traffic_short.mp4: 384x640 (no detections), 107.7ms\n",
      "video 1/1 (frame 1217/2880) c:\\Users\\havva\\OneDrive\\Desktop\\plaka_tanima\\test_data\\Car_Traffic_short.mp4: 384x640 (no detections), 117.7ms\n",
      "video 1/1 (frame 1218/2880) c:\\Users\\havva\\OneDrive\\Desktop\\plaka_tanima\\test_data\\Car_Traffic_short.mp4: 384x640 (no detections), 105.7ms\n",
      "video 1/1 (frame 1219/2880) c:\\Users\\havva\\OneDrive\\Desktop\\plaka_tanima\\test_data\\Car_Traffic_short.mp4: 384x640 (no detections), 101.7ms\n",
      "video 1/1 (frame 1220/2880) c:\\Users\\havva\\OneDrive\\Desktop\\plaka_tanima\\test_data\\Car_Traffic_short.mp4: 384x640 1 LicensePlate, 100.7ms\n",
      "video 1/1 (frame 1221/2880) c:\\Users\\havva\\OneDrive\\Desktop\\plaka_tanima\\test_data\\Car_Traffic_short.mp4: 384x640 1 LicensePlate, 107.7ms\n",
      "video 1/1 (frame 1222/2880) c:\\Users\\havva\\OneDrive\\Desktop\\plaka_tanima\\test_data\\Car_Traffic_short.mp4: 384x640 (no detections), 105.7ms\n",
      "video 1/1 (frame 1223/2880) c:\\Users\\havva\\OneDrive\\Desktop\\plaka_tanima\\test_data\\Car_Traffic_short.mp4: 384x640 (no detections), 124.7ms\n",
      "video 1/1 (frame 1224/2880) c:\\Users\\havva\\OneDrive\\Desktop\\plaka_tanima\\test_data\\Car_Traffic_short.mp4: 384x640 1 LicensePlate, 106.7ms\n",
      "video 1/1 (frame 1225/2880) c:\\Users\\havva\\OneDrive\\Desktop\\plaka_tanima\\test_data\\Car_Traffic_short.mp4: 384x640 1 LicensePlate, 106.7ms\n",
      "video 1/1 (frame 1226/2880) c:\\Users\\havva\\OneDrive\\Desktop\\plaka_tanima\\test_data\\Car_Traffic_short.mp4: 384x640 1 LicensePlate, 105.7ms\n",
      "video 1/1 (frame 1227/2880) c:\\Users\\havva\\OneDrive\\Desktop\\plaka_tanima\\test_data\\Car_Traffic_short.mp4: 384x640 1 LicensePlate, 113.7ms\n",
      "video 1/1 (frame 1228/2880) c:\\Users\\havva\\OneDrive\\Desktop\\plaka_tanima\\test_data\\Car_Traffic_short.mp4: 384x640 1 LicensePlate, 105.7ms\n",
      "video 1/1 (frame 1229/2880) c:\\Users\\havva\\OneDrive\\Desktop\\plaka_tanima\\test_data\\Car_Traffic_short.mp4: 384x640 2 LicensePlates, 105.7ms\n",
      "video 1/1 (frame 1230/2880) c:\\Users\\havva\\OneDrive\\Desktop\\plaka_tanima\\test_data\\Car_Traffic_short.mp4: 384x640 2 LicensePlates, 102.7ms\n",
      "video 1/1 (frame 1231/2880) c:\\Users\\havva\\OneDrive\\Desktop\\plaka_tanima\\test_data\\Car_Traffic_short.mp4: 384x640 3 LicensePlates, 102.7ms\n",
      "video 1/1 (frame 1232/2880) c:\\Users\\havva\\OneDrive\\Desktop\\plaka_tanima\\test_data\\Car_Traffic_short.mp4: 384x640 1 LicensePlate, 100.7ms\n",
      "video 1/1 (frame 1233/2880) c:\\Users\\havva\\OneDrive\\Desktop\\plaka_tanima\\test_data\\Car_Traffic_short.mp4: 384x640 1 LicensePlate, 104.7ms\n",
      "video 1/1 (frame 1234/2880) c:\\Users\\havva\\OneDrive\\Desktop\\plaka_tanima\\test_data\\Car_Traffic_short.mp4: 384x640 1 LicensePlate, 134.7ms\n",
      "video 1/1 (frame 1235/2880) c:\\Users\\havva\\OneDrive\\Desktop\\plaka_tanima\\test_data\\Car_Traffic_short.mp4: 384x640 2 LicensePlates, 106.8ms\n",
      "video 1/1 (frame 1236/2880) c:\\Users\\havva\\OneDrive\\Desktop\\plaka_tanima\\test_data\\Car_Traffic_short.mp4: 384x640 2 LicensePlates, 104.7ms\n",
      "video 1/1 (frame 1237/2880) c:\\Users\\havva\\OneDrive\\Desktop\\plaka_tanima\\test_data\\Car_Traffic_short.mp4: 384x640 1 LicensePlate, 103.7ms\n",
      "video 1/1 (frame 1238/2880) c:\\Users\\havva\\OneDrive\\Desktop\\plaka_tanima\\test_data\\Car_Traffic_short.mp4: 384x640 1 LicensePlate, 106.6ms\n",
      "video 1/1 (frame 1239/2880) c:\\Users\\havva\\OneDrive\\Desktop\\plaka_tanima\\test_data\\Car_Traffic_short.mp4: 384x640 1 LicensePlate, 104.7ms\n",
      "video 1/1 (frame 1240/2880) c:\\Users\\havva\\OneDrive\\Desktop\\plaka_tanima\\test_data\\Car_Traffic_short.mp4: 384x640 1 LicensePlate, 104.1ms\n",
      "video 1/1 (frame 1241/2880) c:\\Users\\havva\\OneDrive\\Desktop\\plaka_tanima\\test_data\\Car_Traffic_short.mp4: 384x640 1 LicensePlate, 103.7ms\n",
      "video 1/1 (frame 1242/2880) c:\\Users\\havva\\OneDrive\\Desktop\\plaka_tanima\\test_data\\Car_Traffic_short.mp4: 384x640 2 LicensePlates, 103.7ms\n",
      "video 1/1 (frame 1243/2880) c:\\Users\\havva\\OneDrive\\Desktop\\plaka_tanima\\test_data\\Car_Traffic_short.mp4: 384x640 2 LicensePlates, 109.7ms\n",
      "video 1/1 (frame 1244/2880) c:\\Users\\havva\\OneDrive\\Desktop\\plaka_tanima\\test_data\\Car_Traffic_short.mp4: 384x640 1 LicensePlate, 118.7ms\n",
      "video 1/1 (frame 1245/2880) c:\\Users\\havva\\OneDrive\\Desktop\\plaka_tanima\\test_data\\Car_Traffic_short.mp4: 384x640 1 LicensePlate, 103.7ms\n",
      "video 1/1 (frame 1246/2880) c:\\Users\\havva\\OneDrive\\Desktop\\plaka_tanima\\test_data\\Car_Traffic_short.mp4: 384x640 1 LicensePlate, 104.7ms\n",
      "video 1/1 (frame 1247/2880) c:\\Users\\havva\\OneDrive\\Desktop\\plaka_tanima\\test_data\\Car_Traffic_short.mp4: 384x640 1 LicensePlate, 99.7ms\n",
      "video 1/1 (frame 1248/2880) c:\\Users\\havva\\OneDrive\\Desktop\\plaka_tanima\\test_data\\Car_Traffic_short.mp4: 384x640 1 LicensePlate, 104.7ms\n",
      "video 1/1 (frame 1249/2880) c:\\Users\\havva\\OneDrive\\Desktop\\plaka_tanima\\test_data\\Car_Traffic_short.mp4: 384x640 1 LicensePlate, 107.7ms\n",
      "video 1/1 (frame 1250/2880) c:\\Users\\havva\\OneDrive\\Desktop\\plaka_tanima\\test_data\\Car_Traffic_short.mp4: 384x640 1 LicensePlate, 100.7ms\n",
      "video 1/1 (frame 1251/2880) c:\\Users\\havva\\OneDrive\\Desktop\\plaka_tanima\\test_data\\Car_Traffic_short.mp4: 384x640 1 LicensePlate, 107.8ms\n",
      "video 1/1 (frame 1252/2880) c:\\Users\\havva\\OneDrive\\Desktop\\plaka_tanima\\test_data\\Car_Traffic_short.mp4: 384x640 (no detections), 108.7ms\n",
      "video 1/1 (frame 1253/2880) c:\\Users\\havva\\OneDrive\\Desktop\\plaka_tanima\\test_data\\Car_Traffic_short.mp4: 384x640 1 LicensePlate, 103.7ms\n",
      "video 1/1 (frame 1254/2880) c:\\Users\\havva\\OneDrive\\Desktop\\plaka_tanima\\test_data\\Car_Traffic_short.mp4: 384x640 (no detections), 123.7ms\n",
      "video 1/1 (frame 1255/2880) c:\\Users\\havva\\OneDrive\\Desktop\\plaka_tanima\\test_data\\Car_Traffic_short.mp4: 384x640 1 LicensePlate, 105.7ms\n",
      "video 1/1 (frame 1256/2880) c:\\Users\\havva\\OneDrive\\Desktop\\plaka_tanima\\test_data\\Car_Traffic_short.mp4: 384x640 (no detections), 107.7ms\n",
      "video 1/1 (frame 1257/2880) c:\\Users\\havva\\OneDrive\\Desktop\\plaka_tanima\\test_data\\Car_Traffic_short.mp4: 384x640 (no detections), 104.6ms\n",
      "video 1/1 (frame 1258/2880) c:\\Users\\havva\\OneDrive\\Desktop\\plaka_tanima\\test_data\\Car_Traffic_short.mp4: 384x640 (no detections), 107.7ms\n",
      "video 1/1 (frame 1259/2880) c:\\Users\\havva\\OneDrive\\Desktop\\plaka_tanima\\test_data\\Car_Traffic_short.mp4: 384x640 (no detections), 102.7ms\n",
      "video 1/1 (frame 1260/2880) c:\\Users\\havva\\OneDrive\\Desktop\\plaka_tanima\\test_data\\Car_Traffic_short.mp4: 384x640 (no detections), 106.7ms\n",
      "video 1/1 (frame 1261/2880) c:\\Users\\havva\\OneDrive\\Desktop\\plaka_tanima\\test_data\\Car_Traffic_short.mp4: 384x640 1 LicensePlate, 107.7ms\n",
      "video 1/1 (frame 1262/2880) c:\\Users\\havva\\OneDrive\\Desktop\\plaka_tanima\\test_data\\Car_Traffic_short.mp4: 384x640 (no detections), 102.7ms\n",
      "video 1/1 (frame 1263/2880) c:\\Users\\havva\\OneDrive\\Desktop\\plaka_tanima\\test_data\\Car_Traffic_short.mp4: 384x640 (no detections), 106.7ms\n",
      "video 1/1 (frame 1264/2880) c:\\Users\\havva\\OneDrive\\Desktop\\plaka_tanima\\test_data\\Car_Traffic_short.mp4: 384x640 (no detections), 105.7ms\n",
      "video 1/1 (frame 1265/2880) c:\\Users\\havva\\OneDrive\\Desktop\\plaka_tanima\\test_data\\Car_Traffic_short.mp4: 384x640 (no detections), 121.7ms\n",
      "video 1/1 (frame 1266/2880) c:\\Users\\havva\\OneDrive\\Desktop\\plaka_tanima\\test_data\\Car_Traffic_short.mp4: 384x640 (no detections), 106.7ms\n",
      "video 1/1 (frame 1267/2880) c:\\Users\\havva\\OneDrive\\Desktop\\plaka_tanima\\test_data\\Car_Traffic_short.mp4: 384x640 (no detections), 106.7ms\n",
      "video 1/1 (frame 1268/2880) c:\\Users\\havva\\OneDrive\\Desktop\\plaka_tanima\\test_data\\Car_Traffic_short.mp4: 384x640 (no detections), 104.7ms\n",
      "video 1/1 (frame 1269/2880) c:\\Users\\havva\\OneDrive\\Desktop\\plaka_tanima\\test_data\\Car_Traffic_short.mp4: 384x640 (no detections), 106.7ms\n",
      "video 1/1 (frame 1270/2880) c:\\Users\\havva\\OneDrive\\Desktop\\plaka_tanima\\test_data\\Car_Traffic_short.mp4: 384x640 1 LicensePlate, 105.7ms\n",
      "video 1/1 (frame 1271/2880) c:\\Users\\havva\\OneDrive\\Desktop\\plaka_tanima\\test_data\\Car_Traffic_short.mp4: 384x640 1 LicensePlate, 104.6ms\n",
      "video 1/1 (frame 1272/2880) c:\\Users\\havva\\OneDrive\\Desktop\\plaka_tanima\\test_data\\Car_Traffic_short.mp4: 384x640 1 LicensePlate, 104.7ms\n",
      "video 1/1 (frame 1273/2880) c:\\Users\\havva\\OneDrive\\Desktop\\plaka_tanima\\test_data\\Car_Traffic_short.mp4: 384x640 (no detections), 107.7ms\n",
      "video 1/1 (frame 1274/2880) c:\\Users\\havva\\OneDrive\\Desktop\\plaka_tanima\\test_data\\Car_Traffic_short.mp4: 384x640 1 LicensePlate, 161.6ms\n",
      "video 1/1 (frame 1275/2880) c:\\Users\\havva\\OneDrive\\Desktop\\plaka_tanima\\test_data\\Car_Traffic_short.mp4: 384x640 1 LicensePlate, 106.7ms\n",
      "video 1/1 (frame 1276/2880) c:\\Users\\havva\\OneDrive\\Desktop\\plaka_tanima\\test_data\\Car_Traffic_short.mp4: 384x640 1 LicensePlate, 122.7ms\n",
      "video 1/1 (frame 1277/2880) c:\\Users\\havva\\OneDrive\\Desktop\\plaka_tanima\\test_data\\Car_Traffic_short.mp4: 384x640 1 LicensePlate, 107.7ms\n",
      "video 1/1 (frame 1278/2880) c:\\Users\\havva\\OneDrive\\Desktop\\plaka_tanima\\test_data\\Car_Traffic_short.mp4: 384x640 1 LicensePlate, 102.6ms\n",
      "video 1/1 (frame 1279/2880) c:\\Users\\havva\\OneDrive\\Desktop\\plaka_tanima\\test_data\\Car_Traffic_short.mp4: 384x640 1 LicensePlate, 112.7ms\n",
      "video 1/1 (frame 1280/2880) c:\\Users\\havva\\OneDrive\\Desktop\\plaka_tanima\\test_data\\Car_Traffic_short.mp4: 384x640 (no detections), 105.7ms\n",
      "video 1/1 (frame 1281/2880) c:\\Users\\havva\\OneDrive\\Desktop\\plaka_tanima\\test_data\\Car_Traffic_short.mp4: 384x640 (no detections), 103.7ms\n",
      "video 1/1 (frame 1282/2880) c:\\Users\\havva\\OneDrive\\Desktop\\plaka_tanima\\test_data\\Car_Traffic_short.mp4: 384x640 1 LicensePlate, 104.7ms\n",
      "video 1/1 (frame 1283/2880) c:\\Users\\havva\\OneDrive\\Desktop\\plaka_tanima\\test_data\\Car_Traffic_short.mp4: 384x640 (no detections), 104.7ms\n",
      "video 1/1 (frame 1284/2880) c:\\Users\\havva\\OneDrive\\Desktop\\plaka_tanima\\test_data\\Car_Traffic_short.mp4: 384x640 (no detections), 105.7ms\n",
      "video 1/1 (frame 1285/2880) c:\\Users\\havva\\OneDrive\\Desktop\\plaka_tanima\\test_data\\Car_Traffic_short.mp4: 384x640 1 LicensePlate, 111.7ms\n",
      "video 1/1 (frame 1286/2880) c:\\Users\\havva\\OneDrive\\Desktop\\plaka_tanima\\test_data\\Car_Traffic_short.mp4: 384x640 1 LicensePlate, 109.7ms\n",
      "video 1/1 (frame 1287/2880) c:\\Users\\havva\\OneDrive\\Desktop\\plaka_tanima\\test_data\\Car_Traffic_short.mp4: 384x640 1 LicensePlate, 124.7ms\n",
      "video 1/1 (frame 1288/2880) c:\\Users\\havva\\OneDrive\\Desktop\\plaka_tanima\\test_data\\Car_Traffic_short.mp4: 384x640 1 LicensePlate, 103.7ms\n",
      "video 1/1 (frame 1289/2880) c:\\Users\\havva\\OneDrive\\Desktop\\plaka_tanima\\test_data\\Car_Traffic_short.mp4: 384x640 1 LicensePlate, 105.7ms\n",
      "video 1/1 (frame 1290/2880) c:\\Users\\havva\\OneDrive\\Desktop\\plaka_tanima\\test_data\\Car_Traffic_short.mp4: 384x640 (no detections), 103.6ms\n",
      "video 1/1 (frame 1291/2880) c:\\Users\\havva\\OneDrive\\Desktop\\plaka_tanima\\test_data\\Car_Traffic_short.mp4: 384x640 1 LicensePlate, 107.7ms\n",
      "video 1/1 (frame 1292/2880) c:\\Users\\havva\\OneDrive\\Desktop\\plaka_tanima\\test_data\\Car_Traffic_short.mp4: 384x640 1 LicensePlate, 104.5ms\n",
      "video 1/1 (frame 1293/2880) c:\\Users\\havva\\OneDrive\\Desktop\\plaka_tanima\\test_data\\Car_Traffic_short.mp4: 384x640 1 LicensePlate, 107.7ms\n",
      "video 1/1 (frame 1294/2880) c:\\Users\\havva\\OneDrive\\Desktop\\plaka_tanima\\test_data\\Car_Traffic_short.mp4: 384x640 1 LicensePlate, 108.7ms\n",
      "video 1/1 (frame 1295/2880) c:\\Users\\havva\\OneDrive\\Desktop\\plaka_tanima\\test_data\\Car_Traffic_short.mp4: 384x640 (no detections), 102.7ms\n",
      "video 1/1 (frame 1296/2880) c:\\Users\\havva\\OneDrive\\Desktop\\plaka_tanima\\test_data\\Car_Traffic_short.mp4: 384x640 (no detections), 103.7ms\n",
      "video 1/1 (frame 1297/2880) c:\\Users\\havva\\OneDrive\\Desktop\\plaka_tanima\\test_data\\Car_Traffic_short.mp4: 384x640 (no detections), 123.7ms\n",
      "video 1/1 (frame 1298/2880) c:\\Users\\havva\\OneDrive\\Desktop\\plaka_tanima\\test_data\\Car_Traffic_short.mp4: 384x640 (no detections), 103.7ms\n",
      "video 1/1 (frame 1299/2880) c:\\Users\\havva\\OneDrive\\Desktop\\plaka_tanima\\test_data\\Car_Traffic_short.mp4: 384x640 (no detections), 104.6ms\n",
      "video 1/1 (frame 1300/2880) c:\\Users\\havva\\OneDrive\\Desktop\\plaka_tanima\\test_data\\Car_Traffic_short.mp4: 384x640 (no detections), 104.7ms\n",
      "video 1/1 (frame 1301/2880) c:\\Users\\havva\\OneDrive\\Desktop\\plaka_tanima\\test_data\\Car_Traffic_short.mp4: 384x640 1 LicensePlate, 103.7ms\n",
      "video 1/1 (frame 1302/2880) c:\\Users\\havva\\OneDrive\\Desktop\\plaka_tanima\\test_data\\Car_Traffic_short.mp4: 384x640 1 LicensePlate, 109.7ms\n",
      "video 1/1 (frame 1303/2880) c:\\Users\\havva\\OneDrive\\Desktop\\plaka_tanima\\test_data\\Car_Traffic_short.mp4: 384x640 (no detections), 103.7ms\n",
      "video 1/1 (frame 1304/2880) c:\\Users\\havva\\OneDrive\\Desktop\\plaka_tanima\\test_data\\Car_Traffic_short.mp4: 384x640 (no detections), 108.6ms\n",
      "video 1/1 (frame 1305/2880) c:\\Users\\havva\\OneDrive\\Desktop\\plaka_tanima\\test_data\\Car_Traffic_short.mp4: 384x640 (no detections), 108.7ms\n",
      "video 1/1 (frame 1306/2880) c:\\Users\\havva\\OneDrive\\Desktop\\plaka_tanima\\test_data\\Car_Traffic_short.mp4: 384x640 1 LicensePlate, 106.7ms\n",
      "video 1/1 (frame 1307/2880) c:\\Users\\havva\\OneDrive\\Desktop\\plaka_tanima\\test_data\\Car_Traffic_short.mp4: 384x640 1 LicensePlate, 101.7ms\n",
      "video 1/1 (frame 1308/2880) c:\\Users\\havva\\OneDrive\\Desktop\\plaka_tanima\\test_data\\Car_Traffic_short.mp4: 384x640 1 LicensePlate, 119.7ms\n",
      "video 1/1 (frame 1309/2880) c:\\Users\\havva\\OneDrive\\Desktop\\plaka_tanima\\test_data\\Car_Traffic_short.mp4: 384x640 1 LicensePlate, 104.7ms\n",
      "video 1/1 (frame 1310/2880) c:\\Users\\havva\\OneDrive\\Desktop\\plaka_tanima\\test_data\\Car_Traffic_short.mp4: 384x640 (no detections), 103.7ms\n",
      "video 1/1 (frame 1311/2880) c:\\Users\\havva\\OneDrive\\Desktop\\plaka_tanima\\test_data\\Car_Traffic_short.mp4: 384x640 (no detections), 104.7ms\n",
      "video 1/1 (frame 1312/2880) c:\\Users\\havva\\OneDrive\\Desktop\\plaka_tanima\\test_data\\Car_Traffic_short.mp4: 384x640 (no detections), 106.7ms\n",
      "video 1/1 (frame 1313/2880) c:\\Users\\havva\\OneDrive\\Desktop\\plaka_tanima\\test_data\\Car_Traffic_short.mp4: 384x640 (no detections), 104.7ms\n",
      "video 1/1 (frame 1314/2880) c:\\Users\\havva\\OneDrive\\Desktop\\plaka_tanima\\test_data\\Car_Traffic_short.mp4: 384x640 (no detections), 110.7ms\n",
      "video 1/1 (frame 1315/2880) c:\\Users\\havva\\OneDrive\\Desktop\\plaka_tanima\\test_data\\Car_Traffic_short.mp4: 384x640 1 LicensePlate, 106.7ms\n",
      "video 1/1 (frame 1316/2880) c:\\Users\\havva\\OneDrive\\Desktop\\plaka_tanima\\test_data\\Car_Traffic_short.mp4: 384x640 1 LicensePlate, 101.8ms\n",
      "video 1/1 (frame 1317/2880) c:\\Users\\havva\\OneDrive\\Desktop\\plaka_tanima\\test_data\\Car_Traffic_short.mp4: 384x640 1 LicensePlate, 105.7ms\n",
      "video 1/1 (frame 1318/2880) c:\\Users\\havva\\OneDrive\\Desktop\\plaka_tanima\\test_data\\Car_Traffic_short.mp4: 384x640 (no detections), 105.7ms\n",
      "video 1/1 (frame 1319/2880) c:\\Users\\havva\\OneDrive\\Desktop\\plaka_tanima\\test_data\\Car_Traffic_short.mp4: 384x640 (no detections), 123.7ms\n",
      "video 1/1 (frame 1320/2880) c:\\Users\\havva\\OneDrive\\Desktop\\plaka_tanima\\test_data\\Car_Traffic_short.mp4: 384x640 (no detections), 102.7ms\n",
      "video 1/1 (frame 1321/2880) c:\\Users\\havva\\OneDrive\\Desktop\\plaka_tanima\\test_data\\Car_Traffic_short.mp4: 384x640 (no detections), 103.6ms\n",
      "video 1/1 (frame 1322/2880) c:\\Users\\havva\\OneDrive\\Desktop\\plaka_tanima\\test_data\\Car_Traffic_short.mp4: 384x640 (no detections), 105.7ms\n",
      "video 1/1 (frame 1323/2880) c:\\Users\\havva\\OneDrive\\Desktop\\plaka_tanima\\test_data\\Car_Traffic_short.mp4: 384x640 (no detections), 100.7ms\n",
      "video 1/1 (frame 1324/2880) c:\\Users\\havva\\OneDrive\\Desktop\\plaka_tanima\\test_data\\Car_Traffic_short.mp4: 384x640 (no detections), 115.7ms\n",
      "video 1/1 (frame 1325/2880) c:\\Users\\havva\\OneDrive\\Desktop\\plaka_tanima\\test_data\\Car_Traffic_short.mp4: 384x640 (no detections), 107.9ms\n",
      "video 1/1 (frame 1326/2880) c:\\Users\\havva\\OneDrive\\Desktop\\plaka_tanima\\test_data\\Car_Traffic_short.mp4: 384x640 (no detections), 102.7ms\n",
      "video 1/1 (frame 1327/2880) c:\\Users\\havva\\OneDrive\\Desktop\\plaka_tanima\\test_data\\Car_Traffic_short.mp4: 384x640 (no detections), 102.7ms\n",
      "video 1/1 (frame 1328/2880) c:\\Users\\havva\\OneDrive\\Desktop\\plaka_tanima\\test_data\\Car_Traffic_short.mp4: 384x640 (no detections), 105.7ms\n",
      "video 1/1 (frame 1329/2880) c:\\Users\\havva\\OneDrive\\Desktop\\plaka_tanima\\test_data\\Car_Traffic_short.mp4: 384x640 (no detections), 127.7ms\n",
      "video 1/1 (frame 1330/2880) c:\\Users\\havva\\OneDrive\\Desktop\\plaka_tanima\\test_data\\Car_Traffic_short.mp4: 384x640 (no detections), 110.4ms\n",
      "video 1/1 (frame 1331/2880) c:\\Users\\havva\\OneDrive\\Desktop\\plaka_tanima\\test_data\\Car_Traffic_short.mp4: 384x640 (no detections), 107.7ms\n",
      "video 1/1 (frame 1332/2880) c:\\Users\\havva\\OneDrive\\Desktop\\plaka_tanima\\test_data\\Car_Traffic_short.mp4: 384x640 (no detections), 104.7ms\n",
      "video 1/1 (frame 1333/2880) c:\\Users\\havva\\OneDrive\\Desktop\\plaka_tanima\\test_data\\Car_Traffic_short.mp4: 384x640 (no detections), 104.7ms\n",
      "video 1/1 (frame 1334/2880) c:\\Users\\havva\\OneDrive\\Desktop\\plaka_tanima\\test_data\\Car_Traffic_short.mp4: 384x640 (no detections), 103.7ms\n",
      "video 1/1 (frame 1335/2880) c:\\Users\\havva\\OneDrive\\Desktop\\plaka_tanima\\test_data\\Car_Traffic_short.mp4: 384x640 (no detections), 105.6ms\n",
      "video 1/1 (frame 1336/2880) c:\\Users\\havva\\OneDrive\\Desktop\\plaka_tanima\\test_data\\Car_Traffic_short.mp4: 384x640 (no detections), 104.7ms\n",
      "video 1/1 (frame 1337/2880) c:\\Users\\havva\\OneDrive\\Desktop\\plaka_tanima\\test_data\\Car_Traffic_short.mp4: 384x640 (no detections), 109.7ms\n",
      "video 1/1 (frame 1338/2880) c:\\Users\\havva\\OneDrive\\Desktop\\plaka_tanima\\test_data\\Car_Traffic_short.mp4: 384x640 (no detections), 108.6ms\n",
      "video 1/1 (frame 1339/2880) c:\\Users\\havva\\OneDrive\\Desktop\\plaka_tanima\\test_data\\Car_Traffic_short.mp4: 384x640 1 LicensePlate, 124.7ms\n",
      "video 1/1 (frame 1340/2880) c:\\Users\\havva\\OneDrive\\Desktop\\plaka_tanima\\test_data\\Car_Traffic_short.mp4: 384x640 1 LicensePlate, 100.7ms\n",
      "video 1/1 (frame 1341/2880) c:\\Users\\havva\\OneDrive\\Desktop\\plaka_tanima\\test_data\\Car_Traffic_short.mp4: 384x640 1 LicensePlate, 107.6ms\n",
      "video 1/1 (frame 1342/2880) c:\\Users\\havva\\OneDrive\\Desktop\\plaka_tanima\\test_data\\Car_Traffic_short.mp4: 384x640 1 LicensePlate, 107.7ms\n",
      "video 1/1 (frame 1343/2880) c:\\Users\\havva\\OneDrive\\Desktop\\plaka_tanima\\test_data\\Car_Traffic_short.mp4: 384x640 (no detections), 109.7ms\n",
      "video 1/1 (frame 1344/2880) c:\\Users\\havva\\OneDrive\\Desktop\\plaka_tanima\\test_data\\Car_Traffic_short.mp4: 384x640 (no detections), 113.5ms\n",
      "video 1/1 (frame 1345/2880) c:\\Users\\havva\\OneDrive\\Desktop\\plaka_tanima\\test_data\\Car_Traffic_short.mp4: 384x640 (no detections), 110.7ms\n",
      "video 1/1 (frame 1346/2880) c:\\Users\\havva\\OneDrive\\Desktop\\plaka_tanima\\test_data\\Car_Traffic_short.mp4: 384x640 (no detections), 106.7ms\n",
      "video 1/1 (frame 1347/2880) c:\\Users\\havva\\OneDrive\\Desktop\\plaka_tanima\\test_data\\Car_Traffic_short.mp4: 384x640 (no detections), 109.7ms\n",
      "video 1/1 (frame 1348/2880) c:\\Users\\havva\\OneDrive\\Desktop\\plaka_tanima\\test_data\\Car_Traffic_short.mp4: 384x640 (no detections), 104.7ms\n",
      "video 1/1 (frame 1349/2880) c:\\Users\\havva\\OneDrive\\Desktop\\plaka_tanima\\test_data\\Car_Traffic_short.mp4: 384x640 (no detections), 125.7ms\n",
      "video 1/1 (frame 1350/2880) c:\\Users\\havva\\OneDrive\\Desktop\\plaka_tanima\\test_data\\Car_Traffic_short.mp4: 384x640 (no detections), 106.7ms\n",
      "video 1/1 (frame 1351/2880) c:\\Users\\havva\\OneDrive\\Desktop\\plaka_tanima\\test_data\\Car_Traffic_short.mp4: 384x640 (no detections), 104.7ms\n",
      "video 1/1 (frame 1352/2880) c:\\Users\\havva\\OneDrive\\Desktop\\plaka_tanima\\test_data\\Car_Traffic_short.mp4: 384x640 1 LicensePlate, 106.7ms\n",
      "video 1/1 (frame 1353/2880) c:\\Users\\havva\\OneDrive\\Desktop\\plaka_tanima\\test_data\\Car_Traffic_short.mp4: 384x640 1 LicensePlate, 104.7ms\n",
      "video 1/1 (frame 1354/2880) c:\\Users\\havva\\OneDrive\\Desktop\\plaka_tanima\\test_data\\Car_Traffic_short.mp4: 384x640 (no detections), 107.4ms\n",
      "video 1/1 (frame 1355/2880) c:\\Users\\havva\\OneDrive\\Desktop\\plaka_tanima\\test_data\\Car_Traffic_short.mp4: 384x640 1 LicensePlate, 106.7ms\n",
      "video 1/1 (frame 1356/2880) c:\\Users\\havva\\OneDrive\\Desktop\\plaka_tanima\\test_data\\Car_Traffic_short.mp4: 384x640 (no detections), 108.5ms\n",
      "video 1/1 (frame 1357/2880) c:\\Users\\havva\\OneDrive\\Desktop\\plaka_tanima\\test_data\\Car_Traffic_short.mp4: 384x640 (no detections), 113.7ms\n",
      "video 1/1 (frame 1358/2880) c:\\Users\\havva\\OneDrive\\Desktop\\plaka_tanima\\test_data\\Car_Traffic_short.mp4: 384x640 (no detections), 101.7ms\n",
      "video 1/1 (frame 1359/2880) c:\\Users\\havva\\OneDrive\\Desktop\\plaka_tanima\\test_data\\Car_Traffic_short.mp4: 384x640 (no detections), 119.5ms\n",
      "video 1/1 (frame 1360/2880) c:\\Users\\havva\\OneDrive\\Desktop\\plaka_tanima\\test_data\\Car_Traffic_short.mp4: 384x640 (no detections), 106.7ms\n",
      "video 1/1 (frame 1361/2880) c:\\Users\\havva\\OneDrive\\Desktop\\plaka_tanima\\test_data\\Car_Traffic_short.mp4: 384x640 (no detections), 106.8ms\n",
      "video 1/1 (frame 1362/2880) c:\\Users\\havva\\OneDrive\\Desktop\\plaka_tanima\\test_data\\Car_Traffic_short.mp4: 384x640 (no detections), 107.7ms\n",
      "video 1/1 (frame 1363/2880) c:\\Users\\havva\\OneDrive\\Desktop\\plaka_tanima\\test_data\\Car_Traffic_short.mp4: 384x640 (no detections), 110.7ms\n",
      "video 1/1 (frame 1364/2880) c:\\Users\\havva\\OneDrive\\Desktop\\plaka_tanima\\test_data\\Car_Traffic_short.mp4: 384x640 (no detections), 106.7ms\n",
      "video 1/1 (frame 1365/2880) c:\\Users\\havva\\OneDrive\\Desktop\\plaka_tanima\\test_data\\Car_Traffic_short.mp4: 384x640 (no detections), 112.8ms\n",
      "video 1/1 (frame 1366/2880) c:\\Users\\havva\\OneDrive\\Desktop\\plaka_tanima\\test_data\\Car_Traffic_short.mp4: 384x640 (no detections), 103.7ms\n",
      "video 1/1 (frame 1367/2880) c:\\Users\\havva\\OneDrive\\Desktop\\plaka_tanima\\test_data\\Car_Traffic_short.mp4: 384x640 (no detections), 103.7ms\n",
      "video 1/1 (frame 1368/2880) c:\\Users\\havva\\OneDrive\\Desktop\\plaka_tanima\\test_data\\Car_Traffic_short.mp4: 384x640 (no detections), 105.4ms\n",
      "video 1/1 (frame 1369/2880) c:\\Users\\havva\\OneDrive\\Desktop\\plaka_tanima\\test_data\\Car_Traffic_short.mp4: 384x640 (no detections), 128.7ms\n",
      "video 1/1 (frame 1370/2880) c:\\Users\\havva\\OneDrive\\Desktop\\plaka_tanima\\test_data\\Car_Traffic_short.mp4: 384x640 1 LicensePlate, 109.7ms\n",
      "video 1/1 (frame 1371/2880) c:\\Users\\havva\\OneDrive\\Desktop\\plaka_tanima\\test_data\\Car_Traffic_short.mp4: 384x640 1 LicensePlate, 108.7ms\n",
      "video 1/1 (frame 1372/2880) c:\\Users\\havva\\OneDrive\\Desktop\\plaka_tanima\\test_data\\Car_Traffic_short.mp4: 384x640 (no detections), 106.7ms\n",
      "video 1/1 (frame 1373/2880) c:\\Users\\havva\\OneDrive\\Desktop\\plaka_tanima\\test_data\\Car_Traffic_short.mp4: 384x640 (no detections), 111.6ms\n",
      "video 1/1 (frame 1374/2880) c:\\Users\\havva\\OneDrive\\Desktop\\plaka_tanima\\test_data\\Car_Traffic_short.mp4: 384x640 1 LicensePlate, 105.7ms\n",
      "video 1/1 (frame 1375/2880) c:\\Users\\havva\\OneDrive\\Desktop\\plaka_tanima\\test_data\\Car_Traffic_short.mp4: 384x640 (no detections), 106.7ms\n",
      "video 1/1 (frame 1376/2880) c:\\Users\\havva\\OneDrive\\Desktop\\plaka_tanima\\test_data\\Car_Traffic_short.mp4: 384x640 1 LicensePlate, 104.6ms\n",
      "video 1/1 (frame 1377/2880) c:\\Users\\havva\\OneDrive\\Desktop\\plaka_tanima\\test_data\\Car_Traffic_short.mp4: 384x640 1 LicensePlate, 105.8ms\n",
      "video 1/1 (frame 1378/2880) c:\\Users\\havva\\OneDrive\\Desktop\\plaka_tanima\\test_data\\Car_Traffic_short.mp4: 384x640 (no detections), 106.7ms\n",
      "video 1/1 (frame 1379/2880) c:\\Users\\havva\\OneDrive\\Desktop\\plaka_tanima\\test_data\\Car_Traffic_short.mp4: 384x640 1 LicensePlate, 122.8ms\n",
      "video 1/1 (frame 1380/2880) c:\\Users\\havva\\OneDrive\\Desktop\\plaka_tanima\\test_data\\Car_Traffic_short.mp4: 384x640 2 LicensePlates, 102.7ms\n",
      "video 1/1 (frame 1381/2880) c:\\Users\\havva\\OneDrive\\Desktop\\plaka_tanima\\test_data\\Car_Traffic_short.mp4: 384x640 2 LicensePlates, 110.7ms\n",
      "video 1/1 (frame 1382/2880) c:\\Users\\havva\\OneDrive\\Desktop\\plaka_tanima\\test_data\\Car_Traffic_short.mp4: 384x640 2 LicensePlates, 116.7ms\n",
      "video 1/1 (frame 1383/2880) c:\\Users\\havva\\OneDrive\\Desktop\\plaka_tanima\\test_data\\Car_Traffic_short.mp4: 384x640 2 LicensePlates, 122.7ms\n",
      "video 1/1 (frame 1384/2880) c:\\Users\\havva\\OneDrive\\Desktop\\plaka_tanima\\test_data\\Car_Traffic_short.mp4: 384x640 1 LicensePlate, 118.7ms\n",
      "video 1/1 (frame 1385/2880) c:\\Users\\havva\\OneDrive\\Desktop\\plaka_tanima\\test_data\\Car_Traffic_short.mp4: 384x640 1 LicensePlate, 108.7ms\n",
      "video 1/1 (frame 1386/2880) c:\\Users\\havva\\OneDrive\\Desktop\\plaka_tanima\\test_data\\Car_Traffic_short.mp4: 384x640 1 LicensePlate, 105.6ms\n",
      "video 1/1 (frame 1387/2880) c:\\Users\\havva\\OneDrive\\Desktop\\plaka_tanima\\test_data\\Car_Traffic_short.mp4: 384x640 1 LicensePlate, 113.7ms\n",
      "video 1/1 (frame 1388/2880) c:\\Users\\havva\\OneDrive\\Desktop\\plaka_tanima\\test_data\\Car_Traffic_short.mp4: 384x640 1 LicensePlate, 124.7ms\n",
      "video 1/1 (frame 1389/2880) c:\\Users\\havva\\OneDrive\\Desktop\\plaka_tanima\\test_data\\Car_Traffic_short.mp4: 384x640 1 LicensePlate, 102.7ms\n",
      "video 1/1 (frame 1390/2880) c:\\Users\\havva\\OneDrive\\Desktop\\plaka_tanima\\test_data\\Car_Traffic_short.mp4: 384x640 1 LicensePlate, 108.7ms\n",
      "video 1/1 (frame 1391/2880) c:\\Users\\havva\\OneDrive\\Desktop\\plaka_tanima\\test_data\\Car_Traffic_short.mp4: 384x640 1 LicensePlate, 107.7ms\n",
      "video 1/1 (frame 1392/2880) c:\\Users\\havva\\OneDrive\\Desktop\\plaka_tanima\\test_data\\Car_Traffic_short.mp4: 384x640 2 LicensePlates, 101.7ms\n",
      "video 1/1 (frame 1393/2880) c:\\Users\\havva\\OneDrive\\Desktop\\plaka_tanima\\test_data\\Car_Traffic_short.mp4: 384x640 1 LicensePlate, 107.7ms\n",
      "video 1/1 (frame 1394/2880) c:\\Users\\havva\\OneDrive\\Desktop\\plaka_tanima\\test_data\\Car_Traffic_short.mp4: 384x640 1 LicensePlate, 109.8ms\n",
      "video 1/1 (frame 1395/2880) c:\\Users\\havva\\OneDrive\\Desktop\\plaka_tanima\\test_data\\Car_Traffic_short.mp4: 384x640 1 LicensePlate, 107.7ms\n",
      "video 1/1 (frame 1396/2880) c:\\Users\\havva\\OneDrive\\Desktop\\plaka_tanima\\test_data\\Car_Traffic_short.mp4: 384x640 2 LicensePlates, 106.8ms\n",
      "video 1/1 (frame 1397/2880) c:\\Users\\havva\\OneDrive\\Desktop\\plaka_tanima\\test_data\\Car_Traffic_short.mp4: 384x640 1 LicensePlate, 124.6ms\n",
      "video 1/1 (frame 1398/2880) c:\\Users\\havva\\OneDrive\\Desktop\\plaka_tanima\\test_data\\Car_Traffic_short.mp4: 384x640 2 LicensePlates, 107.7ms\n",
      "video 1/1 (frame 1399/2880) c:\\Users\\havva\\OneDrive\\Desktop\\plaka_tanima\\test_data\\Car_Traffic_short.mp4: 384x640 2 LicensePlates, 175.5ms\n",
      "video 1/1 (frame 1400/2880) c:\\Users\\havva\\OneDrive\\Desktop\\plaka_tanima\\test_data\\Car_Traffic_short.mp4: 384x640 2 LicensePlates, 117.7ms\n",
      "video 1/1 (frame 1401/2880) c:\\Users\\havva\\OneDrive\\Desktop\\plaka_tanima\\test_data\\Car_Traffic_short.mp4: 384x640 2 LicensePlates, 108.7ms\n",
      "video 1/1 (frame 1402/2880) c:\\Users\\havva\\OneDrive\\Desktop\\plaka_tanima\\test_data\\Car_Traffic_short.mp4: 384x640 2 LicensePlates, 103.7ms\n",
      "video 1/1 (frame 1403/2880) c:\\Users\\havva\\OneDrive\\Desktop\\plaka_tanima\\test_data\\Car_Traffic_short.mp4: 384x640 1 LicensePlate, 104.7ms\n",
      "video 1/1 (frame 1404/2880) c:\\Users\\havva\\OneDrive\\Desktop\\plaka_tanima\\test_data\\Car_Traffic_short.mp4: 384x640 1 LicensePlate, 109.7ms\n",
      "video 1/1 (frame 1405/2880) c:\\Users\\havva\\OneDrive\\Desktop\\plaka_tanima\\test_data\\Car_Traffic_short.mp4: 384x640 1 LicensePlate, 111.7ms\n",
      "video 1/1 (frame 1406/2880) c:\\Users\\havva\\OneDrive\\Desktop\\plaka_tanima\\test_data\\Car_Traffic_short.mp4: 384x640 3 LicensePlates, 141.2ms\n",
      "video 1/1 (frame 1407/2880) c:\\Users\\havva\\OneDrive\\Desktop\\plaka_tanima\\test_data\\Car_Traffic_short.mp4: 384x640 3 LicensePlates, 112.7ms\n",
      "video 1/1 (frame 1408/2880) c:\\Users\\havva\\OneDrive\\Desktop\\plaka_tanima\\test_data\\Car_Traffic_short.mp4: 384x640 2 LicensePlates, 116.7ms\n",
      "video 1/1 (frame 1409/2880) c:\\Users\\havva\\OneDrive\\Desktop\\plaka_tanima\\test_data\\Car_Traffic_short.mp4: 384x640 2 LicensePlates, 115.6ms\n",
      "video 1/1 (frame 1410/2880) c:\\Users\\havva\\OneDrive\\Desktop\\plaka_tanima\\test_data\\Car_Traffic_short.mp4: 384x640 2 LicensePlates, 104.7ms\n",
      "video 1/1 (frame 1411/2880) c:\\Users\\havva\\OneDrive\\Desktop\\plaka_tanima\\test_data\\Car_Traffic_short.mp4: 384x640 2 LicensePlates, 107.7ms\n",
      "video 1/1 (frame 1412/2880) c:\\Users\\havva\\OneDrive\\Desktop\\plaka_tanima\\test_data\\Car_Traffic_short.mp4: 384x640 2 LicensePlates, 106.7ms\n",
      "video 1/1 (frame 1413/2880) c:\\Users\\havva\\OneDrive\\Desktop\\plaka_tanima\\test_data\\Car_Traffic_short.mp4: 384x640 2 LicensePlates, 105.7ms\n",
      "video 1/1 (frame 1414/2880) c:\\Users\\havva\\OneDrive\\Desktop\\plaka_tanima\\test_data\\Car_Traffic_short.mp4: 384x640 1 LicensePlate, 104.7ms\n",
      "video 1/1 (frame 1415/2880) c:\\Users\\havva\\OneDrive\\Desktop\\plaka_tanima\\test_data\\Car_Traffic_short.mp4: 384x640 1 LicensePlate, 126.7ms\n",
      "video 1/1 (frame 1416/2880) c:\\Users\\havva\\OneDrive\\Desktop\\plaka_tanima\\test_data\\Car_Traffic_short.mp4: 384x640 1 LicensePlate, 102.9ms\n",
      "video 1/1 (frame 1417/2880) c:\\Users\\havva\\OneDrive\\Desktop\\plaka_tanima\\test_data\\Car_Traffic_short.mp4: 384x640 1 LicensePlate, 149.7ms\n",
      "video 1/1 (frame 1418/2880) c:\\Users\\havva\\OneDrive\\Desktop\\plaka_tanima\\test_data\\Car_Traffic_short.mp4: 384x640 1 LicensePlate, 108.7ms\n",
      "video 1/1 (frame 1419/2880) c:\\Users\\havva\\OneDrive\\Desktop\\plaka_tanima\\test_data\\Car_Traffic_short.mp4: 384x640 1 LicensePlate, 105.7ms\n",
      "video 1/1 (frame 1420/2880) c:\\Users\\havva\\OneDrive\\Desktop\\plaka_tanima\\test_data\\Car_Traffic_short.mp4: 384x640 1 LicensePlate, 105.7ms\n",
      "video 1/1 (frame 1421/2880) c:\\Users\\havva\\OneDrive\\Desktop\\plaka_tanima\\test_data\\Car_Traffic_short.mp4: 384x640 1 LicensePlate, 107.7ms\n",
      "video 1/1 (frame 1422/2880) c:\\Users\\havva\\OneDrive\\Desktop\\plaka_tanima\\test_data\\Car_Traffic_short.mp4: 384x640 2 LicensePlates, 110.7ms\n",
      "video 1/1 (frame 1423/2880) c:\\Users\\havva\\OneDrive\\Desktop\\plaka_tanima\\test_data\\Car_Traffic_short.mp4: 384x640 2 LicensePlates, 165.6ms\n",
      "video 1/1 (frame 1424/2880) c:\\Users\\havva\\OneDrive\\Desktop\\plaka_tanima\\test_data\\Car_Traffic_short.mp4: 384x640 2 LicensePlates, 133.5ms\n",
      "video 1/1 (frame 1425/2880) c:\\Users\\havva\\OneDrive\\Desktop\\plaka_tanima\\test_data\\Car_Traffic_short.mp4: 384x640 2 LicensePlates, 105.8ms\n",
      "video 1/1 (frame 1426/2880) c:\\Users\\havva\\OneDrive\\Desktop\\plaka_tanima\\test_data\\Car_Traffic_short.mp4: 384x640 2 LicensePlates, 108.7ms\n",
      "video 1/1 (frame 1427/2880) c:\\Users\\havva\\OneDrive\\Desktop\\plaka_tanima\\test_data\\Car_Traffic_short.mp4: 384x640 4 LicensePlates, 103.7ms\n",
      "video 1/1 (frame 1428/2880) c:\\Users\\havva\\OneDrive\\Desktop\\plaka_tanima\\test_data\\Car_Traffic_short.mp4: 384x640 4 LicensePlates, 109.7ms\n",
      "video 1/1 (frame 1429/2880) c:\\Users\\havva\\OneDrive\\Desktop\\plaka_tanima\\test_data\\Car_Traffic_short.mp4: 384x640 2 LicensePlates, 111.7ms\n",
      "video 1/1 (frame 1430/2880) c:\\Users\\havva\\OneDrive\\Desktop\\plaka_tanima\\test_data\\Car_Traffic_short.mp4: 384x640 2 LicensePlates, 109.7ms\n",
      "video 1/1 (frame 1431/2880) c:\\Users\\havva\\OneDrive\\Desktop\\plaka_tanima\\test_data\\Car_Traffic_short.mp4: 384x640 2 LicensePlates, 105.7ms\n",
      "video 1/1 (frame 1432/2880) c:\\Users\\havva\\OneDrive\\Desktop\\plaka_tanima\\test_data\\Car_Traffic_short.mp4: 384x640 2 LicensePlates, 110.0ms\n",
      "video 1/1 (frame 1433/2880) c:\\Users\\havva\\OneDrive\\Desktop\\plaka_tanima\\test_data\\Car_Traffic_short.mp4: 384x640 2 LicensePlates, 120.7ms\n",
      "video 1/1 (frame 1434/2880) c:\\Users\\havva\\OneDrive\\Desktop\\plaka_tanima\\test_data\\Car_Traffic_short.mp4: 384x640 1 LicensePlate, 109.7ms\n",
      "video 1/1 (frame 1435/2880) c:\\Users\\havva\\OneDrive\\Desktop\\plaka_tanima\\test_data\\Car_Traffic_short.mp4: 384x640 3 LicensePlates, 106.7ms\n",
      "video 1/1 (frame 1436/2880) c:\\Users\\havva\\OneDrive\\Desktop\\plaka_tanima\\test_data\\Car_Traffic_short.mp4: 384x640 1 LicensePlate, 103.7ms\n",
      "video 1/1 (frame 1437/2880) c:\\Users\\havva\\OneDrive\\Desktop\\plaka_tanima\\test_data\\Car_Traffic_short.mp4: 384x640 1 LicensePlate, 107.7ms\n",
      "video 1/1 (frame 1438/2880) c:\\Users\\havva\\OneDrive\\Desktop\\plaka_tanima\\test_data\\Car_Traffic_short.mp4: 384x640 1 LicensePlate, 104.7ms\n",
      "video 1/1 (frame 1439/2880) c:\\Users\\havva\\OneDrive\\Desktop\\plaka_tanima\\test_data\\Car_Traffic_short.mp4: 384x640 2 LicensePlates, 103.7ms\n",
      "video 1/1 (frame 1440/2880) c:\\Users\\havva\\OneDrive\\Desktop\\plaka_tanima\\test_data\\Car_Traffic_short.mp4: 384x640 1 LicensePlate, 103.7ms\n",
      "video 1/1 (frame 1441/2880) c:\\Users\\havva\\OneDrive\\Desktop\\plaka_tanima\\test_data\\Car_Traffic_short.mp4: 384x640 1 LicensePlate, 107.6ms\n",
      "video 1/1 (frame 1442/2880) c:\\Users\\havva\\OneDrive\\Desktop\\plaka_tanima\\test_data\\Car_Traffic_short.mp4: 384x640 1 LicensePlate, 118.7ms\n",
      "video 1/1 (frame 1443/2880) c:\\Users\\havva\\OneDrive\\Desktop\\plaka_tanima\\test_data\\Car_Traffic_short.mp4: 384x640 1 LicensePlate, 101.8ms\n",
      "video 1/1 (frame 1444/2880) c:\\Users\\havva\\OneDrive\\Desktop\\plaka_tanima\\test_data\\Car_Traffic_short.mp4: 384x640 1 LicensePlate, 104.7ms\n",
      "video 1/1 (frame 1445/2880) c:\\Users\\havva\\OneDrive\\Desktop\\plaka_tanima\\test_data\\Car_Traffic_short.mp4: 384x640 1 LicensePlate, 107.7ms\n",
      "video 1/1 (frame 1446/2880) c:\\Users\\havva\\OneDrive\\Desktop\\plaka_tanima\\test_data\\Car_Traffic_short.mp4: 384x640 2 LicensePlates, 106.7ms\n",
      "video 1/1 (frame 1447/2880) c:\\Users\\havva\\OneDrive\\Desktop\\plaka_tanima\\test_data\\Car_Traffic_short.mp4: 384x640 2 LicensePlates, 110.6ms\n",
      "video 1/1 (frame 1448/2880) c:\\Users\\havva\\OneDrive\\Desktop\\plaka_tanima\\test_data\\Car_Traffic_short.mp4: 384x640 (no detections), 107.4ms\n",
      "video 1/1 (frame 1449/2880) c:\\Users\\havva\\OneDrive\\Desktop\\plaka_tanima\\test_data\\Car_Traffic_short.mp4: 384x640 (no detections), 108.5ms\n",
      "video 1/1 (frame 1450/2880) c:\\Users\\havva\\OneDrive\\Desktop\\plaka_tanima\\test_data\\Car_Traffic_short.mp4: 384x640 1 LicensePlate, 106.7ms\n",
      "video 1/1 (frame 1451/2880) c:\\Users\\havva\\OneDrive\\Desktop\\plaka_tanima\\test_data\\Car_Traffic_short.mp4: 384x640 1 LicensePlate, 118.7ms\n",
      "video 1/1 (frame 1452/2880) c:\\Users\\havva\\OneDrive\\Desktop\\plaka_tanima\\test_data\\Car_Traffic_short.mp4: 384x640 1 LicensePlate, 105.7ms\n",
      "video 1/1 (frame 1453/2880) c:\\Users\\havva\\OneDrive\\Desktop\\plaka_tanima\\test_data\\Car_Traffic_short.mp4: 384x640 1 LicensePlate, 106.7ms\n",
      "video 1/1 (frame 1454/2880) c:\\Users\\havva\\OneDrive\\Desktop\\plaka_tanima\\test_data\\Car_Traffic_short.mp4: 384x640 1 LicensePlate, 107.7ms\n",
      "video 1/1 (frame 1455/2880) c:\\Users\\havva\\OneDrive\\Desktop\\plaka_tanima\\test_data\\Car_Traffic_short.mp4: 384x640 1 LicensePlate, 110.7ms\n",
      "video 1/1 (frame 1456/2880) c:\\Users\\havva\\OneDrive\\Desktop\\plaka_tanima\\test_data\\Car_Traffic_short.mp4: 384x640 1 LicensePlate, 110.7ms\n",
      "video 1/1 (frame 1457/2880) c:\\Users\\havva\\OneDrive\\Desktop\\plaka_tanima\\test_data\\Car_Traffic_short.mp4: 384x640 (no detections), 104.6ms\n",
      "video 1/1 (frame 1458/2880) c:\\Users\\havva\\OneDrive\\Desktop\\plaka_tanima\\test_data\\Car_Traffic_short.mp4: 384x640 (no detections), 103.7ms\n",
      "video 1/1 (frame 1459/2880) c:\\Users\\havva\\OneDrive\\Desktop\\plaka_tanima\\test_data\\Car_Traffic_short.mp4: 384x640 2 LicensePlates, 153.6ms\n",
      "video 1/1 (frame 1460/2880) c:\\Users\\havva\\OneDrive\\Desktop\\plaka_tanima\\test_data\\Car_Traffic_short.mp4: 384x640 1 LicensePlate, 127.7ms\n",
      "video 1/1 (frame 1461/2880) c:\\Users\\havva\\OneDrive\\Desktop\\plaka_tanima\\test_data\\Car_Traffic_short.mp4: 384x640 1 LicensePlate, 105.8ms\n",
      "video 1/1 (frame 1462/2880) c:\\Users\\havva\\OneDrive\\Desktop\\plaka_tanima\\test_data\\Car_Traffic_short.mp4: 384x640 (no detections), 107.7ms\n",
      "video 1/1 (frame 1463/2880) c:\\Users\\havva\\OneDrive\\Desktop\\plaka_tanima\\test_data\\Car_Traffic_short.mp4: 384x640 1 LicensePlate, 106.6ms\n",
      "video 1/1 (frame 1464/2880) c:\\Users\\havva\\OneDrive\\Desktop\\plaka_tanima\\test_data\\Car_Traffic_short.mp4: 384x640 1 LicensePlate, 105.7ms\n",
      "video 1/1 (frame 1465/2880) c:\\Users\\havva\\OneDrive\\Desktop\\plaka_tanima\\test_data\\Car_Traffic_short.mp4: 384x640 1 LicensePlate, 103.5ms\n",
      "video 1/1 (frame 1466/2880) c:\\Users\\havva\\OneDrive\\Desktop\\plaka_tanima\\test_data\\Car_Traffic_short.mp4: 384x640 (no detections), 108.7ms\n",
      "video 1/1 (frame 1467/2880) c:\\Users\\havva\\OneDrive\\Desktop\\plaka_tanima\\test_data\\Car_Traffic_short.mp4: 384x640 (no detections), 102.7ms\n",
      "video 1/1 (frame 1468/2880) c:\\Users\\havva\\OneDrive\\Desktop\\plaka_tanima\\test_data\\Car_Traffic_short.mp4: 384x640 1 LicensePlate, 108.7ms\n",
      "video 1/1 (frame 1469/2880) c:\\Users\\havva\\OneDrive\\Desktop\\plaka_tanima\\test_data\\Car_Traffic_short.mp4: 384x640 2 LicensePlates, 119.3ms\n",
      "video 1/1 (frame 1470/2880) c:\\Users\\havva\\OneDrive\\Desktop\\plaka_tanima\\test_data\\Car_Traffic_short.mp4: 384x640 (no detections), 102.7ms\n",
      "video 1/1 (frame 1471/2880) c:\\Users\\havva\\OneDrive\\Desktop\\plaka_tanima\\test_data\\Car_Traffic_short.mp4: 384x640 (no detections), 108.7ms\n",
      "video 1/1 (frame 1472/2880) c:\\Users\\havva\\OneDrive\\Desktop\\plaka_tanima\\test_data\\Car_Traffic_short.mp4: 384x640 (no detections), 104.7ms\n",
      "video 1/1 (frame 1473/2880) c:\\Users\\havva\\OneDrive\\Desktop\\plaka_tanima\\test_data\\Car_Traffic_short.mp4: 384x640 (no detections), 107.7ms\n",
      "video 1/1 (frame 1474/2880) c:\\Users\\havva\\OneDrive\\Desktop\\plaka_tanima\\test_data\\Car_Traffic_short.mp4: 384x640 (no detections), 105.7ms\n",
      "video 1/1 (frame 1475/2880) c:\\Users\\havva\\OneDrive\\Desktop\\plaka_tanima\\test_data\\Car_Traffic_short.mp4: 384x640 (no detections), 105.7ms\n",
      "video 1/1 (frame 1476/2880) c:\\Users\\havva\\OneDrive\\Desktop\\plaka_tanima\\test_data\\Car_Traffic_short.mp4: 384x640 2 LicensePlates, 104.7ms\n",
      "video 1/1 (frame 1477/2880) c:\\Users\\havva\\OneDrive\\Desktop\\plaka_tanima\\test_data\\Car_Traffic_short.mp4: 384x640 2 LicensePlates, 109.7ms\n",
      "video 1/1 (frame 1478/2880) c:\\Users\\havva\\OneDrive\\Desktop\\plaka_tanima\\test_data\\Car_Traffic_short.mp4: 384x640 1 LicensePlate, 182.5ms\n",
      "video 1/1 (frame 1479/2880) c:\\Users\\havva\\OneDrive\\Desktop\\plaka_tanima\\test_data\\Car_Traffic_short.mp4: 384x640 1 LicensePlate, 121.2ms\n",
      "video 1/1 (frame 1480/2880) c:\\Users\\havva\\OneDrive\\Desktop\\plaka_tanima\\test_data\\Car_Traffic_short.mp4: 384x640 2 LicensePlates, 130.6ms\n",
      "video 1/1 (frame 1481/2880) c:\\Users\\havva\\OneDrive\\Desktop\\plaka_tanima\\test_data\\Car_Traffic_short.mp4: 384x640 2 LicensePlates, 129.7ms\n",
      "video 1/1 (frame 1482/2880) c:\\Users\\havva\\OneDrive\\Desktop\\plaka_tanima\\test_data\\Car_Traffic_short.mp4: 384x640 1 LicensePlate, 132.8ms\n",
      "video 1/1 (frame 1483/2880) c:\\Users\\havva\\OneDrive\\Desktop\\plaka_tanima\\test_data\\Car_Traffic_short.mp4: 384x640 2 LicensePlates, 109.7ms\n",
      "video 1/1 (frame 1484/2880) c:\\Users\\havva\\OneDrive\\Desktop\\plaka_tanima\\test_data\\Car_Traffic_short.mp4: 384x640 2 LicensePlates, 106.7ms\n",
      "video 1/1 (frame 1485/2880) c:\\Users\\havva\\OneDrive\\Desktop\\plaka_tanima\\test_data\\Car_Traffic_short.mp4: 384x640 2 LicensePlates, 106.7ms\n",
      "video 1/1 (frame 1486/2880) c:\\Users\\havva\\OneDrive\\Desktop\\plaka_tanima\\test_data\\Car_Traffic_short.mp4: 384x640 1 LicensePlate, 108.7ms\n",
      "video 1/1 (frame 1487/2880) c:\\Users\\havva\\OneDrive\\Desktop\\plaka_tanima\\test_data\\Car_Traffic_short.mp4: 384x640 2 LicensePlates, 122.7ms\n",
      "video 1/1 (frame 1488/2880) c:\\Users\\havva\\OneDrive\\Desktop\\plaka_tanima\\test_data\\Car_Traffic_short.mp4: 384x640 2 LicensePlates, 107.7ms\n",
      "video 1/1 (frame 1489/2880) c:\\Users\\havva\\OneDrive\\Desktop\\plaka_tanima\\test_data\\Car_Traffic_short.mp4: 384x640 1 LicensePlate, 109.7ms\n",
      "video 1/1 (frame 1490/2880) c:\\Users\\havva\\OneDrive\\Desktop\\plaka_tanima\\test_data\\Car_Traffic_short.mp4: 384x640 2 LicensePlates, 103.7ms\n",
      "video 1/1 (frame 1491/2880) c:\\Users\\havva\\OneDrive\\Desktop\\plaka_tanima\\test_data\\Car_Traffic_short.mp4: 384x640 2 LicensePlates, 104.7ms\n",
      "video 1/1 (frame 1492/2880) c:\\Users\\havva\\OneDrive\\Desktop\\plaka_tanima\\test_data\\Car_Traffic_short.mp4: 384x640 1 LicensePlate, 110.7ms\n",
      "video 1/1 (frame 1493/2880) c:\\Users\\havva\\OneDrive\\Desktop\\plaka_tanima\\test_data\\Car_Traffic_short.mp4: 384x640 2 LicensePlates, 107.7ms\n",
      "video 1/1 (frame 1494/2880) c:\\Users\\havva\\OneDrive\\Desktop\\plaka_tanima\\test_data\\Car_Traffic_short.mp4: 384x640 2 LicensePlates, 105.7ms\n",
      "video 1/1 (frame 1495/2880) c:\\Users\\havva\\OneDrive\\Desktop\\plaka_tanima\\test_data\\Car_Traffic_short.mp4: 384x640 2 LicensePlates, 105.7ms\n",
      "video 1/1 (frame 1496/2880) c:\\Users\\havva\\OneDrive\\Desktop\\plaka_tanima\\test_data\\Car_Traffic_short.mp4: 384x640 2 LicensePlates, 118.7ms\n",
      "video 1/1 (frame 1497/2880) c:\\Users\\havva\\OneDrive\\Desktop\\plaka_tanima\\test_data\\Car_Traffic_short.mp4: 384x640 2 LicensePlates, 106.7ms\n",
      "video 1/1 (frame 1498/2880) c:\\Users\\havva\\OneDrive\\Desktop\\plaka_tanima\\test_data\\Car_Traffic_short.mp4: 384x640 2 LicensePlates, 107.7ms\n",
      "video 1/1 (frame 1499/2880) c:\\Users\\havva\\OneDrive\\Desktop\\plaka_tanima\\test_data\\Car_Traffic_short.mp4: 384x640 2 LicensePlates, 102.7ms\n",
      "video 1/1 (frame 1500/2880) c:\\Users\\havva\\OneDrive\\Desktop\\plaka_tanima\\test_data\\Car_Traffic_short.mp4: 384x640 2 LicensePlates, 128.7ms\n",
      "video 1/1 (frame 1501/2880) c:\\Users\\havva\\OneDrive\\Desktop\\plaka_tanima\\test_data\\Car_Traffic_short.mp4: 384x640 2 LicensePlates, 106.7ms\n",
      "video 1/1 (frame 1502/2880) c:\\Users\\havva\\OneDrive\\Desktop\\plaka_tanima\\test_data\\Car_Traffic_short.mp4: 384x640 2 LicensePlates, 106.7ms\n",
      "video 1/1 (frame 1503/2880) c:\\Users\\havva\\OneDrive\\Desktop\\plaka_tanima\\test_data\\Car_Traffic_short.mp4: 384x640 2 LicensePlates, 109.8ms\n",
      "video 1/1 (frame 1504/2880) c:\\Users\\havva\\OneDrive\\Desktop\\plaka_tanima\\test_data\\Car_Traffic_short.mp4: 384x640 2 LicensePlates, 109.7ms\n",
      "video 1/1 (frame 1505/2880) c:\\Users\\havva\\OneDrive\\Desktop\\plaka_tanima\\test_data\\Car_Traffic_short.mp4: 384x640 1 LicensePlate, 101.4ms\n",
      "video 1/1 (frame 1506/2880) c:\\Users\\havva\\OneDrive\\Desktop\\plaka_tanima\\test_data\\Car_Traffic_short.mp4: 384x640 2 LicensePlates, 103.4ms\n",
      "video 1/1 (frame 1507/2880) c:\\Users\\havva\\OneDrive\\Desktop\\plaka_tanima\\test_data\\Car_Traffic_short.mp4: 384x640 3 LicensePlates, 107.7ms\n",
      "video 1/1 (frame 1508/2880) c:\\Users\\havva\\OneDrive\\Desktop\\plaka_tanima\\test_data\\Car_Traffic_short.mp4: 384x640 1 LicensePlate, 102.8ms\n",
      "video 1/1 (frame 1509/2880) c:\\Users\\havva\\OneDrive\\Desktop\\plaka_tanima\\test_data\\Car_Traffic_short.mp4: 384x640 1 LicensePlate, 104.7ms\n",
      "video 1/1 (frame 1510/2880) c:\\Users\\havva\\OneDrive\\Desktop\\plaka_tanima\\test_data\\Car_Traffic_short.mp4: 384x640 2 LicensePlates, 105.7ms\n",
      "video 1/1 (frame 1511/2880) c:\\Users\\havva\\OneDrive\\Desktop\\plaka_tanima\\test_data\\Car_Traffic_short.mp4: 384x640 (no detections), 104.8ms\n",
      "video 1/1 (frame 1512/2880) c:\\Users\\havva\\OneDrive\\Desktop\\plaka_tanima\\test_data\\Car_Traffic_short.mp4: 384x640 2 LicensePlates, 100.7ms\n",
      "video 1/1 (frame 1513/2880) c:\\Users\\havva\\OneDrive\\Desktop\\plaka_tanima\\test_data\\Car_Traffic_short.mp4: 384x640 (no detections), 108.7ms\n",
      "video 1/1 (frame 1514/2880) c:\\Users\\havva\\OneDrive\\Desktop\\plaka_tanima\\test_data\\Car_Traffic_short.mp4: 384x640 (no detections), 118.7ms\n",
      "video 1/1 (frame 1515/2880) c:\\Users\\havva\\OneDrive\\Desktop\\plaka_tanima\\test_data\\Car_Traffic_short.mp4: 384x640 (no detections), 104.7ms\n",
      "video 1/1 (frame 1516/2880) c:\\Users\\havva\\OneDrive\\Desktop\\plaka_tanima\\test_data\\Car_Traffic_short.mp4: 384x640 (no detections), 104.6ms\n",
      "video 1/1 (frame 1517/2880) c:\\Users\\havva\\OneDrive\\Desktop\\plaka_tanima\\test_data\\Car_Traffic_short.mp4: 384x640 2 LicensePlates, 102.5ms\n",
      "video 1/1 (frame 1518/2880) c:\\Users\\havva\\OneDrive\\Desktop\\plaka_tanima\\test_data\\Car_Traffic_short.mp4: 384x640 2 LicensePlates, 106.4ms\n",
      "video 1/1 (frame 1519/2880) c:\\Users\\havva\\OneDrive\\Desktop\\plaka_tanima\\test_data\\Car_Traffic_short.mp4: 384x640 1 LicensePlate, 107.7ms\n",
      "video 1/1 (frame 1520/2880) c:\\Users\\havva\\OneDrive\\Desktop\\plaka_tanima\\test_data\\Car_Traffic_short.mp4: 384x640 1 LicensePlate, 105.7ms\n",
      "video 1/1 (frame 1521/2880) c:\\Users\\havva\\OneDrive\\Desktop\\plaka_tanima\\test_data\\Car_Traffic_short.mp4: 384x640 1 LicensePlate, 106.6ms\n",
      "video 1/1 (frame 1522/2880) c:\\Users\\havva\\OneDrive\\Desktop\\plaka_tanima\\test_data\\Car_Traffic_short.mp4: 384x640 1 LicensePlate, 109.7ms\n",
      "video 1/1 (frame 1523/2880) c:\\Users\\havva\\OneDrive\\Desktop\\plaka_tanima\\test_data\\Car_Traffic_short.mp4: 384x640 2 LicensePlates, 178.5ms\n",
      "video 1/1 (frame 1524/2880) c:\\Users\\havva\\OneDrive\\Desktop\\plaka_tanima\\test_data\\Car_Traffic_short.mp4: 384x640 3 LicensePlates, 116.7ms\n",
      "video 1/1 (frame 1525/2880) c:\\Users\\havva\\OneDrive\\Desktop\\plaka_tanima\\test_data\\Car_Traffic_short.mp4: 384x640 2 LicensePlates, 102.7ms\n",
      "video 1/1 (frame 1526/2880) c:\\Users\\havva\\OneDrive\\Desktop\\plaka_tanima\\test_data\\Car_Traffic_short.mp4: 384x640 2 LicensePlates, 99.7ms\n",
      "video 1/1 (frame 1527/2880) c:\\Users\\havva\\OneDrive\\Desktop\\plaka_tanima\\test_data\\Car_Traffic_short.mp4: 384x640 2 LicensePlates, 107.7ms\n",
      "video 1/1 (frame 1528/2880) c:\\Users\\havva\\OneDrive\\Desktop\\plaka_tanima\\test_data\\Car_Traffic_short.mp4: 384x640 2 LicensePlates, 108.7ms\n",
      "video 1/1 (frame 1529/2880) c:\\Users\\havva\\OneDrive\\Desktop\\plaka_tanima\\test_data\\Car_Traffic_short.mp4: 384x640 3 LicensePlates, 102.7ms\n",
      "video 1/1 (frame 1530/2880) c:\\Users\\havva\\OneDrive\\Desktop\\plaka_tanima\\test_data\\Car_Traffic_short.mp4: 384x640 3 LicensePlates, 106.7ms\n",
      "video 1/1 (frame 1531/2880) c:\\Users\\havva\\OneDrive\\Desktop\\plaka_tanima\\test_data\\Car_Traffic_short.mp4: 384x640 3 LicensePlates, 104.7ms\n",
      "video 1/1 (frame 1532/2880) c:\\Users\\havva\\OneDrive\\Desktop\\plaka_tanima\\test_data\\Car_Traffic_short.mp4: 384x640 2 LicensePlates, 122.7ms\n",
      "video 1/1 (frame 1533/2880) c:\\Users\\havva\\OneDrive\\Desktop\\plaka_tanima\\test_data\\Car_Traffic_short.mp4: 384x640 2 LicensePlates, 105.7ms\n",
      "video 1/1 (frame 1534/2880) c:\\Users\\havva\\OneDrive\\Desktop\\plaka_tanima\\test_data\\Car_Traffic_short.mp4: 384x640 3 LicensePlates, 106.7ms\n",
      "video 1/1 (frame 1535/2880) c:\\Users\\havva\\OneDrive\\Desktop\\plaka_tanima\\test_data\\Car_Traffic_short.mp4: 384x640 2 LicensePlates, 106.7ms\n",
      "video 1/1 (frame 1536/2880) c:\\Users\\havva\\OneDrive\\Desktop\\plaka_tanima\\test_data\\Car_Traffic_short.mp4: 384x640 2 LicensePlates, 103.6ms\n",
      "video 1/1 (frame 1537/2880) c:\\Users\\havva\\OneDrive\\Desktop\\plaka_tanima\\test_data\\Car_Traffic_short.mp4: 384x640 2 LicensePlates, 108.7ms\n",
      "video 1/1 (frame 1538/2880) c:\\Users\\havva\\OneDrive\\Desktop\\plaka_tanima\\test_data\\Car_Traffic_short.mp4: 384x640 2 LicensePlates, 106.7ms\n",
      "video 1/1 (frame 1539/2880) c:\\Users\\havva\\OneDrive\\Desktop\\plaka_tanima\\test_data\\Car_Traffic_short.mp4: 384x640 2 LicensePlates, 106.7ms\n",
      "video 1/1 (frame 1540/2880) c:\\Users\\havva\\OneDrive\\Desktop\\plaka_tanima\\test_data\\Car_Traffic_short.mp4: 384x640 2 LicensePlates, 104.7ms\n",
      "video 1/1 (frame 1541/2880) c:\\Users\\havva\\OneDrive\\Desktop\\plaka_tanima\\test_data\\Car_Traffic_short.mp4: 384x640 3 LicensePlates, 121.7ms\n",
      "video 1/1 (frame 1542/2880) c:\\Users\\havva\\OneDrive\\Desktop\\plaka_tanima\\test_data\\Car_Traffic_short.mp4: 384x640 1 LicensePlate, 100.7ms\n",
      "video 1/1 (frame 1543/2880) c:\\Users\\havva\\OneDrive\\Desktop\\plaka_tanima\\test_data\\Car_Traffic_short.mp4: 384x640 2 LicensePlates, 107.7ms\n",
      "video 1/1 (frame 1544/2880) c:\\Users\\havva\\OneDrive\\Desktop\\plaka_tanima\\test_data\\Car_Traffic_short.mp4: 384x640 2 LicensePlates, 104.7ms\n",
      "video 1/1 (frame 1545/2880) c:\\Users\\havva\\OneDrive\\Desktop\\plaka_tanima\\test_data\\Car_Traffic_short.mp4: 384x640 2 LicensePlates, 105.7ms\n",
      "video 1/1 (frame 1546/2880) c:\\Users\\havva\\OneDrive\\Desktop\\plaka_tanima\\test_data\\Car_Traffic_short.mp4: 384x640 2 LicensePlates, 104.7ms\n",
      "video 1/1 (frame 1547/2880) c:\\Users\\havva\\OneDrive\\Desktop\\plaka_tanima\\test_data\\Car_Traffic_short.mp4: 384x640 3 LicensePlates, 103.7ms\n",
      "video 1/1 (frame 1548/2880) c:\\Users\\havva\\OneDrive\\Desktop\\plaka_tanima\\test_data\\Car_Traffic_short.mp4: 384x640 2 LicensePlates, 107.7ms\n",
      "video 1/1 (frame 1549/2880) c:\\Users\\havva\\OneDrive\\Desktop\\plaka_tanima\\test_data\\Car_Traffic_short.mp4: 384x640 2 LicensePlates, 101.7ms\n",
      "video 1/1 (frame 1550/2880) c:\\Users\\havva\\OneDrive\\Desktop\\plaka_tanima\\test_data\\Car_Traffic_short.mp4: 384x640 3 LicensePlates, 124.7ms\n",
      "video 1/1 (frame 1551/2880) c:\\Users\\havva\\OneDrive\\Desktop\\plaka_tanima\\test_data\\Car_Traffic_short.mp4: 384x640 3 LicensePlates, 108.7ms\n",
      "video 1/1 (frame 1552/2880) c:\\Users\\havva\\OneDrive\\Desktop\\plaka_tanima\\test_data\\Car_Traffic_short.mp4: 384x640 3 LicensePlates, 108.3ms\n",
      "video 1/1 (frame 1553/2880) c:\\Users\\havva\\OneDrive\\Desktop\\plaka_tanima\\test_data\\Car_Traffic_short.mp4: 384x640 4 LicensePlates, 107.7ms\n",
      "video 1/1 (frame 1554/2880) c:\\Users\\havva\\OneDrive\\Desktop\\plaka_tanima\\test_data\\Car_Traffic_short.mp4: 384x640 4 LicensePlates, 101.7ms\n",
      "video 1/1 (frame 1555/2880) c:\\Users\\havva\\OneDrive\\Desktop\\plaka_tanima\\test_data\\Car_Traffic_short.mp4: 384x640 2 LicensePlates, 106.7ms\n",
      "video 1/1 (frame 1556/2880) c:\\Users\\havva\\OneDrive\\Desktop\\plaka_tanima\\test_data\\Car_Traffic_short.mp4: 384x640 1 LicensePlate, 104.2ms\n",
      "video 1/1 (frame 1557/2880) c:\\Users\\havva\\OneDrive\\Desktop\\plaka_tanima\\test_data\\Car_Traffic_short.mp4: 384x640 2 LicensePlates, 107.3ms\n",
      "video 1/1 (frame 1558/2880) c:\\Users\\havva\\OneDrive\\Desktop\\plaka_tanima\\test_data\\Car_Traffic_short.mp4: 384x640 1 LicensePlate, 102.7ms\n",
      "video 1/1 (frame 1559/2880) c:\\Users\\havva\\OneDrive\\Desktop\\plaka_tanima\\test_data\\Car_Traffic_short.mp4: 384x640 4 LicensePlates, 123.5ms\n",
      "video 1/1 (frame 1560/2880) c:\\Users\\havva\\OneDrive\\Desktop\\plaka_tanima\\test_data\\Car_Traffic_short.mp4: 384x640 2 LicensePlates, 106.6ms\n",
      "video 1/1 (frame 1561/2880) c:\\Users\\havva\\OneDrive\\Desktop\\plaka_tanima\\test_data\\Car_Traffic_short.mp4: 384x640 1 LicensePlate, 105.6ms\n",
      "video 1/1 (frame 1562/2880) c:\\Users\\havva\\OneDrive\\Desktop\\plaka_tanima\\test_data\\Car_Traffic_short.mp4: 384x640 2 LicensePlates, 101.7ms\n",
      "video 1/1 (frame 1563/2880) c:\\Users\\havva\\OneDrive\\Desktop\\plaka_tanima\\test_data\\Car_Traffic_short.mp4: 384x640 2 LicensePlates, 118.7ms\n",
      "video 1/1 (frame 1564/2880) c:\\Users\\havva\\OneDrive\\Desktop\\plaka_tanima\\test_data\\Car_Traffic_short.mp4: 384x640 3 LicensePlates, 111.7ms\n",
      "video 1/1 (frame 1565/2880) c:\\Users\\havva\\OneDrive\\Desktop\\plaka_tanima\\test_data\\Car_Traffic_short.mp4: 384x640 1 LicensePlate, 116.7ms\n",
      "video 1/1 (frame 1566/2880) c:\\Users\\havva\\OneDrive\\Desktop\\plaka_tanima\\test_data\\Car_Traffic_short.mp4: 384x640 2 LicensePlates, 116.7ms\n",
      "video 1/1 (frame 1567/2880) c:\\Users\\havva\\OneDrive\\Desktop\\plaka_tanima\\test_data\\Car_Traffic_short.mp4: 384x640 3 LicensePlates, 123.7ms\n",
      "video 1/1 (frame 1568/2880) c:\\Users\\havva\\OneDrive\\Desktop\\plaka_tanima\\test_data\\Car_Traffic_short.mp4: 384x640 1 LicensePlate, 101.7ms\n",
      "video 1/1 (frame 1569/2880) c:\\Users\\havva\\OneDrive\\Desktop\\plaka_tanima\\test_data\\Car_Traffic_short.mp4: 384x640 1 LicensePlate, 105.7ms\n",
      "video 1/1 (frame 1570/2880) c:\\Users\\havva\\OneDrive\\Desktop\\plaka_tanima\\test_data\\Car_Traffic_short.mp4: 384x640 2 LicensePlates, 104.7ms\n",
      "video 1/1 (frame 1571/2880) c:\\Users\\havva\\OneDrive\\Desktop\\plaka_tanima\\test_data\\Car_Traffic_short.mp4: 384x640 2 LicensePlates, 102.7ms\n",
      "video 1/1 (frame 1572/2880) c:\\Users\\havva\\OneDrive\\Desktop\\plaka_tanima\\test_data\\Car_Traffic_short.mp4: 384x640 1 LicensePlate, 104.7ms\n",
      "video 1/1 (frame 1573/2880) c:\\Users\\havva\\OneDrive\\Desktop\\plaka_tanima\\test_data\\Car_Traffic_short.mp4: 384x640 2 LicensePlates, 104.7ms\n",
      "video 1/1 (frame 1574/2880) c:\\Users\\havva\\OneDrive\\Desktop\\plaka_tanima\\test_data\\Car_Traffic_short.mp4: 384x640 2 LicensePlates, 105.8ms\n",
      "video 1/1 (frame 1575/2880) c:\\Users\\havva\\OneDrive\\Desktop\\plaka_tanima\\test_data\\Car_Traffic_short.mp4: 384x640 2 LicensePlates, 104.7ms\n",
      "video 1/1 (frame 1576/2880) c:\\Users\\havva\\OneDrive\\Desktop\\plaka_tanima\\test_data\\Car_Traffic_short.mp4: 384x640 1 LicensePlate, 123.7ms\n",
      "video 1/1 (frame 1577/2880) c:\\Users\\havva\\OneDrive\\Desktop\\plaka_tanima\\test_data\\Car_Traffic_short.mp4: 384x640 2 LicensePlates, 102.7ms\n",
      "video 1/1 (frame 1578/2880) c:\\Users\\havva\\OneDrive\\Desktop\\plaka_tanima\\test_data\\Car_Traffic_short.mp4: 384x640 3 LicensePlates, 105.8ms\n",
      "video 1/1 (frame 1579/2880) c:\\Users\\havva\\OneDrive\\Desktop\\plaka_tanima\\test_data\\Car_Traffic_short.mp4: 384x640 2 LicensePlates, 105.7ms\n",
      "video 1/1 (frame 1580/2880) c:\\Users\\havva\\OneDrive\\Desktop\\plaka_tanima\\test_data\\Car_Traffic_short.mp4: 384x640 1 LicensePlate, 103.7ms\n",
      "video 1/1 (frame 1581/2880) c:\\Users\\havva\\OneDrive\\Desktop\\plaka_tanima\\test_data\\Car_Traffic_short.mp4: 384x640 1 LicensePlate, 105.7ms\n",
      "video 1/1 (frame 1582/2880) c:\\Users\\havva\\OneDrive\\Desktop\\plaka_tanima\\test_data\\Car_Traffic_short.mp4: 384x640 2 LicensePlates, 104.8ms\n",
      "video 1/1 (frame 1583/2880) c:\\Users\\havva\\OneDrive\\Desktop\\plaka_tanima\\test_data\\Car_Traffic_short.mp4: 384x640 1 LicensePlate, 104.7ms\n",
      "video 1/1 (frame 1584/2880) c:\\Users\\havva\\OneDrive\\Desktop\\plaka_tanima\\test_data\\Car_Traffic_short.mp4: 384x640 1 LicensePlate, 124.7ms\n",
      "video 1/1 (frame 1585/2880) c:\\Users\\havva\\OneDrive\\Desktop\\plaka_tanima\\test_data\\Car_Traffic_short.mp4: 384x640 1 LicensePlate, 106.7ms\n",
      "video 1/1 (frame 1586/2880) c:\\Users\\havva\\OneDrive\\Desktop\\plaka_tanima\\test_data\\Car_Traffic_short.mp4: 384x640 (no detections), 105.7ms\n",
      "video 1/1 (frame 1587/2880) c:\\Users\\havva\\OneDrive\\Desktop\\plaka_tanima\\test_data\\Car_Traffic_short.mp4: 384x640 (no detections), 102.7ms\n",
      "video 1/1 (frame 1588/2880) c:\\Users\\havva\\OneDrive\\Desktop\\plaka_tanima\\test_data\\Car_Traffic_short.mp4: 384x640 1 LicensePlate, 105.7ms\n",
      "video 1/1 (frame 1589/2880) c:\\Users\\havva\\OneDrive\\Desktop\\plaka_tanima\\test_data\\Car_Traffic_short.mp4: 384x640 2 LicensePlates, 101.6ms\n",
      "video 1/1 (frame 1590/2880) c:\\Users\\havva\\OneDrive\\Desktop\\plaka_tanima\\test_data\\Car_Traffic_short.mp4: 384x640 1 LicensePlate, 106.8ms\n",
      "video 1/1 (frame 1591/2880) c:\\Users\\havva\\OneDrive\\Desktop\\plaka_tanima\\test_data\\Car_Traffic_short.mp4: 384x640 (no detections), 105.7ms\n",
      "video 1/1 (frame 1592/2880) c:\\Users\\havva\\OneDrive\\Desktop\\plaka_tanima\\test_data\\Car_Traffic_short.mp4: 384x640 3 LicensePlates, 121.7ms\n",
      "video 1/1 (frame 1593/2880) c:\\Users\\havva\\OneDrive\\Desktop\\plaka_tanima\\test_data\\Car_Traffic_short.mp4: 384x640 3 LicensePlates, 104.7ms\n",
      "video 1/1 (frame 1594/2880) c:\\Users\\havva\\OneDrive\\Desktop\\plaka_tanima\\test_data\\Car_Traffic_short.mp4: 384x640 2 LicensePlates, 109.7ms\n",
      "video 1/1 (frame 1595/2880) c:\\Users\\havva\\OneDrive\\Desktop\\plaka_tanima\\test_data\\Car_Traffic_short.mp4: 384x640 (no detections), 115.7ms\n",
      "video 1/1 (frame 1596/2880) c:\\Users\\havva\\OneDrive\\Desktop\\plaka_tanima\\test_data\\Car_Traffic_short.mp4: 384x640 2 LicensePlates, 105.7ms\n",
      "video 1/1 (frame 1597/2880) c:\\Users\\havva\\OneDrive\\Desktop\\plaka_tanima\\test_data\\Car_Traffic_short.mp4: 384x640 1 LicensePlate, 102.4ms\n",
      "video 1/1 (frame 1598/2880) c:\\Users\\havva\\OneDrive\\Desktop\\plaka_tanima\\test_data\\Car_Traffic_short.mp4: 384x640 1 LicensePlate, 104.7ms\n",
      "video 1/1 (frame 1599/2880) c:\\Users\\havva\\OneDrive\\Desktop\\plaka_tanima\\test_data\\Car_Traffic_short.mp4: 384x640 1 LicensePlate, 109.4ms\n",
      "video 1/1 (frame 1600/2880) c:\\Users\\havva\\OneDrive\\Desktop\\plaka_tanima\\test_data\\Car_Traffic_short.mp4: 384x640 1 LicensePlate, 122.7ms\n",
      "video 1/1 (frame 1601/2880) c:\\Users\\havva\\OneDrive\\Desktop\\plaka_tanima\\test_data\\Car_Traffic_short.mp4: 384x640 2 LicensePlates, 103.7ms\n",
      "video 1/1 (frame 1602/2880) c:\\Users\\havva\\OneDrive\\Desktop\\plaka_tanima\\test_data\\Car_Traffic_short.mp4: 384x640 1 LicensePlate, 102.7ms\n",
      "video 1/1 (frame 1603/2880) c:\\Users\\havva\\OneDrive\\Desktop\\plaka_tanima\\test_data\\Car_Traffic_short.mp4: 384x640 (no detections), 103.7ms\n",
      "video 1/1 (frame 1604/2880) c:\\Users\\havva\\OneDrive\\Desktop\\plaka_tanima\\test_data\\Car_Traffic_short.mp4: 384x640 2 LicensePlates, 105.7ms\n",
      "video 1/1 (frame 1605/2880) c:\\Users\\havva\\OneDrive\\Desktop\\plaka_tanima\\test_data\\Car_Traffic_short.mp4: 384x640 2 LicensePlates, 102.7ms\n",
      "video 1/1 (frame 1606/2880) c:\\Users\\havva\\OneDrive\\Desktop\\plaka_tanima\\test_data\\Car_Traffic_short.mp4: 384x640 1 LicensePlate, 114.7ms\n",
      "video 1/1 (frame 1607/2880) c:\\Users\\havva\\OneDrive\\Desktop\\plaka_tanima\\test_data\\Car_Traffic_short.mp4: 384x640 2 LicensePlates, 102.7ms\n",
      "video 1/1 (frame 1608/2880) c:\\Users\\havva\\OneDrive\\Desktop\\plaka_tanima\\test_data\\Car_Traffic_short.mp4: 384x640 1 LicensePlate, 125.7ms\n",
      "video 1/1 (frame 1609/2880) c:\\Users\\havva\\OneDrive\\Desktop\\plaka_tanima\\test_data\\Car_Traffic_short.mp4: 384x640 1 LicensePlate, 98.6ms\n",
      "video 1/1 (frame 1610/2880) c:\\Users\\havva\\OneDrive\\Desktop\\plaka_tanima\\test_data\\Car_Traffic_short.mp4: 384x640 (no detections), 104.7ms\n",
      "video 1/1 (frame 1611/2880) c:\\Users\\havva\\OneDrive\\Desktop\\plaka_tanima\\test_data\\Car_Traffic_short.mp4: 384x640 (no detections), 101.7ms\n",
      "video 1/1 (frame 1612/2880) c:\\Users\\havva\\OneDrive\\Desktop\\plaka_tanima\\test_data\\Car_Traffic_short.mp4: 384x640 (no detections), 105.7ms\n",
      "video 1/1 (frame 1613/2880) c:\\Users\\havva\\OneDrive\\Desktop\\plaka_tanima\\test_data\\Car_Traffic_short.mp4: 384x640 (no detections), 104.6ms\n",
      "video 1/1 (frame 1614/2880) c:\\Users\\havva\\OneDrive\\Desktop\\plaka_tanima\\test_data\\Car_Traffic_short.mp4: 384x640 (no detections), 107.4ms\n",
      "video 1/1 (frame 1615/2880) c:\\Users\\havva\\OneDrive\\Desktop\\plaka_tanima\\test_data\\Car_Traffic_short.mp4: 384x640 1 LicensePlate, 102.7ms\n",
      "video 1/1 (frame 1616/2880) c:\\Users\\havva\\OneDrive\\Desktop\\plaka_tanima\\test_data\\Car_Traffic_short.mp4: 384x640 (no detections), 103.7ms\n",
      "video 1/1 (frame 1617/2880) c:\\Users\\havva\\OneDrive\\Desktop\\plaka_tanima\\test_data\\Car_Traffic_short.mp4: 384x640 (no detections), 122.7ms\n",
      "video 1/1 (frame 1618/2880) c:\\Users\\havva\\OneDrive\\Desktop\\plaka_tanima\\test_data\\Car_Traffic_short.mp4: 384x640 (no detections), 107.5ms\n",
      "video 1/1 (frame 1619/2880) c:\\Users\\havva\\OneDrive\\Desktop\\plaka_tanima\\test_data\\Car_Traffic_short.mp4: 384x640 (no detections), 105.7ms\n",
      "video 1/1 (frame 1620/2880) c:\\Users\\havva\\OneDrive\\Desktop\\plaka_tanima\\test_data\\Car_Traffic_short.mp4: 384x640 1 LicensePlate, 100.7ms\n",
      "video 1/1 (frame 1621/2880) c:\\Users\\havva\\OneDrive\\Desktop\\plaka_tanima\\test_data\\Car_Traffic_short.mp4: 384x640 (no detections), 100.7ms\n",
      "video 1/1 (frame 1622/2880) c:\\Users\\havva\\OneDrive\\Desktop\\plaka_tanima\\test_data\\Car_Traffic_short.mp4: 384x640 (no detections), 105.7ms\n",
      "video 1/1 (frame 1623/2880) c:\\Users\\havva\\OneDrive\\Desktop\\plaka_tanima\\test_data\\Car_Traffic_short.mp4: 384x640 (no detections), 109.7ms\n",
      "video 1/1 (frame 1624/2880) c:\\Users\\havva\\OneDrive\\Desktop\\plaka_tanima\\test_data\\Car_Traffic_short.mp4: 384x640 (no detections), 106.7ms\n",
      "video 1/1 (frame 1625/2880) c:\\Users\\havva\\OneDrive\\Desktop\\plaka_tanima\\test_data\\Car_Traffic_short.mp4: 384x640 (no detections), 107.7ms\n",
      "video 1/1 (frame 1626/2880) c:\\Users\\havva\\OneDrive\\Desktop\\plaka_tanima\\test_data\\Car_Traffic_short.mp4: 384x640 (no detections), 123.7ms\n",
      "video 1/1 (frame 1627/2880) c:\\Users\\havva\\OneDrive\\Desktop\\plaka_tanima\\test_data\\Car_Traffic_short.mp4: 384x640 (no detections), 105.7ms\n",
      "video 1/1 (frame 1628/2880) c:\\Users\\havva\\OneDrive\\Desktop\\plaka_tanima\\test_data\\Car_Traffic_short.mp4: 384x640 (no detections), 105.7ms\n",
      "video 1/1 (frame 1629/2880) c:\\Users\\havva\\OneDrive\\Desktop\\plaka_tanima\\test_data\\Car_Traffic_short.mp4: 384x640 (no detections), 109.7ms\n",
      "video 1/1 (frame 1630/2880) c:\\Users\\havva\\OneDrive\\Desktop\\plaka_tanima\\test_data\\Car_Traffic_short.mp4: 384x640 (no detections), 102.7ms\n",
      "video 1/1 (frame 1631/2880) c:\\Users\\havva\\OneDrive\\Desktop\\plaka_tanima\\test_data\\Car_Traffic_short.mp4: 384x640 (no detections), 104.8ms\n",
      "video 1/1 (frame 1632/2880) c:\\Users\\havva\\OneDrive\\Desktop\\plaka_tanima\\test_data\\Car_Traffic_short.mp4: 384x640 (no detections), 102.7ms\n",
      "video 1/1 (frame 1633/2880) c:\\Users\\havva\\OneDrive\\Desktop\\plaka_tanima\\test_data\\Car_Traffic_short.mp4: 384x640 1 LicensePlate, 109.7ms\n",
      "video 1/1 (frame 1634/2880) c:\\Users\\havva\\OneDrive\\Desktop\\plaka_tanima\\test_data\\Car_Traffic_short.mp4: 384x640 (no detections), 122.9ms\n",
      "video 1/1 (frame 1635/2880) c:\\Users\\havva\\OneDrive\\Desktop\\plaka_tanima\\test_data\\Car_Traffic_short.mp4: 384x640 (no detections), 108.7ms\n",
      "video 1/1 (frame 1636/2880) c:\\Users\\havva\\OneDrive\\Desktop\\plaka_tanima\\test_data\\Car_Traffic_short.mp4: 384x640 (no detections), 102.7ms\n",
      "video 1/1 (frame 1637/2880) c:\\Users\\havva\\OneDrive\\Desktop\\plaka_tanima\\test_data\\Car_Traffic_short.mp4: 384x640 (no detections), 101.7ms\n",
      "video 1/1 (frame 1638/2880) c:\\Users\\havva\\OneDrive\\Desktop\\plaka_tanima\\test_data\\Car_Traffic_short.mp4: 384x640 (no detections), 102.8ms\n",
      "video 1/1 (frame 1639/2880) c:\\Users\\havva\\OneDrive\\Desktop\\plaka_tanima\\test_data\\Car_Traffic_short.mp4: 384x640 (no detections), 100.7ms\n",
      "video 1/1 (frame 1640/2880) c:\\Users\\havva\\OneDrive\\Desktop\\plaka_tanima\\test_data\\Car_Traffic_short.mp4: 384x640 (no detections), 100.7ms\n",
      "video 1/1 (frame 1641/2880) c:\\Users\\havva\\OneDrive\\Desktop\\plaka_tanima\\test_data\\Car_Traffic_short.mp4: 384x640 (no detections), 106.7ms\n",
      "video 1/1 (frame 1642/2880) c:\\Users\\havva\\OneDrive\\Desktop\\plaka_tanima\\test_data\\Car_Traffic_short.mp4: 384x640 (no detections), 102.7ms\n",
      "video 1/1 (frame 1643/2880) c:\\Users\\havva\\OneDrive\\Desktop\\plaka_tanima\\test_data\\Car_Traffic_short.mp4: 384x640 (no detections), 119.7ms\n",
      "video 1/1 (frame 1644/2880) c:\\Users\\havva\\OneDrive\\Desktop\\plaka_tanima\\test_data\\Car_Traffic_short.mp4: 384x640 (no detections), 108.6ms\n",
      "video 1/1 (frame 1645/2880) c:\\Users\\havva\\OneDrive\\Desktop\\plaka_tanima\\test_data\\Car_Traffic_short.mp4: 384x640 (no detections), 105.7ms\n",
      "video 1/1 (frame 1646/2880) c:\\Users\\havva\\OneDrive\\Desktop\\plaka_tanima\\test_data\\Car_Traffic_short.mp4: 384x640 (no detections), 102.7ms\n",
      "video 1/1 (frame 1647/2880) c:\\Users\\havva\\OneDrive\\Desktop\\plaka_tanima\\test_data\\Car_Traffic_short.mp4: 384x640 (no detections), 105.7ms\n",
      "video 1/1 (frame 1648/2880) c:\\Users\\havva\\OneDrive\\Desktop\\plaka_tanima\\test_data\\Car_Traffic_short.mp4: 384x640 (no detections), 166.6ms\n",
      "video 1/1 (frame 1649/2880) c:\\Users\\havva\\OneDrive\\Desktop\\plaka_tanima\\test_data\\Car_Traffic_short.mp4: 384x640 (no detections), 104.7ms\n",
      "video 1/1 (frame 1650/2880) c:\\Users\\havva\\OneDrive\\Desktop\\plaka_tanima\\test_data\\Car_Traffic_short.mp4: 384x640 (no detections), 111.7ms\n",
      "video 1/1 (frame 1651/2880) c:\\Users\\havva\\OneDrive\\Desktop\\plaka_tanima\\test_data\\Car_Traffic_short.mp4: 384x640 2 LicensePlates, 102.7ms\n",
      "video 1/1 (frame 1652/2880) c:\\Users\\havva\\OneDrive\\Desktop\\plaka_tanima\\test_data\\Car_Traffic_short.mp4: 384x640 1 LicensePlate, 101.7ms\n",
      "video 1/1 (frame 1653/2880) c:\\Users\\havva\\OneDrive\\Desktop\\plaka_tanima\\test_data\\Car_Traffic_short.mp4: 384x640 1 LicensePlate, 105.7ms\n",
      "video 1/1 (frame 1654/2880) c:\\Users\\havva\\OneDrive\\Desktop\\plaka_tanima\\test_data\\Car_Traffic_short.mp4: 384x640 1 LicensePlate, 105.7ms\n",
      "video 1/1 (frame 1655/2880) c:\\Users\\havva\\OneDrive\\Desktop\\plaka_tanima\\test_data\\Car_Traffic_short.mp4: 384x640 1 LicensePlate, 102.6ms\n",
      "video 1/1 (frame 1656/2880) c:\\Users\\havva\\OneDrive\\Desktop\\plaka_tanima\\test_data\\Car_Traffic_short.mp4: 384x640 (no detections), 102.7ms\n",
      "video 1/1 (frame 1657/2880) c:\\Users\\havva\\OneDrive\\Desktop\\plaka_tanima\\test_data\\Car_Traffic_short.mp4: 384x640 1 LicensePlate, 101.7ms\n",
      "video 1/1 (frame 1658/2880) c:\\Users\\havva\\OneDrive\\Desktop\\plaka_tanima\\test_data\\Car_Traffic_short.mp4: 384x640 (no detections), 104.7ms\n",
      "video 1/1 (frame 1659/2880) c:\\Users\\havva\\OneDrive\\Desktop\\plaka_tanima\\test_data\\Car_Traffic_short.mp4: 384x640 (no detections), 125.7ms\n",
      "video 1/1 (frame 1660/2880) c:\\Users\\havva\\OneDrive\\Desktop\\plaka_tanima\\test_data\\Car_Traffic_short.mp4: 384x640 (no detections), 110.7ms\n",
      "video 1/1 (frame 1661/2880) c:\\Users\\havva\\OneDrive\\Desktop\\plaka_tanima\\test_data\\Car_Traffic_short.mp4: 384x640 1 LicensePlate, 106.7ms\n",
      "video 1/1 (frame 1662/2880) c:\\Users\\havva\\OneDrive\\Desktop\\plaka_tanima\\test_data\\Car_Traffic_short.mp4: 384x640 (no detections), 109.6ms\n",
      "video 1/1 (frame 1663/2880) c:\\Users\\havva\\OneDrive\\Desktop\\plaka_tanima\\test_data\\Car_Traffic_short.mp4: 384x640 1 LicensePlate, 107.7ms\n",
      "video 1/1 (frame 1664/2880) c:\\Users\\havva\\OneDrive\\Desktop\\plaka_tanima\\test_data\\Car_Traffic_short.mp4: 384x640 (no detections), 102.7ms\n",
      "video 1/1 (frame 1665/2880) c:\\Users\\havva\\OneDrive\\Desktop\\plaka_tanima\\test_data\\Car_Traffic_short.mp4: 384x640 (no detections), 106.7ms\n",
      "video 1/1 (frame 1666/2880) c:\\Users\\havva\\OneDrive\\Desktop\\plaka_tanima\\test_data\\Car_Traffic_short.mp4: 384x640 (no detections), 107.7ms\n",
      "video 1/1 (frame 1667/2880) c:\\Users\\havva\\OneDrive\\Desktop\\plaka_tanima\\test_data\\Car_Traffic_short.mp4: 384x640 1 LicensePlate, 107.7ms\n",
      "video 1/1 (frame 1668/2880) c:\\Users\\havva\\OneDrive\\Desktop\\plaka_tanima\\test_data\\Car_Traffic_short.mp4: 384x640 (no detections), 131.6ms\n",
      "video 1/1 (frame 1669/2880) c:\\Users\\havva\\OneDrive\\Desktop\\plaka_tanima\\test_data\\Car_Traffic_short.mp4: 384x640 (no detections), 107.7ms\n",
      "video 1/1 (frame 1670/2880) c:\\Users\\havva\\OneDrive\\Desktop\\plaka_tanima\\test_data\\Car_Traffic_short.mp4: 384x640 (no detections), 108.7ms\n",
      "video 1/1 (frame 1671/2880) c:\\Users\\havva\\OneDrive\\Desktop\\plaka_tanima\\test_data\\Car_Traffic_short.mp4: 384x640 (no detections), 109.7ms\n",
      "video 1/1 (frame 1672/2880) c:\\Users\\havva\\OneDrive\\Desktop\\plaka_tanima\\test_data\\Car_Traffic_short.mp4: 384x640 (no detections), 106.7ms\n",
      "video 1/1 (frame 1673/2880) c:\\Users\\havva\\OneDrive\\Desktop\\plaka_tanima\\test_data\\Car_Traffic_short.mp4: 384x640 (no detections), 106.6ms\n",
      "video 1/1 (frame 1674/2880) c:\\Users\\havva\\OneDrive\\Desktop\\plaka_tanima\\test_data\\Car_Traffic_short.mp4: 384x640 (no detections), 103.7ms\n",
      "video 1/1 (frame 1675/2880) c:\\Users\\havva\\OneDrive\\Desktop\\plaka_tanima\\test_data\\Car_Traffic_short.mp4: 384x640 (no detections), 104.7ms\n",
      "video 1/1 (frame 1676/2880) c:\\Users\\havva\\OneDrive\\Desktop\\plaka_tanima\\test_data\\Car_Traffic_short.mp4: 384x640 1 LicensePlate, 101.7ms\n",
      "video 1/1 (frame 1677/2880) c:\\Users\\havva\\OneDrive\\Desktop\\plaka_tanima\\test_data\\Car_Traffic_short.mp4: 384x640 1 LicensePlate, 120.7ms\n",
      "video 1/1 (frame 1678/2880) c:\\Users\\havva\\OneDrive\\Desktop\\plaka_tanima\\test_data\\Car_Traffic_short.mp4: 384x640 (no detections), 106.7ms\n",
      "video 1/1 (frame 1679/2880) c:\\Users\\havva\\OneDrive\\Desktop\\plaka_tanima\\test_data\\Car_Traffic_short.mp4: 384x640 (no detections), 106.7ms\n",
      "video 1/1 (frame 1680/2880) c:\\Users\\havva\\OneDrive\\Desktop\\plaka_tanima\\test_data\\Car_Traffic_short.mp4: 384x640 (no detections), 103.7ms\n",
      "video 1/1 (frame 1681/2880) c:\\Users\\havva\\OneDrive\\Desktop\\plaka_tanima\\test_data\\Car_Traffic_short.mp4: 384x640 (no detections), 104.7ms\n",
      "video 1/1 (frame 1682/2880) c:\\Users\\havva\\OneDrive\\Desktop\\plaka_tanima\\test_data\\Car_Traffic_short.mp4: 384x640 (no detections), 103.8ms\n",
      "video 1/1 (frame 1683/2880) c:\\Users\\havva\\OneDrive\\Desktop\\plaka_tanima\\test_data\\Car_Traffic_short.mp4: 384x640 (no detections), 107.7ms\n",
      "video 1/1 (frame 1684/2880) c:\\Users\\havva\\OneDrive\\Desktop\\plaka_tanima\\test_data\\Car_Traffic_short.mp4: 384x640 (no detections), 106.3ms\n",
      "video 1/1 (frame 1685/2880) c:\\Users\\havva\\OneDrive\\Desktop\\plaka_tanima\\test_data\\Car_Traffic_short.mp4: 384x640 1 LicensePlate, 120.7ms\n",
      "video 1/1 (frame 1686/2880) c:\\Users\\havva\\OneDrive\\Desktop\\plaka_tanima\\test_data\\Car_Traffic_short.mp4: 384x640 (no detections), 102.7ms\n",
      "video 1/1 (frame 1687/2880) c:\\Users\\havva\\OneDrive\\Desktop\\plaka_tanima\\test_data\\Car_Traffic_short.mp4: 384x640 (no detections), 103.7ms\n",
      "video 1/1 (frame 1688/2880) c:\\Users\\havva\\OneDrive\\Desktop\\plaka_tanima\\test_data\\Car_Traffic_short.mp4: 384x640 (no detections), 104.7ms\n",
      "video 1/1 (frame 1689/2880) c:\\Users\\havva\\OneDrive\\Desktop\\plaka_tanima\\test_data\\Car_Traffic_short.mp4: 384x640 (no detections), 105.3ms\n",
      "video 1/1 (frame 1690/2880) c:\\Users\\havva\\OneDrive\\Desktop\\plaka_tanima\\test_data\\Car_Traffic_short.mp4: 384x640 (no detections), 150.6ms\n",
      "video 1/1 (frame 1691/2880) c:\\Users\\havva\\OneDrive\\Desktop\\plaka_tanima\\test_data\\Car_Traffic_short.mp4: 384x640 (no detections), 109.8ms\n",
      "video 1/1 (frame 1692/2880) c:\\Users\\havva\\OneDrive\\Desktop\\plaka_tanima\\test_data\\Car_Traffic_short.mp4: 384x640 (no detections), 108.8ms\n",
      "video 1/1 (frame 1693/2880) c:\\Users\\havva\\OneDrive\\Desktop\\plaka_tanima\\test_data\\Car_Traffic_short.mp4: 384x640 (no detections), 105.7ms\n",
      "video 1/1 (frame 1694/2880) c:\\Users\\havva\\OneDrive\\Desktop\\plaka_tanima\\test_data\\Car_Traffic_short.mp4: 384x640 (no detections), 124.4ms\n",
      "video 1/1 (frame 1695/2880) c:\\Users\\havva\\OneDrive\\Desktop\\plaka_tanima\\test_data\\Car_Traffic_short.mp4: 384x640 (no detections), 105.6ms\n",
      "video 1/1 (frame 1696/2880) c:\\Users\\havva\\OneDrive\\Desktop\\plaka_tanima\\test_data\\Car_Traffic_short.mp4: 384x640 (no detections), 108.5ms\n",
      "video 1/1 (frame 1697/2880) c:\\Users\\havva\\OneDrive\\Desktop\\plaka_tanima\\test_data\\Car_Traffic_short.mp4: 384x640 (no detections), 102.7ms\n",
      "video 1/1 (frame 1698/2880) c:\\Users\\havva\\OneDrive\\Desktop\\plaka_tanima\\test_data\\Car_Traffic_short.mp4: 384x640 (no detections), 104.7ms\n",
      "video 1/1 (frame 1699/2880) c:\\Users\\havva\\OneDrive\\Desktop\\plaka_tanima\\test_data\\Car_Traffic_short.mp4: 384x640 (no detections), 108.4ms\n",
      "video 1/1 (frame 1700/2880) c:\\Users\\havva\\OneDrive\\Desktop\\plaka_tanima\\test_data\\Car_Traffic_short.mp4: 384x640 (no detections), 106.2ms\n",
      "video 1/1 (frame 1701/2880) c:\\Users\\havva\\OneDrive\\Desktop\\plaka_tanima\\test_data\\Car_Traffic_short.mp4: 384x640 (no detections), 105.8ms\n",
      "video 1/1 (frame 1702/2880) c:\\Users\\havva\\OneDrive\\Desktop\\plaka_tanima\\test_data\\Car_Traffic_short.mp4: 384x640 (no detections), 108.7ms\n",
      "video 1/1 (frame 1703/2880) c:\\Users\\havva\\OneDrive\\Desktop\\plaka_tanima\\test_data\\Car_Traffic_short.mp4: 384x640 (no detections), 122.7ms\n",
      "video 1/1 (frame 1704/2880) c:\\Users\\havva\\OneDrive\\Desktop\\plaka_tanima\\test_data\\Car_Traffic_short.mp4: 384x640 (no detections), 106.7ms\n",
      "video 1/1 (frame 1705/2880) c:\\Users\\havva\\OneDrive\\Desktop\\plaka_tanima\\test_data\\Car_Traffic_short.mp4: 384x640 (no detections), 105.7ms\n",
      "video 1/1 (frame 1706/2880) c:\\Users\\havva\\OneDrive\\Desktop\\plaka_tanima\\test_data\\Car_Traffic_short.mp4: 384x640 (no detections), 102.7ms\n",
      "video 1/1 (frame 1707/2880) c:\\Users\\havva\\OneDrive\\Desktop\\plaka_tanima\\test_data\\Car_Traffic_short.mp4: 384x640 (no detections), 104.7ms\n",
      "video 1/1 (frame 1708/2880) c:\\Users\\havva\\OneDrive\\Desktop\\plaka_tanima\\test_data\\Car_Traffic_short.mp4: 384x640 (no detections), 110.7ms\n",
      "video 1/1 (frame 1709/2880) c:\\Users\\havva\\OneDrive\\Desktop\\plaka_tanima\\test_data\\Car_Traffic_short.mp4: 384x640 (no detections), 109.7ms\n",
      "video 1/1 (frame 1710/2880) c:\\Users\\havva\\OneDrive\\Desktop\\plaka_tanima\\test_data\\Car_Traffic_short.mp4: 384x640 (no detections), 102.3ms\n",
      "video 1/1 (frame 1711/2880) c:\\Users\\havva\\OneDrive\\Desktop\\plaka_tanima\\test_data\\Car_Traffic_short.mp4: 384x640 (no detections), 102.7ms\n",
      "video 1/1 (frame 1712/2880) c:\\Users\\havva\\OneDrive\\Desktop\\plaka_tanima\\test_data\\Car_Traffic_short.mp4: 384x640 (no detections), 119.7ms\n",
      "video 1/1 (frame 1713/2880) c:\\Users\\havva\\OneDrive\\Desktop\\plaka_tanima\\test_data\\Car_Traffic_short.mp4: 384x640 (no detections), 105.7ms\n",
      "video 1/1 (frame 1714/2880) c:\\Users\\havva\\OneDrive\\Desktop\\plaka_tanima\\test_data\\Car_Traffic_short.mp4: 384x640 1 LicensePlate, 107.7ms\n",
      "video 1/1 (frame 1715/2880) c:\\Users\\havva\\OneDrive\\Desktop\\plaka_tanima\\test_data\\Car_Traffic_short.mp4: 384x640 (no detections), 103.7ms\n",
      "video 1/1 (frame 1716/2880) c:\\Users\\havva\\OneDrive\\Desktop\\plaka_tanima\\test_data\\Car_Traffic_short.mp4: 384x640 (no detections), 103.7ms\n",
      "video 1/1 (frame 1717/2880) c:\\Users\\havva\\OneDrive\\Desktop\\plaka_tanima\\test_data\\Car_Traffic_short.mp4: 384x640 (no detections), 106.8ms\n",
      "video 1/1 (frame 1718/2880) c:\\Users\\havva\\OneDrive\\Desktop\\plaka_tanima\\test_data\\Car_Traffic_short.mp4: 384x640 (no detections), 104.7ms\n",
      "video 1/1 (frame 1719/2880) c:\\Users\\havva\\OneDrive\\Desktop\\plaka_tanima\\test_data\\Car_Traffic_short.mp4: 384x640 (no detections), 101.7ms\n",
      "video 1/1 (frame 1720/2880) c:\\Users\\havva\\OneDrive\\Desktop\\plaka_tanima\\test_data\\Car_Traffic_short.mp4: 384x640 (no detections), 127.7ms\n",
      "video 1/1 (frame 1721/2880) c:\\Users\\havva\\OneDrive\\Desktop\\plaka_tanima\\test_data\\Car_Traffic_short.mp4: 384x640 (no detections), 108.7ms\n",
      "video 1/1 (frame 1722/2880) c:\\Users\\havva\\OneDrive\\Desktop\\plaka_tanima\\test_data\\Car_Traffic_short.mp4: 384x640 (no detections), 101.7ms\n",
      "video 1/1 (frame 1723/2880) c:\\Users\\havva\\OneDrive\\Desktop\\plaka_tanima\\test_data\\Car_Traffic_short.mp4: 384x640 (no detections), 110.7ms\n",
      "video 1/1 (frame 1724/2880) c:\\Users\\havva\\OneDrive\\Desktop\\plaka_tanima\\test_data\\Car_Traffic_short.mp4: 384x640 (no detections), 105.1ms\n",
      "video 1/1 (frame 1725/2880) c:\\Users\\havva\\OneDrive\\Desktop\\plaka_tanima\\test_data\\Car_Traffic_short.mp4: 384x640 (no detections), 110.7ms\n",
      "video 1/1 (frame 1726/2880) c:\\Users\\havva\\OneDrive\\Desktop\\plaka_tanima\\test_data\\Car_Traffic_short.mp4: 384x640 (no detections), 107.7ms\n",
      "video 1/1 (frame 1727/2880) c:\\Users\\havva\\OneDrive\\Desktop\\plaka_tanima\\test_data\\Car_Traffic_short.mp4: 384x640 (no detections), 99.7ms\n",
      "video 1/1 (frame 1728/2880) c:\\Users\\havva\\OneDrive\\Desktop\\plaka_tanima\\test_data\\Car_Traffic_short.mp4: 384x640 (no detections), 98.7ms\n",
      "video 1/1 (frame 1729/2880) c:\\Users\\havva\\OneDrive\\Desktop\\plaka_tanima\\test_data\\Car_Traffic_short.mp4: 384x640 (no detections), 121.7ms\n",
      "video 1/1 (frame 1730/2880) c:\\Users\\havva\\OneDrive\\Desktop\\plaka_tanima\\test_data\\Car_Traffic_short.mp4: 384x640 (no detections), 104.8ms\n",
      "video 1/1 (frame 1731/2880) c:\\Users\\havva\\OneDrive\\Desktop\\plaka_tanima\\test_data\\Car_Traffic_short.mp4: 384x640 (no detections), 103.7ms\n",
      "video 1/1 (frame 1732/2880) c:\\Users\\havva\\OneDrive\\Desktop\\plaka_tanima\\test_data\\Car_Traffic_short.mp4: 384x640 (no detections), 105.7ms\n",
      "video 1/1 (frame 1733/2880) c:\\Users\\havva\\OneDrive\\Desktop\\plaka_tanima\\test_data\\Car_Traffic_short.mp4: 384x640 (no detections), 108.6ms\n",
      "video 1/1 (frame 1734/2880) c:\\Users\\havva\\OneDrive\\Desktop\\plaka_tanima\\test_data\\Car_Traffic_short.mp4: 384x640 (no detections), 101.7ms\n",
      "video 1/1 (frame 1735/2880) c:\\Users\\havva\\OneDrive\\Desktop\\plaka_tanima\\test_data\\Car_Traffic_short.mp4: 384x640 (no detections), 135.8ms\n",
      "video 1/1 (frame 1736/2880) c:\\Users\\havva\\OneDrive\\Desktop\\plaka_tanima\\test_data\\Car_Traffic_short.mp4: 384x640 (no detections), 109.4ms\n",
      "video 1/1 (frame 1737/2880) c:\\Users\\havva\\OneDrive\\Desktop\\plaka_tanima\\test_data\\Car_Traffic_short.mp4: 384x640 (no detections), 103.7ms\n",
      "video 1/1 (frame 1738/2880) c:\\Users\\havva\\OneDrive\\Desktop\\plaka_tanima\\test_data\\Car_Traffic_short.mp4: 384x640 (no detections), 121.7ms\n",
      "video 1/1 (frame 1739/2880) c:\\Users\\havva\\OneDrive\\Desktop\\plaka_tanima\\test_data\\Car_Traffic_short.mp4: 384x640 (no detections), 106.7ms\n",
      "video 1/1 (frame 1740/2880) c:\\Users\\havva\\OneDrive\\Desktop\\plaka_tanima\\test_data\\Car_Traffic_short.mp4: 384x640 (no detections), 100.7ms\n",
      "video 1/1 (frame 1741/2880) c:\\Users\\havva\\OneDrive\\Desktop\\plaka_tanima\\test_data\\Car_Traffic_short.mp4: 384x640 (no detections), 107.9ms\n",
      "video 1/1 (frame 1742/2880) c:\\Users\\havva\\OneDrive\\Desktop\\plaka_tanima\\test_data\\Car_Traffic_short.mp4: 384x640 (no detections), 107.7ms\n",
      "video 1/1 (frame 1743/2880) c:\\Users\\havva\\OneDrive\\Desktop\\plaka_tanima\\test_data\\Car_Traffic_short.mp4: 384x640 (no detections), 104.7ms\n",
      "video 1/1 (frame 1744/2880) c:\\Users\\havva\\OneDrive\\Desktop\\plaka_tanima\\test_data\\Car_Traffic_short.mp4: 384x640 (no detections), 102.7ms\n",
      "video 1/1 (frame 1745/2880) c:\\Users\\havva\\OneDrive\\Desktop\\plaka_tanima\\test_data\\Car_Traffic_short.mp4: 384x640 (no detections), 109.7ms\n",
      "video 1/1 (frame 1746/2880) c:\\Users\\havva\\OneDrive\\Desktop\\plaka_tanima\\test_data\\Car_Traffic_short.mp4: 384x640 (no detections), 102.7ms\n",
      "video 1/1 (frame 1747/2880) c:\\Users\\havva\\OneDrive\\Desktop\\plaka_tanima\\test_data\\Car_Traffic_short.mp4: 384x640 (no detections), 119.7ms\n",
      "video 1/1 (frame 1748/2880) c:\\Users\\havva\\OneDrive\\Desktop\\plaka_tanima\\test_data\\Car_Traffic_short.mp4: 384x640 (no detections), 115.6ms\n",
      "video 1/1 (frame 1749/2880) c:\\Users\\havva\\OneDrive\\Desktop\\plaka_tanima\\test_data\\Car_Traffic_short.mp4: 384x640 (no detections), 122.7ms\n",
      "video 1/1 (frame 1750/2880) c:\\Users\\havva\\OneDrive\\Desktop\\plaka_tanima\\test_data\\Car_Traffic_short.mp4: 384x640 (no detections), 116.7ms\n",
      "video 1/1 (frame 1751/2880) c:\\Users\\havva\\OneDrive\\Desktop\\plaka_tanima\\test_data\\Car_Traffic_short.mp4: 384x640 (no detections), 107.7ms\n",
      "video 1/1 (frame 1752/2880) c:\\Users\\havva\\OneDrive\\Desktop\\plaka_tanima\\test_data\\Car_Traffic_short.mp4: 384x640 (no detections), 101.8ms\n",
      "video 1/1 (frame 1753/2880) c:\\Users\\havva\\OneDrive\\Desktop\\plaka_tanima\\test_data\\Car_Traffic_short.mp4: 384x640 (no detections), 98.7ms\n",
      "video 1/1 (frame 1754/2880) c:\\Users\\havva\\OneDrive\\Desktop\\plaka_tanima\\test_data\\Car_Traffic_short.mp4: 384x640 (no detections), 105.7ms\n",
      "video 1/1 (frame 1755/2880) c:\\Users\\havva\\OneDrive\\Desktop\\plaka_tanima\\test_data\\Car_Traffic_short.mp4: 384x640 (no detections), 108.7ms\n",
      "video 1/1 (frame 1756/2880) c:\\Users\\havva\\OneDrive\\Desktop\\plaka_tanima\\test_data\\Car_Traffic_short.mp4: 384x640 (no detections), 125.7ms\n",
      "video 1/1 (frame 1757/2880) c:\\Users\\havva\\OneDrive\\Desktop\\plaka_tanima\\test_data\\Car_Traffic_short.mp4: 384x640 1 LicensePlate, 105.7ms\n",
      "video 1/1 (frame 1758/2880) c:\\Users\\havva\\OneDrive\\Desktop\\plaka_tanima\\test_data\\Car_Traffic_short.mp4: 384x640 1 LicensePlate, 102.3ms\n",
      "video 1/1 (frame 1759/2880) c:\\Users\\havva\\OneDrive\\Desktop\\plaka_tanima\\test_data\\Car_Traffic_short.mp4: 384x640 1 LicensePlate, 99.7ms\n",
      "video 1/1 (frame 1760/2880) c:\\Users\\havva\\OneDrive\\Desktop\\plaka_tanima\\test_data\\Car_Traffic_short.mp4: 384x640 1 LicensePlate, 102.7ms\n",
      "video 1/1 (frame 1761/2880) c:\\Users\\havva\\OneDrive\\Desktop\\plaka_tanima\\test_data\\Car_Traffic_short.mp4: 384x640 1 LicensePlate, 103.7ms\n",
      "video 1/1 (frame 1762/2880) c:\\Users\\havva\\OneDrive\\Desktop\\plaka_tanima\\test_data\\Car_Traffic_short.mp4: 384x640 1 LicensePlate, 102.7ms\n",
      "video 1/1 (frame 1763/2880) c:\\Users\\havva\\OneDrive\\Desktop\\plaka_tanima\\test_data\\Car_Traffic_short.mp4: 384x640 2 LicensePlates, 128.7ms\n",
      "video 1/1 (frame 1764/2880) c:\\Users\\havva\\OneDrive\\Desktop\\plaka_tanima\\test_data\\Car_Traffic_short.mp4: 384x640 1 LicensePlate, 102.8ms\n",
      "video 1/1 (frame 1765/2880) c:\\Users\\havva\\OneDrive\\Desktop\\plaka_tanima\\test_data\\Car_Traffic_short.mp4: 384x640 1 LicensePlate, 108.7ms\n",
      "video 1/1 (frame 1766/2880) c:\\Users\\havva\\OneDrive\\Desktop\\plaka_tanima\\test_data\\Car_Traffic_short.mp4: 384x640 1 LicensePlate, 113.0ms\n",
      "video 1/1 (frame 1767/2880) c:\\Users\\havva\\OneDrive\\Desktop\\plaka_tanima\\test_data\\Car_Traffic_short.mp4: 384x640 1 LicensePlate, 167.6ms\n",
      "video 1/1 (frame 1768/2880) c:\\Users\\havva\\OneDrive\\Desktop\\plaka_tanima\\test_data\\Car_Traffic_short.mp4: 384x640 1 LicensePlate, 103.8ms\n",
      "video 1/1 (frame 1769/2880) c:\\Users\\havva\\OneDrive\\Desktop\\plaka_tanima\\test_data\\Car_Traffic_short.mp4: 384x640 1 LicensePlate, 101.7ms\n",
      "video 1/1 (frame 1770/2880) c:\\Users\\havva\\OneDrive\\Desktop\\plaka_tanima\\test_data\\Car_Traffic_short.mp4: 384x640 1 LicensePlate, 102.7ms\n",
      "video 1/1 (frame 1771/2880) c:\\Users\\havva\\OneDrive\\Desktop\\plaka_tanima\\test_data\\Car_Traffic_short.mp4: 384x640 1 LicensePlate, 106.7ms\n",
      "video 1/1 (frame 1772/2880) c:\\Users\\havva\\OneDrive\\Desktop\\plaka_tanima\\test_data\\Car_Traffic_short.mp4: 384x640 2 LicensePlates, 123.7ms\n",
      "video 1/1 (frame 1773/2880) c:\\Users\\havva\\OneDrive\\Desktop\\plaka_tanima\\test_data\\Car_Traffic_short.mp4: 384x640 2 LicensePlates, 107.6ms\n",
      "video 1/1 (frame 1774/2880) c:\\Users\\havva\\OneDrive\\Desktop\\plaka_tanima\\test_data\\Car_Traffic_short.mp4: 384x640 1 LicensePlate, 106.7ms\n",
      "video 1/1 (frame 1775/2880) c:\\Users\\havva\\OneDrive\\Desktop\\plaka_tanima\\test_data\\Car_Traffic_short.mp4: 384x640 1 LicensePlate, 101.8ms\n",
      "video 1/1 (frame 1776/2880) c:\\Users\\havva\\OneDrive\\Desktop\\plaka_tanima\\test_data\\Car_Traffic_short.mp4: 384x640 1 LicensePlate, 115.7ms\n",
      "video 1/1 (frame 1777/2880) c:\\Users\\havva\\OneDrive\\Desktop\\plaka_tanima\\test_data\\Car_Traffic_short.mp4: 384x640 1 LicensePlate, 105.7ms\n",
      "video 1/1 (frame 1778/2880) c:\\Users\\havva\\OneDrive\\Desktop\\plaka_tanima\\test_data\\Car_Traffic_short.mp4: 384x640 (no detections), 103.5ms\n",
      "video 1/1 (frame 1779/2880) c:\\Users\\havva\\OneDrive\\Desktop\\plaka_tanima\\test_data\\Car_Traffic_short.mp4: 384x640 (no detections), 102.2ms\n",
      "video 1/1 (frame 1780/2880) c:\\Users\\havva\\OneDrive\\Desktop\\plaka_tanima\\test_data\\Car_Traffic_short.mp4: 384x640 1 LicensePlate, 104.7ms\n",
      "video 1/1 (frame 1781/2880) c:\\Users\\havva\\OneDrive\\Desktop\\plaka_tanima\\test_data\\Car_Traffic_short.mp4: 384x640 1 LicensePlate, 124.7ms\n",
      "video 1/1 (frame 1782/2880) c:\\Users\\havva\\OneDrive\\Desktop\\plaka_tanima\\test_data\\Car_Traffic_short.mp4: 384x640 (no detections), 106.7ms\n",
      "video 1/1 (frame 1783/2880) c:\\Users\\havva\\OneDrive\\Desktop\\plaka_tanima\\test_data\\Car_Traffic_short.mp4: 384x640 (no detections), 104.7ms\n",
      "video 1/1 (frame 1784/2880) c:\\Users\\havva\\OneDrive\\Desktop\\plaka_tanima\\test_data\\Car_Traffic_short.mp4: 384x640 1 LicensePlate, 104.7ms\n",
      "video 1/1 (frame 1785/2880) c:\\Users\\havva\\OneDrive\\Desktop\\plaka_tanima\\test_data\\Car_Traffic_short.mp4: 384x640 1 LicensePlate, 99.7ms\n",
      "video 1/1 (frame 1786/2880) c:\\Users\\havva\\OneDrive\\Desktop\\plaka_tanima\\test_data\\Car_Traffic_short.mp4: 384x640 1 LicensePlate, 104.7ms\n",
      "video 1/1 (frame 1787/2880) c:\\Users\\havva\\OneDrive\\Desktop\\plaka_tanima\\test_data\\Car_Traffic_short.mp4: 384x640 (no detections), 103.7ms\n",
      "video 1/1 (frame 1788/2880) c:\\Users\\havva\\OneDrive\\Desktop\\plaka_tanima\\test_data\\Car_Traffic_short.mp4: 384x640 (no detections), 118.7ms\n",
      "video 1/1 (frame 1789/2880) c:\\Users\\havva\\OneDrive\\Desktop\\plaka_tanima\\test_data\\Car_Traffic_short.mp4: 384x640 2 LicensePlates, 103.7ms\n",
      "video 1/1 (frame 1790/2880) c:\\Users\\havva\\OneDrive\\Desktop\\plaka_tanima\\test_data\\Car_Traffic_short.mp4: 384x640 1 LicensePlate, 107.7ms\n",
      "video 1/1 (frame 1791/2880) c:\\Users\\havva\\OneDrive\\Desktop\\plaka_tanima\\test_data\\Car_Traffic_short.mp4: 384x640 1 LicensePlate, 107.6ms\n",
      "video 1/1 (frame 1792/2880) c:\\Users\\havva\\OneDrive\\Desktop\\plaka_tanima\\test_data\\Car_Traffic_short.mp4: 384x640 (no detections), 104.6ms\n",
      "video 1/1 (frame 1793/2880) c:\\Users\\havva\\OneDrive\\Desktop\\plaka_tanima\\test_data\\Car_Traffic_short.mp4: 384x640 1 LicensePlate, 105.7ms\n",
      "video 1/1 (frame 1794/2880) c:\\Users\\havva\\OneDrive\\Desktop\\plaka_tanima\\test_data\\Car_Traffic_short.mp4: 384x640 (no detections), 100.7ms\n",
      "video 1/1 (frame 1795/2880) c:\\Users\\havva\\OneDrive\\Desktop\\plaka_tanima\\test_data\\Car_Traffic_short.mp4: 384x640 1 LicensePlate, 122.7ms\n",
      "video 1/1 (frame 1796/2880) c:\\Users\\havva\\OneDrive\\Desktop\\plaka_tanima\\test_data\\Car_Traffic_short.mp4: 384x640 (no detections), 104.7ms\n",
      "video 1/1 (frame 1797/2880) c:\\Users\\havva\\OneDrive\\Desktop\\plaka_tanima\\test_data\\Car_Traffic_short.mp4: 384x640 (no detections), 110.5ms\n",
      "video 1/1 (frame 1798/2880) c:\\Users\\havva\\OneDrive\\Desktop\\plaka_tanima\\test_data\\Car_Traffic_short.mp4: 384x640 (no detections), 101.7ms\n",
      "video 1/1 (frame 1799/2880) c:\\Users\\havva\\OneDrive\\Desktop\\plaka_tanima\\test_data\\Car_Traffic_short.mp4: 384x640 1 LicensePlate, 101.7ms\n",
      "video 1/1 (frame 1800/2880) c:\\Users\\havva\\OneDrive\\Desktop\\plaka_tanima\\test_data\\Car_Traffic_short.mp4: 384x640 (no detections), 101.5ms\n",
      "video 1/1 (frame 1801/2880) c:\\Users\\havva\\OneDrive\\Desktop\\plaka_tanima\\test_data\\Car_Traffic_short.mp4: 384x640 (no detections), 102.7ms\n",
      "video 1/1 (frame 1802/2880) c:\\Users\\havva\\OneDrive\\Desktop\\plaka_tanima\\test_data\\Car_Traffic_short.mp4: 384x640 (no detections), 118.8ms\n",
      "video 1/1 (frame 1803/2880) c:\\Users\\havva\\OneDrive\\Desktop\\plaka_tanima\\test_data\\Car_Traffic_short.mp4: 384x640 (no detections), 104.7ms\n",
      "video 1/1 (frame 1804/2880) c:\\Users\\havva\\OneDrive\\Desktop\\plaka_tanima\\test_data\\Car_Traffic_short.mp4: 384x640 1 LicensePlate, 106.7ms\n",
      "video 1/1 (frame 1805/2880) c:\\Users\\havva\\OneDrive\\Desktop\\plaka_tanima\\test_data\\Car_Traffic_short.mp4: 384x640 (no detections), 105.7ms\n",
      "video 1/1 (frame 1806/2880) c:\\Users\\havva\\OneDrive\\Desktop\\plaka_tanima\\test_data\\Car_Traffic_short.mp4: 384x640 (no detections), 103.7ms\n",
      "video 1/1 (frame 1807/2880) c:\\Users\\havva\\OneDrive\\Desktop\\plaka_tanima\\test_data\\Car_Traffic_short.mp4: 384x640 (no detections), 104.7ms\n",
      "video 1/1 (frame 1808/2880) c:\\Users\\havva\\OneDrive\\Desktop\\plaka_tanima\\test_data\\Car_Traffic_short.mp4: 384x640 (no detections), 104.7ms\n",
      "video 1/1 (frame 1809/2880) c:\\Users\\havva\\OneDrive\\Desktop\\plaka_tanima\\test_data\\Car_Traffic_short.mp4: 384x640 (no detections), 125.7ms\n",
      "video 1/1 (frame 1810/2880) c:\\Users\\havva\\OneDrive\\Desktop\\plaka_tanima\\test_data\\Car_Traffic_short.mp4: 384x640 (no detections), 109.7ms\n",
      "video 1/1 (frame 1811/2880) c:\\Users\\havva\\OneDrive\\Desktop\\plaka_tanima\\test_data\\Car_Traffic_short.mp4: 384x640 (no detections), 103.7ms\n",
      "video 1/1 (frame 1812/2880) c:\\Users\\havva\\OneDrive\\Desktop\\plaka_tanima\\test_data\\Car_Traffic_short.mp4: 384x640 (no detections), 103.7ms\n",
      "video 1/1 (frame 1813/2880) c:\\Users\\havva\\OneDrive\\Desktop\\plaka_tanima\\test_data\\Car_Traffic_short.mp4: 384x640 (no detections), 121.7ms\n",
      "video 1/1 (frame 1814/2880) c:\\Users\\havva\\OneDrive\\Desktop\\plaka_tanima\\test_data\\Car_Traffic_short.mp4: 384x640 (no detections), 150.6ms\n",
      "video 1/1 (frame 1815/2880) c:\\Users\\havva\\OneDrive\\Desktop\\plaka_tanima\\test_data\\Car_Traffic_short.mp4: 384x640 (no detections), 107.8ms\n",
      "video 1/1 (frame 1816/2880) c:\\Users\\havva\\OneDrive\\Desktop\\plaka_tanima\\test_data\\Car_Traffic_short.mp4: 384x640 1 LicensePlate, 118.7ms\n",
      "video 1/1 (frame 1817/2880) c:\\Users\\havva\\OneDrive\\Desktop\\plaka_tanima\\test_data\\Car_Traffic_short.mp4: 384x640 (no detections), 159.6ms\n",
      "video 1/1 (frame 1818/2880) c:\\Users\\havva\\OneDrive\\Desktop\\plaka_tanima\\test_data\\Car_Traffic_short.mp4: 384x640 (no detections), 173.5ms\n",
      "video 1/1 (frame 1819/2880) c:\\Users\\havva\\OneDrive\\Desktop\\plaka_tanima\\test_data\\Car_Traffic_short.mp4: 384x640 (no detections), 193.5ms\n",
      "video 1/1 (frame 1820/2880) c:\\Users\\havva\\OneDrive\\Desktop\\plaka_tanima\\test_data\\Car_Traffic_short.mp4: 384x640 1 LicensePlate, 117.7ms\n",
      "video 1/1 (frame 1821/2880) c:\\Users\\havva\\OneDrive\\Desktop\\plaka_tanima\\test_data\\Car_Traffic_short.mp4: 384x640 1 LicensePlate, 171.5ms\n",
      "video 1/1 (frame 1822/2880) c:\\Users\\havva\\OneDrive\\Desktop\\plaka_tanima\\test_data\\Car_Traffic_short.mp4: 384x640 1 LicensePlate, 169.5ms\n",
      "video 1/1 (frame 1823/2880) c:\\Users\\havva\\OneDrive\\Desktop\\plaka_tanima\\test_data\\Car_Traffic_short.mp4: 384x640 1 LicensePlate, 143.6ms\n",
      "video 1/1 (frame 1824/2880) c:\\Users\\havva\\OneDrive\\Desktop\\plaka_tanima\\test_data\\Car_Traffic_short.mp4: 384x640 1 LicensePlate, 118.7ms\n",
      "video 1/1 (frame 1825/2880) c:\\Users\\havva\\OneDrive\\Desktop\\plaka_tanima\\test_data\\Car_Traffic_short.mp4: 384x640 1 LicensePlate, 147.6ms\n",
      "video 1/1 (frame 1826/2880) c:\\Users\\havva\\OneDrive\\Desktop\\plaka_tanima\\test_data\\Car_Traffic_short.mp4: 384x640 1 LicensePlate, 115.7ms\n",
      "video 1/1 (frame 1827/2880) c:\\Users\\havva\\OneDrive\\Desktop\\plaka_tanima\\test_data\\Car_Traffic_short.mp4: 384x640 2 LicensePlates, 114.7ms\n",
      "video 1/1 (frame 1828/2880) c:\\Users\\havva\\OneDrive\\Desktop\\plaka_tanima\\test_data\\Car_Traffic_short.mp4: 384x640 1 LicensePlate, 114.7ms\n",
      "video 1/1 (frame 1829/2880) c:\\Users\\havva\\OneDrive\\Desktop\\plaka_tanima\\test_data\\Car_Traffic_short.mp4: 384x640 1 LicensePlate, 117.7ms\n",
      "video 1/1 (frame 1830/2880) c:\\Users\\havva\\OneDrive\\Desktop\\plaka_tanima\\test_data\\Car_Traffic_short.mp4: 384x640 1 LicensePlate, 129.7ms\n",
      "video 1/1 (frame 1831/2880) c:\\Users\\havva\\OneDrive\\Desktop\\plaka_tanima\\test_data\\Car_Traffic_short.mp4: 384x640 2 LicensePlates, 109.5ms\n",
      "video 1/1 (frame 1832/2880) c:\\Users\\havva\\OneDrive\\Desktop\\plaka_tanima\\test_data\\Car_Traffic_short.mp4: 384x640 2 LicensePlates, 109.7ms\n",
      "video 1/1 (frame 1833/2880) c:\\Users\\havva\\OneDrive\\Desktop\\plaka_tanima\\test_data\\Car_Traffic_short.mp4: 384x640 2 LicensePlates, 114.7ms\n",
      "video 1/1 (frame 1834/2880) c:\\Users\\havva\\OneDrive\\Desktop\\plaka_tanima\\test_data\\Car_Traffic_short.mp4: 384x640 3 LicensePlates, 116.7ms\n",
      "video 1/1 (frame 1835/2880) c:\\Users\\havva\\OneDrive\\Desktop\\plaka_tanima\\test_data\\Car_Traffic_short.mp4: 384x640 3 LicensePlates, 112.7ms\n",
      "video 1/1 (frame 1836/2880) c:\\Users\\havva\\OneDrive\\Desktop\\plaka_tanima\\test_data\\Car_Traffic_short.mp4: 384x640 3 LicensePlates, 107.7ms\n",
      "video 1/1 (frame 1837/2880) c:\\Users\\havva\\OneDrive\\Desktop\\plaka_tanima\\test_data\\Car_Traffic_short.mp4: 384x640 2 LicensePlates, 129.5ms\n",
      "video 1/1 (frame 1838/2880) c:\\Users\\havva\\OneDrive\\Desktop\\plaka_tanima\\test_data\\Car_Traffic_short.mp4: 384x640 2 LicensePlates, 108.8ms\n",
      "video 1/1 (frame 1839/2880) c:\\Users\\havva\\OneDrive\\Desktop\\plaka_tanima\\test_data\\Car_Traffic_short.mp4: 384x640 3 LicensePlates, 105.7ms\n",
      "video 1/1 (frame 1840/2880) c:\\Users\\havva\\OneDrive\\Desktop\\plaka_tanima\\test_data\\Car_Traffic_short.mp4: 384x640 2 LicensePlates, 102.5ms\n",
      "video 1/1 (frame 1841/2880) c:\\Users\\havva\\OneDrive\\Desktop\\plaka_tanima\\test_data\\Car_Traffic_short.mp4: 384x640 3 LicensePlates, 157.6ms\n",
      "video 1/1 (frame 1842/2880) c:\\Users\\havva\\OneDrive\\Desktop\\plaka_tanima\\test_data\\Car_Traffic_short.mp4: 384x640 1 LicensePlate, 141.6ms\n",
      "video 1/1 (frame 1843/2880) c:\\Users\\havva\\OneDrive\\Desktop\\plaka_tanima\\test_data\\Car_Traffic_short.mp4: 384x640 2 LicensePlates, 113.7ms\n",
      "video 1/1 (frame 1844/2880) c:\\Users\\havva\\OneDrive\\Desktop\\plaka_tanima\\test_data\\Car_Traffic_short.mp4: 384x640 2 LicensePlates, 112.7ms\n",
      "video 1/1 (frame 1845/2880) c:\\Users\\havva\\OneDrive\\Desktop\\plaka_tanima\\test_data\\Car_Traffic_short.mp4: 384x640 2 LicensePlates, 109.7ms\n",
      "video 1/1 (frame 1846/2880) c:\\Users\\havva\\OneDrive\\Desktop\\plaka_tanima\\test_data\\Car_Traffic_short.mp4: 384x640 1 LicensePlate, 115.7ms\n",
      "video 1/1 (frame 1847/2880) c:\\Users\\havva\\OneDrive\\Desktop\\plaka_tanima\\test_data\\Car_Traffic_short.mp4: 384x640 1 LicensePlate, 111.7ms\n",
      "video 1/1 (frame 1848/2880) c:\\Users\\havva\\OneDrive\\Desktop\\plaka_tanima\\test_data\\Car_Traffic_short.mp4: 384x640 2 LicensePlates, 107.7ms\n",
      "video 1/1 (frame 1849/2880) c:\\Users\\havva\\OneDrive\\Desktop\\plaka_tanima\\test_data\\Car_Traffic_short.mp4: 384x640 2 LicensePlates, 115.8ms\n",
      "video 1/1 (frame 1850/2880) c:\\Users\\havva\\OneDrive\\Desktop\\plaka_tanima\\test_data\\Car_Traffic_short.mp4: 384x640 3 LicensePlates, 117.7ms\n",
      "video 1/1 (frame 1851/2880) c:\\Users\\havva\\OneDrive\\Desktop\\plaka_tanima\\test_data\\Car_Traffic_short.mp4: 384x640 3 LicensePlates, 131.6ms\n",
      "video 1/1 (frame 1852/2880) c:\\Users\\havva\\OneDrive\\Desktop\\plaka_tanima\\test_data\\Car_Traffic_short.mp4: 384x640 1 LicensePlate, 115.7ms\n",
      "video 1/1 (frame 1853/2880) c:\\Users\\havva\\OneDrive\\Desktop\\plaka_tanima\\test_data\\Car_Traffic_short.mp4: 384x640 2 LicensePlates, 111.5ms\n",
      "video 1/1 (frame 1854/2880) c:\\Users\\havva\\OneDrive\\Desktop\\plaka_tanima\\test_data\\Car_Traffic_short.mp4: 384x640 4 LicensePlates, 109.9ms\n",
      "video 1/1 (frame 1855/2880) c:\\Users\\havva\\OneDrive\\Desktop\\plaka_tanima\\test_data\\Car_Traffic_short.mp4: 384x640 3 LicensePlates, 111.7ms\n",
      "video 1/1 (frame 1856/2880) c:\\Users\\havva\\OneDrive\\Desktop\\plaka_tanima\\test_data\\Car_Traffic_short.mp4: 384x640 3 LicensePlates, 104.7ms\n",
      "video 1/1 (frame 1857/2880) c:\\Users\\havva\\OneDrive\\Desktop\\plaka_tanima\\test_data\\Car_Traffic_short.mp4: 384x640 3 LicensePlates, 113.7ms\n",
      "video 1/1 (frame 1858/2880) c:\\Users\\havva\\OneDrive\\Desktop\\plaka_tanima\\test_data\\Car_Traffic_short.mp4: 384x640 2 LicensePlates, 180.6ms\n",
      "video 1/1 (frame 1859/2880) c:\\Users\\havva\\OneDrive\\Desktop\\plaka_tanima\\test_data\\Car_Traffic_short.mp4: 384x640 4 LicensePlates, 131.6ms\n",
      "video 1/1 (frame 1860/2880) c:\\Users\\havva\\OneDrive\\Desktop\\plaka_tanima\\test_data\\Car_Traffic_short.mp4: 384x640 3 LicensePlates, 115.7ms\n",
      "video 1/1 (frame 1861/2880) c:\\Users\\havva\\OneDrive\\Desktop\\plaka_tanima\\test_data\\Car_Traffic_short.mp4: 384x640 1 LicensePlate, 115.7ms\n",
      "video 1/1 (frame 1862/2880) c:\\Users\\havva\\OneDrive\\Desktop\\plaka_tanima\\test_data\\Car_Traffic_short.mp4: 384x640 2 LicensePlates, 111.5ms\n",
      "video 1/1 (frame 1863/2880) c:\\Users\\havva\\OneDrive\\Desktop\\plaka_tanima\\test_data\\Car_Traffic_short.mp4: 384x640 2 LicensePlates, 109.7ms\n",
      "video 1/1 (frame 1864/2880) c:\\Users\\havva\\OneDrive\\Desktop\\plaka_tanima\\test_data\\Car_Traffic_short.mp4: 384x640 2 LicensePlates, 108.7ms\n",
      "video 1/1 (frame 1865/2880) c:\\Users\\havva\\OneDrive\\Desktop\\plaka_tanima\\test_data\\Car_Traffic_short.mp4: 384x640 3 LicensePlates, 109.7ms\n",
      "video 1/1 (frame 1866/2880) c:\\Users\\havva\\OneDrive\\Desktop\\plaka_tanima\\test_data\\Car_Traffic_short.mp4: 384x640 1 LicensePlate, 127.7ms\n",
      "video 1/1 (frame 1867/2880) c:\\Users\\havva\\OneDrive\\Desktop\\plaka_tanima\\test_data\\Car_Traffic_short.mp4: 384x640 4 LicensePlates, 111.7ms\n",
      "video 1/1 (frame 1868/2880) c:\\Users\\havva\\OneDrive\\Desktop\\plaka_tanima\\test_data\\Car_Traffic_short.mp4: 384x640 4 LicensePlates, 113.7ms\n",
      "video 1/1 (frame 1869/2880) c:\\Users\\havva\\OneDrive\\Desktop\\plaka_tanima\\test_data\\Car_Traffic_short.mp4: 384x640 4 LicensePlates, 111.6ms\n",
      "video 1/1 (frame 1870/2880) c:\\Users\\havva\\OneDrive\\Desktop\\plaka_tanima\\test_data\\Car_Traffic_short.mp4: 384x640 3 LicensePlates, 106.9ms\n",
      "video 1/1 (frame 1871/2880) c:\\Users\\havva\\OneDrive\\Desktop\\plaka_tanima\\test_data\\Car_Traffic_short.mp4: 384x640 4 LicensePlates, 107.6ms\n",
      "video 1/1 (frame 1872/2880) c:\\Users\\havva\\OneDrive\\Desktop\\plaka_tanima\\test_data\\Car_Traffic_short.mp4: 384x640 3 LicensePlates, 109.5ms\n",
      "video 1/1 (frame 1873/2880) c:\\Users\\havva\\OneDrive\\Desktop\\plaka_tanima\\test_data\\Car_Traffic_short.mp4: 384x640 5 LicensePlates, 132.6ms\n",
      "video 1/1 (frame 1874/2880) c:\\Users\\havva\\OneDrive\\Desktop\\plaka_tanima\\test_data\\Car_Traffic_short.mp4: 384x640 3 LicensePlates, 108.7ms\n",
      "video 1/1 (frame 1875/2880) c:\\Users\\havva\\OneDrive\\Desktop\\plaka_tanima\\test_data\\Car_Traffic_short.mp4: 384x640 3 LicensePlates, 108.8ms\n",
      "video 1/1 (frame 1876/2880) c:\\Users\\havva\\OneDrive\\Desktop\\plaka_tanima\\test_data\\Car_Traffic_short.mp4: 384x640 2 LicensePlates, 111.7ms\n",
      "video 1/1 (frame 1877/2880) c:\\Users\\havva\\OneDrive\\Desktop\\plaka_tanima\\test_data\\Car_Traffic_short.mp4: 384x640 3 LicensePlates, 111.7ms\n",
      "video 1/1 (frame 1878/2880) c:\\Users\\havva\\OneDrive\\Desktop\\plaka_tanima\\test_data\\Car_Traffic_short.mp4: 384x640 3 LicensePlates, 108.7ms\n",
      "video 1/1 (frame 1879/2880) c:\\Users\\havva\\OneDrive\\Desktop\\plaka_tanima\\test_data\\Car_Traffic_short.mp4: 384x640 4 LicensePlates, 113.7ms\n",
      "video 1/1 (frame 1880/2880) c:\\Users\\havva\\OneDrive\\Desktop\\plaka_tanima\\test_data\\Car_Traffic_short.mp4: 384x640 4 LicensePlates, 127.7ms\n",
      "video 1/1 (frame 1881/2880) c:\\Users\\havva\\OneDrive\\Desktop\\plaka_tanima\\test_data\\Car_Traffic_short.mp4: 384x640 4 LicensePlates, 114.8ms\n",
      "video 1/1 (frame 1882/2880) c:\\Users\\havva\\OneDrive\\Desktop\\plaka_tanima\\test_data\\Car_Traffic_short.mp4: 384x640 5 LicensePlates, 110.7ms\n",
      "video 1/1 (frame 1883/2880) c:\\Users\\havva\\OneDrive\\Desktop\\plaka_tanima\\test_data\\Car_Traffic_short.mp4: 384x640 5 LicensePlates, 112.7ms\n",
      "video 1/1 (frame 1884/2880) c:\\Users\\havva\\OneDrive\\Desktop\\plaka_tanima\\test_data\\Car_Traffic_short.mp4: 384x640 5 LicensePlates, 108.7ms\n",
      "video 1/1 (frame 1885/2880) c:\\Users\\havva\\OneDrive\\Desktop\\plaka_tanima\\test_data\\Car_Traffic_short.mp4: 384x640 4 LicensePlates, 109.6ms\n",
      "video 1/1 (frame 1886/2880) c:\\Users\\havva\\OneDrive\\Desktop\\plaka_tanima\\test_data\\Car_Traffic_short.mp4: 384x640 3 LicensePlates, 106.7ms\n",
      "video 1/1 (frame 1887/2880) c:\\Users\\havva\\OneDrive\\Desktop\\plaka_tanima\\test_data\\Car_Traffic_short.mp4: 384x640 3 LicensePlates, 130.6ms\n",
      "video 1/1 (frame 1888/2880) c:\\Users\\havva\\OneDrive\\Desktop\\plaka_tanima\\test_data\\Car_Traffic_short.mp4: 384x640 5 LicensePlates, 113.7ms\n",
      "video 1/1 (frame 1889/2880) c:\\Users\\havva\\OneDrive\\Desktop\\plaka_tanima\\test_data\\Car_Traffic_short.mp4: 384x640 6 LicensePlates, 110.0ms\n",
      "video 1/1 (frame 1890/2880) c:\\Users\\havva\\OneDrive\\Desktop\\plaka_tanima\\test_data\\Car_Traffic_short.mp4: 384x640 4 LicensePlates, 108.6ms\n",
      "video 1/1 (frame 1891/2880) c:\\Users\\havva\\OneDrive\\Desktop\\plaka_tanima\\test_data\\Car_Traffic_short.mp4: 384x640 4 LicensePlates, 108.7ms\n",
      "video 1/1 (frame 1892/2880) c:\\Users\\havva\\OneDrive\\Desktop\\plaka_tanima\\test_data\\Car_Traffic_short.mp4: 384x640 2 LicensePlates, 109.7ms\n",
      "video 1/1 (frame 1893/2880) c:\\Users\\havva\\OneDrive\\Desktop\\plaka_tanima\\test_data\\Car_Traffic_short.mp4: 384x640 2 LicensePlates, 103.7ms\n",
      "video 1/1 (frame 1894/2880) c:\\Users\\havva\\OneDrive\\Desktop\\plaka_tanima\\test_data\\Car_Traffic_short.mp4: 384x640 4 LicensePlates, 128.7ms\n",
      "video 1/1 (frame 1895/2880) c:\\Users\\havva\\OneDrive\\Desktop\\plaka_tanima\\test_data\\Car_Traffic_short.mp4: 384x640 4 LicensePlates, 111.7ms\n",
      "video 1/1 (frame 1896/2880) c:\\Users\\havva\\OneDrive\\Desktop\\plaka_tanima\\test_data\\Car_Traffic_short.mp4: 384x640 3 LicensePlates, 110.5ms\n",
      "video 1/1 (frame 1897/2880) c:\\Users\\havva\\OneDrive\\Desktop\\plaka_tanima\\test_data\\Car_Traffic_short.mp4: 384x640 2 LicensePlates, 108.7ms\n",
      "video 1/1 (frame 1898/2880) c:\\Users\\havva\\OneDrive\\Desktop\\plaka_tanima\\test_data\\Car_Traffic_short.mp4: 384x640 3 LicensePlates, 104.7ms\n",
      "video 1/1 (frame 1899/2880) c:\\Users\\havva\\OneDrive\\Desktop\\plaka_tanima\\test_data\\Car_Traffic_short.mp4: 384x640 3 LicensePlates, 113.7ms\n",
      "video 1/1 (frame 1900/2880) c:\\Users\\havva\\OneDrive\\Desktop\\plaka_tanima\\test_data\\Car_Traffic_short.mp4: 384x640 3 LicensePlates, 110.7ms\n",
      "video 1/1 (frame 1901/2880) c:\\Users\\havva\\OneDrive\\Desktop\\plaka_tanima\\test_data\\Car_Traffic_short.mp4: 384x640 4 LicensePlates, 127.7ms\n",
      "video 1/1 (frame 1902/2880) c:\\Users\\havva\\OneDrive\\Desktop\\plaka_tanima\\test_data\\Car_Traffic_short.mp4: 384x640 3 LicensePlates, 112.7ms\n",
      "video 1/1 (frame 1903/2880) c:\\Users\\havva\\OneDrive\\Desktop\\plaka_tanima\\test_data\\Car_Traffic_short.mp4: 384x640 3 LicensePlates, 116.7ms\n",
      "video 1/1 (frame 1904/2880) c:\\Users\\havva\\OneDrive\\Desktop\\plaka_tanima\\test_data\\Car_Traffic_short.mp4: 384x640 4 LicensePlates, 110.7ms\n",
      "video 1/1 (frame 1905/2880) c:\\Users\\havva\\OneDrive\\Desktop\\plaka_tanima\\test_data\\Car_Traffic_short.mp4: 384x640 4 LicensePlates, 115.7ms\n",
      "video 1/1 (frame 1906/2880) c:\\Users\\havva\\OneDrive\\Desktop\\plaka_tanima\\test_data\\Car_Traffic_short.mp4: 384x640 4 LicensePlates, 113.7ms\n",
      "video 1/1 (frame 1907/2880) c:\\Users\\havva\\OneDrive\\Desktop\\plaka_tanima\\test_data\\Car_Traffic_short.mp4: 384x640 3 LicensePlates, 110.7ms\n",
      "video 1/1 (frame 1908/2880) c:\\Users\\havva\\OneDrive\\Desktop\\plaka_tanima\\test_data\\Car_Traffic_short.mp4: 384x640 3 LicensePlates, 125.7ms\n",
      "video 1/1 (frame 1909/2880) c:\\Users\\havva\\OneDrive\\Desktop\\plaka_tanima\\test_data\\Car_Traffic_short.mp4: 384x640 4 LicensePlates, 112.7ms\n",
      "video 1/1 (frame 1910/2880) c:\\Users\\havva\\OneDrive\\Desktop\\plaka_tanima\\test_data\\Car_Traffic_short.mp4: 384x640 5 LicensePlates, 116.7ms\n",
      "video 1/1 (frame 1911/2880) c:\\Users\\havva\\OneDrive\\Desktop\\plaka_tanima\\test_data\\Car_Traffic_short.mp4: 384x640 5 LicensePlates, 112.7ms\n",
      "video 1/1 (frame 1912/2880) c:\\Users\\havva\\OneDrive\\Desktop\\plaka_tanima\\test_data\\Car_Traffic_short.mp4: 384x640 1 LicensePlate, 113.7ms\n",
      "video 1/1 (frame 1913/2880) c:\\Users\\havva\\OneDrive\\Desktop\\plaka_tanima\\test_data\\Car_Traffic_short.mp4: 384x640 3 LicensePlates, 114.6ms\n",
      "video 1/1 (frame 1914/2880) c:\\Users\\havva\\OneDrive\\Desktop\\plaka_tanima\\test_data\\Car_Traffic_short.mp4: 384x640 4 LicensePlates, 107.7ms\n",
      "video 1/1 (frame 1915/2880) c:\\Users\\havva\\OneDrive\\Desktop\\plaka_tanima\\test_data\\Car_Traffic_short.mp4: 384x640 4 LicensePlates, 125.7ms\n",
      "video 1/1 (frame 1916/2880) c:\\Users\\havva\\OneDrive\\Desktop\\plaka_tanima\\test_data\\Car_Traffic_short.mp4: 384x640 3 LicensePlates, 110.7ms\n",
      "video 1/1 (frame 1917/2880) c:\\Users\\havva\\OneDrive\\Desktop\\plaka_tanima\\test_data\\Car_Traffic_short.mp4: 384x640 3 LicensePlates, 111.7ms\n",
      "video 1/1 (frame 1918/2880) c:\\Users\\havva\\OneDrive\\Desktop\\plaka_tanima\\test_data\\Car_Traffic_short.mp4: 384x640 2 LicensePlates, 112.7ms\n",
      "video 1/1 (frame 1919/2880) c:\\Users\\havva\\OneDrive\\Desktop\\plaka_tanima\\test_data\\Car_Traffic_short.mp4: 384x640 3 LicensePlates, 112.7ms\n",
      "video 1/1 (frame 1920/2880) c:\\Users\\havva\\OneDrive\\Desktop\\plaka_tanima\\test_data\\Car_Traffic_short.mp4: 384x640 2 LicensePlates, 114.7ms\n",
      "video 1/1 (frame 1921/2880) c:\\Users\\havva\\OneDrive\\Desktop\\plaka_tanima\\test_data\\Car_Traffic_short.mp4: 384x640 3 LicensePlates, 127.7ms\n",
      "video 1/1 (frame 1922/2880) c:\\Users\\havva\\OneDrive\\Desktop\\plaka_tanima\\test_data\\Car_Traffic_short.mp4: 384x640 (no detections), 141.6ms\n",
      "video 1/1 (frame 1923/2880) c:\\Users\\havva\\OneDrive\\Desktop\\plaka_tanima\\test_data\\Car_Traffic_short.mp4: 384x640 (no detections), 123.7ms\n",
      "video 1/1 (frame 1924/2880) c:\\Users\\havva\\OneDrive\\Desktop\\plaka_tanima\\test_data\\Car_Traffic_short.mp4: 384x640 (no detections), 118.7ms\n",
      "video 1/1 (frame 1925/2880) c:\\Users\\havva\\OneDrive\\Desktop\\plaka_tanima\\test_data\\Car_Traffic_short.mp4: 384x640 (no detections), 118.6ms\n",
      "video 1/1 (frame 1926/2880) c:\\Users\\havva\\OneDrive\\Desktop\\plaka_tanima\\test_data\\Car_Traffic_short.mp4: 384x640 (no detections), 110.1ms\n",
      "video 1/1 (frame 1927/2880) c:\\Users\\havva\\OneDrive\\Desktop\\plaka_tanima\\test_data\\Car_Traffic_short.mp4: 384x640 (no detections), 121.7ms\n",
      "video 1/1 (frame 1928/2880) c:\\Users\\havva\\OneDrive\\Desktop\\plaka_tanima\\test_data\\Car_Traffic_short.mp4: 384x640 1 LicensePlate, 121.7ms\n",
      "video 1/1 (frame 1929/2880) c:\\Users\\havva\\OneDrive\\Desktop\\plaka_tanima\\test_data\\Car_Traffic_short.mp4: 384x640 1 LicensePlate, 136.5ms\n",
      "video 1/1 (frame 1930/2880) c:\\Users\\havva\\OneDrive\\Desktop\\plaka_tanima\\test_data\\Car_Traffic_short.mp4: 384x640 (no detections), 120.7ms\n",
      "video 1/1 (frame 1931/2880) c:\\Users\\havva\\OneDrive\\Desktop\\plaka_tanima\\test_data\\Car_Traffic_short.mp4: 384x640 (no detections), 122.7ms\n",
      "video 1/1 (frame 1932/2880) c:\\Users\\havva\\OneDrive\\Desktop\\plaka_tanima\\test_data\\Car_Traffic_short.mp4: 384x640 (no detections), 140.7ms\n",
      "video 1/1 (frame 1933/2880) c:\\Users\\havva\\OneDrive\\Desktop\\plaka_tanima\\test_data\\Car_Traffic_short.mp4: 384x640 (no detections), 136.5ms\n",
      "video 1/1 (frame 1934/2880) c:\\Users\\havva\\OneDrive\\Desktop\\plaka_tanima\\test_data\\Car_Traffic_short.mp4: 384x640 (no detections), 137.6ms\n",
      "video 1/1 (frame 1935/2880) c:\\Users\\havva\\OneDrive\\Desktop\\plaka_tanima\\test_data\\Car_Traffic_short.mp4: 384x640 (no detections), 129.7ms\n",
      "video 1/1 (frame 1936/2880) c:\\Users\\havva\\OneDrive\\Desktop\\plaka_tanima\\test_data\\Car_Traffic_short.mp4: 384x640 (no detections), 143.6ms\n",
      "video 1/1 (frame 1937/2880) c:\\Users\\havva\\OneDrive\\Desktop\\plaka_tanima\\test_data\\Car_Traffic_short.mp4: 384x640 (no detections), 124.7ms\n",
      "video 1/1 (frame 1938/2880) c:\\Users\\havva\\OneDrive\\Desktop\\plaka_tanima\\test_data\\Car_Traffic_short.mp4: 384x640 (no detections), 123.7ms\n",
      "video 1/1 (frame 1939/2880) c:\\Users\\havva\\OneDrive\\Desktop\\plaka_tanima\\test_data\\Car_Traffic_short.mp4: 384x640 1 LicensePlate, 123.7ms\n",
      "video 1/1 (frame 1940/2880) c:\\Users\\havva\\OneDrive\\Desktop\\plaka_tanima\\test_data\\Car_Traffic_short.mp4: 384x640 1 LicensePlate, 111.8ms\n",
      "video 1/1 (frame 1941/2880) c:\\Users\\havva\\OneDrive\\Desktop\\plaka_tanima\\test_data\\Car_Traffic_short.mp4: 384x640 1 LicensePlate, 112.7ms\n",
      "video 1/1 (frame 1942/2880) c:\\Users\\havva\\OneDrive\\Desktop\\plaka_tanima\\test_data\\Car_Traffic_short.mp4: 384x640 1 LicensePlate, 111.7ms\n",
      "video 1/1 (frame 1943/2880) c:\\Users\\havva\\OneDrive\\Desktop\\plaka_tanima\\test_data\\Car_Traffic_short.mp4: 384x640 1 LicensePlate, 129.4ms\n",
      "video 1/1 (frame 1944/2880) c:\\Users\\havva\\OneDrive\\Desktop\\plaka_tanima\\test_data\\Car_Traffic_short.mp4: 384x640 1 LicensePlate, 118.7ms\n",
      "video 1/1 (frame 1945/2880) c:\\Users\\havva\\OneDrive\\Desktop\\plaka_tanima\\test_data\\Car_Traffic_short.mp4: 384x640 1 LicensePlate, 113.7ms\n",
      "video 1/1 (frame 1946/2880) c:\\Users\\havva\\OneDrive\\Desktop\\plaka_tanima\\test_data\\Car_Traffic_short.mp4: 384x640 1 LicensePlate, 106.7ms\n",
      "video 1/1 (frame 1947/2880) c:\\Users\\havva\\OneDrive\\Desktop\\plaka_tanima\\test_data\\Car_Traffic_short.mp4: 384x640 1 LicensePlate, 109.7ms\n",
      "video 1/1 (frame 1948/2880) c:\\Users\\havva\\OneDrive\\Desktop\\plaka_tanima\\test_data\\Car_Traffic_short.mp4: 384x640 1 LicensePlate, 111.7ms\n",
      "video 1/1 (frame 1949/2880) c:\\Users\\havva\\OneDrive\\Desktop\\plaka_tanima\\test_data\\Car_Traffic_short.mp4: 384x640 1 LicensePlate, 112.7ms\n",
      "video 1/1 (frame 1950/2880) c:\\Users\\havva\\OneDrive\\Desktop\\plaka_tanima\\test_data\\Car_Traffic_short.mp4: 384x640 1 LicensePlate, 130.7ms\n",
      "video 1/1 (frame 1951/2880) c:\\Users\\havva\\OneDrive\\Desktop\\plaka_tanima\\test_data\\Car_Traffic_short.mp4: 384x640 (no detections), 109.7ms\n",
      "video 1/1 (frame 1952/2880) c:\\Users\\havva\\OneDrive\\Desktop\\plaka_tanima\\test_data\\Car_Traffic_short.mp4: 384x640 (no detections), 113.7ms\n",
      "video 1/1 (frame 1953/2880) c:\\Users\\havva\\OneDrive\\Desktop\\plaka_tanima\\test_data\\Car_Traffic_short.mp4: 384x640 1 LicensePlate, 111.4ms\n",
      "video 1/1 (frame 1954/2880) c:\\Users\\havva\\OneDrive\\Desktop\\plaka_tanima\\test_data\\Car_Traffic_short.mp4: 384x640 1 LicensePlate, 114.7ms\n",
      "video 1/1 (frame 1955/2880) c:\\Users\\havva\\OneDrive\\Desktop\\plaka_tanima\\test_data\\Car_Traffic_short.mp4: 384x640 (no detections), 109.7ms\n",
      "video 1/1 (frame 1956/2880) c:\\Users\\havva\\OneDrive\\Desktop\\plaka_tanima\\test_data\\Car_Traffic_short.mp4: 384x640 (no detections), 110.7ms\n",
      "video 1/1 (frame 1957/2880) c:\\Users\\havva\\OneDrive\\Desktop\\plaka_tanima\\test_data\\Car_Traffic_short.mp4: 384x640 1 LicensePlate, 128.7ms\n",
      "video 1/1 (frame 1958/2880) c:\\Users\\havva\\OneDrive\\Desktop\\plaka_tanima\\test_data\\Car_Traffic_short.mp4: 384x640 1 LicensePlate, 131.6ms\n",
      "video 1/1 (frame 1959/2880) c:\\Users\\havva\\OneDrive\\Desktop\\plaka_tanima\\test_data\\Car_Traffic_short.mp4: 384x640 1 LicensePlate, 113.7ms\n",
      "video 1/1 (frame 1960/2880) c:\\Users\\havva\\OneDrive\\Desktop\\plaka_tanima\\test_data\\Car_Traffic_short.mp4: 384x640 1 LicensePlate, 111.7ms\n",
      "video 1/1 (frame 1961/2880) c:\\Users\\havva\\OneDrive\\Desktop\\plaka_tanima\\test_data\\Car_Traffic_short.mp4: 384x640 1 LicensePlate, 111.8ms\n",
      "video 1/1 (frame 1962/2880) c:\\Users\\havva\\OneDrive\\Desktop\\plaka_tanima\\test_data\\Car_Traffic_short.mp4: 384x640 (no detections), 110.7ms\n",
      "video 1/1 (frame 1963/2880) c:\\Users\\havva\\OneDrive\\Desktop\\plaka_tanima\\test_data\\Car_Traffic_short.mp4: 384x640 1 LicensePlate, 109.7ms\n",
      "video 1/1 (frame 1964/2880) c:\\Users\\havva\\OneDrive\\Desktop\\plaka_tanima\\test_data\\Car_Traffic_short.mp4: 384x640 1 LicensePlate, 124.7ms\n",
      "video 1/1 (frame 1965/2880) c:\\Users\\havva\\OneDrive\\Desktop\\plaka_tanima\\test_data\\Car_Traffic_short.mp4: 384x640 1 LicensePlate, 112.7ms\n",
      "video 1/1 (frame 1966/2880) c:\\Users\\havva\\OneDrive\\Desktop\\plaka_tanima\\test_data\\Car_Traffic_short.mp4: 384x640 (no detections), 111.7ms\n",
      "video 1/1 (frame 1967/2880) c:\\Users\\havva\\OneDrive\\Desktop\\plaka_tanima\\test_data\\Car_Traffic_short.mp4: 384x640 (no detections), 112.6ms\n",
      "video 1/1 (frame 1968/2880) c:\\Users\\havva\\OneDrive\\Desktop\\plaka_tanima\\test_data\\Car_Traffic_short.mp4: 384x640 (no detections), 113.7ms\n",
      "video 1/1 (frame 1969/2880) c:\\Users\\havva\\OneDrive\\Desktop\\plaka_tanima\\test_data\\Car_Traffic_short.mp4: 384x640 1 LicensePlate, 117.7ms\n",
      "video 1/1 (frame 1970/2880) c:\\Users\\havva\\OneDrive\\Desktop\\plaka_tanima\\test_data\\Car_Traffic_short.mp4: 384x640 (no detections), 114.7ms\n",
      "video 1/1 (frame 1971/2880) c:\\Users\\havva\\OneDrive\\Desktop\\plaka_tanima\\test_data\\Car_Traffic_short.mp4: 384x640 (no detections), 133.6ms\n",
      "video 1/1 (frame 1972/2880) c:\\Users\\havva\\OneDrive\\Desktop\\plaka_tanima\\test_data\\Car_Traffic_short.mp4: 384x640 (no detections), 181.5ms\n",
      "video 1/1 (frame 1973/2880) c:\\Users\\havva\\OneDrive\\Desktop\\plaka_tanima\\test_data\\Car_Traffic_short.mp4: 384x640 (no detections), 114.7ms\n",
      "video 1/1 (frame 1974/2880) c:\\Users\\havva\\OneDrive\\Desktop\\plaka_tanima\\test_data\\Car_Traffic_short.mp4: 384x640 1 LicensePlate, 117.7ms\n",
      "video 1/1 (frame 1975/2880) c:\\Users\\havva\\OneDrive\\Desktop\\plaka_tanima\\test_data\\Car_Traffic_short.mp4: 384x640 (no detections), 111.7ms\n",
      "video 1/1 (frame 1976/2880) c:\\Users\\havva\\OneDrive\\Desktop\\plaka_tanima\\test_data\\Car_Traffic_short.mp4: 384x640 (no detections), 126.7ms\n",
      "video 1/1 (frame 1977/2880) c:\\Users\\havva\\OneDrive\\Desktop\\plaka_tanima\\test_data\\Car_Traffic_short.mp4: 384x640 (no detections), 115.7ms\n",
      "video 1/1 (frame 1978/2880) c:\\Users\\havva\\OneDrive\\Desktop\\plaka_tanima\\test_data\\Car_Traffic_short.mp4: 384x640 (no detections), 131.6ms\n",
      "video 1/1 (frame 1979/2880) c:\\Users\\havva\\OneDrive\\Desktop\\plaka_tanima\\test_data\\Car_Traffic_short.mp4: 384x640 (no detections), 115.7ms\n",
      "video 1/1 (frame 1980/2880) c:\\Users\\havva\\OneDrive\\Desktop\\plaka_tanima\\test_data\\Car_Traffic_short.mp4: 384x640 (no detections), 112.7ms\n",
      "video 1/1 (frame 1981/2880) c:\\Users\\havva\\OneDrive\\Desktop\\plaka_tanima\\test_data\\Car_Traffic_short.mp4: 384x640 (no detections), 111.7ms\n",
      "video 1/1 (frame 1982/2880) c:\\Users\\havva\\OneDrive\\Desktop\\plaka_tanima\\test_data\\Car_Traffic_short.mp4: 384x640 (no detections), 106.7ms\n",
      "video 1/1 (frame 1983/2880) c:\\Users\\havva\\OneDrive\\Desktop\\plaka_tanima\\test_data\\Car_Traffic_short.mp4: 384x640 (no detections), 109.7ms\n",
      "video 1/1 (frame 1984/2880) c:\\Users\\havva\\OneDrive\\Desktop\\plaka_tanima\\test_data\\Car_Traffic_short.mp4: 384x640 (no detections), 111.7ms\n",
      "video 1/1 (frame 1985/2880) c:\\Users\\havva\\OneDrive\\Desktop\\plaka_tanima\\test_data\\Car_Traffic_short.mp4: 384x640 (no detections), 132.6ms\n",
      "video 1/1 (frame 1986/2880) c:\\Users\\havva\\OneDrive\\Desktop\\plaka_tanima\\test_data\\Car_Traffic_short.mp4: 384x640 (no detections), 115.7ms\n",
      "video 1/1 (frame 1987/2880) c:\\Users\\havva\\OneDrive\\Desktop\\plaka_tanima\\test_data\\Car_Traffic_short.mp4: 384x640 (no detections), 111.7ms\n",
      "video 1/1 (frame 1988/2880) c:\\Users\\havva\\OneDrive\\Desktop\\plaka_tanima\\test_data\\Car_Traffic_short.mp4: 384x640 (no detections), 106.8ms\n",
      "video 1/1 (frame 1989/2880) c:\\Users\\havva\\OneDrive\\Desktop\\plaka_tanima\\test_data\\Car_Traffic_short.mp4: 384x640 (no detections), 111.7ms\n",
      "video 1/1 (frame 1990/2880) c:\\Users\\havva\\OneDrive\\Desktop\\plaka_tanima\\test_data\\Car_Traffic_short.mp4: 384x640 (no detections), 112.7ms\n",
      "video 1/1 (frame 1991/2880) c:\\Users\\havva\\OneDrive\\Desktop\\plaka_tanima\\test_data\\Car_Traffic_short.mp4: 384x640 1 LicensePlate, 114.7ms\n",
      "video 1/1 (frame 1992/2880) c:\\Users\\havva\\OneDrive\\Desktop\\plaka_tanima\\test_data\\Car_Traffic_short.mp4: 384x640 (no detections), 125.7ms\n",
      "video 1/1 (frame 1993/2880) c:\\Users\\havva\\OneDrive\\Desktop\\plaka_tanima\\test_data\\Car_Traffic_short.mp4: 384x640 (no detections), 113.7ms\n",
      "video 1/1 (frame 1994/2880) c:\\Users\\havva\\OneDrive\\Desktop\\plaka_tanima\\test_data\\Car_Traffic_short.mp4: 384x640 1 LicensePlate, 109.7ms\n",
      "video 1/1 (frame 1995/2880) c:\\Users\\havva\\OneDrive\\Desktop\\plaka_tanima\\test_data\\Car_Traffic_short.mp4: 384x640 1 LicensePlate, 112.7ms\n",
      "video 1/1 (frame 1996/2880) c:\\Users\\havva\\OneDrive\\Desktop\\plaka_tanima\\test_data\\Car_Traffic_short.mp4: 384x640 (no detections), 111.7ms\n",
      "video 1/1 (frame 1997/2880) c:\\Users\\havva\\OneDrive\\Desktop\\plaka_tanima\\test_data\\Car_Traffic_short.mp4: 384x640 (no detections), 110.7ms\n",
      "video 1/1 (frame 1998/2880) c:\\Users\\havva\\OneDrive\\Desktop\\plaka_tanima\\test_data\\Car_Traffic_short.mp4: 384x640 (no detections), 102.8ms\n",
      "video 1/1 (frame 1999/2880) c:\\Users\\havva\\OneDrive\\Desktop\\plaka_tanima\\test_data\\Car_Traffic_short.mp4: 384x640 (no detections), 155.6ms\n",
      "video 1/1 (frame 2000/2880) c:\\Users\\havva\\OneDrive\\Desktop\\plaka_tanima\\test_data\\Car_Traffic_short.mp4: 384x640 1 LicensePlate, 111.7ms\n",
      "video 1/1 (frame 2001/2880) c:\\Users\\havva\\OneDrive\\Desktop\\plaka_tanima\\test_data\\Car_Traffic_short.mp4: 384x640 1 LicensePlate, 111.7ms\n",
      "video 1/1 (frame 2002/2880) c:\\Users\\havva\\OneDrive\\Desktop\\plaka_tanima\\test_data\\Car_Traffic_short.mp4: 384x640 (no detections), 113.7ms\n",
      "video 1/1 (frame 2003/2880) c:\\Users\\havva\\OneDrive\\Desktop\\plaka_tanima\\test_data\\Car_Traffic_short.mp4: 384x640 1 LicensePlate, 113.7ms\n",
      "video 1/1 (frame 2004/2880) c:\\Users\\havva\\OneDrive\\Desktop\\plaka_tanima\\test_data\\Car_Traffic_short.mp4: 384x640 1 LicensePlate, 110.7ms\n",
      "video 1/1 (frame 2005/2880) c:\\Users\\havva\\OneDrive\\Desktop\\plaka_tanima\\test_data\\Car_Traffic_short.mp4: 384x640 1 LicensePlate, 117.6ms\n",
      "video 1/1 (frame 2006/2880) c:\\Users\\havva\\OneDrive\\Desktop\\plaka_tanima\\test_data\\Car_Traffic_short.mp4: 384x640 (no detections), 129.7ms\n",
      "video 1/1 (frame 2007/2880) c:\\Users\\havva\\OneDrive\\Desktop\\plaka_tanima\\test_data\\Car_Traffic_short.mp4: 384x640 (no detections), 114.8ms\n",
      "video 1/1 (frame 2008/2880) c:\\Users\\havva\\OneDrive\\Desktop\\plaka_tanima\\test_data\\Car_Traffic_short.mp4: 384x640 1 LicensePlate, 112.7ms\n",
      "video 1/1 (frame 2009/2880) c:\\Users\\havva\\OneDrive\\Desktop\\plaka_tanima\\test_data\\Car_Traffic_short.mp4: 384x640 2 LicensePlates, 109.7ms\n",
      "video 1/1 (frame 2010/2880) c:\\Users\\havva\\OneDrive\\Desktop\\plaka_tanima\\test_data\\Car_Traffic_short.mp4: 384x640 3 LicensePlates, 110.7ms\n",
      "video 1/1 (frame 2011/2880) c:\\Users\\havva\\OneDrive\\Desktop\\plaka_tanima\\test_data\\Car_Traffic_short.mp4: 384x640 1 LicensePlate, 108.7ms\n",
      "video 1/1 (frame 2012/2880) c:\\Users\\havva\\OneDrive\\Desktop\\plaka_tanima\\test_data\\Car_Traffic_short.mp4: 384x640 2 LicensePlates, 117.7ms\n",
      "video 1/1 (frame 2013/2880) c:\\Users\\havva\\OneDrive\\Desktop\\plaka_tanima\\test_data\\Car_Traffic_short.mp4: 384x640 2 LicensePlates, 108.7ms\n",
      "video 1/1 (frame 2014/2880) c:\\Users\\havva\\OneDrive\\Desktop\\plaka_tanima\\test_data\\Car_Traffic_short.mp4: 384x640 2 LicensePlates, 130.6ms\n",
      "video 1/1 (frame 2015/2880) c:\\Users\\havva\\OneDrive\\Desktop\\plaka_tanima\\test_data\\Car_Traffic_short.mp4: 384x640 2 LicensePlates, 107.7ms\n",
      "video 1/1 (frame 2016/2880) c:\\Users\\havva\\OneDrive\\Desktop\\plaka_tanima\\test_data\\Car_Traffic_short.mp4: 384x640 1 LicensePlate, 106.7ms\n",
      "video 1/1 (frame 2017/2880) c:\\Users\\havva\\OneDrive\\Desktop\\plaka_tanima\\test_data\\Car_Traffic_short.mp4: 384x640 1 LicensePlate, 114.7ms\n",
      "video 1/1 (frame 2018/2880) c:\\Users\\havva\\OneDrive\\Desktop\\plaka_tanima\\test_data\\Car_Traffic_short.mp4: 384x640 1 LicensePlate, 108.7ms\n",
      "video 1/1 (frame 2019/2880) c:\\Users\\havva\\OneDrive\\Desktop\\plaka_tanima\\test_data\\Car_Traffic_short.mp4: 384x640 1 LicensePlate, 112.7ms\n",
      "video 1/1 (frame 2020/2880) c:\\Users\\havva\\OneDrive\\Desktop\\plaka_tanima\\test_data\\Car_Traffic_short.mp4: 384x640 1 LicensePlate, 116.7ms\n",
      "video 1/1 (frame 2021/2880) c:\\Users\\havva\\OneDrive\\Desktop\\plaka_tanima\\test_data\\Car_Traffic_short.mp4: 384x640 1 LicensePlate, 124.7ms\n",
      "video 1/1 (frame 2022/2880) c:\\Users\\havva\\OneDrive\\Desktop\\plaka_tanima\\test_data\\Car_Traffic_short.mp4: 384x640 1 LicensePlate, 112.7ms\n",
      "video 1/1 (frame 2023/2880) c:\\Users\\havva\\OneDrive\\Desktop\\plaka_tanima\\test_data\\Car_Traffic_short.mp4: 384x640 1 LicensePlate, 122.1ms\n",
      "video 1/1 (frame 2024/2880) c:\\Users\\havva\\OneDrive\\Desktop\\plaka_tanima\\test_data\\Car_Traffic_short.mp4: 384x640 1 LicensePlate, 112.8ms\n",
      "video 1/1 (frame 2025/2880) c:\\Users\\havva\\OneDrive\\Desktop\\plaka_tanima\\test_data\\Car_Traffic_short.mp4: 384x640 1 LicensePlate, 149.6ms\n",
      "video 1/1 (frame 2026/2880) c:\\Users\\havva\\OneDrive\\Desktop\\plaka_tanima\\test_data\\Car_Traffic_short.mp4: 384x640 1 LicensePlate, 126.3ms\n",
      "video 1/1 (frame 2027/2880) c:\\Users\\havva\\OneDrive\\Desktop\\plaka_tanima\\test_data\\Car_Traffic_short.mp4: 384x640 1 LicensePlate, 117.7ms\n",
      "video 1/1 (frame 2028/2880) c:\\Users\\havva\\OneDrive\\Desktop\\plaka_tanima\\test_data\\Car_Traffic_short.mp4: 384x640 1 LicensePlate, 129.7ms\n",
      "video 1/1 (frame 2029/2880) c:\\Users\\havva\\OneDrive\\Desktop\\plaka_tanima\\test_data\\Car_Traffic_short.mp4: 384x640 1 LicensePlate, 114.7ms\n",
      "video 1/1 (frame 2030/2880) c:\\Users\\havva\\OneDrive\\Desktop\\plaka_tanima\\test_data\\Car_Traffic_short.mp4: 384x640 1 LicensePlate, 112.7ms\n",
      "video 1/1 (frame 2031/2880) c:\\Users\\havva\\OneDrive\\Desktop\\plaka_tanima\\test_data\\Car_Traffic_short.mp4: 384x640 1 LicensePlate, 112.7ms\n",
      "video 1/1 (frame 2032/2880) c:\\Users\\havva\\OneDrive\\Desktop\\plaka_tanima\\test_data\\Car_Traffic_short.mp4: 384x640 1 LicensePlate, 109.0ms\n",
      "video 1/1 (frame 2033/2880) c:\\Users\\havva\\OneDrive\\Desktop\\plaka_tanima\\test_data\\Car_Traffic_short.mp4: 384x640 1 LicensePlate, 111.8ms\n",
      "video 1/1 (frame 2034/2880) c:\\Users\\havva\\OneDrive\\Desktop\\plaka_tanima\\test_data\\Car_Traffic_short.mp4: 384x640 1 LicensePlate, 111.7ms\n",
      "video 1/1 (frame 2035/2880) c:\\Users\\havva\\OneDrive\\Desktop\\plaka_tanima\\test_data\\Car_Traffic_short.mp4: 384x640 1 LicensePlate, 135.2ms\n",
      "video 1/1 (frame 2036/2880) c:\\Users\\havva\\OneDrive\\Desktop\\plaka_tanima\\test_data\\Car_Traffic_short.mp4: 384x640 1 LicensePlate, 133.6ms\n",
      "video 1/1 (frame 2037/2880) c:\\Users\\havva\\OneDrive\\Desktop\\plaka_tanima\\test_data\\Car_Traffic_short.mp4: 384x640 1 LicensePlate, 135.6ms\n",
      "video 1/1 (frame 2038/2880) c:\\Users\\havva\\OneDrive\\Desktop\\plaka_tanima\\test_data\\Car_Traffic_short.mp4: 384x640 1 LicensePlate, 154.6ms\n",
      "video 1/1 (frame 2039/2880) c:\\Users\\havva\\OneDrive\\Desktop\\plaka_tanima\\test_data\\Car_Traffic_short.mp4: 384x640 1 LicensePlate, 113.7ms\n",
      "video 1/1 (frame 2040/2880) c:\\Users\\havva\\OneDrive\\Desktop\\plaka_tanima\\test_data\\Car_Traffic_short.mp4: 384x640 (no detections), 112.7ms\n",
      "video 1/1 (frame 2041/2880) c:\\Users\\havva\\OneDrive\\Desktop\\plaka_tanima\\test_data\\Car_Traffic_short.mp4: 384x640 1 LicensePlate, 112.7ms\n",
      "video 1/1 (frame 2042/2880) c:\\Users\\havva\\OneDrive\\Desktop\\plaka_tanima\\test_data\\Car_Traffic_short.mp4: 384x640 (no detections), 128.6ms\n",
      "video 1/1 (frame 2043/2880) c:\\Users\\havva\\OneDrive\\Desktop\\plaka_tanima\\test_data\\Car_Traffic_short.mp4: 384x640 (no detections), 109.7ms\n",
      "video 1/1 (frame 2044/2880) c:\\Users\\havva\\OneDrive\\Desktop\\plaka_tanima\\test_data\\Car_Traffic_short.mp4: 384x640 1 LicensePlate, 115.7ms\n",
      "video 1/1 (frame 2045/2880) c:\\Users\\havva\\OneDrive\\Desktop\\plaka_tanima\\test_data\\Car_Traffic_short.mp4: 384x640 1 LicensePlate, 114.7ms\n",
      "video 1/1 (frame 2046/2880) c:\\Users\\havva\\OneDrive\\Desktop\\plaka_tanima\\test_data\\Car_Traffic_short.mp4: 384x640 1 LicensePlate, 110.7ms\n",
      "video 1/1 (frame 2047/2880) c:\\Users\\havva\\OneDrive\\Desktop\\plaka_tanima\\test_data\\Car_Traffic_short.mp4: 384x640 1 LicensePlate, 110.7ms\n",
      "video 1/1 (frame 2048/2880) c:\\Users\\havva\\OneDrive\\Desktop\\plaka_tanima\\test_data\\Car_Traffic_short.mp4: 384x640 1 LicensePlate, 111.7ms\n",
      "video 1/1 (frame 2049/2880) c:\\Users\\havva\\OneDrive\\Desktop\\plaka_tanima\\test_data\\Car_Traffic_short.mp4: 384x640 1 LicensePlate, 130.7ms\n",
      "video 1/1 (frame 2050/2880) c:\\Users\\havva\\OneDrive\\Desktop\\plaka_tanima\\test_data\\Car_Traffic_short.mp4: 384x640 1 LicensePlate, 111.7ms\n",
      "video 1/1 (frame 2051/2880) c:\\Users\\havva\\OneDrive\\Desktop\\plaka_tanima\\test_data\\Car_Traffic_short.mp4: 384x640 (no detections), 113.7ms\n",
      "video 1/1 (frame 2052/2880) c:\\Users\\havva\\OneDrive\\Desktop\\plaka_tanima\\test_data\\Car_Traffic_short.mp4: 384x640 1 LicensePlate, 110.7ms\n",
      "video 1/1 (frame 2053/2880) c:\\Users\\havva\\OneDrive\\Desktop\\plaka_tanima\\test_data\\Car_Traffic_short.mp4: 384x640 1 LicensePlate, 109.7ms\n",
      "video 1/1 (frame 2054/2880) c:\\Users\\havva\\OneDrive\\Desktop\\plaka_tanima\\test_data\\Car_Traffic_short.mp4: 384x640 1 LicensePlate, 110.7ms\n",
      "video 1/1 (frame 2055/2880) c:\\Users\\havva\\OneDrive\\Desktop\\plaka_tanima\\test_data\\Car_Traffic_short.mp4: 384x640 1 LicensePlate, 109.6ms\n",
      "video 1/1 (frame 2056/2880) c:\\Users\\havva\\OneDrive\\Desktop\\plaka_tanima\\test_data\\Car_Traffic_short.mp4: 384x640 1 LicensePlate, 133.6ms\n",
      "video 1/1 (frame 2057/2880) c:\\Users\\havva\\OneDrive\\Desktop\\plaka_tanima\\test_data\\Car_Traffic_short.mp4: 384x640 1 LicensePlate, 112.7ms\n",
      "video 1/1 (frame 2058/2880) c:\\Users\\havva\\OneDrive\\Desktop\\plaka_tanima\\test_data\\Car_Traffic_short.mp4: 384x640 (no detections), 110.7ms\n",
      "video 1/1 (frame 2059/2880) c:\\Users\\havva\\OneDrive\\Desktop\\plaka_tanima\\test_data\\Car_Traffic_short.mp4: 384x640 1 LicensePlate, 110.7ms\n",
      "video 1/1 (frame 2060/2880) c:\\Users\\havva\\OneDrive\\Desktop\\plaka_tanima\\test_data\\Car_Traffic_short.mp4: 384x640 (no detections), 110.7ms\n",
      "video 1/1 (frame 2061/2880) c:\\Users\\havva\\OneDrive\\Desktop\\plaka_tanima\\test_data\\Car_Traffic_short.mp4: 384x640 (no detections), 104.7ms\n",
      "video 1/1 (frame 2062/2880) c:\\Users\\havva\\OneDrive\\Desktop\\plaka_tanima\\test_data\\Car_Traffic_short.mp4: 384x640 1 LicensePlate, 109.7ms\n",
      "video 1/1 (frame 2063/2880) c:\\Users\\havva\\OneDrive\\Desktop\\plaka_tanima\\test_data\\Car_Traffic_short.mp4: 384x640 1 LicensePlate, 126.7ms\n",
      "video 1/1 (frame 2064/2880) c:\\Users\\havva\\OneDrive\\Desktop\\plaka_tanima\\test_data\\Car_Traffic_short.mp4: 384x640 (no detections), 117.7ms\n",
      "video 1/1 (frame 2065/2880) c:\\Users\\havva\\OneDrive\\Desktop\\plaka_tanima\\test_data\\Car_Traffic_short.mp4: 384x640 (no detections), 113.7ms\n",
      "video 1/1 (frame 2066/2880) c:\\Users\\havva\\OneDrive\\Desktop\\plaka_tanima\\test_data\\Car_Traffic_short.mp4: 384x640 (no detections), 109.7ms\n",
      "video 1/1 (frame 2067/2880) c:\\Users\\havva\\OneDrive\\Desktop\\plaka_tanima\\test_data\\Car_Traffic_short.mp4: 384x640 (no detections), 108.7ms\n",
      "video 1/1 (frame 2068/2880) c:\\Users\\havva\\OneDrive\\Desktop\\plaka_tanima\\test_data\\Car_Traffic_short.mp4: 384x640 (no detections), 109.7ms\n",
      "video 1/1 (frame 2069/2880) c:\\Users\\havva\\OneDrive\\Desktop\\plaka_tanima\\test_data\\Car_Traffic_short.mp4: 384x640 (no detections), 110.5ms\n",
      "video 1/1 (frame 2070/2880) c:\\Users\\havva\\OneDrive\\Desktop\\plaka_tanima\\test_data\\Car_Traffic_short.mp4: 384x640 (no detections), 128.5ms\n",
      "video 1/1 (frame 2071/2880) c:\\Users\\havva\\OneDrive\\Desktop\\plaka_tanima\\test_data\\Car_Traffic_short.mp4: 384x640 (no detections), 115.7ms\n",
      "video 1/1 (frame 2072/2880) c:\\Users\\havva\\OneDrive\\Desktop\\plaka_tanima\\test_data\\Car_Traffic_short.mp4: 384x640 (no detections), 111.7ms\n",
      "video 1/1 (frame 2073/2880) c:\\Users\\havva\\OneDrive\\Desktop\\plaka_tanima\\test_data\\Car_Traffic_short.mp4: 384x640 (no detections), 118.7ms\n",
      "video 1/1 (frame 2074/2880) c:\\Users\\havva\\OneDrive\\Desktop\\plaka_tanima\\test_data\\Car_Traffic_short.mp4: 384x640 (no detections), 113.7ms\n",
      "video 1/1 (frame 2075/2880) c:\\Users\\havva\\OneDrive\\Desktop\\plaka_tanima\\test_data\\Car_Traffic_short.mp4: 384x640 (no detections), 112.7ms\n",
      "video 1/1 (frame 2076/2880) c:\\Users\\havva\\OneDrive\\Desktop\\plaka_tanima\\test_data\\Car_Traffic_short.mp4: 384x640 (no detections), 111.7ms\n",
      "video 1/1 (frame 2077/2880) c:\\Users\\havva\\OneDrive\\Desktop\\plaka_tanima\\test_data\\Car_Traffic_short.mp4: 384x640 (no detections), 133.7ms\n",
      "video 1/1 (frame 2078/2880) c:\\Users\\havva\\OneDrive\\Desktop\\plaka_tanima\\test_data\\Car_Traffic_short.mp4: 384x640 (no detections), 119.7ms\n",
      "video 1/1 (frame 2079/2880) c:\\Users\\havva\\OneDrive\\Desktop\\plaka_tanima\\test_data\\Car_Traffic_short.mp4: 384x640 (no detections), 178.5ms\n",
      "video 1/1 (frame 2080/2880) c:\\Users\\havva\\OneDrive\\Desktop\\plaka_tanima\\test_data\\Car_Traffic_short.mp4: 384x640 (no detections), 117.7ms\n",
      "video 1/1 (frame 2081/2880) c:\\Users\\havva\\OneDrive\\Desktop\\plaka_tanima\\test_data\\Car_Traffic_short.mp4: 384x640 (no detections), 112.7ms\n",
      "video 1/1 (frame 2082/2880) c:\\Users\\havva\\OneDrive\\Desktop\\plaka_tanima\\test_data\\Car_Traffic_short.mp4: 384x640 (no detections), 110.7ms\n",
      "video 1/1 (frame 2083/2880) c:\\Users\\havva\\OneDrive\\Desktop\\plaka_tanima\\test_data\\Car_Traffic_short.mp4: 384x640 (no detections), 121.7ms\n",
      "video 1/1 (frame 2084/2880) c:\\Users\\havva\\OneDrive\\Desktop\\plaka_tanima\\test_data\\Car_Traffic_short.mp4: 384x640 (no detections), 129.7ms\n",
      "video 1/1 (frame 2085/2880) c:\\Users\\havva\\OneDrive\\Desktop\\plaka_tanima\\test_data\\Car_Traffic_short.mp4: 384x640 (no detections), 115.7ms\n",
      "video 1/1 (frame 2086/2880) c:\\Users\\havva\\OneDrive\\Desktop\\plaka_tanima\\test_data\\Car_Traffic_short.mp4: 384x640 (no detections), 126.3ms\n",
      "video 1/1 (frame 2087/2880) c:\\Users\\havva\\OneDrive\\Desktop\\plaka_tanima\\test_data\\Car_Traffic_short.mp4: 384x640 (no detections), 116.7ms\n",
      "video 1/1 (frame 2088/2880) c:\\Users\\havva\\OneDrive\\Desktop\\plaka_tanima\\test_data\\Car_Traffic_short.mp4: 384x640 (no detections), 112.7ms\n",
      "video 1/1 (frame 2089/2880) c:\\Users\\havva\\OneDrive\\Desktop\\plaka_tanima\\test_data\\Car_Traffic_short.mp4: 384x640 (no detections), 117.7ms\n",
      "video 1/1 (frame 2090/2880) c:\\Users\\havva\\OneDrive\\Desktop\\plaka_tanima\\test_data\\Car_Traffic_short.mp4: 384x640 (no detections), 145.7ms\n",
      "video 1/1 (frame 2091/2880) c:\\Users\\havva\\OneDrive\\Desktop\\plaka_tanima\\test_data\\Car_Traffic_short.mp4: 384x640 (no detections), 131.7ms\n",
      "video 1/1 (frame 2092/2880) c:\\Users\\havva\\OneDrive\\Desktop\\plaka_tanima\\test_data\\Car_Traffic_short.mp4: 384x640 1 LicensePlate, 123.7ms\n",
      "video 1/1 (frame 2093/2880) c:\\Users\\havva\\OneDrive\\Desktop\\plaka_tanima\\test_data\\Car_Traffic_short.mp4: 384x640 (no detections), 113.7ms\n",
      "video 1/1 (frame 2094/2880) c:\\Users\\havva\\OneDrive\\Desktop\\plaka_tanima\\test_data\\Car_Traffic_short.mp4: 384x640 (no detections), 108.7ms\n",
      "video 1/1 (frame 2095/2880) c:\\Users\\havva\\OneDrive\\Desktop\\plaka_tanima\\test_data\\Car_Traffic_short.mp4: 384x640 (no detections), 116.7ms\n",
      "video 1/1 (frame 2096/2880) c:\\Users\\havva\\OneDrive\\Desktop\\plaka_tanima\\test_data\\Car_Traffic_short.mp4: 384x640 1 LicensePlate, 125.7ms\n",
      "video 1/1 (frame 2097/2880) c:\\Users\\havva\\OneDrive\\Desktop\\plaka_tanima\\test_data\\Car_Traffic_short.mp4: 384x640 1 LicensePlate, 110.6ms\n",
      "video 1/1 (frame 2098/2880) c:\\Users\\havva\\OneDrive\\Desktop\\plaka_tanima\\test_data\\Car_Traffic_short.mp4: 384x640 1 LicensePlate, 106.0ms\n",
      "video 1/1 (frame 2099/2880) c:\\Users\\havva\\OneDrive\\Desktop\\plaka_tanima\\test_data\\Car_Traffic_short.mp4: 384x640 (no detections), 106.7ms\n",
      "video 1/1 (frame 2100/2880) c:\\Users\\havva\\OneDrive\\Desktop\\plaka_tanima\\test_data\\Car_Traffic_short.mp4: 384x640 1 LicensePlate, 106.8ms\n",
      "video 1/1 (frame 2101/2880) c:\\Users\\havva\\OneDrive\\Desktop\\plaka_tanima\\test_data\\Car_Traffic_short.mp4: 384x640 1 LicensePlate, 115.8ms\n",
      "video 1/1 (frame 2102/2880) c:\\Users\\havva\\OneDrive\\Desktop\\plaka_tanima\\test_data\\Car_Traffic_short.mp4: 384x640 1 LicensePlate, 128.6ms\n",
      "video 1/1 (frame 2103/2880) c:\\Users\\havva\\OneDrive\\Desktop\\plaka_tanima\\test_data\\Car_Traffic_short.mp4: 384x640 1 LicensePlate, 108.7ms\n",
      "video 1/1 (frame 2104/2880) c:\\Users\\havva\\OneDrive\\Desktop\\plaka_tanima\\test_data\\Car_Traffic_short.mp4: 384x640 1 LicensePlate, 109.6ms\n",
      "video 1/1 (frame 2105/2880) c:\\Users\\havva\\OneDrive\\Desktop\\plaka_tanima\\test_data\\Car_Traffic_short.mp4: 384x640 1 LicensePlate, 143.6ms\n",
      "video 1/1 (frame 2106/2880) c:\\Users\\havva\\OneDrive\\Desktop\\plaka_tanima\\test_data\\Car_Traffic_short.mp4: 384x640 1 LicensePlate, 113.6ms\n",
      "video 1/1 (frame 2107/2880) c:\\Users\\havva\\OneDrive\\Desktop\\plaka_tanima\\test_data\\Car_Traffic_short.mp4: 384x640 1 LicensePlate, 118.7ms\n",
      "video 1/1 (frame 2108/2880) c:\\Users\\havva\\OneDrive\\Desktop\\plaka_tanima\\test_data\\Car_Traffic_short.mp4: 384x640 1 LicensePlate, 135.6ms\n",
      "video 1/1 (frame 2109/2880) c:\\Users\\havva\\OneDrive\\Desktop\\plaka_tanima\\test_data\\Car_Traffic_short.mp4: 384x640 1 LicensePlate, 110.7ms\n",
      "video 1/1 (frame 2110/2880) c:\\Users\\havva\\OneDrive\\Desktop\\plaka_tanima\\test_data\\Car_Traffic_short.mp4: 384x640 1 LicensePlate, 111.7ms\n",
      "video 1/1 (frame 2111/2880) c:\\Users\\havva\\OneDrive\\Desktop\\plaka_tanima\\test_data\\Car_Traffic_short.mp4: 384x640 1 LicensePlate, 112.7ms\n",
      "video 1/1 (frame 2112/2880) c:\\Users\\havva\\OneDrive\\Desktop\\plaka_tanima\\test_data\\Car_Traffic_short.mp4: 384x640 1 LicensePlate, 111.7ms\n",
      "video 1/1 (frame 2113/2880) c:\\Users\\havva\\OneDrive\\Desktop\\plaka_tanima\\test_data\\Car_Traffic_short.mp4: 384x640 1 LicensePlate, 108.7ms\n",
      "video 1/1 (frame 2114/2880) c:\\Users\\havva\\OneDrive\\Desktop\\plaka_tanima\\test_data\\Car_Traffic_short.mp4: 384x640 1 LicensePlate, 122.7ms\n",
      "video 1/1 (frame 2115/2880) c:\\Users\\havva\\OneDrive\\Desktop\\plaka_tanima\\test_data\\Car_Traffic_short.mp4: 384x640 1 LicensePlate, 112.7ms\n",
      "video 1/1 (frame 2116/2880) c:\\Users\\havva\\OneDrive\\Desktop\\plaka_tanima\\test_data\\Car_Traffic_short.mp4: 384x640 1 LicensePlate, 106.8ms\n",
      "video 1/1 (frame 2117/2880) c:\\Users\\havva\\OneDrive\\Desktop\\plaka_tanima\\test_data\\Car_Traffic_short.mp4: 384x640 1 LicensePlate, 112.7ms\n",
      "video 1/1 (frame 2118/2880) c:\\Users\\havva\\OneDrive\\Desktop\\plaka_tanima\\test_data\\Car_Traffic_short.mp4: 384x640 1 LicensePlate, 110.8ms\n",
      "video 1/1 (frame 2119/2880) c:\\Users\\havva\\OneDrive\\Desktop\\plaka_tanima\\test_data\\Car_Traffic_short.mp4: 384x640 1 LicensePlate, 112.7ms\n",
      "video 1/1 (frame 2120/2880) c:\\Users\\havva\\OneDrive\\Desktop\\plaka_tanima\\test_data\\Car_Traffic_short.mp4: 384x640 1 LicensePlate, 105.7ms\n",
      "video 1/1 (frame 2121/2880) c:\\Users\\havva\\OneDrive\\Desktop\\plaka_tanima\\test_data\\Car_Traffic_short.mp4: 384x640 1 LicensePlate, 111.7ms\n",
      "video 1/1 (frame 2122/2880) c:\\Users\\havva\\OneDrive\\Desktop\\plaka_tanima\\test_data\\Car_Traffic_short.mp4: 384x640 1 LicensePlate, 111.7ms\n",
      "video 1/1 (frame 2123/2880) c:\\Users\\havva\\OneDrive\\Desktop\\plaka_tanima\\test_data\\Car_Traffic_short.mp4: 384x640 1 LicensePlate, 110.7ms\n",
      "video 1/1 (frame 2124/2880) c:\\Users\\havva\\OneDrive\\Desktop\\plaka_tanima\\test_data\\Car_Traffic_short.mp4: 384x640 1 LicensePlate, 107.7ms\n",
      "video 1/1 (frame 2125/2880) c:\\Users\\havva\\OneDrive\\Desktop\\plaka_tanima\\test_data\\Car_Traffic_short.mp4: 384x640 1 LicensePlate, 108.7ms\n",
      "video 1/1 (frame 2126/2880) c:\\Users\\havva\\OneDrive\\Desktop\\plaka_tanima\\test_data\\Car_Traffic_short.mp4: 384x640 1 LicensePlate, 129.7ms\n",
      "video 1/1 (frame 2127/2880) c:\\Users\\havva\\OneDrive\\Desktop\\plaka_tanima\\test_data\\Car_Traffic_short.mp4: 384x640 1 LicensePlate, 111.7ms\n",
      "video 1/1 (frame 2128/2880) c:\\Users\\havva\\OneDrive\\Desktop\\plaka_tanima\\test_data\\Car_Traffic_short.mp4: 384x640 1 LicensePlate, 112.7ms\n",
      "video 1/1 (frame 2129/2880) c:\\Users\\havva\\OneDrive\\Desktop\\plaka_tanima\\test_data\\Car_Traffic_short.mp4: 384x640 1 LicensePlate, 108.7ms\n",
      "video 1/1 (frame 2130/2880) c:\\Users\\havva\\OneDrive\\Desktop\\plaka_tanima\\test_data\\Car_Traffic_short.mp4: 384x640 1 LicensePlate, 106.7ms\n",
      "video 1/1 (frame 2131/2880) c:\\Users\\havva\\OneDrive\\Desktop\\plaka_tanima\\test_data\\Car_Traffic_short.mp4: 384x640 (no detections), 110.7ms\n",
      "video 1/1 (frame 2132/2880) c:\\Users\\havva\\OneDrive\\Desktop\\plaka_tanima\\test_data\\Car_Traffic_short.mp4: 384x640 1 LicensePlate, 106.7ms\n",
      "video 1/1 (frame 2133/2880) c:\\Users\\havva\\OneDrive\\Desktop\\plaka_tanima\\test_data\\Car_Traffic_short.mp4: 384x640 1 LicensePlate, 108.7ms\n",
      "video 1/1 (frame 2134/2880) c:\\Users\\havva\\OneDrive\\Desktop\\plaka_tanima\\test_data\\Car_Traffic_short.mp4: 384x640 (no detections), 108.7ms\n",
      "video 1/1 (frame 2135/2880) c:\\Users\\havva\\OneDrive\\Desktop\\plaka_tanima\\test_data\\Car_Traffic_short.mp4: 384x640 1 LicensePlate, 111.7ms\n",
      "video 1/1 (frame 2136/2880) c:\\Users\\havva\\OneDrive\\Desktop\\plaka_tanima\\test_data\\Car_Traffic_short.mp4: 384x640 1 LicensePlate, 110.7ms\n",
      "video 1/1 (frame 2137/2880) c:\\Users\\havva\\OneDrive\\Desktop\\plaka_tanima\\test_data\\Car_Traffic_short.mp4: 384x640 1 LicensePlate, 110.7ms\n",
      "video 1/1 (frame 2138/2880) c:\\Users\\havva\\OneDrive\\Desktop\\plaka_tanima\\test_data\\Car_Traffic_short.mp4: 384x640 1 LicensePlate, 129.8ms\n",
      "video 1/1 (frame 2139/2880) c:\\Users\\havva\\OneDrive\\Desktop\\plaka_tanima\\test_data\\Car_Traffic_short.mp4: 384x640 1 LicensePlate, 115.7ms\n",
      "video 1/1 (frame 2140/2880) c:\\Users\\havva\\OneDrive\\Desktop\\plaka_tanima\\test_data\\Car_Traffic_short.mp4: 384x640 1 LicensePlate, 103.7ms\n",
      "video 1/1 (frame 2141/2880) c:\\Users\\havva\\OneDrive\\Desktop\\plaka_tanima\\test_data\\Car_Traffic_short.mp4: 384x640 2 LicensePlates, 109.7ms\n",
      "video 1/1 (frame 2142/2880) c:\\Users\\havva\\OneDrive\\Desktop\\plaka_tanima\\test_data\\Car_Traffic_short.mp4: 384x640 (no detections), 112.7ms\n",
      "video 1/1 (frame 2143/2880) c:\\Users\\havva\\OneDrive\\Desktop\\plaka_tanima\\test_data\\Car_Traffic_short.mp4: 384x640 1 LicensePlate, 107.7ms\n",
      "video 1/1 (frame 2144/2880) c:\\Users\\havva\\OneDrive\\Desktop\\plaka_tanima\\test_data\\Car_Traffic_short.mp4: 384x640 2 LicensePlates, 105.7ms\n",
      "video 1/1 (frame 2145/2880) c:\\Users\\havva\\OneDrive\\Desktop\\plaka_tanima\\test_data\\Car_Traffic_short.mp4: 384x640 2 LicensePlates, 107.7ms\n",
      "video 1/1 (frame 2146/2880) c:\\Users\\havva\\OneDrive\\Desktop\\plaka_tanima\\test_data\\Car_Traffic_short.mp4: 384x640 1 LicensePlate, 110.7ms\n",
      "video 1/1 (frame 2147/2880) c:\\Users\\havva\\OneDrive\\Desktop\\plaka_tanima\\test_data\\Car_Traffic_short.mp4: 384x640 1 LicensePlate, 112.7ms\n",
      "video 1/1 (frame 2148/2880) c:\\Users\\havva\\OneDrive\\Desktop\\plaka_tanima\\test_data\\Car_Traffic_short.mp4: 384x640 1 LicensePlate, 114.6ms\n",
      "video 1/1 (frame 2149/2880) c:\\Users\\havva\\OneDrive\\Desktop\\plaka_tanima\\test_data\\Car_Traffic_short.mp4: 384x640 1 LicensePlate, 113.7ms\n",
      "video 1/1 (frame 2150/2880) c:\\Users\\havva\\OneDrive\\Desktop\\plaka_tanima\\test_data\\Car_Traffic_short.mp4: 384x640 (no detections), 124.7ms\n",
      "video 1/1 (frame 2151/2880) c:\\Users\\havva\\OneDrive\\Desktop\\plaka_tanima\\test_data\\Car_Traffic_short.mp4: 384x640 (no detections), 113.7ms\n",
      "video 1/1 (frame 2152/2880) c:\\Users\\havva\\OneDrive\\Desktop\\plaka_tanima\\test_data\\Car_Traffic_short.mp4: 384x640 1 LicensePlate, 110.7ms\n",
      "video 1/1 (frame 2153/2880) c:\\Users\\havva\\OneDrive\\Desktop\\plaka_tanima\\test_data\\Car_Traffic_short.mp4: 384x640 2 LicensePlates, 115.7ms\n",
      "video 1/1 (frame 2154/2880) c:\\Users\\havva\\OneDrive\\Desktop\\plaka_tanima\\test_data\\Car_Traffic_short.mp4: 384x640 2 LicensePlates, 113.7ms\n",
      "video 1/1 (frame 2155/2880) c:\\Users\\havva\\OneDrive\\Desktop\\plaka_tanima\\test_data\\Car_Traffic_short.mp4: 384x640 1 LicensePlate, 110.6ms\n",
      "video 1/1 (frame 2156/2880) c:\\Users\\havva\\OneDrive\\Desktop\\plaka_tanima\\test_data\\Car_Traffic_short.mp4: 384x640 1 LicensePlate, 127.7ms\n",
      "video 1/1 (frame 2157/2880) c:\\Users\\havva\\OneDrive\\Desktop\\plaka_tanima\\test_data\\Car_Traffic_short.mp4: 384x640 1 LicensePlate, 113.7ms\n",
      "video 1/1 (frame 2158/2880) c:\\Users\\havva\\OneDrive\\Desktop\\plaka_tanima\\test_data\\Car_Traffic_short.mp4: 384x640 2 LicensePlates, 113.7ms\n",
      "video 1/1 (frame 2159/2880) c:\\Users\\havva\\OneDrive\\Desktop\\plaka_tanima\\test_data\\Car_Traffic_short.mp4: 384x640 1 LicensePlate, 108.7ms\n",
      "video 1/1 (frame 2160/2880) c:\\Users\\havva\\OneDrive\\Desktop\\plaka_tanima\\test_data\\Car_Traffic_short.mp4: 384x640 1 LicensePlate, 110.4ms\n",
      "video 1/1 (frame 2161/2880) c:\\Users\\havva\\OneDrive\\Desktop\\plaka_tanima\\test_data\\Car_Traffic_short.mp4: 384x640 2 LicensePlates, 111.9ms\n",
      "video 1/1 (frame 2162/2880) c:\\Users\\havva\\OneDrive\\Desktop\\plaka_tanima\\test_data\\Car_Traffic_short.mp4: 384x640 2 LicensePlates, 105.7ms\n",
      "video 1/1 (frame 2163/2880) c:\\Users\\havva\\OneDrive\\Desktop\\plaka_tanima\\test_data\\Car_Traffic_short.mp4: 384x640 2 LicensePlates, 114.8ms\n",
      "video 1/1 (frame 2164/2880) c:\\Users\\havva\\OneDrive\\Desktop\\plaka_tanima\\test_data\\Car_Traffic_short.mp4: 384x640 2 LicensePlates, 115.7ms\n",
      "video 1/1 (frame 2165/2880) c:\\Users\\havva\\OneDrive\\Desktop\\plaka_tanima\\test_data\\Car_Traffic_short.mp4: 384x640 2 LicensePlates, 108.7ms\n",
      "video 1/1 (frame 2166/2880) c:\\Users\\havva\\OneDrive\\Desktop\\plaka_tanima\\test_data\\Car_Traffic_short.mp4: 384x640 3 LicensePlates, 109.7ms\n",
      "video 1/1 (frame 2167/2880) c:\\Users\\havva\\OneDrive\\Desktop\\plaka_tanima\\test_data\\Car_Traffic_short.mp4: 384x640 2 LicensePlates, 105.4ms\n",
      "video 1/1 (frame 2168/2880) c:\\Users\\havva\\OneDrive\\Desktop\\plaka_tanima\\test_data\\Car_Traffic_short.mp4: 384x640 3 LicensePlates, 124.1ms\n",
      "video 1/1 (frame 2169/2880) c:\\Users\\havva\\OneDrive\\Desktop\\plaka_tanima\\test_data\\Car_Traffic_short.mp4: 384x640 3 LicensePlates, 112.7ms\n",
      "video 1/1 (frame 2170/2880) c:\\Users\\havva\\OneDrive\\Desktop\\plaka_tanima\\test_data\\Car_Traffic_short.mp4: 384x640 2 LicensePlates, 120.7ms\n",
      "video 1/1 (frame 2171/2880) c:\\Users\\havva\\OneDrive\\Desktop\\plaka_tanima\\test_data\\Car_Traffic_short.mp4: 384x640 2 LicensePlates, 108.8ms\n",
      "video 1/1 (frame 2172/2880) c:\\Users\\havva\\OneDrive\\Desktop\\plaka_tanima\\test_data\\Car_Traffic_short.mp4: 384x640 3 LicensePlates, 109.7ms\n",
      "video 1/1 (frame 2173/2880) c:\\Users\\havva\\OneDrive\\Desktop\\plaka_tanima\\test_data\\Car_Traffic_short.mp4: 384x640 2 LicensePlates, 101.7ms\n",
      "video 1/1 (frame 2174/2880) c:\\Users\\havva\\OneDrive\\Desktop\\plaka_tanima\\test_data\\Car_Traffic_short.mp4: 384x640 2 LicensePlates, 125.7ms\n",
      "video 1/1 (frame 2175/2880) c:\\Users\\havva\\OneDrive\\Desktop\\plaka_tanima\\test_data\\Car_Traffic_short.mp4: 384x640 2 LicensePlates, 113.7ms\n",
      "video 1/1 (frame 2176/2880) c:\\Users\\havva\\OneDrive\\Desktop\\plaka_tanima\\test_data\\Car_Traffic_short.mp4: 384x640 3 LicensePlates, 111.7ms\n",
      "video 1/1 (frame 2177/2880) c:\\Users\\havva\\OneDrive\\Desktop\\plaka_tanima\\test_data\\Car_Traffic_short.mp4: 384x640 3 LicensePlates, 112.8ms\n",
      "video 1/1 (frame 2178/2880) c:\\Users\\havva\\OneDrive\\Desktop\\plaka_tanima\\test_data\\Car_Traffic_short.mp4: 384x640 3 LicensePlates, 111.7ms\n",
      "video 1/1 (frame 2179/2880) c:\\Users\\havva\\OneDrive\\Desktop\\plaka_tanima\\test_data\\Car_Traffic_short.mp4: 384x640 2 LicensePlates, 106.7ms\n",
      "video 1/1 (frame 2180/2880) c:\\Users\\havva\\OneDrive\\Desktop\\plaka_tanima\\test_data\\Car_Traffic_short.mp4: 384x640 2 LicensePlates, 128.7ms\n",
      "video 1/1 (frame 2181/2880) c:\\Users\\havva\\OneDrive\\Desktop\\plaka_tanima\\test_data\\Car_Traffic_short.mp4: 384x640 2 LicensePlates, 109.7ms\n",
      "video 1/1 (frame 2182/2880) c:\\Users\\havva\\OneDrive\\Desktop\\plaka_tanima\\test_data\\Car_Traffic_short.mp4: 384x640 3 LicensePlates, 116.7ms\n",
      "video 1/1 (frame 2183/2880) c:\\Users\\havva\\OneDrive\\Desktop\\plaka_tanima\\test_data\\Car_Traffic_short.mp4: 384x640 3 LicensePlates, 170.5ms\n",
      "video 1/1 (frame 2184/2880) c:\\Users\\havva\\OneDrive\\Desktop\\plaka_tanima\\test_data\\Car_Traffic_short.mp4: 384x640 1 LicensePlate, 113.7ms\n",
      "video 1/1 (frame 2185/2880) c:\\Users\\havva\\OneDrive\\Desktop\\plaka_tanima\\test_data\\Car_Traffic_short.mp4: 384x640 2 LicensePlates, 116.7ms\n",
      "video 1/1 (frame 2186/2880) c:\\Users\\havva\\OneDrive\\Desktop\\plaka_tanima\\test_data\\Car_Traffic_short.mp4: 384x640 (no detections), 125.7ms\n",
      "video 1/1 (frame 2187/2880) c:\\Users\\havva\\OneDrive\\Desktop\\plaka_tanima\\test_data\\Car_Traffic_short.mp4: 384x640 (no detections), 117.7ms\n",
      "video 1/1 (frame 2188/2880) c:\\Users\\havva\\OneDrive\\Desktop\\plaka_tanima\\test_data\\Car_Traffic_short.mp4: 384x640 1 LicensePlate, 114.7ms\n",
      "video 1/1 (frame 2189/2880) c:\\Users\\havva\\OneDrive\\Desktop\\plaka_tanima\\test_data\\Car_Traffic_short.mp4: 384x640 1 LicensePlate, 126.6ms\n",
      "video 1/1 (frame 2190/2880) c:\\Users\\havva\\OneDrive\\Desktop\\plaka_tanima\\test_data\\Car_Traffic_short.mp4: 384x640 2 LicensePlates, 111.7ms\n",
      "video 1/1 (frame 2191/2880) c:\\Users\\havva\\OneDrive\\Desktop\\plaka_tanima\\test_data\\Car_Traffic_short.mp4: 384x640 2 LicensePlates, 115.7ms\n",
      "video 1/1 (frame 2192/2880) c:\\Users\\havva\\OneDrive\\Desktop\\plaka_tanima\\test_data\\Car_Traffic_short.mp4: 384x640 1 LicensePlate, 127.7ms\n",
      "video 1/1 (frame 2193/2880) c:\\Users\\havva\\OneDrive\\Desktop\\plaka_tanima\\test_data\\Car_Traffic_short.mp4: 384x640 1 LicensePlate, 109.7ms\n",
      "video 1/1 (frame 2194/2880) c:\\Users\\havva\\OneDrive\\Desktop\\plaka_tanima\\test_data\\Car_Traffic_short.mp4: 384x640 1 LicensePlate, 106.7ms\n",
      "video 1/1 (frame 2195/2880) c:\\Users\\havva\\OneDrive\\Desktop\\plaka_tanima\\test_data\\Car_Traffic_short.mp4: 384x640 2 LicensePlates, 108.7ms\n",
      "video 1/1 (frame 2196/2880) c:\\Users\\havva\\OneDrive\\Desktop\\plaka_tanima\\test_data\\Car_Traffic_short.mp4: 384x640 1 LicensePlate, 110.7ms\n",
      "video 1/1 (frame 2197/2880) c:\\Users\\havva\\OneDrive\\Desktop\\plaka_tanima\\test_data\\Car_Traffic_short.mp4: 384x640 (no detections), 108.7ms\n",
      "video 1/1 (frame 2198/2880) c:\\Users\\havva\\OneDrive\\Desktop\\plaka_tanima\\test_data\\Car_Traffic_short.mp4: 384x640 (no detections), 109.5ms\n",
      "video 1/1 (frame 2199/2880) c:\\Users\\havva\\OneDrive\\Desktop\\plaka_tanima\\test_data\\Car_Traffic_short.mp4: 384x640 (no detections), 111.7ms\n",
      "video 1/1 (frame 2200/2880) c:\\Users\\havva\\OneDrive\\Desktop\\plaka_tanima\\test_data\\Car_Traffic_short.mp4: 384x640 (no detections), 113.7ms\n",
      "video 1/1 (frame 2201/2880) c:\\Users\\havva\\OneDrive\\Desktop\\plaka_tanima\\test_data\\Car_Traffic_short.mp4: 384x640 1 LicensePlate, 107.7ms\n",
      "video 1/1 (frame 2202/2880) c:\\Users\\havva\\OneDrive\\Desktop\\plaka_tanima\\test_data\\Car_Traffic_short.mp4: 384x640 (no detections), 110.7ms\n",
      "video 1/1 (frame 2203/2880) c:\\Users\\havva\\OneDrive\\Desktop\\plaka_tanima\\test_data\\Car_Traffic_short.mp4: 384x640 1 LicensePlate, 111.7ms\n",
      "video 1/1 (frame 2204/2880) c:\\Users\\havva\\OneDrive\\Desktop\\plaka_tanima\\test_data\\Car_Traffic_short.mp4: 384x640 1 LicensePlate, 130.7ms\n",
      "video 1/1 (frame 2205/2880) c:\\Users\\havva\\OneDrive\\Desktop\\plaka_tanima\\test_data\\Car_Traffic_short.mp4: 384x640 1 LicensePlate, 115.7ms\n",
      "video 1/1 (frame 2206/2880) c:\\Users\\havva\\OneDrive\\Desktop\\plaka_tanima\\test_data\\Car_Traffic_short.mp4: 384x640 1 LicensePlate, 110.7ms\n",
      "video 1/1 (frame 2207/2880) c:\\Users\\havva\\OneDrive\\Desktop\\plaka_tanima\\test_data\\Car_Traffic_short.mp4: 384x640 (no detections), 113.7ms\n",
      "video 1/1 (frame 2208/2880) c:\\Users\\havva\\OneDrive\\Desktop\\plaka_tanima\\test_data\\Car_Traffic_short.mp4: 384x640 1 LicensePlate, 109.7ms\n",
      "video 1/1 (frame 2209/2880) c:\\Users\\havva\\OneDrive\\Desktop\\plaka_tanima\\test_data\\Car_Traffic_short.mp4: 384x640 (no detections), 108.7ms\n",
      "video 1/1 (frame 2210/2880) c:\\Users\\havva\\OneDrive\\Desktop\\plaka_tanima\\test_data\\Car_Traffic_short.mp4: 384x640 (no detections), 126.8ms\n",
      "video 1/1 (frame 2211/2880) c:\\Users\\havva\\OneDrive\\Desktop\\plaka_tanima\\test_data\\Car_Traffic_short.mp4: 384x640 (no detections), 111.7ms\n",
      "video 1/1 (frame 2212/2880) c:\\Users\\havva\\OneDrive\\Desktop\\plaka_tanima\\test_data\\Car_Traffic_short.mp4: 384x640 (no detections), 111.7ms\n",
      "video 1/1 (frame 2213/2880) c:\\Users\\havva\\OneDrive\\Desktop\\plaka_tanima\\test_data\\Car_Traffic_short.mp4: 384x640 2 LicensePlates, 119.7ms\n",
      "video 1/1 (frame 2214/2880) c:\\Users\\havva\\OneDrive\\Desktop\\plaka_tanima\\test_data\\Car_Traffic_short.mp4: 384x640 1 LicensePlate, 115.7ms\n",
      "video 1/1 (frame 2215/2880) c:\\Users\\havva\\OneDrive\\Desktop\\plaka_tanima\\test_data\\Car_Traffic_short.mp4: 384x640 (no detections), 113.3ms\n",
      "video 1/1 (frame 2216/2880) c:\\Users\\havva\\OneDrive\\Desktop\\plaka_tanima\\test_data\\Car_Traffic_short.mp4: 384x640 1 LicensePlate, 126.7ms\n",
      "video 1/1 (frame 2217/2880) c:\\Users\\havva\\OneDrive\\Desktop\\plaka_tanima\\test_data\\Car_Traffic_short.mp4: 384x640 (no detections), 114.2ms\n",
      "video 1/1 (frame 2218/2880) c:\\Users\\havva\\OneDrive\\Desktop\\plaka_tanima\\test_data\\Car_Traffic_short.mp4: 384x640 1 LicensePlate, 114.7ms\n",
      "video 1/1 (frame 2219/2880) c:\\Users\\havva\\OneDrive\\Desktop\\plaka_tanima\\test_data\\Car_Traffic_short.mp4: 384x640 1 LicensePlate, 112.6ms\n",
      "video 1/1 (frame 2220/2880) c:\\Users\\havva\\OneDrive\\Desktop\\plaka_tanima\\test_data\\Car_Traffic_short.mp4: 384x640 1 LicensePlate, 165.6ms\n",
      "video 1/1 (frame 2221/2880) c:\\Users\\havva\\OneDrive\\Desktop\\plaka_tanima\\test_data\\Car_Traffic_short.mp4: 384x640 (no detections), 120.7ms\n",
      "video 1/1 (frame 2222/2880) c:\\Users\\havva\\OneDrive\\Desktop\\plaka_tanima\\test_data\\Car_Traffic_short.mp4: 384x640 (no detections), 131.8ms\n",
      "video 1/1 (frame 2223/2880) c:\\Users\\havva\\OneDrive\\Desktop\\plaka_tanima\\test_data\\Car_Traffic_short.mp4: 384x640 (no detections), 112.7ms\n",
      "video 1/1 (frame 2224/2880) c:\\Users\\havva\\OneDrive\\Desktop\\plaka_tanima\\test_data\\Car_Traffic_short.mp4: 384x640 1 LicensePlate, 112.7ms\n",
      "video 1/1 (frame 2225/2880) c:\\Users\\havva\\OneDrive\\Desktop\\plaka_tanima\\test_data\\Car_Traffic_short.mp4: 384x640 (no detections), 111.7ms\n",
      "video 1/1 (frame 2226/2880) c:\\Users\\havva\\OneDrive\\Desktop\\plaka_tanima\\test_data\\Car_Traffic_short.mp4: 384x640 (no detections), 104.7ms\n",
      "video 1/1 (frame 2227/2880) c:\\Users\\havva\\OneDrive\\Desktop\\plaka_tanima\\test_data\\Car_Traffic_short.mp4: 384x640 (no detections), 113.6ms\n",
      "video 1/1 (frame 2228/2880) c:\\Users\\havva\\OneDrive\\Desktop\\plaka_tanima\\test_data\\Car_Traffic_short.mp4: 384x640 (no detections), 125.8ms\n",
      "video 1/1 (frame 2229/2880) c:\\Users\\havva\\OneDrive\\Desktop\\plaka_tanima\\test_data\\Car_Traffic_short.mp4: 384x640 (no detections), 112.7ms\n",
      "video 1/1 (frame 2230/2880) c:\\Users\\havva\\OneDrive\\Desktop\\plaka_tanima\\test_data\\Car_Traffic_short.mp4: 384x640 (no detections), 116.7ms\n",
      "video 1/1 (frame 2231/2880) c:\\Users\\havva\\OneDrive\\Desktop\\plaka_tanima\\test_data\\Car_Traffic_short.mp4: 384x640 (no detections), 115.7ms\n",
      "video 1/1 (frame 2232/2880) c:\\Users\\havva\\OneDrive\\Desktop\\plaka_tanima\\test_data\\Car_Traffic_short.mp4: 384x640 (no detections), 107.7ms\n",
      "video 1/1 (frame 2233/2880) c:\\Users\\havva\\OneDrive\\Desktop\\plaka_tanima\\test_data\\Car_Traffic_short.mp4: 384x640 (no detections), 111.7ms\n",
      "video 1/1 (frame 2234/2880) c:\\Users\\havva\\OneDrive\\Desktop\\plaka_tanima\\test_data\\Car_Traffic_short.mp4: 384x640 (no detections), 108.7ms\n",
      "video 1/1 (frame 2235/2880) c:\\Users\\havva\\OneDrive\\Desktop\\plaka_tanima\\test_data\\Car_Traffic_short.mp4: 384x640 (no detections), 111.7ms\n",
      "video 1/1 (frame 2236/2880) c:\\Users\\havva\\OneDrive\\Desktop\\plaka_tanima\\test_data\\Car_Traffic_short.mp4: 384x640 (no detections), 122.6ms\n",
      "video 1/1 (frame 2237/2880) c:\\Users\\havva\\OneDrive\\Desktop\\plaka_tanima\\test_data\\Car_Traffic_short.mp4: 384x640 (no detections), 111.7ms\n",
      "video 1/1 (frame 2238/2880) c:\\Users\\havva\\OneDrive\\Desktop\\plaka_tanima\\test_data\\Car_Traffic_short.mp4: 384x640 (no detections), 114.7ms\n",
      "video 1/1 (frame 2239/2880) c:\\Users\\havva\\OneDrive\\Desktop\\plaka_tanima\\test_data\\Car_Traffic_short.mp4: 384x640 (no detections), 130.7ms\n",
      "video 1/1 (frame 2240/2880) c:\\Users\\havva\\OneDrive\\Desktop\\plaka_tanima\\test_data\\Car_Traffic_short.mp4: 384x640 (no detections), 131.6ms\n",
      "video 1/1 (frame 2241/2880) c:\\Users\\havva\\OneDrive\\Desktop\\plaka_tanima\\test_data\\Car_Traffic_short.mp4: 384x640 (no detections), 113.7ms\n",
      "video 1/1 (frame 2242/2880) c:\\Users\\havva\\OneDrive\\Desktop\\plaka_tanima\\test_data\\Car_Traffic_short.mp4: 384x640 1 LicensePlate, 112.7ms\n",
      "video 1/1 (frame 2243/2880) c:\\Users\\havva\\OneDrive\\Desktop\\plaka_tanima\\test_data\\Car_Traffic_short.mp4: 384x640 2 LicensePlates, 111.7ms\n",
      "video 1/1 (frame 2244/2880) c:\\Users\\havva\\OneDrive\\Desktop\\plaka_tanima\\test_data\\Car_Traffic_short.mp4: 384x640 1 LicensePlate, 107.7ms\n",
      "video 1/1 (frame 2245/2880) c:\\Users\\havva\\OneDrive\\Desktop\\plaka_tanima\\test_data\\Car_Traffic_short.mp4: 384x640 1 LicensePlate, 114.7ms\n",
      "video 1/1 (frame 2246/2880) c:\\Users\\havva\\OneDrive\\Desktop\\plaka_tanima\\test_data\\Car_Traffic_short.mp4: 384x640 1 LicensePlate, 127.7ms\n",
      "video 1/1 (frame 2247/2880) c:\\Users\\havva\\OneDrive\\Desktop\\plaka_tanima\\test_data\\Car_Traffic_short.mp4: 384x640 1 LicensePlate, 113.7ms\n",
      "video 1/1 (frame 2248/2880) c:\\Users\\havva\\OneDrive\\Desktop\\plaka_tanima\\test_data\\Car_Traffic_short.mp4: 384x640 1 LicensePlate, 114.7ms\n",
      "video 1/1 (frame 2249/2880) c:\\Users\\havva\\OneDrive\\Desktop\\plaka_tanima\\test_data\\Car_Traffic_short.mp4: 384x640 1 LicensePlate, 109.7ms\n",
      "video 1/1 (frame 2250/2880) c:\\Users\\havva\\OneDrive\\Desktop\\plaka_tanima\\test_data\\Car_Traffic_short.mp4: 384x640 1 LicensePlate, 105.7ms\n",
      "video 1/1 (frame 2251/2880) c:\\Users\\havva\\OneDrive\\Desktop\\plaka_tanima\\test_data\\Car_Traffic_short.mp4: 384x640 1 LicensePlate, 111.8ms\n",
      "video 1/1 (frame 2252/2880) c:\\Users\\havva\\OneDrive\\Desktop\\plaka_tanima\\test_data\\Car_Traffic_short.mp4: 384x640 1 LicensePlate, 129.8ms\n",
      "video 1/1 (frame 2253/2880) c:\\Users\\havva\\OneDrive\\Desktop\\plaka_tanima\\test_data\\Car_Traffic_short.mp4: 384x640 1 LicensePlate, 112.7ms\n",
      "video 1/1 (frame 2254/2880) c:\\Users\\havva\\OneDrive\\Desktop\\plaka_tanima\\test_data\\Car_Traffic_short.mp4: 384x640 1 LicensePlate, 117.7ms\n",
      "video 1/1 (frame 2255/2880) c:\\Users\\havva\\OneDrive\\Desktop\\plaka_tanima\\test_data\\Car_Traffic_short.mp4: 384x640 2 LicensePlates, 111.7ms\n",
      "video 1/1 (frame 2256/2880) c:\\Users\\havva\\OneDrive\\Desktop\\plaka_tanima\\test_data\\Car_Traffic_short.mp4: 384x640 4 LicensePlates, 105.8ms\n",
      "video 1/1 (frame 2257/2880) c:\\Users\\havva\\OneDrive\\Desktop\\plaka_tanima\\test_data\\Car_Traffic_short.mp4: 384x640 2 LicensePlates, 107.7ms\n",
      "video 1/1 (frame 2258/2880) c:\\Users\\havva\\OneDrive\\Desktop\\plaka_tanima\\test_data\\Car_Traffic_short.mp4: 384x640 1 LicensePlate, 131.6ms\n",
      "video 1/1 (frame 2259/2880) c:\\Users\\havva\\OneDrive\\Desktop\\plaka_tanima\\test_data\\Car_Traffic_short.mp4: 384x640 1 LicensePlate, 117.7ms\n",
      "video 1/1 (frame 2260/2880) c:\\Users\\havva\\OneDrive\\Desktop\\plaka_tanima\\test_data\\Car_Traffic_short.mp4: 384x640 1 LicensePlate, 120.7ms\n",
      "video 1/1 (frame 2261/2880) c:\\Users\\havva\\OneDrive\\Desktop\\plaka_tanima\\test_data\\Car_Traffic_short.mp4: 384x640 1 LicensePlate, 127.7ms\n",
      "video 1/1 (frame 2262/2880) c:\\Users\\havva\\OneDrive\\Desktop\\plaka_tanima\\test_data\\Car_Traffic_short.mp4: 384x640 1 LicensePlate, 126.8ms\n",
      "video 1/1 (frame 2263/2880) c:\\Users\\havva\\OneDrive\\Desktop\\plaka_tanima\\test_data\\Car_Traffic_short.mp4: 384x640 1 LicensePlate, 128.7ms\n",
      "video 1/1 (frame 2264/2880) c:\\Users\\havva\\OneDrive\\Desktop\\plaka_tanima\\test_data\\Car_Traffic_short.mp4: 384x640 2 LicensePlates, 128.7ms\n",
      "video 1/1 (frame 2265/2880) c:\\Users\\havva\\OneDrive\\Desktop\\plaka_tanima\\test_data\\Car_Traffic_short.mp4: 384x640 2 LicensePlates, 109.7ms\n",
      "video 1/1 (frame 2266/2880) c:\\Users\\havva\\OneDrive\\Desktop\\plaka_tanima\\test_data\\Car_Traffic_short.mp4: 384x640 2 LicensePlates, 109.7ms\n",
      "video 1/1 (frame 2267/2880) c:\\Users\\havva\\OneDrive\\Desktop\\plaka_tanima\\test_data\\Car_Traffic_short.mp4: 384x640 2 LicensePlates, 115.7ms\n",
      "video 1/1 (frame 2268/2880) c:\\Users\\havva\\OneDrive\\Desktop\\plaka_tanima\\test_data\\Car_Traffic_short.mp4: 384x640 3 LicensePlates, 115.7ms\n",
      "video 1/1 (frame 2269/2880) c:\\Users\\havva\\OneDrive\\Desktop\\plaka_tanima\\test_data\\Car_Traffic_short.mp4: 384x640 2 LicensePlates, 112.7ms\n",
      "video 1/1 (frame 2270/2880) c:\\Users\\havva\\OneDrive\\Desktop\\plaka_tanima\\test_data\\Car_Traffic_short.mp4: 384x640 3 LicensePlates, 129.9ms\n",
      "video 1/1 (frame 2271/2880) c:\\Users\\havva\\OneDrive\\Desktop\\plaka_tanima\\test_data\\Car_Traffic_short.mp4: 384x640 3 LicensePlates, 109.7ms\n",
      "video 1/1 (frame 2272/2880) c:\\Users\\havva\\OneDrive\\Desktop\\plaka_tanima\\test_data\\Car_Traffic_short.mp4: 384x640 2 LicensePlates, 171.5ms\n",
      "video 1/1 (frame 2273/2880) c:\\Users\\havva\\OneDrive\\Desktop\\plaka_tanima\\test_data\\Car_Traffic_short.mp4: 384x640 2 LicensePlates, 112.6ms\n",
      "video 1/1 (frame 2274/2880) c:\\Users\\havva\\OneDrive\\Desktop\\plaka_tanima\\test_data\\Car_Traffic_short.mp4: 384x640 3 LicensePlates, 114.7ms\n",
      "video 1/1 (frame 2275/2880) c:\\Users\\havva\\OneDrive\\Desktop\\plaka_tanima\\test_data\\Car_Traffic_short.mp4: 384x640 2 LicensePlates, 111.7ms\n",
      "video 1/1 (frame 2276/2880) c:\\Users\\havva\\OneDrive\\Desktop\\plaka_tanima\\test_data\\Car_Traffic_short.mp4: 384x640 2 LicensePlates, 128.7ms\n",
      "video 1/1 (frame 2277/2880) c:\\Users\\havva\\OneDrive\\Desktop\\plaka_tanima\\test_data\\Car_Traffic_short.mp4: 384x640 2 LicensePlates, 110.7ms\n",
      "video 1/1 (frame 2278/2880) c:\\Users\\havva\\OneDrive\\Desktop\\plaka_tanima\\test_data\\Car_Traffic_short.mp4: 384x640 3 LicensePlates, 112.7ms\n",
      "video 1/1 (frame 2279/2880) c:\\Users\\havva\\OneDrive\\Desktop\\plaka_tanima\\test_data\\Car_Traffic_short.mp4: 384x640 2 LicensePlates, 110.6ms\n",
      "video 1/1 (frame 2280/2880) c:\\Users\\havva\\OneDrive\\Desktop\\plaka_tanima\\test_data\\Car_Traffic_short.mp4: 384x640 (no detections), 108.7ms\n",
      "video 1/1 (frame 2281/2880) c:\\Users\\havva\\OneDrive\\Desktop\\plaka_tanima\\test_data\\Car_Traffic_short.mp4: 384x640 1 LicensePlate, 112.7ms\n",
      "video 1/1 (frame 2282/2880) c:\\Users\\havva\\OneDrive\\Desktop\\plaka_tanima\\test_data\\Car_Traffic_short.mp4: 384x640 2 LicensePlates, 130.6ms\n",
      "video 1/1 (frame 2283/2880) c:\\Users\\havva\\OneDrive\\Desktop\\plaka_tanima\\test_data\\Car_Traffic_short.mp4: 384x640 2 LicensePlates, 114.7ms\n",
      "video 1/1 (frame 2284/2880) c:\\Users\\havva\\OneDrive\\Desktop\\plaka_tanima\\test_data\\Car_Traffic_short.mp4: 384x640 1 LicensePlate, 113.7ms\n",
      "video 1/1 (frame 2285/2880) c:\\Users\\havva\\OneDrive\\Desktop\\plaka_tanima\\test_data\\Car_Traffic_short.mp4: 384x640 (no detections), 114.7ms\n",
      "video 1/1 (frame 2286/2880) c:\\Users\\havva\\OneDrive\\Desktop\\plaka_tanima\\test_data\\Car_Traffic_short.mp4: 384x640 (no detections), 113.7ms\n",
      "video 1/1 (frame 2287/2880) c:\\Users\\havva\\OneDrive\\Desktop\\plaka_tanima\\test_data\\Car_Traffic_short.mp4: 384x640 (no detections), 111.7ms\n",
      "video 1/1 (frame 2288/2880) c:\\Users\\havva\\OneDrive\\Desktop\\plaka_tanima\\test_data\\Car_Traffic_short.mp4: 384x640 3 LicensePlates, 127.7ms\n",
      "video 1/1 (frame 2289/2880) c:\\Users\\havva\\OneDrive\\Desktop\\plaka_tanima\\test_data\\Car_Traffic_short.mp4: 384x640 3 LicensePlates, 111.7ms\n",
      "video 1/1 (frame 2290/2880) c:\\Users\\havva\\OneDrive\\Desktop\\plaka_tanima\\test_data\\Car_Traffic_short.mp4: 384x640 (no detections), 113.7ms\n",
      "video 1/1 (frame 2291/2880) c:\\Users\\havva\\OneDrive\\Desktop\\plaka_tanima\\test_data\\Car_Traffic_short.mp4: 384x640 (no detections), 113.7ms\n",
      "video 1/1 (frame 2292/2880) c:\\Users\\havva\\OneDrive\\Desktop\\plaka_tanima\\test_data\\Car_Traffic_short.mp4: 384x640 1 LicensePlate, 112.7ms\n",
      "video 1/1 (frame 2293/2880) c:\\Users\\havva\\OneDrive\\Desktop\\plaka_tanima\\test_data\\Car_Traffic_short.mp4: 384x640 2 LicensePlates, 114.7ms\n",
      "video 1/1 (frame 2294/2880) c:\\Users\\havva\\OneDrive\\Desktop\\plaka_tanima\\test_data\\Car_Traffic_short.mp4: 384x640 1 LicensePlate, 109.7ms\n",
      "video 1/1 (frame 2295/2880) c:\\Users\\havva\\OneDrive\\Desktop\\plaka_tanima\\test_data\\Car_Traffic_short.mp4: 384x640 1 LicensePlate, 114.7ms\n",
      "video 1/1 (frame 2296/2880) c:\\Users\\havva\\OneDrive\\Desktop\\plaka_tanima\\test_data\\Car_Traffic_short.mp4: 384x640 (no detections), 115.7ms\n",
      "video 1/1 (frame 2297/2880) c:\\Users\\havva\\OneDrive\\Desktop\\plaka_tanima\\test_data\\Car_Traffic_short.mp4: 384x640 1 LicensePlate, 114.7ms\n",
      "video 1/1 (frame 2298/2880) c:\\Users\\havva\\OneDrive\\Desktop\\plaka_tanima\\test_data\\Car_Traffic_short.mp4: 384x640 1 LicensePlate, 111.7ms\n",
      "video 1/1 (frame 2299/2880) c:\\Users\\havva\\OneDrive\\Desktop\\plaka_tanima\\test_data\\Car_Traffic_short.mp4: 384x640 1 LicensePlate, 110.7ms\n",
      "video 1/1 (frame 2300/2880) c:\\Users\\havva\\OneDrive\\Desktop\\plaka_tanima\\test_data\\Car_Traffic_short.mp4: 384x640 (no detections), 125.7ms\n",
      "video 1/1 (frame 2301/2880) c:\\Users\\havva\\OneDrive\\Desktop\\plaka_tanima\\test_data\\Car_Traffic_short.mp4: 384x640 (no detections), 107.7ms\n",
      "video 1/1 (frame 2302/2880) c:\\Users\\havva\\OneDrive\\Desktop\\plaka_tanima\\test_data\\Car_Traffic_short.mp4: 384x640 1 LicensePlate, 111.6ms\n",
      "video 1/1 (frame 2303/2880) c:\\Users\\havva\\OneDrive\\Desktop\\plaka_tanima\\test_data\\Car_Traffic_short.mp4: 384x640 (no detections), 106.7ms\n",
      "video 1/1 (frame 2304/2880) c:\\Users\\havva\\OneDrive\\Desktop\\plaka_tanima\\test_data\\Car_Traffic_short.mp4: 384x640 (no detections), 105.8ms\n",
      "video 1/1 (frame 2305/2880) c:\\Users\\havva\\OneDrive\\Desktop\\plaka_tanima\\test_data\\Car_Traffic_short.mp4: 384x640 (no detections), 111.7ms\n",
      "video 1/1 (frame 2306/2880) c:\\Users\\havva\\OneDrive\\Desktop\\plaka_tanima\\test_data\\Car_Traffic_short.mp4: 384x640 (no detections), 127.7ms\n",
      "video 1/1 (frame 2307/2880) c:\\Users\\havva\\OneDrive\\Desktop\\plaka_tanima\\test_data\\Car_Traffic_short.mp4: 384x640 (no detections), 114.7ms\n",
      "video 1/1 (frame 2308/2880) c:\\Users\\havva\\OneDrive\\Desktop\\plaka_tanima\\test_data\\Car_Traffic_short.mp4: 384x640 (no detections), 112.7ms\n",
      "video 1/1 (frame 2309/2880) c:\\Users\\havva\\OneDrive\\Desktop\\plaka_tanima\\test_data\\Car_Traffic_short.mp4: 384x640 (no detections), 111.7ms\n",
      "video 1/1 (frame 2310/2880) c:\\Users\\havva\\OneDrive\\Desktop\\plaka_tanima\\test_data\\Car_Traffic_short.mp4: 384x640 1 LicensePlate, 107.4ms\n",
      "video 1/1 (frame 2311/2880) c:\\Users\\havva\\OneDrive\\Desktop\\plaka_tanima\\test_data\\Car_Traffic_short.mp4: 384x640 1 LicensePlate, 112.6ms\n",
      "video 1/1 (frame 2312/2880) c:\\Users\\havva\\OneDrive\\Desktop\\plaka_tanima\\test_data\\Car_Traffic_short.mp4: 384x640 1 LicensePlate, 131.6ms\n",
      "video 1/1 (frame 2313/2880) c:\\Users\\havva\\OneDrive\\Desktop\\plaka_tanima\\test_data\\Car_Traffic_short.mp4: 384x640 1 LicensePlate, 111.7ms\n",
      "video 1/1 (frame 2314/2880) c:\\Users\\havva\\OneDrive\\Desktop\\plaka_tanima\\test_data\\Car_Traffic_short.mp4: 384x640 1 LicensePlate, 114.7ms\n",
      "video 1/1 (frame 2315/2880) c:\\Users\\havva\\OneDrive\\Desktop\\plaka_tanima\\test_data\\Car_Traffic_short.mp4: 384x640 1 LicensePlate, 109.7ms\n",
      "video 1/1 (frame 2316/2880) c:\\Users\\havva\\OneDrive\\Desktop\\plaka_tanima\\test_data\\Car_Traffic_short.mp4: 384x640 1 LicensePlate, 114.7ms\n",
      "video 1/1 (frame 2317/2880) c:\\Users\\havva\\OneDrive\\Desktop\\plaka_tanima\\test_data\\Car_Traffic_short.mp4: 384x640 1 LicensePlate, 113.7ms\n",
      "video 1/1 (frame 2318/2880) c:\\Users\\havva\\OneDrive\\Desktop\\plaka_tanima\\test_data\\Car_Traffic_short.mp4: 384x640 1 LicensePlate, 124.8ms\n",
      "video 1/1 (frame 2319/2880) c:\\Users\\havva\\OneDrive\\Desktop\\plaka_tanima\\test_data\\Car_Traffic_short.mp4: 384x640 1 LicensePlate, 109.3ms\n",
      "video 1/1 (frame 2320/2880) c:\\Users\\havva\\OneDrive\\Desktop\\plaka_tanima\\test_data\\Car_Traffic_short.mp4: 384x640 1 LicensePlate, 111.7ms\n",
      "video 1/1 (frame 2321/2880) c:\\Users\\havva\\OneDrive\\Desktop\\plaka_tanima\\test_data\\Car_Traffic_short.mp4: 384x640 1 LicensePlate, 106.7ms\n",
      "video 1/1 (frame 2322/2880) c:\\Users\\havva\\OneDrive\\Desktop\\plaka_tanima\\test_data\\Car_Traffic_short.mp4: 384x640 1 LicensePlate, 111.7ms\n",
      "video 1/1 (frame 2323/2880) c:\\Users\\havva\\OneDrive\\Desktop\\plaka_tanima\\test_data\\Car_Traffic_short.mp4: 384x640 2 LicensePlates, 109.7ms\n",
      "video 1/1 (frame 2324/2880) c:\\Users\\havva\\OneDrive\\Desktop\\plaka_tanima\\test_data\\Car_Traffic_short.mp4: 384x640 1 LicensePlate, 126.7ms\n",
      "video 1/1 (frame 2325/2880) c:\\Users\\havva\\OneDrive\\Desktop\\plaka_tanima\\test_data\\Car_Traffic_short.mp4: 384x640 1 LicensePlate, 116.7ms\n",
      "video 1/1 (frame 2326/2880) c:\\Users\\havva\\OneDrive\\Desktop\\plaka_tanima\\test_data\\Car_Traffic_short.mp4: 384x640 1 LicensePlate, 111.6ms\n",
      "video 1/1 (frame 2327/2880) c:\\Users\\havva\\OneDrive\\Desktop\\plaka_tanima\\test_data\\Car_Traffic_short.mp4: 384x640 1 LicensePlate, 111.7ms\n",
      "video 1/1 (frame 2328/2880) c:\\Users\\havva\\OneDrive\\Desktop\\plaka_tanima\\test_data\\Car_Traffic_short.mp4: 384x640 1 LicensePlate, 106.7ms\n",
      "video 1/1 (frame 2329/2880) c:\\Users\\havva\\OneDrive\\Desktop\\plaka_tanima\\test_data\\Car_Traffic_short.mp4: 384x640 1 LicensePlate, 114.7ms\n",
      "video 1/1 (frame 2330/2880) c:\\Users\\havva\\OneDrive\\Desktop\\plaka_tanima\\test_data\\Car_Traffic_short.mp4: 384x640 2 LicensePlates, 128.7ms\n",
      "video 1/1 (frame 2331/2880) c:\\Users\\havva\\OneDrive\\Desktop\\plaka_tanima\\test_data\\Car_Traffic_short.mp4: 384x640 2 LicensePlates, 109.7ms\n",
      "video 1/1 (frame 2332/2880) c:\\Users\\havva\\OneDrive\\Desktop\\plaka_tanima\\test_data\\Car_Traffic_short.mp4: 384x640 1 LicensePlate, 111.7ms\n",
      "video 1/1 (frame 2333/2880) c:\\Users\\havva\\OneDrive\\Desktop\\plaka_tanima\\test_data\\Car_Traffic_short.mp4: 384x640 1 LicensePlate, 109.7ms\n",
      "video 1/1 (frame 2334/2880) c:\\Users\\havva\\OneDrive\\Desktop\\plaka_tanima\\test_data\\Car_Traffic_short.mp4: 384x640 1 LicensePlate, 111.7ms\n",
      "video 1/1 (frame 2335/2880) c:\\Users\\havva\\OneDrive\\Desktop\\plaka_tanima\\test_data\\Car_Traffic_short.mp4: 384x640 2 LicensePlates, 106.7ms\n",
      "video 1/1 (frame 2336/2880) c:\\Users\\havva\\OneDrive\\Desktop\\plaka_tanima\\test_data\\Car_Traffic_short.mp4: 384x640 1 LicensePlate, 126.7ms\n",
      "video 1/1 (frame 2337/2880) c:\\Users\\havva\\OneDrive\\Desktop\\plaka_tanima\\test_data\\Car_Traffic_short.mp4: 384x640 1 LicensePlate, 110.7ms\n",
      "video 1/1 (frame 2338/2880) c:\\Users\\havva\\OneDrive\\Desktop\\plaka_tanima\\test_data\\Car_Traffic_short.mp4: 384x640 1 LicensePlate, 115.8ms\n",
      "video 1/1 (frame 2339/2880) c:\\Users\\havva\\OneDrive\\Desktop\\plaka_tanima\\test_data\\Car_Traffic_short.mp4: 384x640 1 LicensePlate, 108.7ms\n",
      "video 1/1 (frame 2340/2880) c:\\Users\\havva\\OneDrive\\Desktop\\plaka_tanima\\test_data\\Car_Traffic_short.mp4: 384x640 1 LicensePlate, 113.7ms\n",
      "video 1/1 (frame 2341/2880) c:\\Users\\havva\\OneDrive\\Desktop\\plaka_tanima\\test_data\\Car_Traffic_short.mp4: 384x640 1 LicensePlate, 113.7ms\n",
      "video 1/1 (frame 2342/2880) c:\\Users\\havva\\OneDrive\\Desktop\\plaka_tanima\\test_data\\Car_Traffic_short.mp4: 384x640 1 LicensePlate, 128.7ms\n",
      "video 1/1 (frame 2343/2880) c:\\Users\\havva\\OneDrive\\Desktop\\plaka_tanima\\test_data\\Car_Traffic_short.mp4: 384x640 1 LicensePlate, 110.7ms\n",
      "video 1/1 (frame 2344/2880) c:\\Users\\havva\\OneDrive\\Desktop\\plaka_tanima\\test_data\\Car_Traffic_short.mp4: 384x640 1 LicensePlate, 114.7ms\n",
      "video 1/1 (frame 2345/2880) c:\\Users\\havva\\OneDrive\\Desktop\\plaka_tanima\\test_data\\Car_Traffic_short.mp4: 384x640 (no detections), 111.7ms\n",
      "video 1/1 (frame 2346/2880) c:\\Users\\havva\\OneDrive\\Desktop\\plaka_tanima\\test_data\\Car_Traffic_short.mp4: 384x640 1 LicensePlate, 109.6ms\n",
      "video 1/1 (frame 2347/2880) c:\\Users\\havva\\OneDrive\\Desktop\\plaka_tanima\\test_data\\Car_Traffic_short.mp4: 384x640 3 LicensePlates, 109.9ms\n",
      "video 1/1 (frame 2348/2880) c:\\Users\\havva\\OneDrive\\Desktop\\plaka_tanima\\test_data\\Car_Traffic_short.mp4: 384x640 2 LicensePlates, 123.7ms\n",
      "video 1/1 (frame 2349/2880) c:\\Users\\havva\\OneDrive\\Desktop\\plaka_tanima\\test_data\\Car_Traffic_short.mp4: 384x640 2 LicensePlates, 111.7ms\n",
      "video 1/1 (frame 2350/2880) c:\\Users\\havva\\OneDrive\\Desktop\\plaka_tanima\\test_data\\Car_Traffic_short.mp4: 384x640 3 LicensePlates, 104.7ms\n",
      "video 1/1 (frame 2351/2880) c:\\Users\\havva\\OneDrive\\Desktop\\plaka_tanima\\test_data\\Car_Traffic_short.mp4: 384x640 3 LicensePlates, 116.7ms\n",
      "video 1/1 (frame 2352/2880) c:\\Users\\havva\\OneDrive\\Desktop\\plaka_tanima\\test_data\\Car_Traffic_short.mp4: 384x640 1 LicensePlate, 111.7ms\n",
      "video 1/1 (frame 2353/2880) c:\\Users\\havva\\OneDrive\\Desktop\\plaka_tanima\\test_data\\Car_Traffic_short.mp4: 384x640 1 LicensePlate, 112.7ms\n",
      "video 1/1 (frame 2354/2880) c:\\Users\\havva\\OneDrive\\Desktop\\plaka_tanima\\test_data\\Car_Traffic_short.mp4: 384x640 1 LicensePlate, 125.7ms\n",
      "video 1/1 (frame 2355/2880) c:\\Users\\havva\\OneDrive\\Desktop\\plaka_tanima\\test_data\\Car_Traffic_short.mp4: 384x640 1 LicensePlate, 110.7ms\n",
      "video 1/1 (frame 2356/2880) c:\\Users\\havva\\OneDrive\\Desktop\\plaka_tanima\\test_data\\Car_Traffic_short.mp4: 384x640 2 LicensePlates, 113.7ms\n",
      "video 1/1 (frame 2357/2880) c:\\Users\\havva\\OneDrive\\Desktop\\plaka_tanima\\test_data\\Car_Traffic_short.mp4: 384x640 2 LicensePlates, 109.8ms\n",
      "video 1/1 (frame 2358/2880) c:\\Users\\havva\\OneDrive\\Desktop\\plaka_tanima\\test_data\\Car_Traffic_short.mp4: 384x640 (no detections), 116.7ms\n",
      "video 1/1 (frame 2359/2880) c:\\Users\\havva\\OneDrive\\Desktop\\plaka_tanima\\test_data\\Car_Traffic_short.mp4: 384x640 2 LicensePlates, 117.7ms\n",
      "video 1/1 (frame 2360/2880) c:\\Users\\havva\\OneDrive\\Desktop\\plaka_tanima\\test_data\\Car_Traffic_short.mp4: 384x640 (no detections), 125.8ms\n",
      "video 1/1 (frame 2361/2880) c:\\Users\\havva\\OneDrive\\Desktop\\plaka_tanima\\test_data\\Car_Traffic_short.mp4: 384x640 (no detections), 111.7ms\n",
      "video 1/1 (frame 2362/2880) c:\\Users\\havva\\OneDrive\\Desktop\\plaka_tanima\\test_data\\Car_Traffic_short.mp4: 384x640 (no detections), 110.8ms\n",
      "video 1/1 (frame 2363/2880) c:\\Users\\havva\\OneDrive\\Desktop\\plaka_tanima\\test_data\\Car_Traffic_short.mp4: 384x640 2 LicensePlates, 112.7ms\n",
      "video 1/1 (frame 2364/2880) c:\\Users\\havva\\OneDrive\\Desktop\\plaka_tanima\\test_data\\Car_Traffic_short.mp4: 384x640 4 LicensePlates, 109.7ms\n",
      "video 1/1 (frame 2365/2880) c:\\Users\\havva\\OneDrive\\Desktop\\plaka_tanima\\test_data\\Car_Traffic_short.mp4: 384x640 3 LicensePlates, 109.7ms\n",
      "video 1/1 (frame 2366/2880) c:\\Users\\havva\\OneDrive\\Desktop\\plaka_tanima\\test_data\\Car_Traffic_short.mp4: 384x640 3 LicensePlates, 130.6ms\n",
      "video 1/1 (frame 2367/2880) c:\\Users\\havva\\OneDrive\\Desktop\\plaka_tanima\\test_data\\Car_Traffic_short.mp4: 384x640 3 LicensePlates, 114.7ms\n",
      "video 1/1 (frame 2368/2880) c:\\Users\\havva\\OneDrive\\Desktop\\plaka_tanima\\test_data\\Car_Traffic_short.mp4: 384x640 1 LicensePlate, 115.7ms\n",
      "video 1/1 (frame 2369/2880) c:\\Users\\havva\\OneDrive\\Desktop\\plaka_tanima\\test_data\\Car_Traffic_short.mp4: 384x640 3 LicensePlates, 111.7ms\n",
      "video 1/1 (frame 2370/2880) c:\\Users\\havva\\OneDrive\\Desktop\\plaka_tanima\\test_data\\Car_Traffic_short.mp4: 384x640 4 LicensePlates, 107.7ms\n",
      "video 1/1 (frame 2371/2880) c:\\Users\\havva\\OneDrive\\Desktop\\plaka_tanima\\test_data\\Car_Traffic_short.mp4: 384x640 2 LicensePlates, 115.7ms\n",
      "video 1/1 (frame 2372/2880) c:\\Users\\havva\\OneDrive\\Desktop\\plaka_tanima\\test_data\\Car_Traffic_short.mp4: 384x640 3 LicensePlates, 108.7ms\n",
      "video 1/1 (frame 2373/2880) c:\\Users\\havva\\OneDrive\\Desktop\\plaka_tanima\\test_data\\Car_Traffic_short.mp4: 384x640 3 LicensePlates, 171.5ms\n",
      "video 1/1 (frame 2374/2880) c:\\Users\\havva\\OneDrive\\Desktop\\plaka_tanima\\test_data\\Car_Traffic_short.mp4: 384x640 2 LicensePlates, 111.7ms\n",
      "video 1/1 (frame 2375/2880) c:\\Users\\havva\\OneDrive\\Desktop\\plaka_tanima\\test_data\\Car_Traffic_short.mp4: 384x640 1 LicensePlate, 117.7ms\n",
      "video 1/1 (frame 2376/2880) c:\\Users\\havva\\OneDrive\\Desktop\\plaka_tanima\\test_data\\Car_Traffic_short.mp4: 384x640 1 LicensePlate, 111.7ms\n",
      "video 1/1 (frame 2377/2880) c:\\Users\\havva\\OneDrive\\Desktop\\plaka_tanima\\test_data\\Car_Traffic_short.mp4: 384x640 2 LicensePlates, 131.7ms\n",
      "video 1/1 (frame 2378/2880) c:\\Users\\havva\\OneDrive\\Desktop\\plaka_tanima\\test_data\\Car_Traffic_short.mp4: 384x640 2 LicensePlates, 133.6ms\n",
      "video 1/1 (frame 2379/2880) c:\\Users\\havva\\OneDrive\\Desktop\\plaka_tanima\\test_data\\Car_Traffic_short.mp4: 384x640 2 LicensePlates, 114.7ms\n",
      "video 1/1 (frame 2380/2880) c:\\Users\\havva\\OneDrive\\Desktop\\plaka_tanima\\test_data\\Car_Traffic_short.mp4: 384x640 4 LicensePlates, 116.8ms\n",
      "video 1/1 (frame 2381/2880) c:\\Users\\havva\\OneDrive\\Desktop\\plaka_tanima\\test_data\\Car_Traffic_short.mp4: 384x640 1 LicensePlate, 111.5ms\n",
      "video 1/1 (frame 2382/2880) c:\\Users\\havva\\OneDrive\\Desktop\\plaka_tanima\\test_data\\Car_Traffic_short.mp4: 384x640 1 LicensePlate, 110.6ms\n",
      "video 1/1 (frame 2383/2880) c:\\Users\\havva\\OneDrive\\Desktop\\plaka_tanima\\test_data\\Car_Traffic_short.mp4: 384x640 1 LicensePlate, 108.7ms\n",
      "video 1/1 (frame 2384/2880) c:\\Users\\havva\\OneDrive\\Desktop\\plaka_tanima\\test_data\\Car_Traffic_short.mp4: 384x640 1 LicensePlate, 123.7ms\n",
      "video 1/1 (frame 2385/2880) c:\\Users\\havva\\OneDrive\\Desktop\\plaka_tanima\\test_data\\Car_Traffic_short.mp4: 384x640 1 LicensePlate, 109.7ms\n",
      "video 1/1 (frame 2386/2880) c:\\Users\\havva\\OneDrive\\Desktop\\plaka_tanima\\test_data\\Car_Traffic_short.mp4: 384x640 1 LicensePlate, 111.7ms\n",
      "video 1/1 (frame 2387/2880) c:\\Users\\havva\\OneDrive\\Desktop\\plaka_tanima\\test_data\\Car_Traffic_short.mp4: 384x640 1 LicensePlate, 110.7ms\n",
      "video 1/1 (frame 2388/2880) c:\\Users\\havva\\OneDrive\\Desktop\\plaka_tanima\\test_data\\Car_Traffic_short.mp4: 384x640 1 LicensePlate, 113.7ms\n",
      "video 1/1 (frame 2389/2880) c:\\Users\\havva\\OneDrive\\Desktop\\plaka_tanima\\test_data\\Car_Traffic_short.mp4: 384x640 1 LicensePlate, 109.7ms\n",
      "video 1/1 (frame 2390/2880) c:\\Users\\havva\\OneDrive\\Desktop\\plaka_tanima\\test_data\\Car_Traffic_short.mp4: 384x640 1 LicensePlate, 129.7ms\n",
      "video 1/1 (frame 2391/2880) c:\\Users\\havva\\OneDrive\\Desktop\\plaka_tanima\\test_data\\Car_Traffic_short.mp4: 384x640 1 LicensePlate, 113.7ms\n",
      "video 1/1 (frame 2392/2880) c:\\Users\\havva\\OneDrive\\Desktop\\plaka_tanima\\test_data\\Car_Traffic_short.mp4: 384x640 1 LicensePlate, 112.8ms\n",
      "video 1/1 (frame 2393/2880) c:\\Users\\havva\\OneDrive\\Desktop\\plaka_tanima\\test_data\\Car_Traffic_short.mp4: 384x640 1 LicensePlate, 106.7ms\n",
      "video 1/1 (frame 2394/2880) c:\\Users\\havva\\OneDrive\\Desktop\\plaka_tanima\\test_data\\Car_Traffic_short.mp4: 384x640 1 LicensePlate, 110.7ms\n",
      "video 1/1 (frame 2395/2880) c:\\Users\\havva\\OneDrive\\Desktop\\plaka_tanima\\test_data\\Car_Traffic_short.mp4: 384x640 1 LicensePlate, 109.7ms\n",
      "video 1/1 (frame 2396/2880) c:\\Users\\havva\\OneDrive\\Desktop\\plaka_tanima\\test_data\\Car_Traffic_short.mp4: 384x640 1 LicensePlate, 129.7ms\n",
      "video 1/1 (frame 2397/2880) c:\\Users\\havva\\OneDrive\\Desktop\\plaka_tanima\\test_data\\Car_Traffic_short.mp4: 384x640 1 LicensePlate, 110.7ms\n",
      "video 1/1 (frame 2398/2880) c:\\Users\\havva\\OneDrive\\Desktop\\plaka_tanima\\test_data\\Car_Traffic_short.mp4: 384x640 1 LicensePlate, 111.7ms\n",
      "video 1/1 (frame 2399/2880) c:\\Users\\havva\\OneDrive\\Desktop\\plaka_tanima\\test_data\\Car_Traffic_short.mp4: 384x640 (no detections), 127.7ms\n",
      "video 1/1 (frame 2400/2880) c:\\Users\\havva\\OneDrive\\Desktop\\plaka_tanima\\test_data\\Car_Traffic_short.mp4: 384x640 1 LicensePlate, 105.7ms\n",
      "video 1/1 (frame 2401/2880) c:\\Users\\havva\\OneDrive\\Desktop\\plaka_tanima\\test_data\\Car_Traffic_short.mp4: 384x640 2 LicensePlates, 117.8ms\n",
      "video 1/1 (frame 2402/2880) c:\\Users\\havva\\OneDrive\\Desktop\\plaka_tanima\\test_data\\Car_Traffic_short.mp4: 384x640 (no detections), 124.7ms\n",
      "video 1/1 (frame 2403/2880) c:\\Users\\havva\\OneDrive\\Desktop\\plaka_tanima\\test_data\\Car_Traffic_short.mp4: 384x640 (no detections), 113.7ms\n",
      "video 1/1 (frame 2404/2880) c:\\Users\\havva\\OneDrive\\Desktop\\plaka_tanima\\test_data\\Car_Traffic_short.mp4: 384x640 (no detections), 111.6ms\n",
      "video 1/1 (frame 2405/2880) c:\\Users\\havva\\OneDrive\\Desktop\\plaka_tanima\\test_data\\Car_Traffic_short.mp4: 384x640 2 LicensePlates, 116.5ms\n",
      "video 1/1 (frame 2406/2880) c:\\Users\\havva\\OneDrive\\Desktop\\plaka_tanima\\test_data\\Car_Traffic_short.mp4: 384x640 1 LicensePlate, 111.7ms\n",
      "video 1/1 (frame 2407/2880) c:\\Users\\havva\\OneDrive\\Desktop\\plaka_tanima\\test_data\\Car_Traffic_short.mp4: 384x640 (no detections), 111.8ms\n",
      "video 1/1 (frame 2408/2880) c:\\Users\\havva\\OneDrive\\Desktop\\plaka_tanima\\test_data\\Car_Traffic_short.mp4: 384x640 (no detections), 125.8ms\n",
      "video 1/1 (frame 2409/2880) c:\\Users\\havva\\OneDrive\\Desktop\\plaka_tanima\\test_data\\Car_Traffic_short.mp4: 384x640 (no detections), 111.7ms\n",
      "video 1/1 (frame 2410/2880) c:\\Users\\havva\\OneDrive\\Desktop\\plaka_tanima\\test_data\\Car_Traffic_short.mp4: 384x640 (no detections), 113.7ms\n",
      "video 1/1 (frame 2411/2880) c:\\Users\\havva\\OneDrive\\Desktop\\plaka_tanima\\test_data\\Car_Traffic_short.mp4: 384x640 3 LicensePlates, 113.2ms\n",
      "video 1/1 (frame 2412/2880) c:\\Users\\havva\\OneDrive\\Desktop\\plaka_tanima\\test_data\\Car_Traffic_short.mp4: 384x640 (no detections), 101.7ms\n",
      "video 1/1 (frame 2413/2880) c:\\Users\\havva\\OneDrive\\Desktop\\plaka_tanima\\test_data\\Car_Traffic_short.mp4: 384x640 (no detections), 110.7ms\n",
      "video 1/1 (frame 2414/2880) c:\\Users\\havva\\OneDrive\\Desktop\\plaka_tanima\\test_data\\Car_Traffic_short.mp4: 384x640 1 LicensePlate, 128.7ms\n",
      "video 1/1 (frame 2415/2880) c:\\Users\\havva\\OneDrive\\Desktop\\plaka_tanima\\test_data\\Car_Traffic_short.mp4: 384x640 1 LicensePlate, 109.8ms\n",
      "video 1/1 (frame 2416/2880) c:\\Users\\havva\\OneDrive\\Desktop\\plaka_tanima\\test_data\\Car_Traffic_short.mp4: 384x640 (no detections), 106.7ms\n",
      "video 1/1 (frame 2417/2880) c:\\Users\\havva\\OneDrive\\Desktop\\plaka_tanima\\test_data\\Car_Traffic_short.mp4: 384x640 (no detections), 105.6ms\n",
      "video 1/1 (frame 2418/2880) c:\\Users\\havva\\OneDrive\\Desktop\\plaka_tanima\\test_data\\Car_Traffic_short.mp4: 384x640 (no detections), 113.7ms\n",
      "video 1/1 (frame 2419/2880) c:\\Users\\havva\\OneDrive\\Desktop\\plaka_tanima\\test_data\\Car_Traffic_short.mp4: 384x640 1 LicensePlate, 111.7ms\n",
      "video 1/1 (frame 2420/2880) c:\\Users\\havva\\OneDrive\\Desktop\\plaka_tanima\\test_data\\Car_Traffic_short.mp4: 384x640 1 LicensePlate, 124.7ms\n",
      "video 1/1 (frame 2421/2880) c:\\Users\\havva\\OneDrive\\Desktop\\plaka_tanima\\test_data\\Car_Traffic_short.mp4: 384x640 1 LicensePlate, 109.7ms\n",
      "video 1/1 (frame 2422/2880) c:\\Users\\havva\\OneDrive\\Desktop\\plaka_tanima\\test_data\\Car_Traffic_short.mp4: 384x640 2 LicensePlates, 138.6ms\n",
      "video 1/1 (frame 2423/2880) c:\\Users\\havva\\OneDrive\\Desktop\\plaka_tanima\\test_data\\Car_Traffic_short.mp4: 384x640 1 LicensePlate, 115.7ms\n",
      "video 1/1 (frame 2424/2880) c:\\Users\\havva\\OneDrive\\Desktop\\plaka_tanima\\test_data\\Car_Traffic_short.mp4: 384x640 (no detections), 110.7ms\n",
      "video 1/1 (frame 2425/2880) c:\\Users\\havva\\OneDrive\\Desktop\\plaka_tanima\\test_data\\Car_Traffic_short.mp4: 384x640 1 LicensePlate, 109.7ms\n",
      "video 1/1 (frame 2426/2880) c:\\Users\\havva\\OneDrive\\Desktop\\plaka_tanima\\test_data\\Car_Traffic_short.mp4: 384x640 1 LicensePlate, 128.7ms\n",
      "video 1/1 (frame 2427/2880) c:\\Users\\havva\\OneDrive\\Desktop\\plaka_tanima\\test_data\\Car_Traffic_short.mp4: 384x640 2 LicensePlates, 115.7ms\n",
      "video 1/1 (frame 2428/2880) c:\\Users\\havva\\OneDrive\\Desktop\\plaka_tanima\\test_data\\Car_Traffic_short.mp4: 384x640 (no detections), 111.4ms\n",
      "video 1/1 (frame 2429/2880) c:\\Users\\havva\\OneDrive\\Desktop\\plaka_tanima\\test_data\\Car_Traffic_short.mp4: 384x640 1 LicensePlate, 124.5ms\n",
      "video 1/1 (frame 2430/2880) c:\\Users\\havva\\OneDrive\\Desktop\\plaka_tanima\\test_data\\Car_Traffic_short.mp4: 384x640 (no detections), 122.7ms\n",
      "video 1/1 (frame 2431/2880) c:\\Users\\havva\\OneDrive\\Desktop\\plaka_tanima\\test_data\\Car_Traffic_short.mp4: 384x640 1 LicensePlate, 123.7ms\n",
      "video 1/1 (frame 2432/2880) c:\\Users\\havva\\OneDrive\\Desktop\\plaka_tanima\\test_data\\Car_Traffic_short.mp4: 384x640 (no detections), 129.8ms\n",
      "video 1/1 (frame 2433/2880) c:\\Users\\havva\\OneDrive\\Desktop\\plaka_tanima\\test_data\\Car_Traffic_short.mp4: 384x640 (no detections), 114.7ms\n",
      "video 1/1 (frame 2434/2880) c:\\Users\\havva\\OneDrive\\Desktop\\plaka_tanima\\test_data\\Car_Traffic_short.mp4: 384x640 1 LicensePlate, 109.7ms\n",
      "video 1/1 (frame 2435/2880) c:\\Users\\havva\\OneDrive\\Desktop\\plaka_tanima\\test_data\\Car_Traffic_short.mp4: 384x640 (no detections), 113.7ms\n",
      "video 1/1 (frame 2436/2880) c:\\Users\\havva\\OneDrive\\Desktop\\plaka_tanima\\test_data\\Car_Traffic_short.mp4: 384x640 1 LicensePlate, 105.8ms\n",
      "video 1/1 (frame 2437/2880) c:\\Users\\havva\\OneDrive\\Desktop\\plaka_tanima\\test_data\\Car_Traffic_short.mp4: 384x640 (no detections), 112.7ms\n",
      "video 1/1 (frame 2438/2880) c:\\Users\\havva\\OneDrive\\Desktop\\plaka_tanima\\test_data\\Car_Traffic_short.mp4: 384x640 (no detections), 127.7ms\n",
      "video 1/1 (frame 2439/2880) c:\\Users\\havva\\OneDrive\\Desktop\\plaka_tanima\\test_data\\Car_Traffic_short.mp4: 384x640 (no detections), 110.5ms\n",
      "video 1/1 (frame 2440/2880) c:\\Users\\havva\\OneDrive\\Desktop\\plaka_tanima\\test_data\\Car_Traffic_short.mp4: 384x640 1 LicensePlate, 112.7ms\n",
      "video 1/1 (frame 2441/2880) c:\\Users\\havva\\OneDrive\\Desktop\\plaka_tanima\\test_data\\Car_Traffic_short.mp4: 384x640 1 LicensePlate, 115.7ms\n",
      "video 1/1 (frame 2442/2880) c:\\Users\\havva\\OneDrive\\Desktop\\plaka_tanima\\test_data\\Car_Traffic_short.mp4: 384x640 1 LicensePlate, 109.7ms\n",
      "video 1/1 (frame 2443/2880) c:\\Users\\havva\\OneDrive\\Desktop\\plaka_tanima\\test_data\\Car_Traffic_short.mp4: 384x640 1 LicensePlate, 104.7ms\n",
      "video 1/1 (frame 2444/2880) c:\\Users\\havva\\OneDrive\\Desktop\\plaka_tanima\\test_data\\Car_Traffic_short.mp4: 384x640 2 LicensePlates, 129.7ms\n",
      "video 1/1 (frame 2445/2880) c:\\Users\\havva\\OneDrive\\Desktop\\plaka_tanima\\test_data\\Car_Traffic_short.mp4: 384x640 2 LicensePlates, 112.7ms\n",
      "video 1/1 (frame 2446/2880) c:\\Users\\havva\\OneDrive\\Desktop\\plaka_tanima\\test_data\\Car_Traffic_short.mp4: 384x640 1 LicensePlate, 113.7ms\n",
      "video 1/1 (frame 2447/2880) c:\\Users\\havva\\OneDrive\\Desktop\\plaka_tanima\\test_data\\Car_Traffic_short.mp4: 384x640 1 LicensePlate, 110.6ms\n",
      "video 1/1 (frame 2448/2880) c:\\Users\\havva\\OneDrive\\Desktop\\plaka_tanima\\test_data\\Car_Traffic_short.mp4: 384x640 1 LicensePlate, 106.7ms\n",
      "video 1/1 (frame 2449/2880) c:\\Users\\havva\\OneDrive\\Desktop\\plaka_tanima\\test_data\\Car_Traffic_short.mp4: 384x640 1 LicensePlate, 114.7ms\n",
      "video 1/1 (frame 2450/2880) c:\\Users\\havva\\OneDrive\\Desktop\\plaka_tanima\\test_data\\Car_Traffic_short.mp4: 384x640 (no detections), 107.4ms\n",
      "video 1/1 (frame 2451/2880) c:\\Users\\havva\\OneDrive\\Desktop\\plaka_tanima\\test_data\\Car_Traffic_short.mp4: 384x640 (no detections), 111.7ms\n",
      "video 1/1 (frame 2452/2880) c:\\Users\\havva\\OneDrive\\Desktop\\plaka_tanima\\test_data\\Car_Traffic_short.mp4: 384x640 1 LicensePlate, 117.7ms\n",
      "video 1/1 (frame 2453/2880) c:\\Users\\havva\\OneDrive\\Desktop\\plaka_tanima\\test_data\\Car_Traffic_short.mp4: 384x640 1 LicensePlate, 111.7ms\n",
      "video 1/1 (frame 2454/2880) c:\\Users\\havva\\OneDrive\\Desktop\\plaka_tanima\\test_data\\Car_Traffic_short.mp4: 384x640 1 LicensePlate, 107.7ms\n",
      "video 1/1 (frame 2455/2880) c:\\Users\\havva\\OneDrive\\Desktop\\plaka_tanima\\test_data\\Car_Traffic_short.mp4: 384x640 1 LicensePlate, 109.7ms\n",
      "video 1/1 (frame 2456/2880) c:\\Users\\havva\\OneDrive\\Desktop\\plaka_tanima\\test_data\\Car_Traffic_short.mp4: 384x640 1 LicensePlate, 105.7ms\n",
      "video 1/1 (frame 2457/2880) c:\\Users\\havva\\OneDrive\\Desktop\\plaka_tanima\\test_data\\Car_Traffic_short.mp4: 384x640 1 LicensePlate, 110.7ms\n",
      "video 1/1 (frame 2458/2880) c:\\Users\\havva\\OneDrive\\Desktop\\plaka_tanima\\test_data\\Car_Traffic_short.mp4: 384x640 2 LicensePlates, 115.7ms\n",
      "video 1/1 (frame 2459/2880) c:\\Users\\havva\\OneDrive\\Desktop\\plaka_tanima\\test_data\\Car_Traffic_short.mp4: 384x640 2 LicensePlates, 111.7ms\n",
      "video 1/1 (frame 2460/2880) c:\\Users\\havva\\OneDrive\\Desktop\\plaka_tanima\\test_data\\Car_Traffic_short.mp4: 384x640 (no detections), 109.7ms\n",
      "video 1/1 (frame 2461/2880) c:\\Users\\havva\\OneDrive\\Desktop\\plaka_tanima\\test_data\\Car_Traffic_short.mp4: 384x640 (no detections), 106.6ms\n",
      "video 1/1 (frame 2462/2880) c:\\Users\\havva\\OneDrive\\Desktop\\plaka_tanima\\test_data\\Car_Traffic_short.mp4: 384x640 1 LicensePlate, 127.8ms\n",
      "video 1/1 (frame 2463/2880) c:\\Users\\havva\\OneDrive\\Desktop\\plaka_tanima\\test_data\\Car_Traffic_short.mp4: 384x640 1 LicensePlate, 109.7ms\n",
      "video 1/1 (frame 2464/2880) c:\\Users\\havva\\OneDrive\\Desktop\\plaka_tanima\\test_data\\Car_Traffic_short.mp4: 384x640 (no detections), 111.7ms\n",
      "video 1/1 (frame 2465/2880) c:\\Users\\havva\\OneDrive\\Desktop\\plaka_tanima\\test_data\\Car_Traffic_short.mp4: 384x640 1 LicensePlate, 115.7ms\n",
      "video 1/1 (frame 2466/2880) c:\\Users\\havva\\OneDrive\\Desktop\\plaka_tanima\\test_data\\Car_Traffic_short.mp4: 384x640 1 LicensePlate, 110.7ms\n",
      "video 1/1 (frame 2467/2880) c:\\Users\\havva\\OneDrive\\Desktop\\plaka_tanima\\test_data\\Car_Traffic_short.mp4: 384x640 (no detections), 138.6ms\n",
      "video 1/1 (frame 2468/2880) c:\\Users\\havva\\OneDrive\\Desktop\\plaka_tanima\\test_data\\Car_Traffic_short.mp4: 384x640 (no detections), 114.7ms\n",
      "video 1/1 (frame 2469/2880) c:\\Users\\havva\\OneDrive\\Desktop\\plaka_tanima\\test_data\\Car_Traffic_short.mp4: 384x640 (no detections), 118.7ms\n",
      "video 1/1 (frame 2470/2880) c:\\Users\\havva\\OneDrive\\Desktop\\plaka_tanima\\test_data\\Car_Traffic_short.mp4: 384x640 (no detections), 122.7ms\n",
      "video 1/1 (frame 2471/2880) c:\\Users\\havva\\OneDrive\\Desktop\\plaka_tanima\\test_data\\Car_Traffic_short.mp4: 384x640 1 LicensePlate, 119.7ms\n",
      "video 1/1 (frame 2472/2880) c:\\Users\\havva\\OneDrive\\Desktop\\plaka_tanima\\test_data\\Car_Traffic_short.mp4: 384x640 (no detections), 121.7ms\n",
      "video 1/1 (frame 2473/2880) c:\\Users\\havva\\OneDrive\\Desktop\\plaka_tanima\\test_data\\Car_Traffic_short.mp4: 384x640 (no detections), 185.2ms\n",
      "video 1/1 (frame 2474/2880) c:\\Users\\havva\\OneDrive\\Desktop\\plaka_tanima\\test_data\\Car_Traffic_short.mp4: 384x640 (no detections), 115.2ms\n",
      "video 1/1 (frame 2475/2880) c:\\Users\\havva\\OneDrive\\Desktop\\plaka_tanima\\test_data\\Car_Traffic_short.mp4: 384x640 (no detections), 111.7ms\n",
      "video 1/1 (frame 2476/2880) c:\\Users\\havva\\OneDrive\\Desktop\\plaka_tanima\\test_data\\Car_Traffic_short.mp4: 384x640 (no detections), 110.7ms\n",
      "video 1/1 (frame 2477/2880) c:\\Users\\havva\\OneDrive\\Desktop\\plaka_tanima\\test_data\\Car_Traffic_short.mp4: 384x640 1 LicensePlate, 115.6ms\n",
      "video 1/1 (frame 2478/2880) c:\\Users\\havva\\OneDrive\\Desktop\\plaka_tanima\\test_data\\Car_Traffic_short.mp4: 384x640 1 LicensePlate, 109.9ms\n",
      "video 1/1 (frame 2479/2880) c:\\Users\\havva\\OneDrive\\Desktop\\plaka_tanima\\test_data\\Car_Traffic_short.mp4: 384x640 1 LicensePlate, 109.7ms\n",
      "video 1/1 (frame 2480/2880) c:\\Users\\havva\\OneDrive\\Desktop\\plaka_tanima\\test_data\\Car_Traffic_short.mp4: 384x640 1 LicensePlate, 124.7ms\n",
      "video 1/1 (frame 2481/2880) c:\\Users\\havva\\OneDrive\\Desktop\\plaka_tanima\\test_data\\Car_Traffic_short.mp4: 384x640 1 LicensePlate, 111.7ms\n",
      "video 1/1 (frame 2482/2880) c:\\Users\\havva\\OneDrive\\Desktop\\plaka_tanima\\test_data\\Car_Traffic_short.mp4: 384x640 2 LicensePlates, 111.7ms\n",
      "video 1/1 (frame 2483/2880) c:\\Users\\havva\\OneDrive\\Desktop\\plaka_tanima\\test_data\\Car_Traffic_short.mp4: 384x640 2 LicensePlates, 108.6ms\n",
      "video 1/1 (frame 2484/2880) c:\\Users\\havva\\OneDrive\\Desktop\\plaka_tanima\\test_data\\Car_Traffic_short.mp4: 384x640 2 LicensePlates, 109.7ms\n",
      "video 1/1 (frame 2485/2880) c:\\Users\\havva\\OneDrive\\Desktop\\plaka_tanima\\test_data\\Car_Traffic_short.mp4: 384x640 2 LicensePlates, 109.5ms\n",
      "video 1/1 (frame 2486/2880) c:\\Users\\havva\\OneDrive\\Desktop\\plaka_tanima\\test_data\\Car_Traffic_short.mp4: 384x640 2 LicensePlates, 127.7ms\n",
      "video 1/1 (frame 2487/2880) c:\\Users\\havva\\OneDrive\\Desktop\\plaka_tanima\\test_data\\Car_Traffic_short.mp4: 384x640 2 LicensePlates, 115.7ms\n",
      "video 1/1 (frame 2488/2880) c:\\Users\\havva\\OneDrive\\Desktop\\plaka_tanima\\test_data\\Car_Traffic_short.mp4: 384x640 2 LicensePlates, 119.7ms\n",
      "video 1/1 (frame 2489/2880) c:\\Users\\havva\\OneDrive\\Desktop\\plaka_tanima\\test_data\\Car_Traffic_short.mp4: 384x640 2 LicensePlates, 109.7ms\n",
      "video 1/1 (frame 2490/2880) c:\\Users\\havva\\OneDrive\\Desktop\\plaka_tanima\\test_data\\Car_Traffic_short.mp4: 384x640 2 LicensePlates, 114.7ms\n",
      "video 1/1 (frame 2491/2880) c:\\Users\\havva\\OneDrive\\Desktop\\plaka_tanima\\test_data\\Car_Traffic_short.mp4: 384x640 2 LicensePlates, 104.7ms\n",
      "video 1/1 (frame 2492/2880) c:\\Users\\havva\\OneDrive\\Desktop\\plaka_tanima\\test_data\\Car_Traffic_short.mp4: 384x640 2 LicensePlates, 126.7ms\n",
      "video 1/1 (frame 2493/2880) c:\\Users\\havva\\OneDrive\\Desktop\\plaka_tanima\\test_data\\Car_Traffic_short.mp4: 384x640 2 LicensePlates, 146.7ms\n",
      "video 1/1 (frame 2494/2880) c:\\Users\\havva\\OneDrive\\Desktop\\plaka_tanima\\test_data\\Car_Traffic_short.mp4: 384x640 3 LicensePlates, 122.7ms\n",
      "video 1/1 (frame 2495/2880) c:\\Users\\havva\\OneDrive\\Desktop\\plaka_tanima\\test_data\\Car_Traffic_short.mp4: 384x640 2 LicensePlates, 116.7ms\n",
      "video 1/1 (frame 2496/2880) c:\\Users\\havva\\OneDrive\\Desktop\\plaka_tanima\\test_data\\Car_Traffic_short.mp4: 384x640 2 LicensePlates, 112.7ms\n",
      "video 1/1 (frame 2497/2880) c:\\Users\\havva\\OneDrive\\Desktop\\plaka_tanima\\test_data\\Car_Traffic_short.mp4: 384x640 2 LicensePlates, 113.7ms\n",
      "video 1/1 (frame 2498/2880) c:\\Users\\havva\\OneDrive\\Desktop\\plaka_tanima\\test_data\\Car_Traffic_short.mp4: 384x640 2 LicensePlates, 129.7ms\n",
      "video 1/1 (frame 2499/2880) c:\\Users\\havva\\OneDrive\\Desktop\\plaka_tanima\\test_data\\Car_Traffic_short.mp4: 384x640 2 LicensePlates, 111.3ms\n",
      "video 1/1 (frame 2500/2880) c:\\Users\\havva\\OneDrive\\Desktop\\plaka_tanima\\test_data\\Car_Traffic_short.mp4: 384x640 2 LicensePlates, 113.7ms\n",
      "video 1/1 (frame 2501/2880) c:\\Users\\havva\\OneDrive\\Desktop\\plaka_tanima\\test_data\\Car_Traffic_short.mp4: 384x640 2 LicensePlates, 118.7ms\n",
      "video 1/1 (frame 2502/2880) c:\\Users\\havva\\OneDrive\\Desktop\\plaka_tanima\\test_data\\Car_Traffic_short.mp4: 384x640 2 LicensePlates, 117.8ms\n",
      "video 1/1 (frame 2503/2880) c:\\Users\\havva\\OneDrive\\Desktop\\plaka_tanima\\test_data\\Car_Traffic_short.mp4: 384x640 2 LicensePlates, 111.7ms\n",
      "video 1/1 (frame 2504/2880) c:\\Users\\havva\\OneDrive\\Desktop\\plaka_tanima\\test_data\\Car_Traffic_short.mp4: 384x640 1 LicensePlate, 134.6ms\n",
      "video 1/1 (frame 2505/2880) c:\\Users\\havva\\OneDrive\\Desktop\\plaka_tanima\\test_data\\Car_Traffic_short.mp4: 384x640 1 LicensePlate, 115.7ms\n",
      "video 1/1 (frame 2506/2880) c:\\Users\\havva\\OneDrive\\Desktop\\plaka_tanima\\test_data\\Car_Traffic_short.mp4: 384x640 1 LicensePlate, 119.7ms\n",
      "video 1/1 (frame 2507/2880) c:\\Users\\havva\\OneDrive\\Desktop\\plaka_tanima\\test_data\\Car_Traffic_short.mp4: 384x640 1 LicensePlate, 116.8ms\n",
      "video 1/1 (frame 2508/2880) c:\\Users\\havva\\OneDrive\\Desktop\\plaka_tanima\\test_data\\Car_Traffic_short.mp4: 384x640 1 LicensePlate, 109.5ms\n",
      "video 1/1 (frame 2509/2880) c:\\Users\\havva\\OneDrive\\Desktop\\plaka_tanima\\test_data\\Car_Traffic_short.mp4: 384x640 1 LicensePlate, 106.7ms\n",
      "video 1/1 (frame 2510/2880) c:\\Users\\havva\\OneDrive\\Desktop\\plaka_tanima\\test_data\\Car_Traffic_short.mp4: 384x640 1 LicensePlate, 132.6ms\n",
      "video 1/1 (frame 2511/2880) c:\\Users\\havva\\OneDrive\\Desktop\\plaka_tanima\\test_data\\Car_Traffic_short.mp4: 384x640 1 LicensePlate, 117.7ms\n",
      "video 1/1 (frame 2512/2880) c:\\Users\\havva\\OneDrive\\Desktop\\plaka_tanima\\test_data\\Car_Traffic_short.mp4: 384x640 (no detections), 117.8ms\n",
      "video 1/1 (frame 2513/2880) c:\\Users\\havva\\OneDrive\\Desktop\\plaka_tanima\\test_data\\Car_Traffic_short.mp4: 384x640 1 LicensePlate, 108.7ms\n",
      "video 1/1 (frame 2514/2880) c:\\Users\\havva\\OneDrive\\Desktop\\plaka_tanima\\test_data\\Car_Traffic_short.mp4: 384x640 1 LicensePlate, 117.7ms\n",
      "video 1/1 (frame 2515/2880) c:\\Users\\havva\\OneDrive\\Desktop\\plaka_tanima\\test_data\\Car_Traffic_short.mp4: 384x640 2 LicensePlates, 112.4ms\n",
      "video 1/1 (frame 2516/2880) c:\\Users\\havva\\OneDrive\\Desktop\\plaka_tanima\\test_data\\Car_Traffic_short.mp4: 384x640 (no detections), 127.7ms\n",
      "video 1/1 (frame 2517/2880) c:\\Users\\havva\\OneDrive\\Desktop\\plaka_tanima\\test_data\\Car_Traffic_short.mp4: 384x640 (no detections), 112.6ms\n",
      "video 1/1 (frame 2518/2880) c:\\Users\\havva\\OneDrive\\Desktop\\plaka_tanima\\test_data\\Car_Traffic_short.mp4: 384x640 (no detections), 112.7ms\n",
      "video 1/1 (frame 2519/2880) c:\\Users\\havva\\OneDrive\\Desktop\\plaka_tanima\\test_data\\Car_Traffic_short.mp4: 384x640 (no detections), 113.7ms\n",
      "video 1/1 (frame 2520/2880) c:\\Users\\havva\\OneDrive\\Desktop\\plaka_tanima\\test_data\\Car_Traffic_short.mp4: 384x640 1 LicensePlate, 110.7ms\n",
      "video 1/1 (frame 2521/2880) c:\\Users\\havva\\OneDrive\\Desktop\\plaka_tanima\\test_data\\Car_Traffic_short.mp4: 384x640 (no detections), 109.7ms\n",
      "video 1/1 (frame 2522/2880) c:\\Users\\havva\\OneDrive\\Desktop\\plaka_tanima\\test_data\\Car_Traffic_short.mp4: 384x640 (no detections), 128.7ms\n",
      "video 1/1 (frame 2523/2880) c:\\Users\\havva\\OneDrive\\Desktop\\plaka_tanima\\test_data\\Car_Traffic_short.mp4: 384x640 (no detections), 111.7ms\n",
      "video 1/1 (frame 2524/2880) c:\\Users\\havva\\OneDrive\\Desktop\\plaka_tanima\\test_data\\Car_Traffic_short.mp4: 384x640 1 LicensePlate, 108.7ms\n",
      "video 1/1 (frame 2525/2880) c:\\Users\\havva\\OneDrive\\Desktop\\plaka_tanima\\test_data\\Car_Traffic_short.mp4: 384x640 1 LicensePlate, 108.7ms\n",
      "video 1/1 (frame 2526/2880) c:\\Users\\havva\\OneDrive\\Desktop\\plaka_tanima\\test_data\\Car_Traffic_short.mp4: 384x640 2 LicensePlates, 109.8ms\n",
      "video 1/1 (frame 2527/2880) c:\\Users\\havva\\OneDrive\\Desktop\\plaka_tanima\\test_data\\Car_Traffic_short.mp4: 384x640 1 LicensePlate, 109.7ms\n",
      "video 1/1 (frame 2528/2880) c:\\Users\\havva\\OneDrive\\Desktop\\plaka_tanima\\test_data\\Car_Traffic_short.mp4: 384x640 1 LicensePlate, 108.7ms\n",
      "video 1/1 (frame 2529/2880) c:\\Users\\havva\\OneDrive\\Desktop\\plaka_tanima\\test_data\\Car_Traffic_short.mp4: 384x640 1 LicensePlate, 112.7ms\n",
      "video 1/1 (frame 2530/2880) c:\\Users\\havva\\OneDrive\\Desktop\\plaka_tanima\\test_data\\Car_Traffic_short.mp4: 384x640 1 LicensePlate, 113.7ms\n",
      "video 1/1 (frame 2531/2880) c:\\Users\\havva\\OneDrive\\Desktop\\plaka_tanima\\test_data\\Car_Traffic_short.mp4: 384x640 1 LicensePlate, 118.7ms\n",
      "video 1/1 (frame 2532/2880) c:\\Users\\havva\\OneDrive\\Desktop\\plaka_tanima\\test_data\\Car_Traffic_short.mp4: 384x640 1 LicensePlate, 110.4ms\n",
      "video 1/1 (frame 2533/2880) c:\\Users\\havva\\OneDrive\\Desktop\\plaka_tanima\\test_data\\Car_Traffic_short.mp4: 384x640 1 LicensePlate, 113.7ms\n",
      "video 1/1 (frame 2534/2880) c:\\Users\\havva\\OneDrive\\Desktop\\plaka_tanima\\test_data\\Car_Traffic_short.mp4: 384x640 (no detections), 129.7ms\n",
      "video 1/1 (frame 2535/2880) c:\\Users\\havva\\OneDrive\\Desktop\\plaka_tanima\\test_data\\Car_Traffic_short.mp4: 384x640 (no detections), 116.7ms\n",
      "video 1/1 (frame 2536/2880) c:\\Users\\havva\\OneDrive\\Desktop\\plaka_tanima\\test_data\\Car_Traffic_short.mp4: 384x640 (no detections), 117.7ms\n",
      "video 1/1 (frame 2537/2880) c:\\Users\\havva\\OneDrive\\Desktop\\plaka_tanima\\test_data\\Car_Traffic_short.mp4: 384x640 (no detections), 109.7ms\n",
      "video 1/1 (frame 2538/2880) c:\\Users\\havva\\OneDrive\\Desktop\\plaka_tanima\\test_data\\Car_Traffic_short.mp4: 384x640 1 LicensePlate, 105.9ms\n",
      "video 1/1 (frame 2539/2880) c:\\Users\\havva\\OneDrive\\Desktop\\plaka_tanima\\test_data\\Car_Traffic_short.mp4: 384x640 (no detections), 109.7ms\n",
      "video 1/1 (frame 2540/2880) c:\\Users\\havva\\OneDrive\\Desktop\\plaka_tanima\\test_data\\Car_Traffic_short.mp4: 384x640 (no detections), 124.7ms\n",
      "video 1/1 (frame 2541/2880) c:\\Users\\havva\\OneDrive\\Desktop\\plaka_tanima\\test_data\\Car_Traffic_short.mp4: 384x640 (no detections), 110.7ms\n",
      "video 1/1 (frame 2542/2880) c:\\Users\\havva\\OneDrive\\Desktop\\plaka_tanima\\test_data\\Car_Traffic_short.mp4: 384x640 1 LicensePlate, 113.7ms\n",
      "video 1/1 (frame 2543/2880) c:\\Users\\havva\\OneDrive\\Desktop\\plaka_tanima\\test_data\\Car_Traffic_short.mp4: 384x640 1 LicensePlate, 109.7ms\n",
      "video 1/1 (frame 2544/2880) c:\\Users\\havva\\OneDrive\\Desktop\\plaka_tanima\\test_data\\Car_Traffic_short.mp4: 384x640 (no detections), 113.7ms\n",
      "video 1/1 (frame 2545/2880) c:\\Users\\havva\\OneDrive\\Desktop\\plaka_tanima\\test_data\\Car_Traffic_short.mp4: 384x640 1 LicensePlate, 115.7ms\n",
      "video 1/1 (frame 2546/2880) c:\\Users\\havva\\OneDrive\\Desktop\\plaka_tanima\\test_data\\Car_Traffic_short.mp4: 384x640 1 LicensePlate, 126.7ms\n",
      "video 1/1 (frame 2547/2880) c:\\Users\\havva\\OneDrive\\Desktop\\plaka_tanima\\test_data\\Car_Traffic_short.mp4: 384x640 1 LicensePlate, 113.7ms\n",
      "video 1/1 (frame 2548/2880) c:\\Users\\havva\\OneDrive\\Desktop\\plaka_tanima\\test_data\\Car_Traffic_short.mp4: 384x640 1 LicensePlate, 103.7ms\n",
      "video 1/1 (frame 2549/2880) c:\\Users\\havva\\OneDrive\\Desktop\\plaka_tanima\\test_data\\Car_Traffic_short.mp4: 384x640 2 LicensePlates, 108.8ms\n",
      "video 1/1 (frame 2550/2880) c:\\Users\\havva\\OneDrive\\Desktop\\plaka_tanima\\test_data\\Car_Traffic_short.mp4: 384x640 1 LicensePlate, 109.7ms\n",
      "video 1/1 (frame 2551/2880) c:\\Users\\havva\\OneDrive\\Desktop\\plaka_tanima\\test_data\\Car_Traffic_short.mp4: 384x640 (no detections), 105.7ms\n",
      "video 1/1 (frame 2552/2880) c:\\Users\\havva\\OneDrive\\Desktop\\plaka_tanima\\test_data\\Car_Traffic_short.mp4: 384x640 (no detections), 126.7ms\n",
      "video 1/1 (frame 2553/2880) c:\\Users\\havva\\OneDrive\\Desktop\\plaka_tanima\\test_data\\Car_Traffic_short.mp4: 384x640 (no detections), 114.4ms\n",
      "video 1/1 (frame 2554/2880) c:\\Users\\havva\\OneDrive\\Desktop\\plaka_tanima\\test_data\\Car_Traffic_short.mp4: 384x640 (no detections), 107.7ms\n",
      "video 1/1 (frame 2555/2880) c:\\Users\\havva\\OneDrive\\Desktop\\plaka_tanima\\test_data\\Car_Traffic_short.mp4: 384x640 1 LicensePlate, 113.4ms\n",
      "video 1/1 (frame 2556/2880) c:\\Users\\havva\\OneDrive\\Desktop\\plaka_tanima\\test_data\\Car_Traffic_short.mp4: 384x640 1 LicensePlate, 110.9ms\n",
      "video 1/1 (frame 2557/2880) c:\\Users\\havva\\OneDrive\\Desktop\\plaka_tanima\\test_data\\Car_Traffic_short.mp4: 384x640 1 LicensePlate, 131.6ms\n",
      "video 1/1 (frame 2558/2880) c:\\Users\\havva\\OneDrive\\Desktop\\plaka_tanima\\test_data\\Car_Traffic_short.mp4: 384x640 (no detections), 110.5ms\n",
      "video 1/1 (frame 2559/2880) c:\\Users\\havva\\OneDrive\\Desktop\\plaka_tanima\\test_data\\Car_Traffic_short.mp4: 384x640 (no detections), 108.7ms\n",
      "video 1/1 (frame 2560/2880) c:\\Users\\havva\\OneDrive\\Desktop\\plaka_tanima\\test_data\\Car_Traffic_short.mp4: 384x640 1 LicensePlate, 111.9ms\n",
      "video 1/1 (frame 2561/2880) c:\\Users\\havva\\OneDrive\\Desktop\\plaka_tanima\\test_data\\Car_Traffic_short.mp4: 384x640 2 LicensePlates, 114.7ms\n",
      "video 1/1 (frame 2562/2880) c:\\Users\\havva\\OneDrive\\Desktop\\plaka_tanima\\test_data\\Car_Traffic_short.mp4: 384x640 1 LicensePlate, 125.7ms\n",
      "video 1/1 (frame 2563/2880) c:\\Users\\havva\\OneDrive\\Desktop\\plaka_tanima\\test_data\\Car_Traffic_short.mp4: 384x640 1 LicensePlate, 110.7ms\n",
      "video 1/1 (frame 2564/2880) c:\\Users\\havva\\OneDrive\\Desktop\\plaka_tanima\\test_data\\Car_Traffic_short.mp4: 384x640 1 LicensePlate, 110.7ms\n",
      "video 1/1 (frame 2565/2880) c:\\Users\\havva\\OneDrive\\Desktop\\plaka_tanima\\test_data\\Car_Traffic_short.mp4: 384x640 1 LicensePlate, 112.7ms\n",
      "video 1/1 (frame 2566/2880) c:\\Users\\havva\\OneDrive\\Desktop\\plaka_tanima\\test_data\\Car_Traffic_short.mp4: 384x640 2 LicensePlates, 113.7ms\n",
      "video 1/1 (frame 2567/2880) c:\\Users\\havva\\OneDrive\\Desktop\\plaka_tanima\\test_data\\Car_Traffic_short.mp4: 384x640 4 LicensePlates, 108.1ms\n",
      "video 1/1 (frame 2568/2880) c:\\Users\\havva\\OneDrive\\Desktop\\plaka_tanima\\test_data\\Car_Traffic_short.mp4: 384x640 2 LicensePlates, 130.7ms\n",
      "video 1/1 (frame 2569/2880) c:\\Users\\havva\\OneDrive\\Desktop\\plaka_tanima\\test_data\\Car_Traffic_short.mp4: 384x640 2 LicensePlates, 112.7ms\n",
      "video 1/1 (frame 2570/2880) c:\\Users\\havva\\OneDrive\\Desktop\\plaka_tanima\\test_data\\Car_Traffic_short.mp4: 384x640 1 LicensePlate, 109.7ms\n",
      "video 1/1 (frame 2571/2880) c:\\Users\\havva\\OneDrive\\Desktop\\plaka_tanima\\test_data\\Car_Traffic_short.mp4: 384x640 1 LicensePlate, 118.7ms\n",
      "video 1/1 (frame 2572/2880) c:\\Users\\havva\\OneDrive\\Desktop\\plaka_tanima\\test_data\\Car_Traffic_short.mp4: 384x640 4 LicensePlates, 110.5ms\n",
      "video 1/1 (frame 2573/2880) c:\\Users\\havva\\OneDrive\\Desktop\\plaka_tanima\\test_data\\Car_Traffic_short.mp4: 384x640 3 LicensePlates, 110.7ms\n",
      "video 1/1 (frame 2574/2880) c:\\Users\\havva\\OneDrive\\Desktop\\plaka_tanima\\test_data\\Car_Traffic_short.mp4: 384x640 2 LicensePlates, 196.5ms\n",
      "video 1/1 (frame 2575/2880) c:\\Users\\havva\\OneDrive\\Desktop\\plaka_tanima\\test_data\\Car_Traffic_short.mp4: 384x640 2 LicensePlates, 182.5ms\n",
      "video 1/1 (frame 2576/2880) c:\\Users\\havva\\OneDrive\\Desktop\\plaka_tanima\\test_data\\Car_Traffic_short.mp4: 384x640 1 LicensePlate, 185.3ms\n",
      "video 1/1 (frame 2577/2880) c:\\Users\\havva\\OneDrive\\Desktop\\plaka_tanima\\test_data\\Car_Traffic_short.mp4: 384x640 1 LicensePlate, 125.7ms\n",
      "video 1/1 (frame 2578/2880) c:\\Users\\havva\\OneDrive\\Desktop\\plaka_tanima\\test_data\\Car_Traffic_short.mp4: 384x640 2 LicensePlates, 133.6ms\n",
      "video 1/1 (frame 2579/2880) c:\\Users\\havva\\OneDrive\\Desktop\\plaka_tanima\\test_data\\Car_Traffic_short.mp4: 384x640 2 LicensePlates, 130.7ms\n",
      "video 1/1 (frame 2580/2880) c:\\Users\\havva\\OneDrive\\Desktop\\plaka_tanima\\test_data\\Car_Traffic_short.mp4: 384x640 1 LicensePlate, 114.7ms\n",
      "video 1/1 (frame 2581/2880) c:\\Users\\havva\\OneDrive\\Desktop\\plaka_tanima\\test_data\\Car_Traffic_short.mp4: 384x640 2 LicensePlates, 113.7ms\n",
      "video 1/1 (frame 2582/2880) c:\\Users\\havva\\OneDrive\\Desktop\\plaka_tanima\\test_data\\Car_Traffic_short.mp4: 384x640 1 LicensePlate, 113.6ms\n",
      "video 1/1 (frame 2583/2880) c:\\Users\\havva\\OneDrive\\Desktop\\plaka_tanima\\test_data\\Car_Traffic_short.mp4: 384x640 1 LicensePlate, 127.5ms\n",
      "video 1/1 (frame 2584/2880) c:\\Users\\havva\\OneDrive\\Desktop\\plaka_tanima\\test_data\\Car_Traffic_short.mp4: 384x640 1 LicensePlate, 112.7ms\n",
      "video 1/1 (frame 2585/2880) c:\\Users\\havva\\OneDrive\\Desktop\\plaka_tanima\\test_data\\Car_Traffic_short.mp4: 384x640 (no detections), 111.5ms\n",
      "video 1/1 (frame 2586/2880) c:\\Users\\havva\\OneDrive\\Desktop\\plaka_tanima\\test_data\\Car_Traffic_short.mp4: 384x640 (no detections), 118.6ms\n",
      "video 1/1 (frame 2587/2880) c:\\Users\\havva\\OneDrive\\Desktop\\plaka_tanima\\test_data\\Car_Traffic_short.mp4: 384x640 1 LicensePlate, 114.7ms\n",
      "video 1/1 (frame 2588/2880) c:\\Users\\havva\\OneDrive\\Desktop\\plaka_tanima\\test_data\\Car_Traffic_short.mp4: 384x640 1 LicensePlate, 127.7ms\n",
      "video 1/1 (frame 2589/2880) c:\\Users\\havva\\OneDrive\\Desktop\\plaka_tanima\\test_data\\Car_Traffic_short.mp4: 384x640 1 LicensePlate, 111.7ms\n",
      "video 1/1 (frame 2590/2880) c:\\Users\\havva\\OneDrive\\Desktop\\plaka_tanima\\test_data\\Car_Traffic_short.mp4: 384x640 1 LicensePlate, 117.7ms\n",
      "video 1/1 (frame 2591/2880) c:\\Users\\havva\\OneDrive\\Desktop\\plaka_tanima\\test_data\\Car_Traffic_short.mp4: 384x640 1 LicensePlate, 109.7ms\n",
      "video 1/1 (frame 2592/2880) c:\\Users\\havva\\OneDrive\\Desktop\\plaka_tanima\\test_data\\Car_Traffic_short.mp4: 384x640 (no detections), 109.7ms\n",
      "video 1/1 (frame 2593/2880) c:\\Users\\havva\\OneDrive\\Desktop\\plaka_tanima\\test_data\\Car_Traffic_short.mp4: 384x640 1 LicensePlate, 108.7ms\n",
      "video 1/1 (frame 2594/2880) c:\\Users\\havva\\OneDrive\\Desktop\\plaka_tanima\\test_data\\Car_Traffic_short.mp4: 384x640 (no detections), 136.6ms\n",
      "video 1/1 (frame 2595/2880) c:\\Users\\havva\\OneDrive\\Desktop\\plaka_tanima\\test_data\\Car_Traffic_short.mp4: 384x640 (no detections), 157.6ms\n",
      "video 1/1 (frame 2596/2880) c:\\Users\\havva\\OneDrive\\Desktop\\plaka_tanima\\test_data\\Car_Traffic_short.mp4: 384x640 (no detections), 201.5ms\n",
      "video 1/1 (frame 2597/2880) c:\\Users\\havva\\OneDrive\\Desktop\\plaka_tanima\\test_data\\Car_Traffic_short.mp4: 384x640 1 LicensePlate, 119.7ms\n",
      "video 1/1 (frame 2598/2880) c:\\Users\\havva\\OneDrive\\Desktop\\plaka_tanima\\test_data\\Car_Traffic_short.mp4: 384x640 (no detections), 111.7ms\n",
      "video 1/1 (frame 2599/2880) c:\\Users\\havva\\OneDrive\\Desktop\\plaka_tanima\\test_data\\Car_Traffic_short.mp4: 384x640 (no detections), 131.6ms\n",
      "video 1/1 (frame 2600/2880) c:\\Users\\havva\\OneDrive\\Desktop\\plaka_tanima\\test_data\\Car_Traffic_short.mp4: 384x640 (no detections), 111.7ms\n",
      "video 1/1 (frame 2601/2880) c:\\Users\\havva\\OneDrive\\Desktop\\plaka_tanima\\test_data\\Car_Traffic_short.mp4: 384x640 (no detections), 111.7ms\n",
      "video 1/1 (frame 2602/2880) c:\\Users\\havva\\OneDrive\\Desktop\\plaka_tanima\\test_data\\Car_Traffic_short.mp4: 384x640 1 LicensePlate, 115.7ms\n",
      "video 1/1 (frame 2603/2880) c:\\Users\\havva\\OneDrive\\Desktop\\plaka_tanima\\test_data\\Car_Traffic_short.mp4: 384x640 (no detections), 117.7ms\n",
      "video 1/1 (frame 2604/2880) c:\\Users\\havva\\OneDrive\\Desktop\\plaka_tanima\\test_data\\Car_Traffic_short.mp4: 384x640 1 LicensePlate, 104.7ms\n",
      "video 1/1 (frame 2605/2880) c:\\Users\\havva\\OneDrive\\Desktop\\plaka_tanima\\test_data\\Car_Traffic_short.mp4: 384x640 1 LicensePlate, 142.8ms\n",
      "video 1/1 (frame 2606/2880) c:\\Users\\havva\\OneDrive\\Desktop\\plaka_tanima\\test_data\\Car_Traffic_short.mp4: 384x640 (no detections), 173.5ms\n",
      "video 1/1 (frame 2607/2880) c:\\Users\\havva\\OneDrive\\Desktop\\plaka_tanima\\test_data\\Car_Traffic_short.mp4: 384x640 (no detections), 181.6ms\n",
      "video 1/1 (frame 2608/2880) c:\\Users\\havva\\OneDrive\\Desktop\\plaka_tanima\\test_data\\Car_Traffic_short.mp4: 384x640 1 LicensePlate, 187.2ms\n",
      "video 1/1 (frame 2609/2880) c:\\Users\\havva\\OneDrive\\Desktop\\plaka_tanima\\test_data\\Car_Traffic_short.mp4: 384x640 (no detections), 137.9ms\n",
      "video 1/1 (frame 2610/2880) c:\\Users\\havva\\OneDrive\\Desktop\\plaka_tanima\\test_data\\Car_Traffic_short.mp4: 384x640 1 LicensePlate, 141.6ms\n",
      "video 1/1 (frame 2611/2880) c:\\Users\\havva\\OneDrive\\Desktop\\plaka_tanima\\test_data\\Car_Traffic_short.mp4: 384x640 1 LicensePlate, 127.3ms\n",
      "video 1/1 (frame 2612/2880) c:\\Users\\havva\\OneDrive\\Desktop\\plaka_tanima\\test_data\\Car_Traffic_short.mp4: 384x640 1 LicensePlate, 161.6ms\n",
      "video 1/1 (frame 2613/2880) c:\\Users\\havva\\OneDrive\\Desktop\\plaka_tanima\\test_data\\Car_Traffic_short.mp4: 384x640 1 LicensePlate, 132.6ms\n",
      "video 1/1 (frame 2614/2880) c:\\Users\\havva\\OneDrive\\Desktop\\plaka_tanima\\test_data\\Car_Traffic_short.mp4: 384x640 (no detections), 150.6ms\n",
      "video 1/1 (frame 2615/2880) c:\\Users\\havva\\OneDrive\\Desktop\\plaka_tanima\\test_data\\Car_Traffic_short.mp4: 384x640 1 LicensePlate, 161.6ms\n",
      "video 1/1 (frame 2616/2880) c:\\Users\\havva\\OneDrive\\Desktop\\plaka_tanima\\test_data\\Car_Traffic_short.mp4: 384x640 1 LicensePlate, 142.6ms\n",
      "video 1/1 (frame 2617/2880) c:\\Users\\havva\\OneDrive\\Desktop\\plaka_tanima\\test_data\\Car_Traffic_short.mp4: 384x640 1 LicensePlate, 121.7ms\n",
      "video 1/1 (frame 2618/2880) c:\\Users\\havva\\OneDrive\\Desktop\\plaka_tanima\\test_data\\Car_Traffic_short.mp4: 384x640 1 LicensePlate, 114.3ms\n",
      "video 1/1 (frame 2619/2880) c:\\Users\\havva\\OneDrive\\Desktop\\plaka_tanima\\test_data\\Car_Traffic_short.mp4: 384x640 1 LicensePlate, 117.6ms\n",
      "video 1/1 (frame 2620/2880) c:\\Users\\havva\\OneDrive\\Desktop\\plaka_tanima\\test_data\\Car_Traffic_short.mp4: 384x640 (no detections), 132.6ms\n",
      "video 1/1 (frame 2621/2880) c:\\Users\\havva\\OneDrive\\Desktop\\plaka_tanima\\test_data\\Car_Traffic_short.mp4: 384x640 1 LicensePlate, 115.7ms\n",
      "video 1/1 (frame 2622/2880) c:\\Users\\havva\\OneDrive\\Desktop\\plaka_tanima\\test_data\\Car_Traffic_short.mp4: 384x640 2 LicensePlates, 117.7ms\n",
      "video 1/1 (frame 2623/2880) c:\\Users\\havva\\OneDrive\\Desktop\\plaka_tanima\\test_data\\Car_Traffic_short.mp4: 384x640 1 LicensePlate, 114.6ms\n",
      "video 1/1 (frame 2624/2880) c:\\Users\\havva\\OneDrive\\Desktop\\plaka_tanima\\test_data\\Car_Traffic_short.mp4: 384x640 1 LicensePlate, 112.7ms\n",
      "video 1/1 (frame 2625/2880) c:\\Users\\havva\\OneDrive\\Desktop\\plaka_tanima\\test_data\\Car_Traffic_short.mp4: 384x640 1 LicensePlate, 135.6ms\n",
      "video 1/1 (frame 2626/2880) c:\\Users\\havva\\OneDrive\\Desktop\\plaka_tanima\\test_data\\Car_Traffic_short.mp4: 384x640 2 LicensePlates, 112.7ms\n",
      "video 1/1 (frame 2627/2880) c:\\Users\\havva\\OneDrive\\Desktop\\plaka_tanima\\test_data\\Car_Traffic_short.mp4: 384x640 1 LicensePlate, 112.7ms\n",
      "video 1/1 (frame 2628/2880) c:\\Users\\havva\\OneDrive\\Desktop\\plaka_tanima\\test_data\\Car_Traffic_short.mp4: 384x640 1 LicensePlate, 111.7ms\n",
      "video 1/1 (frame 2629/2880) c:\\Users\\havva\\OneDrive\\Desktop\\plaka_tanima\\test_data\\Car_Traffic_short.mp4: 384x640 (no detections), 111.7ms\n",
      "video 1/1 (frame 2630/2880) c:\\Users\\havva\\OneDrive\\Desktop\\plaka_tanima\\test_data\\Car_Traffic_short.mp4: 384x640 (no detections), 132.6ms\n",
      "video 1/1 (frame 2631/2880) c:\\Users\\havva\\OneDrive\\Desktop\\plaka_tanima\\test_data\\Car_Traffic_short.mp4: 384x640 (no detections), 114.7ms\n",
      "video 1/1 (frame 2632/2880) c:\\Users\\havva\\OneDrive\\Desktop\\plaka_tanima\\test_data\\Car_Traffic_short.mp4: 384x640 1 LicensePlate, 116.7ms\n",
      "video 1/1 (frame 2633/2880) c:\\Users\\havva\\OneDrive\\Desktop\\plaka_tanima\\test_data\\Car_Traffic_short.mp4: 384x640 (no detections), 111.7ms\n",
      "video 1/1 (frame 2634/2880) c:\\Users\\havva\\OneDrive\\Desktop\\plaka_tanima\\test_data\\Car_Traffic_short.mp4: 384x640 1 LicensePlate, 154.6ms\n",
      "video 1/1 (frame 2635/2880) c:\\Users\\havva\\OneDrive\\Desktop\\plaka_tanima\\test_data\\Car_Traffic_short.mp4: 384x640 1 LicensePlate, 130.6ms\n",
      "video 1/1 (frame 2636/2880) c:\\Users\\havva\\OneDrive\\Desktop\\plaka_tanima\\test_data\\Car_Traffic_short.mp4: 384x640 1 LicensePlate, 113.0ms\n",
      "video 1/1 (frame 2637/2880) c:\\Users\\havva\\OneDrive\\Desktop\\plaka_tanima\\test_data\\Car_Traffic_short.mp4: 384x640 1 LicensePlate, 115.7ms\n",
      "video 1/1 (frame 2638/2880) c:\\Users\\havva\\OneDrive\\Desktop\\plaka_tanima\\test_data\\Car_Traffic_short.mp4: 384x640 1 LicensePlate, 114.7ms\n",
      "video 1/1 (frame 2639/2880) c:\\Users\\havva\\OneDrive\\Desktop\\plaka_tanima\\test_data\\Car_Traffic_short.mp4: 384x640 3 LicensePlates, 114.7ms\n",
      "video 1/1 (frame 2640/2880) c:\\Users\\havva\\OneDrive\\Desktop\\plaka_tanima\\test_data\\Car_Traffic_short.mp4: 384x640 1 LicensePlate, 132.6ms\n",
      "video 1/1 (frame 2641/2880) c:\\Users\\havva\\OneDrive\\Desktop\\plaka_tanima\\test_data\\Car_Traffic_short.mp4: 384x640 1 LicensePlate, 117.7ms\n",
      "video 1/1 (frame 2642/2880) c:\\Users\\havva\\OneDrive\\Desktop\\plaka_tanima\\test_data\\Car_Traffic_short.mp4: 384x640 1 LicensePlate, 116.7ms\n",
      "video 1/1 (frame 2643/2880) c:\\Users\\havva\\OneDrive\\Desktop\\plaka_tanima\\test_data\\Car_Traffic_short.mp4: 384x640 1 LicensePlate, 114.7ms\n",
      "video 1/1 (frame 2644/2880) c:\\Users\\havva\\OneDrive\\Desktop\\plaka_tanima\\test_data\\Car_Traffic_short.mp4: 384x640 (no detections), 115.7ms\n",
      "video 1/1 (frame 2645/2880) c:\\Users\\havva\\OneDrive\\Desktop\\plaka_tanima\\test_data\\Car_Traffic_short.mp4: 384x640 1 LicensePlate, 134.6ms\n",
      "video 1/1 (frame 2646/2880) c:\\Users\\havva\\OneDrive\\Desktop\\plaka_tanima\\test_data\\Car_Traffic_short.mp4: 384x640 1 LicensePlate, 113.7ms\n",
      "video 1/1 (frame 2647/2880) c:\\Users\\havva\\OneDrive\\Desktop\\plaka_tanima\\test_data\\Car_Traffic_short.mp4: 384x640 1 LicensePlate, 121.7ms\n",
      "video 1/1 (frame 2648/2880) c:\\Users\\havva\\OneDrive\\Desktop\\plaka_tanima\\test_data\\Car_Traffic_short.mp4: 384x640 1 LicensePlate, 119.7ms\n",
      "video 1/1 (frame 2649/2880) c:\\Users\\havva\\OneDrive\\Desktop\\plaka_tanima\\test_data\\Car_Traffic_short.mp4: 384x640 1 LicensePlate, 113.7ms\n",
      "video 1/1 (frame 2650/2880) c:\\Users\\havva\\OneDrive\\Desktop\\plaka_tanima\\test_data\\Car_Traffic_short.mp4: 384x640 1 LicensePlate, 133.6ms\n",
      "video 1/1 (frame 2651/2880) c:\\Users\\havva\\OneDrive\\Desktop\\plaka_tanima\\test_data\\Car_Traffic_short.mp4: 384x640 1 LicensePlate, 116.7ms\n",
      "video 1/1 (frame 2652/2880) c:\\Users\\havva\\OneDrive\\Desktop\\plaka_tanima\\test_data\\Car_Traffic_short.mp4: 384x640 2 LicensePlates, 112.7ms\n",
      "video 1/1 (frame 2653/2880) c:\\Users\\havva\\OneDrive\\Desktop\\plaka_tanima\\test_data\\Car_Traffic_short.mp4: 384x640 1 LicensePlate, 124.7ms\n",
      "video 1/1 (frame 2654/2880) c:\\Users\\havva\\OneDrive\\Desktop\\plaka_tanima\\test_data\\Car_Traffic_short.mp4: 384x640 1 LicensePlate, 114.7ms\n",
      "video 1/1 (frame 2655/2880) c:\\Users\\havva\\OneDrive\\Desktop\\plaka_tanima\\test_data\\Car_Traffic_short.mp4: 384x640 1 LicensePlate, 132.6ms\n",
      "video 1/1 (frame 2656/2880) c:\\Users\\havva\\OneDrive\\Desktop\\plaka_tanima\\test_data\\Car_Traffic_short.mp4: 384x640 (no detections), 117.8ms\n",
      "video 1/1 (frame 2657/2880) c:\\Users\\havva\\OneDrive\\Desktop\\plaka_tanima\\test_data\\Car_Traffic_short.mp4: 384x640 1 LicensePlate, 114.7ms\n",
      "video 1/1 (frame 2658/2880) c:\\Users\\havva\\OneDrive\\Desktop\\plaka_tanima\\test_data\\Car_Traffic_short.mp4: 384x640 (no detections), 114.7ms\n",
      "video 1/1 (frame 2659/2880) c:\\Users\\havva\\OneDrive\\Desktop\\plaka_tanima\\test_data\\Car_Traffic_short.mp4: 384x640 1 LicensePlate, 123.5ms\n",
      "video 1/1 (frame 2660/2880) c:\\Users\\havva\\OneDrive\\Desktop\\plaka_tanima\\test_data\\Car_Traffic_short.mp4: 384x640 1 LicensePlate, 131.6ms\n",
      "video 1/1 (frame 2661/2880) c:\\Users\\havva\\OneDrive\\Desktop\\plaka_tanima\\test_data\\Car_Traffic_short.mp4: 384x640 1 LicensePlate, 113.7ms\n",
      "video 1/1 (frame 2662/2880) c:\\Users\\havva\\OneDrive\\Desktop\\plaka_tanima\\test_data\\Car_Traffic_short.mp4: 384x640 (no detections), 115.5ms\n",
      "video 1/1 (frame 2663/2880) c:\\Users\\havva\\OneDrive\\Desktop\\plaka_tanima\\test_data\\Car_Traffic_short.mp4: 384x640 (no detections), 110.7ms\n",
      "video 1/1 (frame 2664/2880) c:\\Users\\havva\\OneDrive\\Desktop\\plaka_tanima\\test_data\\Car_Traffic_short.mp4: 384x640 (no detections), 113.7ms\n",
      "video 1/1 (frame 2665/2880) c:\\Users\\havva\\OneDrive\\Desktop\\plaka_tanima\\test_data\\Car_Traffic_short.mp4: 384x640 (no detections), 137.6ms\n",
      "video 1/1 (frame 2666/2880) c:\\Users\\havva\\OneDrive\\Desktop\\plaka_tanima\\test_data\\Car_Traffic_short.mp4: 384x640 (no detections), 116.7ms\n",
      "video 1/1 (frame 2667/2880) c:\\Users\\havva\\OneDrive\\Desktop\\plaka_tanima\\test_data\\Car_Traffic_short.mp4: 384x640 (no detections), 110.7ms\n",
      "video 1/1 (frame 2668/2880) c:\\Users\\havva\\OneDrive\\Desktop\\plaka_tanima\\test_data\\Car_Traffic_short.mp4: 384x640 (no detections), 112.7ms\n",
      "video 1/1 (frame 2669/2880) c:\\Users\\havva\\OneDrive\\Desktop\\plaka_tanima\\test_data\\Car_Traffic_short.mp4: 384x640 (no detections), 119.7ms\n",
      "video 1/1 (frame 2670/2880) c:\\Users\\havva\\OneDrive\\Desktop\\plaka_tanima\\test_data\\Car_Traffic_short.mp4: 384x640 (no detections), 138.7ms\n",
      "video 1/1 (frame 2671/2880) c:\\Users\\havva\\OneDrive\\Desktop\\plaka_tanima\\test_data\\Car_Traffic_short.mp4: 384x640 (no detections), 116.7ms\n",
      "video 1/1 (frame 2672/2880) c:\\Users\\havva\\OneDrive\\Desktop\\plaka_tanima\\test_data\\Car_Traffic_short.mp4: 384x640 (no detections), 115.8ms\n",
      "video 1/1 (frame 2673/2880) c:\\Users\\havva\\OneDrive\\Desktop\\plaka_tanima\\test_data\\Car_Traffic_short.mp4: 384x640 (no detections), 115.7ms\n",
      "video 1/1 (frame 2674/2880) c:\\Users\\havva\\OneDrive\\Desktop\\plaka_tanima\\test_data\\Car_Traffic_short.mp4: 384x640 (no detections), 115.7ms\n",
      "video 1/1 (frame 2675/2880) c:\\Users\\havva\\OneDrive\\Desktop\\plaka_tanima\\test_data\\Car_Traffic_short.mp4: 384x640 (no detections), 201.0ms\n",
      "video 1/1 (frame 2676/2880) c:\\Users\\havva\\OneDrive\\Desktop\\plaka_tanima\\test_data\\Car_Traffic_short.mp4: 384x640 (no detections), 112.7ms\n",
      "video 1/1 (frame 2677/2880) c:\\Users\\havva\\OneDrive\\Desktop\\plaka_tanima\\test_data\\Car_Traffic_short.mp4: 384x640 (no detections), 116.7ms\n",
      "video 1/1 (frame 2678/2880) c:\\Users\\havva\\OneDrive\\Desktop\\plaka_tanima\\test_data\\Car_Traffic_short.mp4: 384x640 (no detections), 117.7ms\n",
      "video 1/1 (frame 2679/2880) c:\\Users\\havva\\OneDrive\\Desktop\\plaka_tanima\\test_data\\Car_Traffic_short.mp4: 384x640 (no detections), 116.7ms\n",
      "video 1/1 (frame 2680/2880) c:\\Users\\havva\\OneDrive\\Desktop\\plaka_tanima\\test_data\\Car_Traffic_short.mp4: 384x640 (no detections), 133.5ms\n",
      "video 1/1 (frame 2681/2880) c:\\Users\\havva\\OneDrive\\Desktop\\plaka_tanima\\test_data\\Car_Traffic_short.mp4: 384x640 (no detections), 116.7ms\n",
      "video 1/1 (frame 2682/2880) c:\\Users\\havva\\OneDrive\\Desktop\\plaka_tanima\\test_data\\Car_Traffic_short.mp4: 384x640 (no detections), 114.5ms\n",
      "video 1/1 (frame 2683/2880) c:\\Users\\havva\\OneDrive\\Desktop\\plaka_tanima\\test_data\\Car_Traffic_short.mp4: 384x640 (no detections), 115.7ms\n",
      "video 1/1 (frame 2684/2880) c:\\Users\\havva\\OneDrive\\Desktop\\plaka_tanima\\test_data\\Car_Traffic_short.mp4: 384x640 (no detections), 110.7ms\n",
      "video 1/1 (frame 2685/2880) c:\\Users\\havva\\OneDrive\\Desktop\\plaka_tanima\\test_data\\Car_Traffic_short.mp4: 384x640 (no detections), 130.7ms\n",
      "video 1/1 (frame 2686/2880) c:\\Users\\havva\\OneDrive\\Desktop\\plaka_tanima\\test_data\\Car_Traffic_short.mp4: 384x640 (no detections), 115.7ms\n",
      "video 1/1 (frame 2687/2880) c:\\Users\\havva\\OneDrive\\Desktop\\plaka_tanima\\test_data\\Car_Traffic_short.mp4: 384x640 (no detections), 118.7ms\n",
      "video 1/1 (frame 2688/2880) c:\\Users\\havva\\OneDrive\\Desktop\\plaka_tanima\\test_data\\Car_Traffic_short.mp4: 384x640 (no detections), 110.7ms\n",
      "video 1/1 (frame 2689/2880) c:\\Users\\havva\\OneDrive\\Desktop\\plaka_tanima\\test_data\\Car_Traffic_short.mp4: 384x640 (no detections), 118.7ms\n",
      "video 1/1 (frame 2690/2880) c:\\Users\\havva\\OneDrive\\Desktop\\plaka_tanima\\test_data\\Car_Traffic_short.mp4: 384x640 (no detections), 125.7ms\n",
      "video 1/1 (frame 2691/2880) c:\\Users\\havva\\OneDrive\\Desktop\\plaka_tanima\\test_data\\Car_Traffic_short.mp4: 384x640 (no detections), 113.8ms\n",
      "video 1/1 (frame 2692/2880) c:\\Users\\havva\\OneDrive\\Desktop\\plaka_tanima\\test_data\\Car_Traffic_short.mp4: 384x640 (no detections), 112.7ms\n",
      "video 1/1 (frame 2693/2880) c:\\Users\\havva\\OneDrive\\Desktop\\plaka_tanima\\test_data\\Car_Traffic_short.mp4: 384x640 (no detections), 119.7ms\n",
      "video 1/1 (frame 2694/2880) c:\\Users\\havva\\OneDrive\\Desktop\\plaka_tanima\\test_data\\Car_Traffic_short.mp4: 384x640 (no detections), 121.6ms\n",
      "video 1/1 (frame 2695/2880) c:\\Users\\havva\\OneDrive\\Desktop\\plaka_tanima\\test_data\\Car_Traffic_short.mp4: 384x640 (no detections), 130.6ms\n",
      "video 1/1 (frame 2696/2880) c:\\Users\\havva\\OneDrive\\Desktop\\plaka_tanima\\test_data\\Car_Traffic_short.mp4: 384x640 (no detections), 118.7ms\n",
      "video 1/1 (frame 2697/2880) c:\\Users\\havva\\OneDrive\\Desktop\\plaka_tanima\\test_data\\Car_Traffic_short.mp4: 384x640 (no detections), 113.7ms\n",
      "video 1/1 (frame 2698/2880) c:\\Users\\havva\\OneDrive\\Desktop\\plaka_tanima\\test_data\\Car_Traffic_short.mp4: 384x640 (no detections), 116.7ms\n",
      "video 1/1 (frame 2699/2880) c:\\Users\\havva\\OneDrive\\Desktop\\plaka_tanima\\test_data\\Car_Traffic_short.mp4: 384x640 (no detections), 115.7ms\n",
      "video 1/1 (frame 2700/2880) c:\\Users\\havva\\OneDrive\\Desktop\\plaka_tanima\\test_data\\Car_Traffic_short.mp4: 384x640 (no detections), 133.9ms\n",
      "video 1/1 (frame 2701/2880) c:\\Users\\havva\\OneDrive\\Desktop\\plaka_tanima\\test_data\\Car_Traffic_short.mp4: 384x640 (no detections), 118.7ms\n",
      "video 1/1 (frame 2702/2880) c:\\Users\\havva\\OneDrive\\Desktop\\plaka_tanima\\test_data\\Car_Traffic_short.mp4: 384x640 (no detections), 110.7ms\n",
      "video 1/1 (frame 2703/2880) c:\\Users\\havva\\OneDrive\\Desktop\\plaka_tanima\\test_data\\Car_Traffic_short.mp4: 384x640 (no detections), 113.7ms\n",
      "video 1/1 (frame 2704/2880) c:\\Users\\havva\\OneDrive\\Desktop\\plaka_tanima\\test_data\\Car_Traffic_short.mp4: 384x640 (no detections), 120.6ms\n",
      "video 1/1 (frame 2705/2880) c:\\Users\\havva\\OneDrive\\Desktop\\plaka_tanima\\test_data\\Car_Traffic_short.mp4: 384x640 (no detections), 132.5ms\n",
      "video 1/1 (frame 2706/2880) c:\\Users\\havva\\OneDrive\\Desktop\\plaka_tanima\\test_data\\Car_Traffic_short.mp4: 384x640 1 LicensePlate, 113.7ms\n",
      "video 1/1 (frame 2707/2880) c:\\Users\\havva\\OneDrive\\Desktop\\plaka_tanima\\test_data\\Car_Traffic_short.mp4: 384x640 2 LicensePlates, 114.4ms\n",
      "video 1/1 (frame 2708/2880) c:\\Users\\havva\\OneDrive\\Desktop\\plaka_tanima\\test_data\\Car_Traffic_short.mp4: 384x640 (no detections), 113.7ms\n",
      "video 1/1 (frame 2709/2880) c:\\Users\\havva\\OneDrive\\Desktop\\plaka_tanima\\test_data\\Car_Traffic_short.mp4: 384x640 (no detections), 117.8ms\n",
      "video 1/1 (frame 2710/2880) c:\\Users\\havva\\OneDrive\\Desktop\\plaka_tanima\\test_data\\Car_Traffic_short.mp4: 384x640 (no detections), 111.7ms\n",
      "video 1/1 (frame 2711/2880) c:\\Users\\havva\\OneDrive\\Desktop\\plaka_tanima\\test_data\\Car_Traffic_short.mp4: 384x640 (no detections), 121.7ms\n",
      "video 1/1 (frame 2712/2880) c:\\Users\\havva\\OneDrive\\Desktop\\plaka_tanima\\test_data\\Car_Traffic_short.mp4: 384x640 (no detections), 111.7ms\n",
      "video 1/1 (frame 2713/2880) c:\\Users\\havva\\OneDrive\\Desktop\\plaka_tanima\\test_data\\Car_Traffic_short.mp4: 384x640 (no detections), 134.6ms\n",
      "video 1/1 (frame 2714/2880) c:\\Users\\havva\\OneDrive\\Desktop\\plaka_tanima\\test_data\\Car_Traffic_short.mp4: 384x640 (no detections), 119.7ms\n",
      "video 1/1 (frame 2715/2880) c:\\Users\\havva\\OneDrive\\Desktop\\plaka_tanima\\test_data\\Car_Traffic_short.mp4: 384x640 (no detections), 134.6ms\n",
      "video 1/1 (frame 2716/2880) c:\\Users\\havva\\OneDrive\\Desktop\\plaka_tanima\\test_data\\Car_Traffic_short.mp4: 384x640 (no detections), 116.7ms\n",
      "video 1/1 (frame 2717/2880) c:\\Users\\havva\\OneDrive\\Desktop\\plaka_tanima\\test_data\\Car_Traffic_short.mp4: 384x640 (no detections), 113.7ms\n",
      "video 1/1 (frame 2718/2880) c:\\Users\\havva\\OneDrive\\Desktop\\plaka_tanima\\test_data\\Car_Traffic_short.mp4: 384x640 (no detections), 106.7ms\n",
      "video 1/1 (frame 2719/2880) c:\\Users\\havva\\OneDrive\\Desktop\\plaka_tanima\\test_data\\Car_Traffic_short.mp4: 384x640 (no detections), 116.7ms\n",
      "video 1/1 (frame 2720/2880) c:\\Users\\havva\\OneDrive\\Desktop\\plaka_tanima\\test_data\\Car_Traffic_short.mp4: 384x640 (no detections), 130.7ms\n",
      "video 1/1 (frame 2721/2880) c:\\Users\\havva\\OneDrive\\Desktop\\plaka_tanima\\test_data\\Car_Traffic_short.mp4: 384x640 (no detections), 117.7ms\n",
      "video 1/1 (frame 2722/2880) c:\\Users\\havva\\OneDrive\\Desktop\\plaka_tanima\\test_data\\Car_Traffic_short.mp4: 384x640 (no detections), 117.7ms\n",
      "video 1/1 (frame 2723/2880) c:\\Users\\havva\\OneDrive\\Desktop\\plaka_tanima\\test_data\\Car_Traffic_short.mp4: 384x640 (no detections), 117.7ms\n",
      "video 1/1 (frame 2724/2880) c:\\Users\\havva\\OneDrive\\Desktop\\plaka_tanima\\test_data\\Car_Traffic_short.mp4: 384x640 (no detections), 115.7ms\n",
      "video 1/1 (frame 2725/2880) c:\\Users\\havva\\OneDrive\\Desktop\\plaka_tanima\\test_data\\Car_Traffic_short.mp4: 384x640 (no detections), 111.7ms\n",
      "video 1/1 (frame 2726/2880) c:\\Users\\havva\\OneDrive\\Desktop\\plaka_tanima\\test_data\\Car_Traffic_short.mp4: 384x640 (no detections), 129.3ms\n",
      "video 1/1 (frame 2727/2880) c:\\Users\\havva\\OneDrive\\Desktop\\plaka_tanima\\test_data\\Car_Traffic_short.mp4: 384x640 (no detections), 112.7ms\n",
      "video 1/1 (frame 2728/2880) c:\\Users\\havva\\OneDrive\\Desktop\\plaka_tanima\\test_data\\Car_Traffic_short.mp4: 384x640 (no detections), 153.6ms\n",
      "video 1/1 (frame 2729/2880) c:\\Users\\havva\\OneDrive\\Desktop\\plaka_tanima\\test_data\\Car_Traffic_short.mp4: 384x640 (no detections), 118.7ms\n",
      "video 1/1 (frame 2730/2880) c:\\Users\\havva\\OneDrive\\Desktop\\plaka_tanima\\test_data\\Car_Traffic_short.mp4: 384x640 (no detections), 116.7ms\n",
      "video 1/1 (frame 2731/2880) c:\\Users\\havva\\OneDrive\\Desktop\\plaka_tanima\\test_data\\Car_Traffic_short.mp4: 384x640 (no detections), 133.6ms\n",
      "video 1/1 (frame 2732/2880) c:\\Users\\havva\\OneDrive\\Desktop\\plaka_tanima\\test_data\\Car_Traffic_short.mp4: 384x640 (no detections), 114.7ms\n",
      "video 1/1 (frame 2733/2880) c:\\Users\\havva\\OneDrive\\Desktop\\plaka_tanima\\test_data\\Car_Traffic_short.mp4: 384x640 (no detections), 113.5ms\n",
      "video 1/1 (frame 2734/2880) c:\\Users\\havva\\OneDrive\\Desktop\\plaka_tanima\\test_data\\Car_Traffic_short.mp4: 384x640 (no detections), 110.7ms\n",
      "video 1/1 (frame 2735/2880) c:\\Users\\havva\\OneDrive\\Desktop\\plaka_tanima\\test_data\\Car_Traffic_short.mp4: 384x640 (no detections), 112.7ms\n",
      "video 1/1 (frame 2736/2880) c:\\Users\\havva\\OneDrive\\Desktop\\plaka_tanima\\test_data\\Car_Traffic_short.mp4: 384x640 (no detections), 131.6ms\n",
      "video 1/1 (frame 2737/2880) c:\\Users\\havva\\OneDrive\\Desktop\\plaka_tanima\\test_data\\Car_Traffic_short.mp4: 384x640 (no detections), 118.7ms\n",
      "video 1/1 (frame 2738/2880) c:\\Users\\havva\\OneDrive\\Desktop\\plaka_tanima\\test_data\\Car_Traffic_short.mp4: 384x640 (no detections), 112.7ms\n",
      "video 1/1 (frame 2739/2880) c:\\Users\\havva\\OneDrive\\Desktop\\plaka_tanima\\test_data\\Car_Traffic_short.mp4: 384x640 (no detections), 114.7ms\n",
      "video 1/1 (frame 2740/2880) c:\\Users\\havva\\OneDrive\\Desktop\\plaka_tanima\\test_data\\Car_Traffic_short.mp4: 384x640 (no detections), 117.7ms\n",
      "video 1/1 (frame 2741/2880) c:\\Users\\havva\\OneDrive\\Desktop\\plaka_tanima\\test_data\\Car_Traffic_short.mp4: 384x640 (no detections), 115.7ms\n",
      "video 1/1 (frame 2742/2880) c:\\Users\\havva\\OneDrive\\Desktop\\plaka_tanima\\test_data\\Car_Traffic_short.mp4: 384x640 (no detections), 128.7ms\n",
      "video 1/1 (frame 2743/2880) c:\\Users\\havva\\OneDrive\\Desktop\\plaka_tanima\\test_data\\Car_Traffic_short.mp4: 384x640 (no detections), 112.7ms\n",
      "video 1/1 (frame 2744/2880) c:\\Users\\havva\\OneDrive\\Desktop\\plaka_tanima\\test_data\\Car_Traffic_short.mp4: 384x640 (no detections), 113.7ms\n",
      "video 1/1 (frame 2745/2880) c:\\Users\\havva\\OneDrive\\Desktop\\plaka_tanima\\test_data\\Car_Traffic_short.mp4: 384x640 (no detections), 114.8ms\n",
      "video 1/1 (frame 2746/2880) c:\\Users\\havva\\OneDrive\\Desktop\\plaka_tanima\\test_data\\Car_Traffic_short.mp4: 384x640 (no detections), 119.7ms\n",
      "video 1/1 (frame 2747/2880) c:\\Users\\havva\\OneDrive\\Desktop\\plaka_tanima\\test_data\\Car_Traffic_short.mp4: 384x640 (no detections), 134.6ms\n",
      "video 1/1 (frame 2748/2880) c:\\Users\\havva\\OneDrive\\Desktop\\plaka_tanima\\test_data\\Car_Traffic_short.mp4: 384x640 (no detections), 113.7ms\n",
      "video 1/1 (frame 2749/2880) c:\\Users\\havva\\OneDrive\\Desktop\\plaka_tanima\\test_data\\Car_Traffic_short.mp4: 384x640 (no detections), 119.7ms\n",
      "video 1/1 (frame 2750/2880) c:\\Users\\havva\\OneDrive\\Desktop\\plaka_tanima\\test_data\\Car_Traffic_short.mp4: 384x640 (no detections), 112.7ms\n",
      "video 1/1 (frame 2751/2880) c:\\Users\\havva\\OneDrive\\Desktop\\plaka_tanima\\test_data\\Car_Traffic_short.mp4: 384x640 (no detections), 113.7ms\n",
      "video 1/1 (frame 2752/2880) c:\\Users\\havva\\OneDrive\\Desktop\\plaka_tanima\\test_data\\Car_Traffic_short.mp4: 384x640 (no detections), 112.7ms\n",
      "video 1/1 (frame 2753/2880) c:\\Users\\havva\\OneDrive\\Desktop\\plaka_tanima\\test_data\\Car_Traffic_short.mp4: 384x640 (no detections), 137.6ms\n",
      "video 1/1 (frame 2754/2880) c:\\Users\\havva\\OneDrive\\Desktop\\plaka_tanima\\test_data\\Car_Traffic_short.mp4: 384x640 (no detections), 114.6ms\n",
      "video 1/1 (frame 2755/2880) c:\\Users\\havva\\OneDrive\\Desktop\\plaka_tanima\\test_data\\Car_Traffic_short.mp4: 384x640 (no detections), 115.3ms\n",
      "video 1/1 (frame 2756/2880) c:\\Users\\havva\\OneDrive\\Desktop\\plaka_tanima\\test_data\\Car_Traffic_short.mp4: 384x640 (no detections), 111.8ms\n",
      "video 1/1 (frame 2757/2880) c:\\Users\\havva\\OneDrive\\Desktop\\plaka_tanima\\test_data\\Car_Traffic_short.mp4: 384x640 (no detections), 116.7ms\n",
      "video 1/1 (frame 2758/2880) c:\\Users\\havva\\OneDrive\\Desktop\\plaka_tanima\\test_data\\Car_Traffic_short.mp4: 384x640 (no detections), 112.7ms\n",
      "video 1/1 (frame 2759/2880) c:\\Users\\havva\\OneDrive\\Desktop\\plaka_tanima\\test_data\\Car_Traffic_short.mp4: 384x640 1 LicensePlate, 139.6ms\n",
      "video 1/1 (frame 2760/2880) c:\\Users\\havva\\OneDrive\\Desktop\\plaka_tanima\\test_data\\Car_Traffic_short.mp4: 384x640 1 LicensePlate, 112.7ms\n",
      "video 1/1 (frame 2761/2880) c:\\Users\\havva\\OneDrive\\Desktop\\plaka_tanima\\test_data\\Car_Traffic_short.mp4: 384x640 1 LicensePlate, 111.7ms\n",
      "video 1/1 (frame 2762/2880) c:\\Users\\havva\\OneDrive\\Desktop\\plaka_tanima\\test_data\\Car_Traffic_short.mp4: 384x640 1 LicensePlate, 170.6ms\n",
      "video 1/1 (frame 2763/2880) c:\\Users\\havva\\OneDrive\\Desktop\\plaka_tanima\\test_data\\Car_Traffic_short.mp4: 384x640 1 LicensePlate, 130.6ms\n",
      "video 1/1 (frame 2764/2880) c:\\Users\\havva\\OneDrive\\Desktop\\plaka_tanima\\test_data\\Car_Traffic_short.mp4: 384x640 1 LicensePlate, 160.7ms\n",
      "video 1/1 (frame 2765/2880) c:\\Users\\havva\\OneDrive\\Desktop\\plaka_tanima\\test_data\\Car_Traffic_short.mp4: 384x640 1 LicensePlate, 150.5ms\n",
      "video 1/1 (frame 2766/2880) c:\\Users\\havva\\OneDrive\\Desktop\\plaka_tanima\\test_data\\Car_Traffic_short.mp4: 384x640 1 LicensePlate, 140.6ms\n",
      "video 1/1 (frame 2767/2880) c:\\Users\\havva\\OneDrive\\Desktop\\plaka_tanima\\test_data\\Car_Traffic_short.mp4: 384x640 1 LicensePlate, 128.7ms\n",
      "video 1/1 (frame 2768/2880) c:\\Users\\havva\\OneDrive\\Desktop\\plaka_tanima\\test_data\\Car_Traffic_short.mp4: 384x640 1 LicensePlate, 133.6ms\n",
      "video 1/1 (frame 2769/2880) c:\\Users\\havva\\OneDrive\\Desktop\\plaka_tanima\\test_data\\Car_Traffic_short.mp4: 384x640 1 LicensePlate, 141.1ms\n",
      "video 1/1 (frame 2770/2880) c:\\Users\\havva\\OneDrive\\Desktop\\plaka_tanima\\test_data\\Car_Traffic_short.mp4: 384x640 1 LicensePlate, 125.7ms\n",
      "video 1/1 (frame 2771/2880) c:\\Users\\havva\\OneDrive\\Desktop\\plaka_tanima\\test_data\\Car_Traffic_short.mp4: 384x640 (no detections), 116.7ms\n",
      "video 1/1 (frame 2772/2880) c:\\Users\\havva\\OneDrive\\Desktop\\plaka_tanima\\test_data\\Car_Traffic_short.mp4: 384x640 (no detections), 130.7ms\n",
      "video 1/1 (frame 2773/2880) c:\\Users\\havva\\OneDrive\\Desktop\\plaka_tanima\\test_data\\Car_Traffic_short.mp4: 384x640 (no detections), 121.7ms\n",
      "video 1/1 (frame 2774/2880) c:\\Users\\havva\\OneDrive\\Desktop\\plaka_tanima\\test_data\\Car_Traffic_short.mp4: 384x640 1 LicensePlate, 117.7ms\n",
      "video 1/1 (frame 2775/2880) c:\\Users\\havva\\OneDrive\\Desktop\\plaka_tanima\\test_data\\Car_Traffic_short.mp4: 384x640 1 LicensePlate, 141.3ms\n",
      "video 1/1 (frame 2776/2880) c:\\Users\\havva\\OneDrive\\Desktop\\plaka_tanima\\test_data\\Car_Traffic_short.mp4: 384x640 2 LicensePlates, 131.6ms\n",
      "video 1/1 (frame 2777/2880) c:\\Users\\havva\\OneDrive\\Desktop\\plaka_tanima\\test_data\\Car_Traffic_short.mp4: 384x640 1 LicensePlate, 272.3ms\n",
      "video 1/1 (frame 2778/2880) c:\\Users\\havva\\OneDrive\\Desktop\\plaka_tanima\\test_data\\Car_Traffic_short.mp4: 384x640 1 LicensePlate, 160.0ms\n",
      "video 1/1 (frame 2779/2880) c:\\Users\\havva\\OneDrive\\Desktop\\plaka_tanima\\test_data\\Car_Traffic_short.mp4: 384x640 2 LicensePlates, 121.4ms\n",
      "video 1/1 (frame 2780/2880) c:\\Users\\havva\\OneDrive\\Desktop\\plaka_tanima\\test_data\\Car_Traffic_short.mp4: 384x640 1 LicensePlate, 120.7ms\n",
      "video 1/1 (frame 2781/2880) c:\\Users\\havva\\OneDrive\\Desktop\\plaka_tanima\\test_data\\Car_Traffic_short.mp4: 384x640 1 LicensePlate, 122.7ms\n",
      "video 1/1 (frame 2782/2880) c:\\Users\\havva\\OneDrive\\Desktop\\plaka_tanima\\test_data\\Car_Traffic_short.mp4: 384x640 1 LicensePlate, 178.5ms\n",
      "video 1/1 (frame 2783/2880) c:\\Users\\havva\\OneDrive\\Desktop\\plaka_tanima\\test_data\\Car_Traffic_short.mp4: 384x640 1 LicensePlate, 233.4ms\n",
      "video 1/1 (frame 2784/2880) c:\\Users\\havva\\OneDrive\\Desktop\\plaka_tanima\\test_data\\Car_Traffic_short.mp4: 384x640 1 LicensePlate, 203.8ms\n",
      "video 1/1 (frame 2785/2880) c:\\Users\\havva\\OneDrive\\Desktop\\plaka_tanima\\test_data\\Car_Traffic_short.mp4: 384x640 (no detections), 210.4ms\n",
      "video 1/1 (frame 2786/2880) c:\\Users\\havva\\OneDrive\\Desktop\\plaka_tanima\\test_data\\Car_Traffic_short.mp4: 384x640 (no detections), 182.5ms\n",
      "video 1/1 (frame 2787/2880) c:\\Users\\havva\\OneDrive\\Desktop\\plaka_tanima\\test_data\\Car_Traffic_short.mp4: 384x640 1 LicensePlate, 142.6ms\n",
      "video 1/1 (frame 2788/2880) c:\\Users\\havva\\OneDrive\\Desktop\\plaka_tanima\\test_data\\Car_Traffic_short.mp4: 384x640 1 LicensePlate, 127.7ms\n",
      "video 1/1 (frame 2789/2880) c:\\Users\\havva\\OneDrive\\Desktop\\plaka_tanima\\test_data\\Car_Traffic_short.mp4: 384x640 1 LicensePlate, 116.7ms\n",
      "video 1/1 (frame 2790/2880) c:\\Users\\havva\\OneDrive\\Desktop\\plaka_tanima\\test_data\\Car_Traffic_short.mp4: 384x640 2 LicensePlates, 120.7ms\n",
      "video 1/1 (frame 2791/2880) c:\\Users\\havva\\OneDrive\\Desktop\\plaka_tanima\\test_data\\Car_Traffic_short.mp4: 384x640 1 LicensePlate, 137.6ms\n",
      "video 1/1 (frame 2792/2880) c:\\Users\\havva\\OneDrive\\Desktop\\plaka_tanima\\test_data\\Car_Traffic_short.mp4: 384x640 1 LicensePlate, 194.5ms\n",
      "video 1/1 (frame 2793/2880) c:\\Users\\havva\\OneDrive\\Desktop\\plaka_tanima\\test_data\\Car_Traffic_short.mp4: 384x640 1 LicensePlate, 192.5ms\n",
      "video 1/1 (frame 2794/2880) c:\\Users\\havva\\OneDrive\\Desktop\\plaka_tanima\\test_data\\Car_Traffic_short.mp4: 384x640 2 LicensePlates, 186.5ms\n",
      "video 1/1 (frame 2795/2880) c:\\Users\\havva\\OneDrive\\Desktop\\plaka_tanima\\test_data\\Car_Traffic_short.mp4: 384x640 2 LicensePlates, 117.7ms\n",
      "video 1/1 (frame 2796/2880) c:\\Users\\havva\\OneDrive\\Desktop\\plaka_tanima\\test_data\\Car_Traffic_short.mp4: 384x640 1 LicensePlate, 134.6ms\n",
      "video 1/1 (frame 2797/2880) c:\\Users\\havva\\OneDrive\\Desktop\\plaka_tanima\\test_data\\Car_Traffic_short.mp4: 384x640 1 LicensePlate, 118.7ms\n",
      "video 1/1 (frame 2798/2880) c:\\Users\\havva\\OneDrive\\Desktop\\plaka_tanima\\test_data\\Car_Traffic_short.mp4: 384x640 1 LicensePlate, 122.7ms\n",
      "video 1/1 (frame 2799/2880) c:\\Users\\havva\\OneDrive\\Desktop\\plaka_tanima\\test_data\\Car_Traffic_short.mp4: 384x640 1 LicensePlate, 123.7ms\n",
      "video 1/1 (frame 2800/2880) c:\\Users\\havva\\OneDrive\\Desktop\\plaka_tanima\\test_data\\Car_Traffic_short.mp4: 384x640 1 LicensePlate, 152.6ms\n",
      "video 1/1 (frame 2801/2880) c:\\Users\\havva\\OneDrive\\Desktop\\plaka_tanima\\test_data\\Car_Traffic_short.mp4: 384x640 1 LicensePlate, 159.6ms\n",
      "video 1/1 (frame 2802/2880) c:\\Users\\havva\\OneDrive\\Desktop\\plaka_tanima\\test_data\\Car_Traffic_short.mp4: 384x640 1 LicensePlate, 186.5ms\n",
      "video 1/1 (frame 2803/2880) c:\\Users\\havva\\OneDrive\\Desktop\\plaka_tanima\\test_data\\Car_Traffic_short.mp4: 384x640 1 LicensePlate, 124.7ms\n",
      "video 1/1 (frame 2804/2880) c:\\Users\\havva\\OneDrive\\Desktop\\plaka_tanima\\test_data\\Car_Traffic_short.mp4: 384x640 (no detections), 136.8ms\n",
      "video 1/1 (frame 2805/2880) c:\\Users\\havva\\OneDrive\\Desktop\\plaka_tanima\\test_data\\Car_Traffic_short.mp4: 384x640 (no detections), 155.6ms\n",
      "video 1/1 (frame 2806/2880) c:\\Users\\havva\\OneDrive\\Desktop\\plaka_tanima\\test_data\\Car_Traffic_short.mp4: 384x640 2 LicensePlates, 155.6ms\n",
      "video 1/1 (frame 2807/2880) c:\\Users\\havva\\OneDrive\\Desktop\\plaka_tanima\\test_data\\Car_Traffic_short.mp4: 384x640 (no detections), 115.7ms\n",
      "video 1/1 (frame 2808/2880) c:\\Users\\havva\\OneDrive\\Desktop\\plaka_tanima\\test_data\\Car_Traffic_short.mp4: 384x640 1 LicensePlate, 113.5ms\n",
      "video 1/1 (frame 2809/2880) c:\\Users\\havva\\OneDrive\\Desktop\\plaka_tanima\\test_data\\Car_Traffic_short.mp4: 384x640 (no detections), 115.6ms\n",
      "video 1/1 (frame 2810/2880) c:\\Users\\havva\\OneDrive\\Desktop\\plaka_tanima\\test_data\\Car_Traffic_short.mp4: 384x640 1 LicensePlate, 124.7ms\n",
      "video 1/1 (frame 2811/2880) c:\\Users\\havva\\OneDrive\\Desktop\\plaka_tanima\\test_data\\Car_Traffic_short.mp4: 384x640 1 LicensePlate, 146.7ms\n",
      "video 1/1 (frame 2812/2880) c:\\Users\\havva\\OneDrive\\Desktop\\plaka_tanima\\test_data\\Car_Traffic_short.mp4: 384x640 1 LicensePlate, 117.6ms\n",
      "video 1/1 (frame 2813/2880) c:\\Users\\havva\\OneDrive\\Desktop\\plaka_tanima\\test_data\\Car_Traffic_short.mp4: 384x640 (no detections), 120.7ms\n",
      "video 1/1 (frame 2814/2880) c:\\Users\\havva\\OneDrive\\Desktop\\plaka_tanima\\test_data\\Car_Traffic_short.mp4: 384x640 (no detections), 120.7ms\n",
      "video 1/1 (frame 2815/2880) c:\\Users\\havva\\OneDrive\\Desktop\\plaka_tanima\\test_data\\Car_Traffic_short.mp4: 384x640 (no detections), 117.7ms\n",
      "video 1/1 (frame 2816/2880) c:\\Users\\havva\\OneDrive\\Desktop\\plaka_tanima\\test_data\\Car_Traffic_short.mp4: 384x640 (no detections), 139.6ms\n",
      "video 1/1 (frame 2817/2880) c:\\Users\\havva\\OneDrive\\Desktop\\plaka_tanima\\test_data\\Car_Traffic_short.mp4: 384x640 (no detections), 119.7ms\n",
      "video 1/1 (frame 2818/2880) c:\\Users\\havva\\OneDrive\\Desktop\\plaka_tanima\\test_data\\Car_Traffic_short.mp4: 384x640 1 LicensePlate, 128.7ms\n",
      "video 1/1 (frame 2819/2880) c:\\Users\\havva\\OneDrive\\Desktop\\plaka_tanima\\test_data\\Car_Traffic_short.mp4: 384x640 (no detections), 131.6ms\n",
      "video 1/1 (frame 2820/2880) c:\\Users\\havva\\OneDrive\\Desktop\\plaka_tanima\\test_data\\Car_Traffic_short.mp4: 384x640 (no detections), 125.7ms\n",
      "video 1/1 (frame 2821/2880) c:\\Users\\havva\\OneDrive\\Desktop\\plaka_tanima\\test_data\\Car_Traffic_short.mp4: 384x640 1 LicensePlate, 121.7ms\n",
      "video 1/1 (frame 2822/2880) c:\\Users\\havva\\OneDrive\\Desktop\\plaka_tanima\\test_data\\Car_Traffic_short.mp4: 384x640 1 LicensePlate, 167.6ms\n",
      "video 1/1 (frame 2823/2880) c:\\Users\\havva\\OneDrive\\Desktop\\plaka_tanima\\test_data\\Car_Traffic_short.mp4: 384x640 (no detections), 122.7ms\n",
      "video 1/1 (frame 2824/2880) c:\\Users\\havva\\OneDrive\\Desktop\\plaka_tanima\\test_data\\Car_Traffic_short.mp4: 384x640 1 LicensePlate, 117.7ms\n",
      "video 1/1 (frame 2825/2880) c:\\Users\\havva\\OneDrive\\Desktop\\plaka_tanima\\test_data\\Car_Traffic_short.mp4: 384x640 1 LicensePlate, 118.7ms\n",
      "video 1/1 (frame 2826/2880) c:\\Users\\havva\\OneDrive\\Desktop\\plaka_tanima\\test_data\\Car_Traffic_short.mp4: 384x640 (no detections), 118.7ms\n",
      "video 1/1 (frame 2827/2880) c:\\Users\\havva\\OneDrive\\Desktop\\plaka_tanima\\test_data\\Car_Traffic_short.mp4: 384x640 1 LicensePlate, 136.6ms\n",
      "video 1/1 (frame 2828/2880) c:\\Users\\havva\\OneDrive\\Desktop\\plaka_tanima\\test_data\\Car_Traffic_short.mp4: 384x640 1 LicensePlate, 110.7ms\n",
      "video 1/1 (frame 2829/2880) c:\\Users\\havva\\OneDrive\\Desktop\\plaka_tanima\\test_data\\Car_Traffic_short.mp4: 384x640 1 LicensePlate, 113.8ms\n",
      "video 1/1 (frame 2830/2880) c:\\Users\\havva\\OneDrive\\Desktop\\plaka_tanima\\test_data\\Car_Traffic_short.mp4: 384x640 1 LicensePlate, 114.7ms\n",
      "video 1/1 (frame 2831/2880) c:\\Users\\havva\\OneDrive\\Desktop\\plaka_tanima\\test_data\\Car_Traffic_short.mp4: 384x640 2 LicensePlates, 112.7ms\n",
      "video 1/1 (frame 2832/2880) c:\\Users\\havva\\OneDrive\\Desktop\\plaka_tanima\\test_data\\Car_Traffic_short.mp4: 384x640 3 LicensePlates, 119.7ms\n",
      "video 1/1 (frame 2833/2880) c:\\Users\\havva\\OneDrive\\Desktop\\plaka_tanima\\test_data\\Car_Traffic_short.mp4: 384x640 1 LicensePlate, 142.5ms\n",
      "video 1/1 (frame 2834/2880) c:\\Users\\havva\\OneDrive\\Desktop\\plaka_tanima\\test_data\\Car_Traffic_short.mp4: 384x640 2 LicensePlates, 169.5ms\n",
      "video 1/1 (frame 2835/2880) c:\\Users\\havva\\OneDrive\\Desktop\\plaka_tanima\\test_data\\Car_Traffic_short.mp4: 384x640 2 LicensePlates, 128.6ms\n",
      "video 1/1 (frame 2836/2880) c:\\Users\\havva\\OneDrive\\Desktop\\plaka_tanima\\test_data\\Car_Traffic_short.mp4: 384x640 1 LicensePlate, 125.7ms\n",
      "video 1/1 (frame 2837/2880) c:\\Users\\havva\\OneDrive\\Desktop\\plaka_tanima\\test_data\\Car_Traffic_short.mp4: 384x640 1 LicensePlate, 124.7ms\n",
      "video 1/1 (frame 2838/2880) c:\\Users\\havva\\OneDrive\\Desktop\\plaka_tanima\\test_data\\Car_Traffic_short.mp4: 384x640 2 LicensePlates, 166.4ms\n",
      "video 1/1 (frame 2839/2880) c:\\Users\\havva\\OneDrive\\Desktop\\plaka_tanima\\test_data\\Car_Traffic_short.mp4: 384x640 2 LicensePlates, 123.7ms\n",
      "video 1/1 (frame 2840/2880) c:\\Users\\havva\\OneDrive\\Desktop\\plaka_tanima\\test_data\\Car_Traffic_short.mp4: 384x640 2 LicensePlates, 120.7ms\n",
      "video 1/1 (frame 2841/2880) c:\\Users\\havva\\OneDrive\\Desktop\\plaka_tanima\\test_data\\Car_Traffic_short.mp4: 384x640 2 LicensePlates, 122.7ms\n",
      "video 1/1 (frame 2842/2880) c:\\Users\\havva\\OneDrive\\Desktop\\plaka_tanima\\test_data\\Car_Traffic_short.mp4: 384x640 1 LicensePlate, 124.7ms\n",
      "video 1/1 (frame 2843/2880) c:\\Users\\havva\\OneDrive\\Desktop\\plaka_tanima\\test_data\\Car_Traffic_short.mp4: 384x640 2 LicensePlates, 163.6ms\n",
      "video 1/1 (frame 2844/2880) c:\\Users\\havva\\OneDrive\\Desktop\\plaka_tanima\\test_data\\Car_Traffic_short.mp4: 384x640 1 LicensePlate, 204.2ms\n",
      "video 1/1 (frame 2845/2880) c:\\Users\\havva\\OneDrive\\Desktop\\plaka_tanima\\test_data\\Car_Traffic_short.mp4: 384x640 1 LicensePlate, 118.7ms\n",
      "video 1/1 (frame 2846/2880) c:\\Users\\havva\\OneDrive\\Desktop\\plaka_tanima\\test_data\\Car_Traffic_short.mp4: 384x640 1 LicensePlate, 121.7ms\n",
      "video 1/1 (frame 2847/2880) c:\\Users\\havva\\OneDrive\\Desktop\\plaka_tanima\\test_data\\Car_Traffic_short.mp4: 384x640 1 LicensePlate, 215.4ms\n",
      "video 1/1 (frame 2848/2880) c:\\Users\\havva\\OneDrive\\Desktop\\plaka_tanima\\test_data\\Car_Traffic_short.mp4: 384x640 1 LicensePlate, 136.6ms\n",
      "video 1/1 (frame 2849/2880) c:\\Users\\havva\\OneDrive\\Desktop\\plaka_tanima\\test_data\\Car_Traffic_short.mp4: 384x640 2 LicensePlates, 120.7ms\n",
      "video 1/1 (frame 2850/2880) c:\\Users\\havva\\OneDrive\\Desktop\\plaka_tanima\\test_data\\Car_Traffic_short.mp4: 384x640 1 LicensePlate, 143.6ms\n",
      "video 1/1 (frame 2851/2880) c:\\Users\\havva\\OneDrive\\Desktop\\plaka_tanima\\test_data\\Car_Traffic_short.mp4: 384x640 2 LicensePlates, 121.7ms\n",
      "video 1/1 (frame 2852/2880) c:\\Users\\havva\\OneDrive\\Desktop\\plaka_tanima\\test_data\\Car_Traffic_short.mp4: 384x640 1 LicensePlate, 121.7ms\n",
      "video 1/1 (frame 2853/2880) c:\\Users\\havva\\OneDrive\\Desktop\\plaka_tanima\\test_data\\Car_Traffic_short.mp4: 384x640 1 LicensePlate, 125.7ms\n",
      "video 1/1 (frame 2854/2880) c:\\Users\\havva\\OneDrive\\Desktop\\plaka_tanima\\test_data\\Car_Traffic_short.mp4: 384x640 1 LicensePlate, 149.6ms\n",
      "video 1/1 (frame 2855/2880) c:\\Users\\havva\\OneDrive\\Desktop\\plaka_tanima\\test_data\\Car_Traffic_short.mp4: 384x640 1 LicensePlate, 121.7ms\n",
      "video 1/1 (frame 2856/2880) c:\\Users\\havva\\OneDrive\\Desktop\\plaka_tanima\\test_data\\Car_Traffic_short.mp4: 384x640 1 LicensePlate, 115.7ms\n",
      "video 1/1 (frame 2857/2880) c:\\Users\\havva\\OneDrive\\Desktop\\plaka_tanima\\test_data\\Car_Traffic_short.mp4: 384x640 1 LicensePlate, 111.7ms\n",
      "video 1/1 (frame 2858/2880) c:\\Users\\havva\\OneDrive\\Desktop\\plaka_tanima\\test_data\\Car_Traffic_short.mp4: 384x640 1 LicensePlate, 116.7ms\n",
      "video 1/1 (frame 2859/2880) c:\\Users\\havva\\OneDrive\\Desktop\\plaka_tanima\\test_data\\Car_Traffic_short.mp4: 384x640 1 LicensePlate, 114.6ms\n",
      "video 1/1 (frame 2860/2880) c:\\Users\\havva\\OneDrive\\Desktop\\plaka_tanima\\test_data\\Car_Traffic_short.mp4: 384x640 (no detections), 163.6ms\n",
      "video 1/1 (frame 2861/2880) c:\\Users\\havva\\OneDrive\\Desktop\\plaka_tanima\\test_data\\Car_Traffic_short.mp4: 384x640 (no detections), 128.7ms\n",
      "video 1/1 (frame 2862/2880) c:\\Users\\havva\\OneDrive\\Desktop\\plaka_tanima\\test_data\\Car_Traffic_short.mp4: 384x640 (no detections), 121.7ms\n",
      "video 1/1 (frame 2863/2880) c:\\Users\\havva\\OneDrive\\Desktop\\plaka_tanima\\test_data\\Car_Traffic_short.mp4: 384x640 2 LicensePlates, 116.7ms\n",
      "video 1/1 (frame 2864/2880) c:\\Users\\havva\\OneDrive\\Desktop\\plaka_tanima\\test_data\\Car_Traffic_short.mp4: 384x640 (no detections), 128.7ms\n",
      "video 1/1 (frame 2865/2880) c:\\Users\\havva\\OneDrive\\Desktop\\plaka_tanima\\test_data\\Car_Traffic_short.mp4: 384x640 (no detections), 147.6ms\n",
      "video 1/1 (frame 2866/2880) c:\\Users\\havva\\OneDrive\\Desktop\\plaka_tanima\\test_data\\Car_Traffic_short.mp4: 384x640 (no detections), 120.7ms\n",
      "video 1/1 (frame 2867/2880) c:\\Users\\havva\\OneDrive\\Desktop\\plaka_tanima\\test_data\\Car_Traffic_short.mp4: 384x640 1 LicensePlate, 119.7ms\n",
      "video 1/1 (frame 2868/2880) c:\\Users\\havva\\OneDrive\\Desktop\\plaka_tanima\\test_data\\Car_Traffic_short.mp4: 384x640 (no detections), 117.7ms\n",
      "video 1/1 (frame 2869/2880) c:\\Users\\havva\\OneDrive\\Desktop\\plaka_tanima\\test_data\\Car_Traffic_short.mp4: 384x640 1 LicensePlate, 118.7ms\n",
      "video 1/1 (frame 2870/2880) c:\\Users\\havva\\OneDrive\\Desktop\\plaka_tanima\\test_data\\Car_Traffic_short.mp4: 384x640 (no detections), 129.7ms\n",
      "video 1/1 (frame 2871/2880) c:\\Users\\havva\\OneDrive\\Desktop\\plaka_tanima\\test_data\\Car_Traffic_short.mp4: 384x640 (no detections), 115.7ms\n",
      "video 1/1 (frame 2872/2880) c:\\Users\\havva\\OneDrive\\Desktop\\plaka_tanima\\test_data\\Car_Traffic_short.mp4: 384x640 (no detections), 114.7ms\n",
      "video 1/1 (frame 2873/2880) c:\\Users\\havva\\OneDrive\\Desktop\\plaka_tanima\\test_data\\Car_Traffic_short.mp4: 384x640 (no detections), 117.7ms\n",
      "video 1/1 (frame 2874/2880) c:\\Users\\havva\\OneDrive\\Desktop\\plaka_tanima\\test_data\\Car_Traffic_short.mp4: 384x640 (no detections), 129.7ms\n",
      "video 1/1 (frame 2875/2880) c:\\Users\\havva\\OneDrive\\Desktop\\plaka_tanima\\test_data\\Car_Traffic_short.mp4: 384x640 (no detections), 143.6ms\n",
      "video 1/1 (frame 2876/2880) c:\\Users\\havva\\OneDrive\\Desktop\\plaka_tanima\\test_data\\Car_Traffic_short.mp4: 384x640 (no detections), 126.7ms\n",
      "video 1/1 (frame 2877/2880) c:\\Users\\havva\\OneDrive\\Desktop\\plaka_tanima\\test_data\\Car_Traffic_short.mp4: 384x640 (no detections), 123.7ms\n",
      "video 1/1 (frame 2878/2880) c:\\Users\\havva\\OneDrive\\Desktop\\plaka_tanima\\test_data\\Car_Traffic_short.mp4: 384x640 (no detections), 126.7ms\n",
      "video 1/1 (frame 2879/2880) c:\\Users\\havva\\OneDrive\\Desktop\\plaka_tanima\\test_data\\Car_Traffic_short.mp4: 384x640 (no detections), 122.6ms\n",
      "video 1/1 (frame 2880/2880) c:\\Users\\havva\\OneDrive\\Desktop\\plaka_tanima\\test_data\\Car_Traffic_short.mp4: 384x640 1 LicensePlate, 115.7ms\n",
      "Speed: 3.6ms preprocess, 117.4ms inference, 1.0ms postprocess per image at shape (1, 3, 384, 640)\n",
      "Results saved to \u001b[1mruns\\detect\\predict2\u001b[0m\n"
     ]
    }
   ],
   "source": [
    "# Predict form video \n",
    "test_vid = model_2.predict(source='test_data/Car_Traffic_short.mp4',save=True)"
   ]
  },
  {
   "cell_type": "code",
   "execution_count": 2,
   "metadata": {},
   "outputs": [],
   "source": [
    "! ffmpeg -y -loglevel panic -i /runs/detect/predict/Car_Traffic.avi output.mp4"
   ]
  },
  {
   "cell_type": "code",
   "execution_count": 3,
   "metadata": {},
   "outputs": [
    {
     "ename": "ValueError",
     "evalue": "To embed videos, you must pass embed=True (this may make your notebook files huge)\nConsider passing Video(url='...')",
     "output_type": "error",
     "traceback": [
      "\u001b[1;31m---------------------------------------------------------------------------\u001b[0m",
      "\u001b[1;31mValueError\u001b[0m                                Traceback (most recent call last)",
      "Cell \u001b[1;32mIn[3], line 1\u001b[0m\n\u001b[1;32m----> 1\u001b[0m \u001b[43mVideo\u001b[49m\u001b[43m(\u001b[49m\u001b[38;5;124;43m'\u001b[39;49m\u001b[38;5;124;43moutput.mp4\u001b[39;49m\u001b[38;5;124;43m'\u001b[39;49m\u001b[43m,\u001b[49m\u001b[43mwidth\u001b[49m\u001b[38;5;241;43m=\u001b[39;49m\u001b[38;5;241;43m1080\u001b[39;49m\u001b[43m)\u001b[49m\n",
      "File \u001b[1;32m~\\AppData\\Roaming\\Python\\Python312\\site-packages\\IPython\\core\\display.py:1162\u001b[0m, in \u001b[0;36mVideo.__init__\u001b[1;34m(self, data, url, filename, embed, mimetype, width, height, html_attributes)\u001b[0m\n\u001b[0;32m   1156\u001b[0m \u001b[38;5;28;01mif\u001b[39;00m data \u001b[38;5;129;01mand\u001b[39;00m \u001b[38;5;129;01mnot\u001b[39;00m embed:\n\u001b[0;32m   1157\u001b[0m     msg \u001b[38;5;241m=\u001b[39m \u001b[38;5;124m'\u001b[39m\u001b[38;5;124m'\u001b[39m\u001b[38;5;241m.\u001b[39mjoin([\n\u001b[0;32m   1158\u001b[0m         \u001b[38;5;124m\"\u001b[39m\u001b[38;5;124mTo embed videos, you must pass embed=True \u001b[39m\u001b[38;5;124m\"\u001b[39m,\n\u001b[0;32m   1159\u001b[0m         \u001b[38;5;124m\"\u001b[39m\u001b[38;5;124m(this may make your notebook files huge)\u001b[39m\u001b[38;5;130;01m\\n\u001b[39;00m\u001b[38;5;124m\"\u001b[39m,\n\u001b[0;32m   1160\u001b[0m         \u001b[38;5;124m\"\u001b[39m\u001b[38;5;124mConsider passing Video(url=\u001b[39m\u001b[38;5;124m'\u001b[39m\u001b[38;5;124m...\u001b[39m\u001b[38;5;124m'\u001b[39m\u001b[38;5;124m)\u001b[39m\u001b[38;5;124m\"\u001b[39m,\n\u001b[0;32m   1161\u001b[0m     ])\n\u001b[1;32m-> 1162\u001b[0m     \u001b[38;5;28;01mraise\u001b[39;00m \u001b[38;5;167;01mValueError\u001b[39;00m(msg)\n\u001b[0;32m   1164\u001b[0m \u001b[38;5;28mself\u001b[39m\u001b[38;5;241m.\u001b[39mmimetype \u001b[38;5;241m=\u001b[39m mimetype\n\u001b[0;32m   1165\u001b[0m \u001b[38;5;28mself\u001b[39m\u001b[38;5;241m.\u001b[39membed \u001b[38;5;241m=\u001b[39m embed\n",
      "\u001b[1;31mValueError\u001b[0m: To embed videos, you must pass embed=True (this may make your notebook files huge)\nConsider passing Video(url='...')"
     ]
    }
   ],
   "source": [
    "Video('output.mp4',width=1080)"
   ]
  }
 ],
 "metadata": {
  "kernelspec": {
   "display_name": "Python 3",
   "language": "python",
   "name": "python3"
  },
  "language_info": {
   "codemirror_mode": {
    "name": "ipython",
    "version": 3
   },
   "file_extension": ".py",
   "mimetype": "text/x-python",
   "name": "python",
   "nbconvert_exporter": "python",
   "pygments_lexer": "ipython3",
   "version": "3.12.4"
  }
 },
 "nbformat": 4,
 "nbformat_minor": 2
}
