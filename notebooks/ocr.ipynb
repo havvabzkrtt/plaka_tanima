{
 "cells": [
  {
   "cell_type": "code",
   "execution_count": 1,
   "metadata": {},
   "outputs": [
    {
     "name": "stdout",
     "output_type": "stream",
     "text": [
      "Collecting easyocr\n",
      "  Downloading easyocr-1.7.1-py3-none-any.whl.metadata (11 kB)\n",
      "Requirement already satisfied: torch in c:\\users\\havva\\appdata\\local\\programs\\python\\python312\\lib\\site-packages (from easyocr) (2.2.2)\n",
      "Requirement already satisfied: torchvision>=0.5 in c:\\users\\havva\\appdata\\local\\programs\\python\\python312\\lib\\site-packages (from easyocr) (0.17.2)\n",
      "Requirement already satisfied: opencv-python-headless in c:\\users\\havva\\appdata\\local\\programs\\python\\python312\\lib\\site-packages (from easyocr) (4.10.0.84)\n",
      "Requirement already satisfied: scipy in c:\\users\\havva\\appdata\\local\\programs\\python\\python312\\lib\\site-packages (from easyocr) (1.14.0)\n",
      "Requirement already satisfied: numpy in c:\\users\\havva\\appdata\\local\\programs\\python\\python312\\lib\\site-packages (from easyocr) (1.26.4)\n",
      "Requirement already satisfied: Pillow in c:\\users\\havva\\appdata\\local\\programs\\python\\python312\\lib\\site-packages (from easyocr) (10.2.0)\n",
      "Requirement already satisfied: scikit-image in c:\\users\\havva\\appdata\\local\\programs\\python\\python312\\lib\\site-packages (from easyocr) (0.24.0)\n",
      "Collecting python-bidi (from easyocr)\n",
      "  Downloading python_bidi-0.6.0-cp312-none-win_amd64.whl.metadata (4.7 kB)\n",
      "Requirement already satisfied: PyYAML in c:\\users\\havva\\appdata\\local\\programs\\python\\python312\\lib\\site-packages (from easyocr) (6.0.1)\n",
      "Collecting Shapely (from easyocr)\n",
      "  Downloading shapely-2.0.6-cp312-cp312-win_amd64.whl.metadata (7.2 kB)\n",
      "Collecting pyclipper (from easyocr)\n",
      "  Downloading pyclipper-1.3.0.post5-cp312-cp312-win_amd64.whl.metadata (9.2 kB)\n",
      "Collecting ninja (from easyocr)\n",
      "  Downloading ninja-1.11.1.1-py2.py3-none-win_amd64.whl.metadata (5.4 kB)\n",
      "Requirement already satisfied: filelock in c:\\users\\havva\\appdata\\local\\programs\\python\\python312\\lib\\site-packages (from torch->easyocr) (3.15.4)\n",
      "Requirement already satisfied: typing-extensions>=4.8.0 in c:\\users\\havva\\appdata\\local\\programs\\python\\python312\\lib\\site-packages (from torch->easyocr) (4.12.2)\n",
      "Requirement already satisfied: sympy in c:\\users\\havva\\appdata\\local\\programs\\python\\python312\\lib\\site-packages (from torch->easyocr) (1.13.0)\n",
      "Requirement already satisfied: networkx in c:\\users\\havva\\appdata\\local\\programs\\python\\python312\\lib\\site-packages (from torch->easyocr) (3.3)\n",
      "Requirement already satisfied: jinja2 in c:\\users\\havva\\appdata\\local\\programs\\python\\python312\\lib\\site-packages (from torch->easyocr) (3.1.4)\n",
      "Requirement already satisfied: fsspec in c:\\users\\havva\\appdata\\local\\programs\\python\\python312\\lib\\site-packages (from torch->easyocr) (2024.6.1)\n",
      "Requirement already satisfied: imageio>=2.33 in c:\\users\\havva\\appdata\\local\\programs\\python\\python312\\lib\\site-packages (from scikit-image->easyocr) (2.34.2)\n",
      "Requirement already satisfied: tifffile>=2022.8.12 in c:\\users\\havva\\appdata\\local\\programs\\python\\python312\\lib\\site-packages (from scikit-image->easyocr) (2024.7.2)\n",
      "Requirement already satisfied: packaging>=21 in c:\\users\\havva\\appdata\\roaming\\python\\python312\\site-packages (from scikit-image->easyocr) (24.1)\n",
      "Requirement already satisfied: lazy-loader>=0.4 in c:\\users\\havva\\appdata\\local\\programs\\python\\python312\\lib\\site-packages (from scikit-image->easyocr) (0.4)\n",
      "Requirement already satisfied: MarkupSafe>=2.0 in c:\\users\\havva\\appdata\\local\\programs\\python\\python312\\lib\\site-packages (from jinja2->torch->easyocr) (2.1.5)\n",
      "Requirement already satisfied: mpmath<1.4,>=1.1.0 in c:\\users\\havva\\appdata\\local\\programs\\python\\python312\\lib\\site-packages (from sympy->torch->easyocr) (1.3.0)\n",
      "Downloading easyocr-1.7.1-py3-none-any.whl (2.9 MB)\n",
      "   ---------------------------------------- 0.0/2.9 MB ? eta -:--:--\n",
      "   ---------------------------------------- 0.0/2.9 MB ? eta -:--:--\n",
      "   --- ------------------------------------ 0.3/2.9 MB ? eta -:--:--\n",
      "   ------- -------------------------------- 0.5/2.9 MB 1.2 MB/s eta 0:00:02\n",
      "   -------------- ------------------------- 1.0/2.9 MB 1.6 MB/s eta 0:00:02\n",
      "   ------------------ --------------------- 1.3/2.9 MB 1.6 MB/s eta 0:00:01\n",
      "   --------------------- ------------------ 1.6/2.9 MB 1.4 MB/s eta 0:00:01\n",
      "   ------------------------- -------------- 1.8/2.9 MB 1.4 MB/s eta 0:00:01\n",
      "   ----------------------------- ---------- 2.1/2.9 MB 1.4 MB/s eta 0:00:01\n",
      "   -------------------------------- ------- 2.4/2.9 MB 1.3 MB/s eta 0:00:01\n",
      "   ------------------------------------ --- 2.6/2.9 MB 1.3 MB/s eta 0:00:01\n",
      "   ------------------------------------ --- 2.6/2.9 MB 1.3 MB/s eta 0:00:01\n",
      "   ---------------------------------------- 2.9/2.9 MB 1.2 MB/s eta 0:00:00\n",
      "Downloading ninja-1.11.1.1-py2.py3-none-win_amd64.whl (312 kB)\n",
      "Downloading pyclipper-1.3.0.post5-cp312-cp312-win_amd64.whl (108 kB)\n",
      "Downloading python_bidi-0.6.0-cp312-none-win_amd64.whl (156 kB)\n",
      "Downloading shapely-2.0.6-cp312-cp312-win_amd64.whl (1.4 MB)\n",
      "   ---------------------------------------- 0.0/1.4 MB ? eta -:--:--\n",
      "   ---------------------------------------- 0.0/1.4 MB ? eta -:--:--\n",
      "   ------- -------------------------------- 0.3/1.4 MB ? eta -:--:--\n",
      "   -------------- ------------------------- 0.5/1.4 MB 989.2 kB/s eta 0:00:01\n",
      "   --------------------- ------------------ 0.8/1.4 MB 932.9 kB/s eta 0:00:01\n",
      "   --------------------- ------------------ 0.8/1.4 MB 932.9 kB/s eta 0:00:01\n",
      "   ----------------------------- ---------- 1.0/1.4 MB 898.8 kB/s eta 0:00:01\n",
      "   ------------------------------------ --- 1.3/1.4 MB 895.5 kB/s eta 0:00:01\n",
      "   ---------------------------------------- 1.4/1.4 MB 888.9 kB/s eta 0:00:00\n",
      "Installing collected packages: python-bidi, pyclipper, ninja, Shapely, easyocr\n",
      "Successfully installed Shapely-2.0.6 easyocr-1.7.1 ninja-1.11.1.1 pyclipper-1.3.0.post5 python-bidi-0.6.0\n"
     ]
    }
   ],
   "source": [
    "! pip install easyocr "
   ]
  },
  {
   "cell_type": "code",
   "execution_count": 2,
   "metadata": {},
   "outputs": [
    {
     "name": "stderr",
     "output_type": "stream",
     "text": [
      "c:\\Users\\havva\\AppData\\Local\\Programs\\Python\\Python312\\Lib\\site-packages\\tqdm\\auto.py:21: TqdmWarning: IProgress not found. Please update jupyter and ipywidgets. See https://ipywidgets.readthedocs.io/en/stable/user_install.html\n",
      "  from .autonotebook import tqdm as notebook_tqdm\n"
     ]
    }
   ],
   "source": [
    "import easyocr as ocr \n",
    "import cv2 \n",
    "import numpy as np\n",
    "import matplotlib.pyplot as plt"
   ]
  },
  {
   "cell_type": "code",
   "execution_count": 10,
   "metadata": {},
   "outputs": [
    {
     "name": "stderr",
     "output_type": "stream",
     "text": [
      "Neither CUDA nor MPS are available - defaulting to CPU. Note: This module is much faster with a GPU.\n"
     ]
    }
   ],
   "source": [
    "ocr_motor = ocr.Reader(['en', 'tr'])  \n",
    "# Reader classının içinde detect(yazıyı tespit eder) ve recognizing(yazıyı tanır) modülleri yer alır. "
   ]
  },
  {
   "cell_type": "code",
   "execution_count": 25,
   "metadata": {},
   "outputs": [
    {
     "name": "stderr",
     "output_type": "stream",
     "text": [
      "C:\\Users\\havva\\AppData\\Local\\Temp\\ipykernel_17160\\1577902596.py:4: DeprecationWarning: The binary mode of fromstring is deprecated, as it behaves surprisingly on unicode inputs. Use frombuffer instead\n",
      "  img_ham = np.fromstring(img, np.uint8)\n"
     ]
    }
   ],
   "source": [
    "with open('images/plaka2.PNG', 'rb') as f:\n",
    "  img = f.read()\n",
    "\n",
    "img_ham = np.fromstring(img, np.uint8)\n",
    "img_cv2 = cv2.imdecode(img_ham, cv2.IMREAD_COLOR) # renki bir resim olarak decode edildi "
   ]
  },
  {
   "cell_type": "code",
   "execution_count": 26,
   "metadata": {},
   "outputs": [
    {
     "data": {
      "image/png": "[encoded data removed]",
      "text/plain": [
       "<Figure size 640x480 with 1 Axes>"
      ]
     },
     "metadata": {},
     "output_type": "display_data"
    }
   ],
   "source": [
    "\n",
    "# OpenCV, BGR formatında okur, bunu RGB formatına çevirmek gerekli\n",
    "img_rgb = cv2.cvtColor(img_cv2, cv2.COLOR_BGR2RGB)\n",
    "\n",
    "# Matplotlib ile görüntüyü göster\n",
    "plt.imshow(img_rgb)\n",
    "plt.axis('off')  # Eksenleri gizle\n",
    "plt.show()"
   ]
  },
  {
   "cell_type": "code",
   "execution_count": 27,
   "metadata": {},
   "outputs": [],
   "source": [
    "plate = ocr_motor.readtext(img)  # resmin ilk hali verilir "
   ]
  },
  {
   "cell_type": "code",
   "execution_count": 15,
   "metadata": {},
   "outputs": [
    {
     "name": "stdout",
     "output_type": "stream",
     "text": [
      "([[9, 11], [49, 11], [49, 49], [9, 49]], '34', 0.9990672491184)\n",
      "([[69, 17], [115, 17], [115, 53], [69, 53]], 'BC', 0.7944277901912162)\n",
      "([[18, 39], [95, 39], [95, 87], [18, 87]], '6585 _', 0.6429009876424504)\n"
     ]
    }
   ],
   "source": [
    "# resim içindeki yazılar yazdırılır, sayısal olarak ama listenin içinde elde etmemiz gereken yazılar da yer alır ve ayrıca ne kadar doğrulukla bildiği de yazılmış olur.\n",
    "for letters in plate:\n",
    "    print(letters)"
   ]
  },
  {
   "cell_type": "code",
   "execution_count": 29,
   "metadata": {},
   "outputs": [
    {
     "name": "stdout",
     "output_type": "stream",
     "text": [
      "19 TC007\n"
     ]
    }
   ],
   "source": [
    "# resimdeki yazıları yan yana yazdırır\n",
    "result = ' '.join([letters[1] for letters in plate])\n",
    "print(result)"
   ]
  },
  {
   "cell_type": "code",
   "execution_count": 13,
   "metadata": {},
   "outputs": [
    {
     "name": "stdout",
     "output_type": "stream",
     "text": [
      "34\n",
      "BC\n",
      "6585 _\n"
     ]
    }
   ],
   "source": [
    "# resimdeki yazıları alt alta  yazdırır\n",
    "result = '\\n'.join([letters[1] for letters in plate])\n",
    "print(result)"
   ]
  },
  {
   "cell_type": "code",
   "execution_count": 12,
   "metadata": {},
   "outputs": [],
   "source": [
    "# resimdeki yazıları dikdörtgen içerisine alıyor \n",
    "for letters in plate:\n",
    "    cv2.rectangle(img_cv2, [int(letters[0][0][0]), int(letters[0][0][1])], [int(letters[0][2][0]), int(letters[0][2][1])], (0, 0, 255), 2) # dikdörtgen içine alıyoruz, köşeler ve hangi renk olduğu ve kalınlık belirlenir "
   ]
  },
  {
   "cell_type": "code",
   "execution_count": 14,
   "metadata": {},
   "outputs": [
    {
     "data": {
      "image/png": "[encoded data removed]",
      "text/plain": [
       "<Figure size 640x480 with 1 Axes>"
      ]
     },
     "metadata": {},
     "output_type": "display_data"
    }
   ],
   "source": [
    "\n",
    "# OpenCV, BGR formatında okur, bunu RGB formatına çevirmek gerekli\n",
    "img_rgb = cv2.cvtColor(img_cv2, cv2.COLOR_BGR2RGB)\n",
    "\n",
    "# Matplotlib ile görüntüyü göster\n",
    "plt.imshow(img_rgb)\n",
    "plt.axis('off')  # Eksenleri gizle\n",
    "plt.show()"
   ]
  },
  {
   "cell_type": "markdown",
   "metadata": {},
   "source": []
  },
  {
   "cell_type": "markdown",
   "metadata": {},
   "source": [
    "# DATABASE'E KAYDETME"
   ]
  },
  {
   "cell_type": "code",
   "execution_count": 38,
   "metadata": {},
   "outputs": [],
   "source": [
    "import easyocr as ocr \n",
    "import cv2 \n",
    "import numpy as np\n",
    "import matplotlib.pyplot as plt"
   ]
  },
  {
   "cell_type": "code",
   "execution_count": 39,
   "metadata": {},
   "outputs": [
    {
     "name": "stderr",
     "output_type": "stream",
     "text": [
      "Neither CUDA nor MPS are available - defaulting to CPU. Note: This module is much faster with a GPU.\n"
     ]
    }
   ],
   "source": [
    "ocr_motor = ocr.Reader(['en', 'tr'])  \n",
    "# Reader classının içinde detect(yazıyı tespit eder) ve recognizing(yazıyı tanır) modülleri yer alır. "
   ]
  },
  {
   "cell_type": "code",
   "execution_count": 40,
   "metadata": {},
   "outputs": [
    {
     "name": "stderr",
     "output_type": "stream",
     "text": [
      "C:\\Users\\havva\\AppData\\Local\\Temp\\ipykernel_8200\\1577902596.py:4: DeprecationWarning: The binary mode of fromstring is deprecated, as it behaves surprisingly on unicode inputs. Use frombuffer instead\n",
      "  img_ham = np.fromstring(img, np.uint8)\n"
     ]
    }
   ],
   "source": [
    "with open('images/plaka2.PNG', 'rb') as f:\n",
    "  img = f.read()\n",
    "\n",
    "img_ham = np.fromstring(img, np.uint8)\n",
    "img_cv2 = cv2.imdecode(img_ham, cv2.IMREAD_COLOR) # renki bir resim olarak decode edildi "
   ]
  },
  {
   "cell_type": "code",
   "execution_count": 41,
   "metadata": {},
   "outputs": [
    {
     "data": {
      "image/png": "[encoded data removed]",
      "text/plain": [
       "<Figure size 640x480 with 1 Axes>"
      ]
     },
     "metadata": {},
     "output_type": "display_data"
    }
   ],
   "source": [
    "# OpenCV, BGR formatında okur, bunu RGB formatına çevirmek gerekli\n",
    "img_rgb = cv2.cvtColor(img_cv2, cv2.COLOR_BGR2RGB)\n",
    "\n",
    "# Matplotlib ile görüntüyü göster\n",
    "plt.imshow(img_rgb)\n",
    "plt.axis('off')  # Eksenleri gizle\n",
    "plt.show()"
   ]
  },
  {
   "cell_type": "code",
   "execution_count": 42,
   "metadata": {},
   "outputs": [],
   "source": [
    "plate = ocr_motor.readtext(img)  # resmin ilk hali verilir "
   ]
  },
  {
   "cell_type": "code",
   "execution_count": 47,
   "metadata": {},
   "outputs": [],
   "source": [
    "import sqlite3\n",
    "\n",
    "# Veritabanına bağlanma (dosya yoksa oluşturulur)\n",
    "conn = sqlite3.connect('database/plate_database2.db')\n",
    "c = conn.cursor()\n",
    "\n",
    "# Tabloyu oluşturma\n",
    "c.execute('''\n",
    "    CREATE TABLE IF NOT EXISTS plakalar (\n",
    "        id INTEGER PRIMARY KEY AUTOINCREMENT,\n",
    "        Plate TEXT NOT NULL\n",
    "    )\n",
    "''')\n",
    "\n",
    "conn.commit()\n"
   ]
  },
  {
   "cell_type": "code",
   "execution_count": 48,
   "metadata": {},
   "outputs": [
    {
     "data": {
      "text/plain": [
       "'19 TC007'"
      ]
     },
     "execution_count": 48,
     "metadata": {},
     "output_type": "execute_result"
    }
   ],
   "source": [
    "# Plaka metnini birleştirip veritabanına eklemek\n",
    "plaka_metni = ' '.join([letters[1] for letters in plate])\n",
    "plaka_metni"
   ]
  },
  {
   "cell_type": "code",
   "execution_count": 49,
   "metadata": {},
   "outputs": [
    {
     "name": "stdout",
     "output_type": "stream",
     "text": [
      "Plaka başarıyla veritabanına kaydedildi!\n"
     ]
    }
   ],
   "source": [
    "# Veriyi tabloya ekleme\n",
    "c.execute(\"INSERT INTO plakalar (Plate) VALUES (?)\", (plaka_metni,))\n",
    "\n",
    "# Değişiklikleri kaydetme\n",
    "conn.commit()\n",
    "\n",
    "print(\"Plaka başarıyla veritabanına kaydedildi!\")"
   ]
  },
  {
   "cell_type": "code",
   "execution_count": 50,
   "metadata": {},
   "outputs": [
    {
     "name": "stdout",
     "output_type": "stream",
     "text": [
      "(1, '19 TC007')\n"
     ]
    }
   ],
   "source": [
    "import sqlite3\n",
    "\n",
    "# Veritabanına bağlanma\n",
    "conn = sqlite3.connect('database/plate_database.db')\n",
    "c = conn.cursor()\n",
    "\n",
    "# Veritabanındaki tüm plakaları sorgulama\n",
    "c.execute(\"SELECT * FROM plakalar\")\n",
    "\n",
    "# Sonuçları çekme ve ekrana yazdırma\n",
    "rows = c.fetchall()\n",
    "\n",
    "for row in rows:\n",
    "    print(row)\n",
    "\n",
    "# Bağlantıyı kapatma\n",
    "conn.close()\n"
   ]
  },
  {
   "cell_type": "code",
   "execution_count": null,
   "metadata": {},
   "outputs": [],
   "source": []
  }
 ],
 "metadata": {
  "kernelspec": {
   "display_name": "Python 3",
   "language": "python",
   "name": "python3"
  },
  "language_info": {
   "codemirror_mode": {
    "name": "ipython",
    "version": 3
   },
   "file_extension": ".py",
   "mimetype": "text/x-python",
   "name": "python",
   "nbconvert_exporter": "python",
   "pygments_lexer": "ipython3",
   "version": "3.12.4"
  }
 },
 "nbformat": 4,
 "nbformat_minor": 2
}
